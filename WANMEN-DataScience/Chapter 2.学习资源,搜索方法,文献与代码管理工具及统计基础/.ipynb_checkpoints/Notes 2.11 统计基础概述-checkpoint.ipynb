{
 "cells": [
  {
   "cell_type": "markdown",
   "metadata": {},
   "source": [
    "# 统计基础\n",
    "\n",
    "\n",
    "1. 均值\n",
    "2. 方差\n",
    "3. 大数定理\n",
    "4. 中心极限定理\n",
    "5. 假设检验\n",
    "6. p-value定义"
   ]
  },
  {
   "cell_type": "markdown",
   "metadata": {},
   "source": [
    "> 基础的均值与方差，在讨论回归的时候，很有意义，需要明确概念\n",
    "\n",
    "> 我们在讨论假设检验的时候，先不要引入具体的概率分布，不要想t-分布, 而是直接从原假设与备择假设上面考虑。这次听不懂没关系，我们在下周的课程中，会专门讨论假设检验，p-value的定义及其应用"
   ]
  },
  {
   "cell_type": "markdown",
   "metadata": {},
   "source": [
    "1.均值\n",
    "\n",
    "\\begin{equation*}\n",
    "\\bar{X}_n=\\frac{1}{n}\\left(\\sum_{k=1}^n X_k\\right)\n",
    "\\end{equation*}\n",
    "\n",
    " 连续整体的期望值是\n",
    "\n",
    "\\begin{equation*}\n",
    "\\mu = E\\left(X\\right) = \\int xp(x)dx\n",
    "\\end{equation*}\n"
   ]
  },
  {
   "cell_type": "markdown",
   "metadata": {},
   "source": [
    "2.样本的方差\n",
    "\n",
    "\\begin{equation*}\n",
    "S^2 = \\frac{1}{n-1}\\sum_{i=1}^n\\left(X_i-\\bar{X}\\right)^2\n",
    "\\end{equation*}\n",
    "\n",
    "整体的方差\n",
    "\\begin{equation*}\n",
    "Var(X) = \\sigma^2 = \\int \\left(x-\\mu\\right)^2 f(x)dx\n",
    "\\end{equation*}\n",
    "\n",
    "\n",
    "\\begin{equation*}\n",
    "Var(X) = E[(X-\\mu)^2] = E(X^2) - E^2(X)\n",
    "\\end{equation*}\n",
    "\n",
    "\n"
   ]
  },
  {
   "cell_type": "markdown",
   "metadata": {},
   "source": [
    "3.大数定理 \n",
    "\n",
    "样本数量越多，则其平均就越趋近期望值\n",
    "\n",
    "\n",
    "\\begin{equation*}\n",
    "n\\rightarrow \\infty, \n",
    "\\bar{X}_n \\rightarrow \\mu\n",
    "\\end{equation*}"
   ]
  },
  {
   "cell_type": "markdown",
   "metadata": {},
   "source": [
    "4.中心极限定理\n",
    "\n",
    "中心极限定理说明，在适当的条件下，大量相互独立随机变量的均值经适当标准化后依分布收敛于正态分布。\n",
    "\n"
   ]
  },
  {
   "cell_type": "markdown",
   "metadata": {},
   "source": [
    "5.假设检验\n",
    "\n",
    "原假设-Null hypothesis Ho\n",
    "备择假设-Alternative hypothesis HA\n"
   ]
  },
  {
   "cell_type": "markdown",
   "metadata": {},
   "source": [
    "6.p-value\n",
    "最具争议的统计概念\n",
    "定义：在原假设成立的情况，出现观测值以及更极端情况的概率"
   ]
  }
 ],
 "metadata": {
  "kernelspec": {
   "display_name": "Python 3",
   "language": "python",
   "name": "python3"
  },
  "language_info": {
   "codemirror_mode": {
    "name": "ipython",
    "version": 3
   },
   "file_extension": ".py",
   "mimetype": "text/x-python",
   "name": "python",
   "nbconvert_exporter": "python",
   "pygments_lexer": "ipython3",
   "version": "3.6.3"
  }
 },
 "nbformat": 4,
 "nbformat_minor": 2
}
