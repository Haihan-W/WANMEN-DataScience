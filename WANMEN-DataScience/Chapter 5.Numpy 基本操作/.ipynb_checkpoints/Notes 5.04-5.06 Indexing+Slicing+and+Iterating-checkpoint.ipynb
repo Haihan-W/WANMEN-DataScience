{
 "cells": [
  {
   "cell_type": "code",
   "execution_count": 1,
   "metadata": {
    "collapsed": true
   },
   "outputs": [],
   "source": [
    "# 这一小节我们来讲 np array 的选取，我们先来看看一维array的选取，然后我们进行二维以及多维 array的选取"
   ]
  },
  {
   "cell_type": "markdown",
   "metadata": {},
   "source": [
    "# NOTE: VIP difference detween Numpy array slicing and Python list slicing\n",
    "- Numpy array reassign elements in sliced array, then original array changes;  \n",
    "- (BUT NOT FOR BOOLEAN INDEXING, Boolean Indexing is the same as Python slicing, change of child array will not effect parent array, **NOT  LINKED**) -- see the note at the end\n",
    "- Python list reassign elements in sliced array, original array not change"
   ]
  },
  {
   "cell_type": "markdown",
   "metadata": {},
   "source": [
    "## One-dimensional arrays."
   ]
  },
  {
   "cell_type": "code",
   "execution_count": 24,
   "metadata": {},
   "outputs": [
    {
     "name": "stdout",
     "output_type": "stream",
     "text": [
      "[0, 1, 2, 3]\n"
     ]
    }
   ],
   "source": [
    "# Python List slicing-- create a copy\n",
    "a=[0,1,2,3]\n",
    "b=a[1:3]\n",
    "b[0]=99 #modify b, part of b's value change\n",
    "print (a) #same as original"
   ]
  },
  {
   "cell_type": "code",
   "execution_count": 1,
   "metadata": {},
   "outputs": [
    {
     "name": "stdout",
     "output_type": "stream",
     "text": [
      "[99, 1, 2, 3]\n"
     ]
    }
   ],
   "source": [
    "a=[0,1,2,3]\n",
    "b=a #create a view!\n",
    "b[0]=99\n",
    "print (a) # a changes "
   ]
  },
  {
   "cell_type": "code",
   "execution_count": 3,
   "metadata": {},
   "outputs": [
    {
     "name": "stdout",
     "output_type": "stream",
     "text": [
      "[ 0  1  4  9 16 25 36 49 64 81]\n",
      "[ 0 99  4  9 16 25 36 49 64 81]\n"
     ]
    }
   ],
   "source": [
    "# np array slicing compared to python list, diff-- create a view!\n",
    "import numpy as np\n",
    "a = np.arange(10)**2\n",
    "print (a)\n",
    "b=a[1:3]\n",
    "b[0]=99\n",
    "print (a) #changed"
   ]
  },
  {
   "cell_type": "code",
   "execution_count": 25,
   "metadata": {},
   "outputs": [
    {
     "name": "stdout",
     "output_type": "stream",
     "text": [
      "[ 0  1  4  9 16 25 36 49 64 81]\n",
      "[ 0  1 99  9 16 25 36 49 64 81]\n"
     ]
    }
   ],
   "source": [
    "# np array slicing compared to python list, diff-- create a view!\n",
    "import numpy as np\n",
    "a = np.arange(10)**2\n",
    "print (a)\n",
    "b=a[1:4]\n",
    "c=b[1:3]\n",
    "c[0]=99\n",
    "print (a) #changed"
   ]
  },
  {
   "cell_type": "code",
   "execution_count": 2,
   "metadata": {},
   "outputs": [
    {
     "name": "stdout",
     "output_type": "stream",
     "text": [
      "[ 0  1  4  9 16 25 36 49 64 81]\n",
      "[99  1  4  9 16 25 36 49 64 81]\n"
     ]
    }
   ],
   "source": [
    "# if use b=a, not b=a[:], then create a view, not a copy, this is the same as python list!\n",
    "import numpy as np \n",
    "a = np.arange(10)**2\n",
    "print (a)\n",
    "b=a\n",
    "b[0]=99\n",
    "print (a) #changed"
   ]
  },
  {
   "cell_type": "code",
   "execution_count": 11,
   "metadata": {
    "collapsed": true
   },
   "outputs": [],
   "source": [
    "#Conclusion:\n",
    "# 注意： 当我们选取部分 np array 的时候，我们创建了一个view。\n",
    "# 换句话说，我们没有copy以前的值，而是直接改了原来的 array \n"
   ]
  },
  {
   "cell_type": "code",
   "execution_count": 19,
   "metadata": {},
   "outputs": [
    {
     "name": "stdout",
     "output_type": "stream",
     "text": [
      "[1 2 3 4 5 6]\n"
     ]
    }
   ],
   "source": [
    "# 如果不想对原来的 array 进行修改，我们可以把选取的部分 copy 出来\n",
    "a=np.array([1,2,3,4,5,6])\n",
    "b = a[0:5].copy()\n",
    "b[0] = 500\n",
    "print (a) #using copy(), b changes, but 'a' not changed"
   ]
  },
  {
   "cell_type": "markdown",
   "metadata": {},
   "source": [
    "## Multidimensional arrays."
   ]
  },
  {
   "cell_type": "code",
   "execution_count": 10,
   "metadata": {},
   "outputs": [
    {
     "data": {
      "text/plain": [
       "array([[0, 1],\n",
       "       [4, 5],\n",
       "       [8, 9]])"
      ]
     },
     "execution_count": 10,
     "metadata": {},
     "output_type": "execute_result"
    }
   ],
   "source": [
    "# create multidimensional arrays by function\n",
    "def f(x,y):\n",
    "    return 4 * x + y\n",
    "b = np.fromfunction(f,(3,2),dtype=int)\n",
    "b\n",
    "\n",
    "# derive from locations of the matrix\n",
    "#[[00],[01],[10],[11],[20],[21]]\n",
    "# position=(0,0)--> value=4*0+0=0\n",
    "# position=(0,1)--> value=4*0+1=1\n",
    "# ......"
   ]
  },
  {
   "cell_type": "code",
   "execution_count": 14,
   "metadata": {},
   "outputs": [
    {
     "data": {
      "text/plain": [
       "array([4, 5])"
      ]
     },
     "execution_count": 14,
     "metadata": {},
     "output_type": "execute_result"
    }
   ],
   "source": [
    "b[1]"
   ]
  },
  {
   "cell_type": "code",
   "execution_count": 15,
   "metadata": {},
   "outputs": [
    {
     "data": {
      "text/plain": [
       "4"
      ]
     },
     "execution_count": 15,
     "metadata": {},
     "output_type": "execute_result"
    }
   ],
   "source": [
    "b[1][0]"
   ]
  },
  {
   "cell_type": "code",
   "execution_count": 15,
   "metadata": {},
   "outputs": [
    {
     "data": {
      "text/plain": [
       "4"
      ]
     },
     "execution_count": 15,
     "metadata": {},
     "output_type": "execute_result"
    }
   ],
   "source": [
    "b[1,0]"
   ]
  },
  {
   "cell_type": "code",
   "execution_count": 16,
   "metadata": {},
   "outputs": [
    {
     "data": {
      "text/plain": [
       "array([1, 5, 9])"
      ]
     },
     "execution_count": 16,
     "metadata": {},
     "output_type": "execute_result"
    }
   ],
   "source": [
    "b[:, 1]"
   ]
  },
  {
   "cell_type": "code",
   "execution_count": 24,
   "metadata": {},
   "outputs": [
    {
     "data": {
      "text/plain": [
       "array([[ 0.,  0.,  0.,  0.,  0.],\n",
       "       [ 0.,  0.,  0.,  0.,  0.],\n",
       "       [ 0.,  0.,  0.,  0.,  0.],\n",
       "       [ 0.,  0.,  0.,  0.,  0.],\n",
       "       [ 0.,  0.,  0.,  0.,  0.],\n",
       "       [ 0.,  0.,  0.,  0.,  0.]])"
      ]
     },
     "execution_count": 24,
     "metadata": {},
     "output_type": "execute_result"
    }
   ],
   "source": [
    "c = np.zeros ([6,5])\n",
    "c"
   ]
  },
  {
   "cell_type": "code",
   "execution_count": 25,
   "metadata": {},
   "outputs": [
    {
     "data": {
      "text/plain": [
       "5"
      ]
     },
     "execution_count": 25,
     "metadata": {},
     "output_type": "execute_result"
    }
   ],
   "source": [
    "Numberofcolumn = c.shape[1]\n",
    "Numberofcolumn"
   ]
  },
  {
   "cell_type": "code",
   "execution_count": 26,
   "metadata": {},
   "outputs": [
    {
     "name": "stdout",
     "output_type": "stream",
     "text": [
      "[ 0.  0.  0.  0.  0.]\n",
      "[ 1.  1.  1.  1.  1.]\n",
      "[ 2.  2.  2.  2.  2.]\n",
      "[ 3.  3.  3.  3.  3.]\n",
      "[ 4.  4.  4.  4.  4.]\n"
     ]
    }
   ],
   "source": [
    "for i in range(Numberofcolumn):\n",
    "    c[i] = i\n",
    "    print(c[i])"
   ]
  },
  {
   "cell_type": "code",
   "execution_count": 30,
   "metadata": {},
   "outputs": [
    {
     "name": "stdout",
     "output_type": "stream",
     "text": [
      "[[ 1.  1.  1.  1.  1.]\n",
      " [ 2.  2.  2.  2.  2.]\n",
      " [ 3.  3.  3.  3.  3.]\n",
      " [ 4.  4.  4.  4.  4.]\n",
      " [ 5.  5.  5.  5.  5.]\n",
      " [ 0.  0.  0.  0.  0.]]\n"
     ]
    }
   ],
   "source": [
    "print(c)"
   ]
  },
  {
   "cell_type": "markdown",
   "metadata": {
    "collapsed": true
   },
   "source": [
    "## Boolean Indexing"
   ]
  },
  {
   "cell_type": "code",
   "execution_count": 5,
   "metadata": {
    "collapsed": true
   },
   "outputs": [],
   "source": [
    "week_days=np.array(['Monday','Tuesday','Wednesday','Thursday','Friday'])"
   ]
  },
  {
   "cell_type": "code",
   "execution_count": 6,
   "metadata": {
    "collapsed": true
   },
   "outputs": [],
   "source": [
    "work_time=np.round(np.random.randn(5,5)+8.0, 2) #generate random number for elements with mean=8, 2 decimal places"
   ]
  },
  {
   "cell_type": "code",
   "execution_count": 7,
   "metadata": {},
   "outputs": [
    {
     "data": {
      "text/plain": [
       "array([[ 7.88,  6.55,  6.53,  8.73,  6.73],\n",
       "       [ 7.59,  8.67,  9.58,  6.16,  7.99],\n",
       "       [ 9.85,  6.31,  8.17,  9.92,  6.59],\n",
       "       [ 7.59,  6.55,  8.67,  6.5 ,  8.74],\n",
       "       [ 7.66,  8.85,  7.17,  8.61,  8.44]])"
      ]
     },
     "execution_count": 7,
     "metadata": {},
     "output_type": "execute_result"
    }
   ],
   "source": [
    "work_time"
   ]
  },
  {
   "cell_type": "code",
   "execution_count": 8,
   "metadata": {},
   "outputs": [
    {
     "data": {
      "text/plain": [
       "array([False,  True, False, False, False], dtype=bool)"
      ]
     },
     "execution_count": 8,
     "metadata": {},
     "output_type": "execute_result"
    }
   ],
   "source": [
    "week_days == 'Tuesday'"
   ]
  },
  {
   "cell_type": "code",
   "execution_count": 9,
   "metadata": {},
   "outputs": [
    {
     "data": {
      "text/plain": [
       "array([[ 7.59,  8.67,  9.58,  6.16,  7.99]])"
      ]
     },
     "execution_count": 9,
     "metadata": {},
     "output_type": "execute_result"
    }
   ],
   "source": [
    "b=work_time[week_days == 'Tuesday'] #use an array as the filter to filter out the worktime on Tuesday--> \n",
    "                                # work_time[week_days == 'Tuesday']=work_time[[False,True,False,False,False]]\n",
    "                                # Only return 2nd row because 2nd element is True\n",
    "b"
   ]
  },
  {
   "cell_type": "markdown",
   "metadata": {},
   "source": [
    "> Note: if want to select column not row, simply use transpose: .T"
   ]
  },
  {
   "cell_type": "code",
   "execution_count": 10,
   "metadata": {},
   "outputs": [
    {
     "data": {
      "text/plain": [
       "array([[ 6.55,  8.67,  6.31,  6.55,  8.85]])"
      ]
     },
     "execution_count": 10,
     "metadata": {},
     "output_type": "execute_result"
    }
   ],
   "source": [
    "b=work_time.T[week_days=='Tuesday']\n",
    "b"
   ]
  },
  {
   "cell_type": "markdown",
   "metadata": {},
   "source": [
    "> Boolean indexing will not link child with parent array, the change of child will **NOT** effect parent"
   ]
  },
  {
   "cell_type": "code",
   "execution_count": 11,
   "metadata": {},
   "outputs": [
    {
     "name": "stdout",
     "output_type": "stream",
     "text": [
      "[[ 100.      8.67    6.31    6.55    8.85]]\n",
      "[[ 7.88  6.55  6.53  8.73  6.73]\n",
      " [ 7.59  8.67  9.58  6.16  7.99]\n",
      " [ 9.85  6.31  8.17  9.92  6.59]\n",
      " [ 7.59  6.55  8.67  6.5   8.74]\n",
      " [ 7.66  8.85  7.17  8.61  8.44]]\n"
     ]
    }
   ],
   "source": [
    "b[:,0]=100\n",
    "print (b)\n",
    "print (work_time)"
   ]
  },
  {
   "cell_type": "code",
   "execution_count": 12,
   "metadata": {},
   "outputs": [
    {
     "name": "stdout",
     "output_type": "stream",
     "text": [
      "[[ 100.    100.      6.31    6.55    8.85]]\n",
      "[[ 7.88  6.55  6.53  8.73  6.73]\n",
      " [ 7.59  8.67  9.58  6.16  7.99]\n",
      " [ 9.85  6.31  8.17  9.92  6.59]\n",
      " [ 7.59  6.55  8.67  6.5   8.74]\n",
      " [ 7.66  8.85  7.17  8.61  8.44]]\n"
     ]
    }
   ],
   "source": [
    "c=b[:,1:3]\n",
    "c[:,0]=100\n",
    "print (b)\n",
    "print (work_time)"
   ]
  },
  {
   "cell_type": "code",
   "execution_count": null,
   "metadata": {
    "collapsed": true
   },
   "outputs": [],
   "source": []
  },
  {
   "cell_type": "code",
   "execution_count": null,
   "metadata": {
    "collapsed": true
   },
   "outputs": [],
   "source": []
  }
 ],
 "metadata": {
  "kernelspec": {
   "display_name": "Python 3",
   "language": "python",
   "name": "python3"
  },
  "language_info": {
   "codemirror_mode": {
    "name": "ipython",
    "version": 3
   },
   "file_extension": ".py",
   "mimetype": "text/x-python",
   "name": "python",
   "nbconvert_exporter": "python",
   "pygments_lexer": "ipython3",
   "version": "3.6.3"
  }
 },
 "nbformat": 4,
 "nbformat_minor": 2
}
