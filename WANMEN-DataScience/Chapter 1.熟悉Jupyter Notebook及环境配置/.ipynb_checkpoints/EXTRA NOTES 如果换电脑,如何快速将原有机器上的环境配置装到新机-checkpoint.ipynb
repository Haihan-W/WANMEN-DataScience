{
 "cells": [
  {
   "cell_type": "markdown",
   "metadata": {},
   "source": [
    "EXTRA NOTES 如果换电脑,如何快速将原有机器上的环境配置装到新机:\n",
    "1. 进入原有电脑相应dir (之前装环境用的dir),一般默认是 C:/Users/haiha(username)\n",
    "2. open anaconda prompt and cd to that dir\n",
    "3. type pip freeze > requirement.txt\n",
    "\n",
    "then a txt file with all of the environment and configurations in your current directory will be created.\n",
    "4. on your new PC, Paste that requirement.txt into your directory\n",
    "5. On your new PC, open conda prompt, cd to that directory, type pip install -r requirement.txt\n"
   ]
  }
 ],
 "metadata": {
  "kernelspec": {
   "display_name": "Python 3",
   "language": "python",
   "name": "python3"
  },
  "language_info": {
   "codemirror_mode": {
    "name": "ipython",
    "version": 3
   },
   "file_extension": ".py",
   "mimetype": "text/x-python",
   "name": "python",
   "nbconvert_exporter": "python",
   "pygments_lexer": "ipython3",
   "version": "3.6.3"
  }
 },
 "nbformat": 4,
 "nbformat_minor": 2
}
