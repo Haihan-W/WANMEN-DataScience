{
 "cells": [
  {
   "cell_type": "markdown",
   "metadata": {},
   "source": [
    "# Chapter 1.熟悉Jupyter notebook及环境配置 (notes 1.1-1.17)\n",
    "\n",
    "* Notes 1.01-1.08 python 环境与版本\n",
    "* Notes 1.09-1.10 graphviz 决策树可视化工具\n",
    "* Notes 1.11-1.12 几个重要的工具：numpy, scipy, sklearn, pandas, keras, tensorflow\n",
    "* Notes 1.13-1.14 安装 tensorflow 与 keras\n",
    "* Notes 1.15-1.17 jupyter notebook基本使用 and markdown的用法\n",
    "* EXTRA NOTES 如果换电脑,如何快速将原有机器上的环境配置装到新机"
   ]
  },
  {
   "cell_type": "markdown",
   "metadata": {
    "collapsed": true
   },
   "source": [
    "# Chapter 2.学习资源,搜索方法,文献与代码管理工具及统计基础(Notes 2.1-2.11)\n",
    "\n",
    "* Notes 2.01-2.10 学习资源,搜索方法,文献与代码管理工具\n",
    "    1. 好好上网 stackoverflow, ...\n",
    "    2. Mendeley\n",
    "    3. github\n",
    "    \n",
    "\n",
    "* Notes 2.11 统计基础\n",
    "    1. 均值\n",
    "    2. 方差\n",
    "    3. 大数定理\n",
    "    4. 中心极限定理\n",
    "    5. 假设检验\n",
    "    6. p-value定义"
   ]
  },
  {
   "cell_type": "markdown",
   "metadata": {},
   "source": [
    "# Chapter 3.Python Basic Data Type基本数据类型\n",
    "- Notes 3.01- 3.07 Python 概述(使用环境,基本电脑知识,程序员步骤)\n",
    "- Notes 3.08-3.17 Python and data type and their built-in functions"
   ]
  },
  {
   "cell_type": "markdown",
   "metadata": {},
   "source": [
    "# Chapter 4.函数function与Python data structure 基本数据结构\n",
    "- Notes 4.01-4.05 Python User-defined Function\n",
    "    - Positional Arguments\n",
    "    - Keyword Arguments\n",
    "    - Gather ***Unlimited Number*** of Positional Arguments with `*`\n",
    "    - Gather ***Unlimited Number*** of Keyword Arguments with `**`\n",
    "    - Default Parameter Values\n",
    "    - Docstrings--给自定义function写注释documentation,就像function help一样\n",
    "    - Lambda function\n",
    "    - 函数的传递和嵌套\n",
    "    - Error Handler\n",
    "- Notes 4.06-4.08 Python Code Structure\n",
    "    - Code Structure: Sequence-- 顺序执行\n",
    "    - Code Structure: condition: If (Cont.)--条件执行\n",
    "    - Code Structure: Loop (Cont.)--循环执行\n",
    "    - Generator\n",
    "    - Decorator\n",
    "    - Nampespace & Scope-- Global variable and local variable(within function)\n",
    "    - Use of `__` in Names-- function.`__`name`__` AND function.`__`doc`__`\n",
    "- Notes 4.09 Python Modules and Packages and Programs\n",
    "- Notes 4.10-4.11 python+basic+data+structure\n",
    "    - Container Types: \n",
    "        - List\n",
    "        - Tuple\n",
    "        - Dictionary\n",
    "        - Set\n",
    "    - Container Type Conversion\n",
    "    - Mutable (changeable), Immutable data type/structure\n",
    "    - Traversal Sequence Data Structure\n",
    "    - Advanced topics of list-- List Comprehensions!\n",
    "- Notes 4.12 Advanced topics in Python-Object oriented class&func"
   ]
  },
  {
   "cell_type": "markdown",
   "metadata": {
    "collapsed": true
   },
   "source": [
    "# Chapter 5.Numpy 基本操作"
   ]
  },
  {
   "cell_type": "markdown",
   "metadata": {},
   "source": [
    "- Notes 5.02 Create Arrays\n",
    "    - How to create an numpy array?\n",
    "    - Shape of array\n",
    "    - Axis of arrays\n",
    "    - Create Special Arrays\n",
    "- Notes 5.03 Basic Operations of Arrays\n",
    "    - Arithmetic Operators-- element-wise, do the operation for every elements in the array\n",
    "    - Matrix operations\n",
    "    - Other Operations\n",
    "- Notes 5.04-5.06 Indexing+Slicing+and+Iterating\n",
    "    - NOTE: VIP difference detween Numpy array slicing and Python list slicing\n",
    "    - One-dimensional arrays\n",
    "    - Multidimensional arrays\n",
    "    - Boolean Indexing\n",
    "- Notes 5.07-5.08 Matrix+Operations+II\n",
    "    - Matrix Transpose\n",
    "        - Method 1: .T\n",
    "        - Method 2: .transpose() --note the difference from .T\n",
    "    - Inverse Matrix\n",
    "        - Tell if 2 matrix are inverse matrix to each other\n",
    "    - Eigenvalue and Normalized Eigenvector\n",
    "    - Trace\n",
    "    - Reshape\n",
    "    - Swap axes\n",
    "    - Bincount -- (advanced Matrix Operation)\n",
    "- Notes 5.08-5.09 Universal functions\n",
    "    - arange(), exp(), sqrt(), random.randn(), shape(), reshape(), add()...\n",
    "- Notes 5.09-5.10 Array+processing\n",
    "    - Generate Grid\n",
    "        - Using Grid to bring to function for plotting purpose\n",
    "    - Numpy where function-- used to conditional merge two matrix or to modify existing matrix\n",
    "    - Some Statistical Processing - calculate sum, mean, st.dev, variance\n",
    "    - Array Sort\n",
    "    - sort along specific axis\n",
    "    - Test whether each element of a 1-D array is also present in a second array with np.in1d\n",
    "    - Get non-replicated elements in array with np.unique\n",
    "- Notes 5.11 Save and Load Array\n",
    "    - Saving array in binary format (.npy)- .save() and load array- .load()\n",
    "    - Saving multiple arrays into a zip file- .savez() and load separately\n",
    "    - Saving and loading into text(csv) files- .savetxt()"
   ]
  },
  {
   "cell_type": "markdown",
   "metadata": {
    "collapsed": true
   },
   "source": [
    "# Chapter 6. Pandas\n",
    "- Notes 6.01.Series\n",
    "    - VIP note: Pandas Series/Data Frame slicing mechanism is the same like Numpy-- can do Mutation by Slicing (except Boolean indexing) -- review Notes 5.04-5.06\n",
    "    - Def'n- Series=加了index(行号)的array-- series.values; series.index\n",
    "    - Properties\n",
    "    - Conversion between series and dict\n",
    "- Notes 6.02-6.05 DataFrame+Titanic+Example\n",
    "    - DataFrame -- like 2D series, has both row and col\n",
    "         - How to create one?\n",
    "         - Shape and Axis\n",
    "         - Method\n",
    "         - Modify DataFrame values-- change original dataframe-- .apply(lambda function)\n",
    "         - Assign to a new dataframe variable ( Not Change Original Dataframe)-- .assign(lambda function)\n",
    "    - Titanic example\n",
    "        - How to deal with missing value ?-- drop them or fill them with some value\n",
    "        - Basic Statistics\n",
    "- Notes 6.06 Index Objects- use datetime as index\n",
    "- Notes 6.07 Reindex\n",
    "    - Reindex for panda series\n",
    "    - Reindex for Panda DataFrame\n",
    "- Notes 6.08 Drop+Data\n",
    "    - Drop data in Series\n",
    "    - Drop data in DataFrame\n",
    "        - Drop function will not change original dataframe by default -- review Notes 6.02-6.05 Titanic Example\n",
    "        - If we want drop function to change original dataframe, use inplace=True!!!!!!\n",
    "- Notes 6.09-6.10 slice+data  \n",
    ">   - One thing importance *When slicing we are creating a VIEW so it will change the origin value*\n",
    "    - BUT 条件选取/Boolean indexing/iloc/loc 选取 不会change original value\n",
    "    - To avoid the confusion, simply use .copy() to create a indep copy, not a view, if we want to keep original thing not changed! (以上这几点与numpy array 一模一样)\n",
    "    - For dataframe, usually preferred method for slicing is to use iloc/loc, not linked chain--[ : ], [ , ]\n",
    "    \n",
    "    - Series slicing\n",
    "    - Panda Dataframe Slicing\n",
    "        - Linked Chain Method: 选取单列 (cannot use it to select 行)\n",
    "        - Linked Chain Method: 选取多列\n",
    "        - 条件选取\n",
    "        - loc or iloc 行列穿插选取-- this is the preferred method than 'linked chain' 法选取\n",
    "        - copy()-- Note: same as series and numpy array, slicing will change original dataframe, to avoid it, use .copy() to create a indep copy, not a view\n",
    "        - Add a new column\n",
    "        - assign new value to modify existing elements\n",
    "        - Boolean Indexing 选取\n",
    "        > Similar as array, by default, pass a boolean, it will select ROW(not column) when index=True!!!!!!(背)\n",
    "\n",
    "        >To apply to Column, just use .T()\n",
    "- Notes 6.11 Data+Alignment\n",
    "    - '+','-' and 'df1.add.(df2,fill_value=...)'\n",
    "- Notes 6.12 Rank and Sort\n",
    "    - .sort_index(), .sort_values(), .rank()\n",
    "    \n",
    " "
   ]
  },
  {
   "cell_type": "markdown",
   "metadata": {},
   "source": [
    "# Chapter 7. Matplotlib\n",
    "- Notes 7.01-7.05 Matplotlib\n",
    "    - simple plot\n",
    "    - Histogram (VIP)- bar plot\n",
    "    > used to describe category type of data\n",
    "        \n",
    "        - What is Patches?\n",
    "    - Scatter Plot (VIP)\n",
    "    - Pie chart\n",
    "    - Sub-plots\n",
    "    - Plot Axes-- main axis and inset axis (second, third, ... axis)\n",
    "    - Radar chart (not important)\n",
    "    - 3D plot\n",
    "    - Use Math Functions as label in graph?\n",
    "    - Import Images as plot?\n",
    "- Notes 7.06-7.08 Aggregation--'Group by' for dataframe\n",
    "    - Group by one key\n",
    "    - Group by two keys\n",
    "    - Count # of values -- .size( )\n",
    "    - how to iterate through each group? 怎么每个group 走一遍\n",
    "    - Group By the dict and series\n",
    "    - Groupbyobject.agg(userdefinedfunction) function-- use user-defined function to operate groupedby object (user defined function is similar like sum(), mean(), size() built-in functions)\n",
    "    - GroupbyObject.agg('stringfunction') same as GroupbyObject.stringfunction() --e.g. a.agg('sum') =a.sum()\n",
    "    \n",
    "    \n",
    "    "
   ]
  },
  {
   "cell_type": "markdown",
   "metadata": {},
   "source": [
    "# Chapter 8.什么是好的模型结果--Cost Function\n",
    "\n",
    "- Notes 8.01-8.09+ 8.11-8.13 什么是好的模型结果\n",
    "    - 连续变量的模型，如何来衡量模型结果？--Linear regression, etc.\n",
    "    - 非连续变量-分类解决\n",
    "        - 二分类\n",
    "            - 假设检验，p-value\n",
    "            - confusion matrix\n",
    "            - 召回率，准确率\n",
    "            - F1-score\n",
    "            - ROC & AUC\n",
    "        - 多分类模型--如何衡量模型结果？-- cross entropy (concept)\n",
    "    - imbalanced问题\n",
    "        - 重新采样(resampling)\n",
    "            - random under-sampling (E.g. 2)\n",
    "            - random over-sampling\n",
    "            - 基于cluster 的重新采样（先用聚类方法找出子类）\n",
    "            - 合成数据 SMOTE (E.g. 3)\n",
    "        - 集成算法 (Ensemble Method)-- in Chapter 13\n",
    "- Notes 8.10 F1-Score and ROC--For 二分类model\n",
    "    - 计算F1_Score-- AKA Balanced-F-score or F-measure\n",
    "    - 练习计算与画ROC\n",
    "        1. 生成原始数据\n",
    "        2. Generate model for classification\n",
    "        3. 用ROC进行model效果衡量\n",
    "    \n"
   ]
  },
  {
   "cell_type": "markdown",
   "metadata": {},
   "source": [
    "# Chapter 9.Linear Regression\n",
    "- Notes 9.01-9.10 Linear_Regression_Theory\n",
    "    1. 为什么要使用线性回归\n",
    "    2. 如何计算线性回归？\n",
    "    3. 由最小二乘法选出的直线有没有用？-- sampling and modeling multiple times, get variance (distribution) of coeff beta_hat-- see last picture in this step\n",
    "        - 1.Population has big variance (e.g. noise*400), so in the second step fit model, get slope deviates from original population slope=0.002\n",
    "        - 2.Population has small variance (e.g. noise*20), so in the second step fit model, get slope close to original population slope=0.002\n",
    "        - 3.Put them together sampling multiple times towards both population with big and small noise, then get big variance on model slope for population with big noise and small ... for small noise\n",
    "        \n",
    "    4. 线性回归参数估计的含义-- hypo test for correlation (beta_hat)\n",
    "    5. 线性回归对数据的解释 -- R^2\n",
    "    6. 线性回归对样本及误差的要求和假设前提 - L.I.N.E.\n",
    "    7. 预测的confidence interval 和 prediction interval\n",
    "- Notes 9.11-9.15 Practice\n",
    "    1. 我们先使用sklearn工具包进行线性回归\n",
    "    2. 使用统计包 statsmodels (more professional in data analysis)"
   ]
  },
  {
   "cell_type": "code",
   "execution_count": null,
   "metadata": {
    "collapsed": true
   },
   "outputs": [],
   "source": []
  }
 ],
 "metadata": {
  "kernelspec": {
   "display_name": "Python 3",
   "language": "python",
   "name": "python3"
  },
  "language_info": {
   "codemirror_mode": {
    "name": "ipython",
    "version": 3
   },
   "file_extension": ".py",
   "mimetype": "text/x-python",
   "name": "python",
   "nbconvert_exporter": "python",
   "pygments_lexer": "ipython3",
   "version": "3.6.3"
  }
 },
 "nbformat": 4,
 "nbformat_minor": 2
}
