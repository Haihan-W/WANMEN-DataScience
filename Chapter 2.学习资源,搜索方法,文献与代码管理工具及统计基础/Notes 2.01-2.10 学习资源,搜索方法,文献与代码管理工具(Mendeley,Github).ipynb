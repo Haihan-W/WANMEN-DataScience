{
 "cells": [
  {
   "cell_type": "markdown",
   "metadata": {},
   "source": [
    "## 1. 搜索方法--好好上网，好好学习，好好提问"
   ]
  },
  {
   "cell_type": "markdown",
   "metadata": {},
   "source": [
    "查文献\n",
    "\n",
    "问问题：\n",
    "* 用什么工具上网？\n",
    "* 用什么工具搜索？为什么学会上网很重要，尤其在学习深度学习的过程中\n",
    "* [stackoverflow](https://stackoverflow.com/questions/28312534/graphvizs-executables-are-not-found-python-3-4)\n",
    "* 知乎\n",
    "* csdn，比如说[支持向量机的三重境界](http://blog.csdn.net/v_july_v/article/details/7624837)-- 必读"
   ]
  },
  {
   "cell_type": "markdown",
   "metadata": {},
   "source": [
    "## 2. 学习资源,及其管理工具Mendeley(类似Google Drive)"
   ]
  },
  {
   "cell_type": "markdown",
   "metadata": {},
   "source": [
    "学习资源几类 **(每一个层次都需要动手做实践)**\n",
    "\n",
    "* 视频\n",
    "    * 万门，网易云课堂，[coursera](https://www.coursera.org/), Udacity\n",
    "* 教科书 (见百度云盘'推荐教材':链接见wechat 群公告, 我存在了Google Drive CS Resources 里了)\n",
    "    * 周志华老师《机器学习》--浅显易懂,适合初学者读(必读!)+其中reference部分很深奥但是reference的resources都特别好,初学者可以从正文开始看起\n",
    "    * Ian Goodfellow 《深度学习》--Ian 发明了GAN,深度对抗神经网络,适合有一定基础的人\n",
    "    * W. Mckinney 《Python for data analysis》--以上两篇偏理论,此篇偏实际应用\n",
    "* paper论文或者小章节 （理论基础较好者，在有志学习深度学习以及人工智能时，应多读paper,--因为论文比较新 比如说)\n",
    "    * Sabour, S., Frosst, N., & Hinton, G. E. (2017). Dynamic Routing Between Capsules, (Nips). Retrieved from http://arxiv.org/abs/1710.09829\n",
    "    * LeCun, Y. (n.d.). Gradient-based learning applied to document. https://doi.org/10.1109/5.726791\n",
    "    * Covington, P., Adams, J., & Sargin, E. (2016). Deep Neural Networks for YouTube Recommendations. Proceedings of the 10th ACM Conference on Recommender Systems - RecSys ’16, 191–198. https://doi.org/10.1145/2959100.2959190\n",
    "    * Ng, A. (2012). 8. The EM Algorithm. Machine Learning, 1(X), 139–172. https://doi.org/10.1007/978-3-642-21551-3_6"
   ]
  },
  {
   "cell_type": "markdown",
   "metadata": {},
   "source": [
    "** 这么<span style=\"color:blue\">多</span>文件，如何管理？**\n",
    "\n",
    "试试[Mendeley](https://www.mendeley.com/)"
   ]
  },
  {
   "cell_type": "code",
   "execution_count": null,
   "metadata": {
    "collapsed": true
   },
   "outputs": [],
   "source": []
  },
  {
   "cell_type": "markdown",
   "metadata": {},
   "source": [
    "## 3. 代码管理工具--Github "
   ]
  },
  {
   "cell_type": "markdown",
   "metadata": {},
   "source": [
    "**Github**是程序员必备工具，作为版本控制(version control)和协同合作的利器，让人爱不释手。\n",
    "\n",
    "* 几个概念：\n",
    "    * 缓存区\n",
    "    * 代码库\n",
    "    * 本地\n",
    "    * 远端\n",
    "\n",
    "\n",
    "1. 安装github for windows, 注册账户\n",
    "2. 基本命令\n",
    "    * git init, 建一个新的repository\n",
    "    * git clone 克隆一个repository\n",
    "    * git add 加入新的内容到缓存区\n",
    "    * git commit 实际提交改动\n",
    "    * git push   推送改动到远端\n",
    "    * git checkout -b 做一个分支branch\n",
    "    * git pull   获取并合并远端的版本 （fetch+merge)\n",
    "    * git merge  合并其他版本, 遇到冲突怎么办？\n",
    "    * git log 查看记录\n",
    "    \n",
    "[参考资料](https://guides.github.com/)"
   ]
  },
  {
   "cell_type": "markdown",
   "metadata": {},
   "source": [
    "几个名词：在本机上--工作区(workspace/working directory)，暂存区(index/staging area)，代码库(Repository)，\n",
    "\n",
    "云端--远端(Remote)"
   ]
  },
  {
   "cell_type": "markdown",
   "metadata": {},
   "source": [
    "<img src='https://i.stack.imgur.com/waouN.png', width=300>"
   ]
  },
  {
   "cell_type": "markdown",
   "metadata": {},
   "source": [
    "### 看看github的workflow"
   ]
  },
  {
   "cell_type": "markdown",
   "metadata": {},
   "source": [
    "<img src='https://cdn-images-1.medium.com/max/1000/1*iHPPa72N11sBI_JSDEGxEA.png', width=600>"
   ]
  },
  {
   "cell_type": "markdown",
   "metadata": {},
   "source": [
    "1. 在主干master之外，建立新的branch\n",
    "2. 在本地修改，提交到暂存区\n",
    "3. 提交pull requests\n",
    "4. 群组讨论，进一步修改\n",
    "5. merge到master上面\n"
   ]
  },
  {
   "cell_type": "code",
   "execution_count": null,
   "metadata": {
    "collapsed": true
   },
   "outputs": [],
   "source": []
  },
  {
   "cell_type": "markdown",
   "metadata": {},
   "source": [
    "### 上手练练--建立repo 并链接到远端GitHub\n",
    "\n",
    "[参考](http://product.hubspot.com/blog/git-and-github-tutorial-for-beginners)\n",
    "\n",
    "#### Step1. 建立新的repository (本机)\n",
    "1.1 <span style=\"color:blue\">本机建立repository: 在命令行中新建一个文件夹，进入文件夹后，再用git bash terminal 进入该文件夹的directory, 使用git init进行初始化<span>\n",
    "\n",
    "1.2 <span style=\"color:blue\">添加一点文字文档内容，对本文件夹进行一定改动</span>\n",
    "\n",
    "#### Step2. <span style=\"color:blue\">在远端github建立repository, 并保存**远端地址**e.g. SSH or HTML</span>\n",
    "#### Step3. 保存远端地址, 并在本地的command line命令行工具中，添加远端地址，这样就把本地和远端链接起来了\n",
    "#### Step4. **将变动推送到主干master上**\n",
    "#### Step5. 创建新的分支branch, 同时进入该新branch\n",
    "#### Step6. 查看过去记录\n",
    "\n",
    "下面开始\n"
   ]
  },
  {
   "cell_type": "markdown",
   "metadata": {},
   "source": [
    "#### Step1. 建立新的repository (本机)"
   ]
  },
  {
   "cell_type": "markdown",
   "metadata": {},
   "source": [
    "\n",
    "* 从0开始，git init开始\n",
    "\n",
    "1.1 <span style=\"color:blue\">本机建立repository: 在命令行中新建一个文件夹，进入文件夹后，再用git bash terminal (git bash 与Linux terminal 用法一样)进入该文件夹的directory, 使用git init进行初始化<span>\n",
    "\n",
    "> mkdir newgame\n",
    "\n",
    "> cd newgame\n",
    "\n",
    "> git init"
   ]
  },
  {
   "cell_type": "markdown",
   "metadata": {},
   "source": [
    "1.2 <span style=\"color:blue\">添加一点文字文档内容，对本文件夹进行一定改动</span>\n",
    "使用jupyter notebook或者sublime或者记事本，在文件夹内新建一个文档，这时对本文件夹产生了变动.\n",
    "\n",
    "检查变动，使用\n",
    "\n",
    "> git status"
   ]
  },
  {
   "cell_type": "markdown",
   "metadata": {
    "collapsed": true
   },
   "source": [
    "1.3 将改动提交到暂存去，然后再交到代码库\n",
    "> git add ./\n",
    "\n",
    "> git commit -m '第一次改动‘"
   ]
  },
  {
   "cell_type": "markdown",
   "metadata": {},
   "source": [
    "#### Step2. <span style=\"color:blue\">在远端github建立repository, 并保存远端地址e.g. SSH or HTML</span> （需要先注册一个账号）\n"
   ]
  },
  {
   "cell_type": "markdown",
   "metadata": {},
   "source": [
    "#### Step3. 保存远端地址, 并在本地的command line命令行工具中，添加远端地址，这样就把本地和远端链接起来了。要链接起来，还有更简单的方式，直接git clone\n",
    "\n",
    "> git remote add origin 加上*SSH or HTTP of your repo of github*\n",
    "\n"
   ]
  },
  {
   "cell_type": "markdown",
   "metadata": {},
   "source": [
    "* 这一步有更方便的办法，克隆已有的远端 repository，连最初的git initi也不用了，直接git clone ---远端的地址=========-------"
   ]
  },
  {
   "cell_type": "markdown",
   "metadata": {},
   "source": [
    "\n",
    "#### Step4. **将变动推送到主干master上**\n",
    "\n",
    "> git push -u origin master"
   ]
  },
  {
   "cell_type": "markdown",
   "metadata": {},
   "source": [
    "#### Step5. 创建新的分支branch, 同时进入该新branch\n",
    "* create a new branch, and give it a name 'newbranch1':\n",
    "> git checkout -b 'newbranch1'\n",
    "\n",
    "* Show all of the branch/master in current repo; there will be a '*' before your current branch/master:\n",
    "> git branch -a\n",
    "\n",
    "* 如果要改回 master 主干，使用\n",
    "> git checkout master\n",
    "\n",
    "* 如果要进入'newbranch1':\n",
    "> git checkout newbranch1"
   ]
  },
  {
   "cell_type": "markdown",
   "metadata": {},
   "source": [
    "#### Step6. 查看过去记录\n",
    "\n",
    "> git log\n",
    "\n",
    "这个是标准的查看过去记录的语句"
   ]
  },
  {
   "cell_type": "markdown",
   "metadata": {
    "collapsed": true
   },
   "source": [
    "### git的功能非常多，简单介绍了这几个，在以后工作中，还会有 git merge, git fetch, git pull, 等用法"
   ]
  }
 ],
 "metadata": {
  "kernelspec": {
   "display_name": "Python 3",
   "language": "python",
   "name": "python3"
  },
  "language_info": {
   "codemirror_mode": {
    "name": "ipython",
    "version": 3
   },
   "file_extension": ".py",
   "mimetype": "text/x-python",
   "name": "python",
   "nbconvert_exporter": "python",
   "pygments_lexer": "ipython3",
   "version": "3.6.3"
  }
 },
 "nbformat": 4,
 "nbformat_minor": 2
}
