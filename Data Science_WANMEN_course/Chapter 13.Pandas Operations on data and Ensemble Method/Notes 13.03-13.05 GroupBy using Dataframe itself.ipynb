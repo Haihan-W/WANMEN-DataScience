{
 "cells": [
  {
   "cell_type": "markdown",
   "metadata": {},
   "source": [
    " Groupby using dataframe itself(E.g. column(s) of dataframe) is based on groupby using series (see previous section notes)"
   ]
  },
  {
   "cell_type": "code",
   "execution_count": 3,
   "metadata": {
    "collapsed": true
   },
   "outputs": [],
   "source": [
    "import numpy as np\n",
    "import pandas as pd\n",
    "from pandas import DataFrame, Series"
   ]
  },
  {
   "cell_type": "code",
   "execution_count": 4,
   "metadata": {
    "collapsed": true
   },
   "outputs": [],
   "source": [
    "df = DataFrame({'k1':['X','X','Y','Y','Z'],\n",
    "                    'k2':['alpha','beta','alpha','beta','alpha'],\n",
    "                    'dataset1':np.random.randn(5),\n",
    "                    'dataset2':np.random.randn(5)},columns=['k1','k2','dataset1','dataset2'])"
   ]
  },
  {
   "cell_type": "code",
   "execution_count": 5,
   "metadata": {},
   "outputs": [
    {
     "data": {
      "text/html": [
       "<div>\n",
       "<style>\n",
       "    .dataframe thead tr:only-child th {\n",
       "        text-align: right;\n",
       "    }\n",
       "\n",
       "    .dataframe thead th {\n",
       "        text-align: left;\n",
       "    }\n",
       "\n",
       "    .dataframe tbody tr th {\n",
       "        vertical-align: top;\n",
       "    }\n",
       "</style>\n",
       "<table border=\"1\" class=\"dataframe\">\n",
       "  <thead>\n",
       "    <tr style=\"text-align: right;\">\n",
       "      <th></th>\n",
       "      <th>k1</th>\n",
       "      <th>k2</th>\n",
       "      <th>dataset1</th>\n",
       "      <th>dataset2</th>\n",
       "    </tr>\n",
       "  </thead>\n",
       "  <tbody>\n",
       "    <tr>\n",
       "      <th>0</th>\n",
       "      <td>X</td>\n",
       "      <td>alpha</td>\n",
       "      <td>1.615926</td>\n",
       "      <td>-0.716651</td>\n",
       "    </tr>\n",
       "    <tr>\n",
       "      <th>1</th>\n",
       "      <td>X</td>\n",
       "      <td>beta</td>\n",
       "      <td>-2.090121</td>\n",
       "      <td>-2.950341</td>\n",
       "    </tr>\n",
       "    <tr>\n",
       "      <th>2</th>\n",
       "      <td>Y</td>\n",
       "      <td>alpha</td>\n",
       "      <td>0.272635</td>\n",
       "      <td>-0.606586</td>\n",
       "    </tr>\n",
       "    <tr>\n",
       "      <th>3</th>\n",
       "      <td>Y</td>\n",
       "      <td>beta</td>\n",
       "      <td>-0.086821</td>\n",
       "      <td>0.724526</td>\n",
       "    </tr>\n",
       "    <tr>\n",
       "      <th>4</th>\n",
       "      <td>Z</td>\n",
       "      <td>alpha</td>\n",
       "      <td>-0.157000</td>\n",
       "      <td>1.502640</td>\n",
       "    </tr>\n",
       "  </tbody>\n",
       "</table>\n",
       "</div>"
      ],
      "text/plain": [
       "  k1     k2  dataset1  dataset2\n",
       "0  X  alpha  1.615926 -0.716651\n",
       "1  X   beta -2.090121 -2.950341\n",
       "2  Y  alpha  0.272635 -0.606586\n",
       "3  Y   beta -0.086821  0.724526\n",
       "4  Z  alpha -0.157000  1.502640"
      ]
     },
     "execution_count": 5,
     "metadata": {},
     "output_type": "execute_result"
    }
   ],
   "source": [
    "df"
   ]
  },
  {
   "cell_type": "code",
   "execution_count": 6,
   "metadata": {
    "collapsed": true
   },
   "outputs": [],
   "source": [
    "# Grab the dataset1 column and group it by the k1 key\n",
    "group1 = df['dataset1'].groupby(df['k1'])"
   ]
  },
  {
   "cell_type": "code",
   "execution_count": 7,
   "metadata": {},
   "outputs": [
    {
     "name": "stdout",
     "output_type": "stream",
     "text": [
      "<pandas.core.groupby.SeriesGroupBy object at 0x000002628E19F278>\n"
     ]
    }
   ],
   "source": [
    "print(group1)"
   ]
  },
  {
   "cell_type": "code",
   "execution_count": 8,
   "metadata": {},
   "outputs": [
    {
     "name": "stdout",
     "output_type": "stream",
     "text": [
      "X 0    1.615926\n",
      "1   -2.090121\n",
      "Name: dataset1, dtype: float64\n",
      "Y 2    0.272635\n",
      "3   -0.086821\n",
      "Name: dataset1, dtype: float64\n",
      "Z 4   -0.157\n",
      "Name: dataset1, dtype: float64\n"
     ]
    }
   ],
   "source": [
    "for g in group1:\n",
    "    \n",
    "    print(g[0],g[1]) #g[0]=组名(e.g. X,Y,Z); g[1]=values"
   ]
  },
  {
   "cell_type": "code",
   "execution_count": 9,
   "metadata": {},
   "outputs": [
    {
     "data": {
      "text/plain": [
       "k1\n",
       "X   -0.237097\n",
       "Y    0.092907\n",
       "Z   -0.157000\n",
       "Name: dataset1, dtype: float64"
      ]
     },
     "execution_count": 9,
     "metadata": {},
     "output_type": "execute_result"
    }
   ],
   "source": [
    "# Perform average on group1-- average within each group(e.g. groupX, Y, Z) of this groupby object\n",
    "group1.mean()"
   ]
  },
  {
   "cell_type": "code",
   "execution_count": 10,
   "metadata": {
    "collapsed": true
   },
   "outputs": [],
   "source": [
    "#We'll make some arrays and use them as keys\n",
    "cities = np.array(['NY','LA','LA','NY','NY'])\n",
    "month = np.array(['Oct','Jun','Jan','Feb','Sep'])"
   ]
  },
  {
   "cell_type": "code",
   "execution_count": 12,
   "metadata": {},
   "outputs": [
    {
     "data": {
      "text/html": [
       "<div>\n",
       "<style>\n",
       "    .dataframe thead tr:only-child th {\n",
       "        text-align: right;\n",
       "    }\n",
       "\n",
       "    .dataframe thead th {\n",
       "        text-align: left;\n",
       "    }\n",
       "\n",
       "    .dataframe tbody tr th {\n",
       "        vertical-align: top;\n",
       "    }\n",
       "</style>\n",
       "<table border=\"1\" class=\"dataframe\">\n",
       "  <thead>\n",
       "    <tr style=\"text-align: right;\">\n",
       "      <th></th>\n",
       "      <th></th>\n",
       "      <th>dataset1</th>\n",
       "      <th>dataset2</th>\n",
       "    </tr>\n",
       "  </thead>\n",
       "  <tbody>\n",
       "    <tr>\n",
       "      <th rowspan=\"2\" valign=\"top\">LA</th>\n",
       "      <th>Jan</th>\n",
       "      <td>0.272635</td>\n",
       "      <td>-0.606586</td>\n",
       "    </tr>\n",
       "    <tr>\n",
       "      <th>Jun</th>\n",
       "      <td>-2.090121</td>\n",
       "      <td>-2.950341</td>\n",
       "    </tr>\n",
       "    <tr>\n",
       "      <th rowspan=\"3\" valign=\"top\">NY</th>\n",
       "      <th>Feb</th>\n",
       "      <td>-0.086821</td>\n",
       "      <td>0.724526</td>\n",
       "    </tr>\n",
       "    <tr>\n",
       "      <th>Oct</th>\n",
       "      <td>1.615926</td>\n",
       "      <td>-0.716651</td>\n",
       "    </tr>\n",
       "    <tr>\n",
       "      <th>Sep</th>\n",
       "      <td>-0.157000</td>\n",
       "      <td>1.502640</td>\n",
       "    </tr>\n",
       "  </tbody>\n",
       "</table>\n",
       "</div>"
      ],
      "text/plain": [
       "        dataset1  dataset2\n",
       "LA Jan  0.272635 -0.606586\n",
       "   Jun -2.090121 -2.950341\n",
       "NY Feb -0.086821  0.724526\n",
       "   Oct  1.615926 -0.716651\n",
       "   Sep -0.157000  1.502640"
      ]
     },
     "execution_count": 12,
     "metadata": {},
     "output_type": "execute_result"
    }
   ],
   "source": [
    "# Use the data from df, group the calculable means by city and month(double indexing)*\n",
    "# *: dataset1 and dataset2 are all numeric values, so .mean() is calculable, so they are calculated as below; \n",
    "#    While k1 and k2 contains text value, .mean() not calculable, thus not shown below.\n",
    "df.groupby([cities,month]).mean()"
   ]
  },
  {
   "cell_type": "code",
   "execution_count": 13,
   "metadata": {},
   "outputs": [
    {
     "data": {
      "text/html": [
       "<div>\n",
       "<style>\n",
       "    .dataframe thead tr:only-child th {\n",
       "        text-align: right;\n",
       "    }\n",
       "\n",
       "    .dataframe thead th {\n",
       "        text-align: left;\n",
       "    }\n",
       "\n",
       "    .dataframe tbody tr th {\n",
       "        vertical-align: top;\n",
       "    }\n",
       "</style>\n",
       "<table border=\"1\" class=\"dataframe\">\n",
       "  <thead>\n",
       "    <tr style=\"text-align: right;\">\n",
       "      <th></th>\n",
       "      <th>dataset1</th>\n",
       "      <th>dataset2</th>\n",
       "    </tr>\n",
       "    <tr>\n",
       "      <th>k1</th>\n",
       "      <th></th>\n",
       "      <th></th>\n",
       "    </tr>\n",
       "  </thead>\n",
       "  <tbody>\n",
       "    <tr>\n",
       "      <th>X</th>\n",
       "      <td>-0.237097</td>\n",
       "      <td>-1.833496</td>\n",
       "    </tr>\n",
       "    <tr>\n",
       "      <th>Y</th>\n",
       "      <td>0.092907</td>\n",
       "      <td>0.058970</td>\n",
       "    </tr>\n",
       "    <tr>\n",
       "      <th>Z</th>\n",
       "      <td>-0.157000</td>\n",
       "      <td>1.502640</td>\n",
       "    </tr>\n",
       "  </tbody>\n",
       "</table>\n",
       "</div>"
      ],
      "text/plain": [
       "    dataset1  dataset2\n",
       "k1                    \n",
       "X  -0.237097 -1.833496\n",
       "Y   0.092907  0.058970\n",
       "Z  -0.157000  1.502640"
      ]
     },
     "execution_count": 13,
     "metadata": {},
     "output_type": "execute_result"
    }
   ],
   "source": [
    "# Pass column names as group keys, will return values that could be calculated*\n",
    "# *: dataset1 and dataset2 are all numeric values, so .mean() is calculable, so they are calculated as below; \n",
    "#    While k1 and k2 contains text value, .mean() not calculable, thus not shown below.\n",
    "df.groupby('k1').mean()"
   ]
  },
  {
   "cell_type": "code",
   "execution_count": 14,
   "metadata": {},
   "outputs": [
    {
     "data": {
      "text/html": [
       "<div>\n",
       "<style>\n",
       "    .dataframe thead tr:only-child th {\n",
       "        text-align: right;\n",
       "    }\n",
       "\n",
       "    .dataframe thead th {\n",
       "        text-align: left;\n",
       "    }\n",
       "\n",
       "    .dataframe tbody tr th {\n",
       "        vertical-align: top;\n",
       "    }\n",
       "</style>\n",
       "<table border=\"1\" class=\"dataframe\">\n",
       "  <thead>\n",
       "    <tr style=\"text-align: right;\">\n",
       "      <th></th>\n",
       "      <th></th>\n",
       "      <th>dataset1</th>\n",
       "      <th>dataset2</th>\n",
       "    </tr>\n",
       "    <tr>\n",
       "      <th>k1</th>\n",
       "      <th>k2</th>\n",
       "      <th></th>\n",
       "      <th></th>\n",
       "    </tr>\n",
       "  </thead>\n",
       "  <tbody>\n",
       "    <tr>\n",
       "      <th rowspan=\"2\" valign=\"top\">X</th>\n",
       "      <th>alpha</th>\n",
       "      <td>1.615926</td>\n",
       "      <td>-0.716651</td>\n",
       "    </tr>\n",
       "    <tr>\n",
       "      <th>beta</th>\n",
       "      <td>-2.090121</td>\n",
       "      <td>-2.950341</td>\n",
       "    </tr>\n",
       "    <tr>\n",
       "      <th rowspan=\"2\" valign=\"top\">Y</th>\n",
       "      <th>alpha</th>\n",
       "      <td>0.272635</td>\n",
       "      <td>-0.606586</td>\n",
       "    </tr>\n",
       "    <tr>\n",
       "      <th>beta</th>\n",
       "      <td>-0.086821</td>\n",
       "      <td>0.724526</td>\n",
       "    </tr>\n",
       "    <tr>\n",
       "      <th>Z</th>\n",
       "      <th>alpha</th>\n",
       "      <td>-0.157000</td>\n",
       "      <td>1.502640</td>\n",
       "    </tr>\n",
       "  </tbody>\n",
       "</table>\n",
       "</div>"
      ],
      "text/plain": [
       "          dataset1  dataset2\n",
       "k1 k2                       \n",
       "X  alpha  1.615926 -0.716651\n",
       "   beta  -2.090121 -2.950341\n",
       "Y  alpha  0.272635 -0.606586\n",
       "   beta  -0.086821  0.724526\n",
       "Z  alpha -0.157000  1.502640"
      ]
     },
     "execution_count": 14,
     "metadata": {},
     "output_type": "execute_result"
    }
   ],
   "source": [
    "# Or multiple column names\n",
    "df.groupby(['k1','k2']).mean()"
   ]
  },
  {
   "cell_type": "code",
   "execution_count": 15,
   "metadata": {},
   "outputs": [
    {
     "data": {
      "text/plain": [
       "k1\n",
       "X    2\n",
       "Y    2\n",
       "Z    1\n",
       "dtype: int64"
      ]
     },
     "execution_count": 15,
     "metadata": {},
     "output_type": "execute_result"
    }
   ],
   "source": [
    "# Another useful groupby method is getting the group sizes\n",
    "df.groupby(['k1']).size()"
   ]
  },
  {
   "cell_type": "code",
   "execution_count": 16,
   "metadata": {},
   "outputs": [
    {
     "name": "stdout",
     "output_type": "stream",
     "text": [
      "This is the X group\n",
      "  k1     k2  dataset1  dataset2\n",
      "0  X  alpha  1.615926 -0.716651\n",
      "1  X   beta -2.090121 -2.950341\n",
      "\n",
      "\n",
      "This is the Y group\n",
      "  k1     k2  dataset1  dataset2\n",
      "2  Y  alpha  0.272635 -0.606586\n",
      "3  Y   beta -0.086821  0.724526\n",
      "\n",
      "\n",
      "This is the Z group\n",
      "  k1     k2  dataset1  dataset2\n",
      "4  Z  alpha    -0.157   1.50264\n",
      "\n",
      "\n"
     ]
    }
   ],
   "source": [
    "# We can also iterate over groups\n",
    "for group_name,group in df.groupby('k1'):\n",
    "    print (\"This is the %s group\" %group_name)\n",
    "    print (group)\n",
    "    print ('\\n')"
   ]
  },
  {
   "cell_type": "code",
   "execution_count": 17,
   "metadata": {},
   "outputs": [
    {
     "name": "stdout",
     "output_type": "stream",
     "text": [
      "This is the X group\n",
      "  k1     k2  dataset1  dataset2\n",
      "0  X  alpha  1.615926 -0.716651\n",
      "1  X   beta -2.090121 -2.950341\n",
      "\n",
      "\n",
      "This is the Y group\n",
      "  k1     k2  dataset1  dataset2\n",
      "2  Y  alpha  0.272635 -0.606586\n",
      "3  Y   beta -0.086821  0.724526\n",
      "\n",
      "\n",
      "This is the Z group\n",
      "  k1     k2  dataset1  dataset2\n",
      "4  Z  alpha    -0.157   1.50264\n",
      "\n",
      "\n"
     ]
    }
   ],
   "source": [
    "# or\n",
    "for g in df.groupby('k1'):\n",
    "    print (\"This is the %s group\" %g[0])\n",
    "    print (g[1])\n",
    "    print ('\\n')"
   ]
  },
  {
   "cell_type": "code",
   "execution_count": 19,
   "metadata": {
    "scrolled": true
   },
   "outputs": [
    {
     "data": {
      "text/html": [
       "<div>\n",
       "<style>\n",
       "    .dataframe thead tr:only-child th {\n",
       "        text-align: right;\n",
       "    }\n",
       "\n",
       "    .dataframe thead th {\n",
       "        text-align: left;\n",
       "    }\n",
       "\n",
       "    .dataframe tbody tr th {\n",
       "        vertical-align: top;\n",
       "    }\n",
       "</style>\n",
       "<table border=\"1\" class=\"dataframe\">\n",
       "  <thead>\n",
       "    <tr style=\"text-align: right;\">\n",
       "      <th></th>\n",
       "      <th>k1</th>\n",
       "      <th>k2</th>\n",
       "      <th>dataset1</th>\n",
       "      <th>dataset2</th>\n",
       "    </tr>\n",
       "  </thead>\n",
       "  <tbody>\n",
       "    <tr>\n",
       "      <th>0</th>\n",
       "      <td>X</td>\n",
       "      <td>alpha</td>\n",
       "      <td>1.615926</td>\n",
       "      <td>-0.716651</td>\n",
       "    </tr>\n",
       "    <tr>\n",
       "      <th>1</th>\n",
       "      <td>X</td>\n",
       "      <td>beta</td>\n",
       "      <td>-2.090121</td>\n",
       "      <td>-2.950341</td>\n",
       "    </tr>\n",
       "    <tr>\n",
       "      <th>2</th>\n",
       "      <td>Y</td>\n",
       "      <td>alpha</td>\n",
       "      <td>0.272635</td>\n",
       "      <td>-0.606586</td>\n",
       "    </tr>\n",
       "    <tr>\n",
       "      <th>3</th>\n",
       "      <td>Y</td>\n",
       "      <td>beta</td>\n",
       "      <td>-0.086821</td>\n",
       "      <td>0.724526</td>\n",
       "    </tr>\n",
       "    <tr>\n",
       "      <th>4</th>\n",
       "      <td>Z</td>\n",
       "      <td>alpha</td>\n",
       "      <td>-0.157000</td>\n",
       "      <td>1.502640</td>\n",
       "    </tr>\n",
       "  </tbody>\n",
       "</table>\n",
       "</div>"
      ],
      "text/plain": [
       "  k1     k2  dataset1  dataset2\n",
       "0  X  alpha  1.615926 -0.716651\n",
       "1  X   beta -2.090121 -2.950341\n",
       "2  Y  alpha  0.272635 -0.606586\n",
       "3  Y   beta -0.086821  0.724526\n",
       "4  Z  alpha -0.157000  1.502640"
      ]
     },
     "execution_count": 19,
     "metadata": {},
     "output_type": "execute_result"
    }
   ],
   "source": [
    "df"
   ]
  },
  {
   "cell_type": "code",
   "execution_count": 20,
   "metadata": {},
   "outputs": [
    {
     "name": "stdout",
     "output_type": "stream",
     "text": [
      "Key1 = X Key2 = alpha\n",
      "  k1     k2  dataset1  dataset2\n",
      "0  X  alpha  1.615926 -0.716651\n",
      "\n",
      "\n",
      "Key1 = X Key2 = beta\n",
      "  k1    k2  dataset1  dataset2\n",
      "1  X  beta -2.090121 -2.950341\n",
      "\n",
      "\n",
      "Key1 = Y Key2 = alpha\n",
      "  k1     k2  dataset1  dataset2\n",
      "2  Y  alpha  0.272635 -0.606586\n",
      "\n",
      "\n",
      "Key1 = Y Key2 = beta\n",
      "  k1    k2  dataset1  dataset2\n",
      "3  Y  beta -0.086821  0.724526\n",
      "\n",
      "\n",
      "Key1 = Z Key2 = alpha\n",
      "  k1     k2  dataset1  dataset2\n",
      "4  Z  alpha    -0.157   1.50264\n",
      "\n",
      "\n"
     ]
    }
   ],
   "source": [
    "# We can also iterate groupby object with multiple keys(double indexing)\n",
    "for (k1,k2) , group in df.groupby(['k1','k2']):\n",
    "    print (\"Key1 = %s Key2 = %s\" %(k1,k2))\n",
    "    print (group)\n",
    "    print ('\\n')"
   ]
  },
  {
   "cell_type": "code",
   "execution_count": 21,
   "metadata": {},
   "outputs": [
    {
     "data": {
      "text/html": [
       "<div>\n",
       "<style>\n",
       "    .dataframe thead tr:only-child th {\n",
       "        text-align: right;\n",
       "    }\n",
       "\n",
       "    .dataframe thead th {\n",
       "        text-align: left;\n",
       "    }\n",
       "\n",
       "    .dataframe tbody tr th {\n",
       "        vertical-align: top;\n",
       "    }\n",
       "</style>\n",
       "<table border=\"1\" class=\"dataframe\">\n",
       "  <thead>\n",
       "    <tr style=\"text-align: right;\">\n",
       "      <th></th>\n",
       "      <th>k1</th>\n",
       "      <th>k2</th>\n",
       "      <th>dataset1</th>\n",
       "      <th>dataset2</th>\n",
       "    </tr>\n",
       "  </thead>\n",
       "  <tbody>\n",
       "    <tr>\n",
       "      <th>0</th>\n",
       "      <td>X</td>\n",
       "      <td>alpha</td>\n",
       "      <td>1.615926</td>\n",
       "      <td>-0.716651</td>\n",
       "    </tr>\n",
       "    <tr>\n",
       "      <th>1</th>\n",
       "      <td>X</td>\n",
       "      <td>beta</td>\n",
       "      <td>-2.090121</td>\n",
       "      <td>-2.950341</td>\n",
       "    </tr>\n",
       "    <tr>\n",
       "      <th>2</th>\n",
       "      <td>Y</td>\n",
       "      <td>alpha</td>\n",
       "      <td>0.272635</td>\n",
       "      <td>-0.606586</td>\n",
       "    </tr>\n",
       "    <tr>\n",
       "      <th>3</th>\n",
       "      <td>Y</td>\n",
       "      <td>beta</td>\n",
       "      <td>-0.086821</td>\n",
       "      <td>0.724526</td>\n",
       "    </tr>\n",
       "    <tr>\n",
       "      <th>4</th>\n",
       "      <td>Z</td>\n",
       "      <td>alpha</td>\n",
       "      <td>-0.157000</td>\n",
       "      <td>1.502640</td>\n",
       "    </tr>\n",
       "  </tbody>\n",
       "</table>\n",
       "</div>"
      ],
      "text/plain": [
       "  k1     k2  dataset1  dataset2\n",
       "0  X  alpha  1.615926 -0.716651\n",
       "1  X   beta -2.090121 -2.950341\n",
       "2  Y  alpha  0.272635 -0.606586\n",
       "3  Y   beta -0.086821  0.724526\n",
       "4  Z  alpha -0.157000  1.502640"
      ]
     },
     "execution_count": 21,
     "metadata": {},
     "output_type": "execute_result"
    }
   ],
   "source": [
    "df"
   ]
  },
  {
   "cell_type": "code",
   "execution_count": 23,
   "metadata": {},
   "outputs": [
    {
     "data": {
      "text/plain": [
       "[('X',   k1     k2  dataset1  dataset2\n",
       "  0  X  alpha  1.615926 -0.716651\n",
       "  1  X   beta -2.090121 -2.950341), ('Y',   k1     k2  dataset1  dataset2\n",
       "  2  Y  alpha  0.272635 -0.606586\n",
       "  3  Y   beta -0.086821  0.724526), ('Z',   k1     k2  dataset1  dataset2\n",
       "  4  Z  alpha    -0.157   1.50264)]"
      ]
     },
     "execution_count": 23,
     "metadata": {},
     "output_type": "execute_result"
    }
   ],
   "source": [
    "list(df.groupby('k1')) #use list function to present groupby object as a list of tuples, with each group in a tuple, \n",
    "                        # with tuple[0]=group name (e.g. 'X'), tuple[1] = group values"
   ]
  },
  {
   "cell_type": "code",
   "execution_count": 24,
   "metadata": {},
   "outputs": [
    {
     "data": {
      "text/plain": [
       "{'X':   k1     k2  dataset1  dataset2\n",
       " 0  X  alpha  1.615926 -0.716651\n",
       " 1  X   beta -2.090121 -2.950341, 'Y':   k1     k2  dataset1  dataset2\n",
       " 2  Y  alpha  0.272635 -0.606586\n",
       " 3  Y   beta -0.086821  0.724526, 'Z':   k1     k2  dataset1  dataset2\n",
       " 4  Z  alpha    -0.157   1.50264}"
      ]
     },
     "execution_count": 24,
     "metadata": {},
     "output_type": "execute_result"
    }
   ],
   "source": [
    "# Present group in a dictionary format-- A possibly useful tactic is creating a dictionary of the data pieces \n",
    "group_dict = dict(list(df.groupby('k1')))  #1st element of each tuple shown above(i.e.group name)=key; 2nd element=group values\n",
    "\n",
    "group_dict"
   ]
  },
  {
   "cell_type": "code",
   "execution_count": 25,
   "metadata": {},
   "outputs": [
    {
     "data": {
      "text/html": [
       "<div>\n",
       "<style>\n",
       "    .dataframe thead tr:only-child th {\n",
       "        text-align: right;\n",
       "    }\n",
       "\n",
       "    .dataframe thead th {\n",
       "        text-align: left;\n",
       "    }\n",
       "\n",
       "    .dataframe tbody tr th {\n",
       "        vertical-align: top;\n",
       "    }\n",
       "</style>\n",
       "<table border=\"1\" class=\"dataframe\">\n",
       "  <thead>\n",
       "    <tr style=\"text-align: right;\">\n",
       "      <th></th>\n",
       "      <th>k1</th>\n",
       "      <th>k2</th>\n",
       "      <th>dataset1</th>\n",
       "      <th>dataset2</th>\n",
       "    </tr>\n",
       "  </thead>\n",
       "  <tbody>\n",
       "    <tr>\n",
       "      <th>0</th>\n",
       "      <td>X</td>\n",
       "      <td>alpha</td>\n",
       "      <td>1.615926</td>\n",
       "      <td>-0.716651</td>\n",
       "    </tr>\n",
       "    <tr>\n",
       "      <th>1</th>\n",
       "      <td>X</td>\n",
       "      <td>beta</td>\n",
       "      <td>-2.090121</td>\n",
       "      <td>-2.950341</td>\n",
       "    </tr>\n",
       "  </tbody>\n",
       "</table>\n",
       "</div>"
      ],
      "text/plain": [
       "  k1     k2  dataset1  dataset2\n",
       "0  X  alpha  1.615926 -0.716651\n",
       "1  X   beta -2.090121 -2.950341"
      ]
     },
     "execution_count": 25,
     "metadata": {},
     "output_type": "execute_result"
    }
   ],
   "source": [
    "#Show the group with X\n",
    "group_dict['X']"
   ]
  },
  {
   "cell_type": "code",
   "execution_count": 26,
   "metadata": {},
   "outputs": [
    {
     "data": {
      "text/html": [
       "<div>\n",
       "<style>\n",
       "    .dataframe thead tr:only-child th {\n",
       "        text-align: right;\n",
       "    }\n",
       "\n",
       "    .dataframe thead th {\n",
       "        text-align: left;\n",
       "    }\n",
       "\n",
       "    .dataframe tbody tr th {\n",
       "        vertical-align: top;\n",
       "    }\n",
       "</style>\n",
       "<table border=\"1\" class=\"dataframe\">\n",
       "  <thead>\n",
       "    <tr style=\"text-align: right;\">\n",
       "      <th></th>\n",
       "      <th>k1</th>\n",
       "      <th>k2</th>\n",
       "      <th>dataset1</th>\n",
       "      <th>dataset2</th>\n",
       "    </tr>\n",
       "  </thead>\n",
       "  <tbody>\n",
       "    <tr>\n",
       "      <th>4</th>\n",
       "      <td>Z</td>\n",
       "      <td>alpha</td>\n",
       "      <td>-0.157</td>\n",
       "      <td>1.50264</td>\n",
       "    </tr>\n",
       "  </tbody>\n",
       "</table>\n",
       "</div>"
      ],
      "text/plain": [
       "  k1     k2  dataset1  dataset2\n",
       "4  Z  alpha    -0.157   1.50264"
      ]
     },
     "execution_count": 26,
     "metadata": {},
     "output_type": "execute_result"
    }
   ],
   "source": [
    "group_dict['Z']"
   ]
  },
  {
   "cell_type": "code",
   "execution_count": 27,
   "metadata": {
    "collapsed": true
   },
   "outputs": [],
   "source": [
    "# We could have also chosen to do this with axis = 1\n",
    "group_dict_axis1 = dict(list(df.groupby(df.dtypes,axis=1)))"
   ]
  },
  {
   "cell_type": "code",
   "execution_count": 28,
   "metadata": {},
   "outputs": [
    {
     "data": {
      "text/plain": [
       "{dtype('float64'):    dataset1  dataset2\n",
       " 0  1.615926 -0.716651\n",
       " 1 -2.090121 -2.950341\n",
       " 2  0.272635 -0.606586\n",
       " 3 -0.086821  0.724526\n",
       " 4 -0.157000  1.502640, dtype('O'):   k1     k2\n",
       " 0  X  alpha\n",
       " 1  X   beta\n",
       " 2  Y  alpha\n",
       " 3  Y   beta\n",
       " 4  Z  alpha}"
      ]
     },
     "execution_count": 28,
     "metadata": {},
     "output_type": "execute_result"
    }
   ],
   "source": [
    "group_dict_axis1"
   ]
  },
  {
   "cell_type": "code",
   "execution_count": null,
   "metadata": {
    "collapsed": true
   },
   "outputs": [],
   "source": []
  }
 ],
 "metadata": {
  "kernelspec": {
   "display_name": "Python 3",
   "language": "python",
   "name": "python3"
  },
  "language_info": {
   "codemirror_mode": {
    "name": "ipython",
    "version": 3
   },
   "file_extension": ".py",
   "mimetype": "text/x-python",
   "name": "python",
   "nbconvert_exporter": "python",
   "pygments_lexer": "ipython3",
   "version": "3.6.3"
  }
 },
 "nbformat": 4,
 "nbformat_minor": 2
}
