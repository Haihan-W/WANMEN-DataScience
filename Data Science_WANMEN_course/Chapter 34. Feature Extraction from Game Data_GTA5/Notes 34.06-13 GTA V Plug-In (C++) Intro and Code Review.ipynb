{
 "cells": [
  {
   "cell_type": "markdown",
   "metadata": {},
   "source": [
    "# GTA V Plug In Intro (34.06)"
   ]
  },
  {
   "cell_type": "markdown",
   "metadata": {},
   "source": [
    "Why do we need Plug In?\n",
    "- 1. Some data is not easy to fetch from game by only snapshoting the game image and keyboard action (34.01-05)\n",
    "- 2. Those data needs to be extracted using some third party plug in (i.e. .asi, .cpp, .DLL)\n",
    "\n",
    "https://www.dev-c.com/gtav/scripthookv/\n",
    "\n",
    "http://www.dev-c.com/nativedb/"
   ]
  },
  {
   "cell_type": "markdown",
   "metadata": {},
   "source": [
    "What data do we fetch using Plug In?\n",
    "- Example: Velocity data of driving car, ..."
   ]
  },
  {
   "cell_type": "markdown",
   "metadata": {},
   "source": [
    "What Plug In do we need?\n",
    "- Course demonstrated some plug in examples: e.g. main.h, main.cpp, script.cpp, ... (but not in detail)\n",
    "- location: .\\DeepGTAV folder\n",
    "- open method: can be opened in MS Visual Studio, by right click folder name above, and open in VS\n"
   ]
  },
  {
   "cell_type": "code",
   "execution_count": null,
   "metadata": {},
   "outputs": [],
   "source": []
  },
  {
   "cell_type": "markdown",
   "metadata": {},
   "source": [
    "# C++ Review (34.07-08)"
   ]
  },
  {
   "cell_type": "markdown",
   "metadata": {},
   "source": [
    "Why do we need C++?\n",
    "- those plug in are written in C++"
   ]
  },
  {
   "cell_type": "markdown",
   "metadata": {},
   "source": [
    "How to view C++ file?\n",
    "- C++ file can be opened/edited in MS Visual Studio"
   ]
  },
  {
   "cell_type": "markdown",
   "metadata": {},
   "source": [
    "C++ Biggest difference from Python?\n",
    "- Python is dynamic\n",
    "- C++ is static, variable is defined based on pointer to memory space\n",
    "- C++ is preferred than Python when developer wants to control memory space precisely"
   ]
  },
  {
   "cell_type": "code",
   "execution_count": null,
   "metadata": {},
   "outputs": [],
   "source": []
  },
  {
   "cell_type": "markdown",
   "metadata": {},
   "source": [
    "# Code Review - DeepGTAV PlugIn (34.09-11)"
   ]
  },
  {
   "cell_type": "markdown",
   "metadata": {},
   "source": [
    "location: .\\DeepGTAV folder\n",
    "\n",
    "open method: can be opened in MS Visual Studio, by right click folder name above, and open in VS\n",
    "\n",
    "please note: This plugin can not only fetch data from game, but also can set some parameters (e.g. time, weather) in game"
   ]
  },
  {
   "cell_type": "code",
   "execution_count": null,
   "metadata": {},
   "outputs": [],
   "source": []
  },
  {
   "cell_type": "markdown",
   "metadata": {},
   "source": [
    "# Data Receiver - Using python to receive the data fetched from plugin while running the game (34.12-13)"
   ]
  },
  {
   "cell_type": "markdown",
   "metadata": {},
   "source": [
    "Location: .\\daldrive\n",
    "\n",
    "Prep Work: \n",
    "1. download GTA V\n",
    "2. put DeepGTA V Plugin (some files from .\\DeepGTAV folder, did not demo in details) into GTA V Game folder\n",
    "    - before that, in course demo, some parameters in plugin needs to be modified depending on version of Game\n",
    "3. Run GTA V game\n",
    "\n",
    "Receive Data to Python:\n",
    "1. Using Anaconda Prompt, run daldrive.py file"
   ]
  },
  {
   "cell_type": "code",
   "execution_count": null,
   "metadata": {},
   "outputs": [],
   "source": []
  }
 ],
 "metadata": {
  "kernelspec": {
   "display_name": "Python [conda env:py37wanmen]",
   "language": "python",
   "name": "conda-env-py37wanmen-py"
  },
  "language_info": {
   "codemirror_mode": {
    "name": "ipython",
    "version": 3
   },
   "file_extension": ".py",
   "mimetype": "text/x-python",
   "name": "python",
   "nbconvert_exporter": "python",
   "pygments_lexer": "ipython3",
   "version": "3.7.5"
  }
 },
 "nbformat": 4,
 "nbformat_minor": 2
}
