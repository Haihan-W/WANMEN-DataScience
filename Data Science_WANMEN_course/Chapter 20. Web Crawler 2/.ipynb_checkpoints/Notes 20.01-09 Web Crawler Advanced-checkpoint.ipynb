{
 "cells": [
  {
   "cell_type": "code",
   "execution_count": 1,
   "metadata": {
    "collapsed": true,
    "run_control": {
     "frozen": false,
     "read_only": false
    }
   },
   "outputs": [],
   "source": [
    "import os"
   ]
  },
  {
   "cell_type": "code",
   "execution_count": 2,
   "metadata": {
    "run_control": {
     "frozen": false,
     "read_only": false
    }
   },
   "outputs": [
    {
     "data": {
      "text/plain": [
       "38"
      ]
     },
     "execution_count": 2,
     "metadata": {},
     "output_type": "execute_result"
    }
   ],
   "source": [
    "text = '''\\\n",
    "First line\n",
    "Second line\n",
    "Third line\n",
    "End\n",
    "'''\n",
    "\n",
    "len(text)"
   ]
  },
  {
   "cell_type": "code",
   "execution_count": 3,
   "metadata": {
    "run_control": {
     "frozen": false,
     "read_only": false
    }
   },
   "outputs": [
    {
     "name": "stdout",
     "output_type": "stream",
     "text": [
      "return value of write() = 38\n"
     ]
    }
   ],
   "source": [
    "fout = open('tmp1', 'wt')\n",
    "ret = fout.write(text)\n",
    "print('return value of write() =', ret)\n",
    "fout.close()"
   ]
  },
  {
   "cell_type": "code",
   "execution_count": 4,
   "metadata": {
    "collapsed": true,
    "run_control": {
     "frozen": false,
     "read_only": false
    }
   },
   "outputs": [],
   "source": [
    "fout = open('tmp2', 'w')\n",
    "print(text, file=fout)\n",
    "fout.close()"
   ]
  },
  {
   "cell_type": "code",
   "execution_count": 5,
   "metadata": {
    "collapsed": true,
    "run_control": {
     "frozen": false,
     "read_only": false
    }
   },
   "outputs": [],
   "source": [
    "zen_of_py = '''\\\n",
    "The Zen of Python, by Tim Peters\n",
    "\n",
    "Beautiful is better than ugly.\n",
    "Explicit is better than implicit.\n",
    "Simple is better than complex.\n",
    "Complex is better than complicated.\n",
    "Flat is better than nested.\n",
    "Sparse is better than dense.\n",
    "Readability counts.\n",
    "Special cases aren't special enough to break the rules.\n",
    "Although practicality beats purity.\n",
    "Errors should never pass silently.\n",
    "Unless explicitly silenced.\n",
    "In the face of ambiguity, refuse the temptation to guess.\n",
    "There should be one-- and preferably only one --obvious way to do it.\n",
    "Although that way may not be obvious at first unless you're Dutch.\n",
    "Now is better than never.\n",
    "Although never is often better than *right* now.\n",
    "If the implementation is hard to explain, it's a bad idea.\n",
    "If the implementation is easy to explain, it may be a good idea.\n",
    "Namespaces are one honking great idea -- let's do more of those!\n",
    "'''"
   ]
  },
  {
   "cell_type": "code",
   "execution_count": 6,
   "metadata": {
    "collapsed": true,
    "run_control": {
     "frozen": false,
     "read_only": false
    }
   },
   "outputs": [],
   "source": [
    "fout = open('zen_of_py', 'w')\n",
    "size = len(zen_of_py)\n",
    "offset = 0\n",
    "chunk = 100\n",
    "\n",
    "while offset < size:\n",
    "    fout.write(zen_of_py[offset : offset+chunk])\n",
    "    offset += chunk\n",
    "\n",
    "fout.close()"
   ]
  },
  {
   "cell_type": "code",
   "execution_count": 7,
   "metadata": {
    "run_control": {
     "frozen": false,
     "read_only": false
    }
   },
   "outputs": [
    {
     "name": "stdout",
     "output_type": "stream",
     "text": [
      "First line\n",
      "Second line\n",
      "Third line\n",
      "End\n",
      "\n"
     ]
    }
   ],
   "source": [
    "fin = open('tmp1', 'rt')\n",
    "text = fin.read()\n",
    "fin.close()\n",
    "print(text)"
   ]
  },
  {
   "cell_type": "code",
   "execution_count": 8,
   "metadata": {
    "run_control": {
     "frozen": false,
     "read_only": false
    }
   },
   "outputs": [
    {
     "name": "stdout",
     "output_type": "stream",
     "text": [
      "The Zen of Python, by Tim Peters\n",
      "\n",
      "Beautiful is better than ugly.\n",
      "Explicit is better than implicit.\n",
      "Simple is better than complex.\n",
      "Complex is better than complicated.\n",
      "Flat is better than nested.\n",
      "Sparse is better than dense.\n",
      "Readability counts.\n",
      "Special cases aren't special enough to break the rules.\n",
      "Although practicality beats purity.\n",
      "Errors should never pass silently.\n",
      "Unless explicitly silenced.\n",
      "In the face of ambiguity, refuse the temptation to guess.\n",
      "There should be one-- and preferably only one --obvious way to do it.\n",
      "Although that way may not be obvious at first unless you're Dutch.\n",
      "Now is better than never.\n",
      "Although never is often better than *right* now.\n",
      "If the implementation is hard to explain, it's a bad idea.\n",
      "If the implementation is easy to explain, it may be a good idea.\n",
      "Namespaces are one honking great idea -- let's do more of those!\n",
      "\n"
     ]
    }
   ],
   "source": [
    "zen_of_py = ''\n",
    "fin = open('zen_of_py', 'r')\n",
    "chunk = 100\n",
    "\n",
    "while True:\n",
    "    fragment = fin.read(chunk)\n",
    "    if not fragment:\n",
    "        break\n",
    "    zen_of_py += fragment\n",
    "\n",
    "fin.close()\n",
    "print(zen_of_py)"
   ]
  },
  {
   "cell_type": "code",
   "execution_count": 9,
   "metadata": {
    "run_control": {
     "frozen": false,
     "read_only": false
    }
   },
   "outputs": [
    {
     "name": "stdout",
     "output_type": "stream",
     "text": [
      "First line\n",
      "Second line\n",
      "Third line\n",
      "End\n"
     ]
    }
   ],
   "source": [
    "fin = open('tmp1', 'r')\n",
    "\n",
    "while True:\n",
    "    line = fin.readline()\n",
    "    if not line:\n",
    "        break\n",
    "    print(line, end='')\n",
    "\n",
    "fin.close()"
   ]
  },
  {
   "cell_type": "markdown",
   "metadata": {
    "run_control": {
     "frozen": false,
     "read_only": false
    }
   },
   "source": [
    "### Write Binary File\n",
    "binary file: data stored as binary mode, i.e. 0 or 1\n",
    "- open(filename, 'wb') #writable-binary file mode"
   ]
  },
  {
   "cell_type": "code",
   "execution_count": 10,
   "metadata": {
    "run_control": {
     "frozen": false,
     "read_only": false
    }
   },
   "outputs": [
    {
     "data": {
      "text/plain": [
       "256"
      ]
     },
     "execution_count": 10,
     "metadata": {},
     "output_type": "execute_result"
    }
   ],
   "source": [
    "bdata = bytes(range(256))\n",
    "len(bdata)"
   ]
  },
  {
   "cell_type": "code",
   "execution_count": 11,
   "metadata": {
    "collapsed": true
   },
   "outputs": [],
   "source": [
    "open?"
   ]
  },
  {
   "cell_type": "code",
   "execution_count": 11,
   "metadata": {
    "run_control": {
     "frozen": false,
     "read_only": false
    }
   },
   "outputs": [
    {
     "name": "stdout",
     "output_type": "stream",
     "text": [
      "Write 256 bytes\n"
     ]
    }
   ],
   "source": [
    "fout = open('bfile', 'wb')\n",
    "ret = fout.write(bdata)\n",
    "fout.close()\n",
    "print('Write %d bytes' % ret)"
   ]
  },
  {
   "cell_type": "code",
   "execution_count": 12,
   "metadata": {
    "run_control": {
     "frozen": false,
     "read_only": false
    }
   },
   "outputs": [
    {
     "name": "stdout",
     "output_type": "stream",
     "text": [
      "100\n",
      "100\n",
      "56\n"
     ]
    }
   ],
   "source": [
    "fout = open('bfile', 'wb')\n",
    "size = len(bdata)\n",
    "offset = 0\n",
    "chunk = 100\n",
    "\n",
    "while offset < size:\n",
    "    ret = fout.write(bdata[offset : offset+chunk])\n",
    "    print(ret)\n",
    "    offset += chunk\n",
    "\n",
    "fout.close()"
   ]
  },
  {
   "cell_type": "markdown",
   "metadata": {
    "run_control": {
     "frozen": false,
     "read_only": false
    }
   },
   "source": [
    "### Read Binary File"
   ]
  },
  {
   "cell_type": "markdown",
   "metadata": {},
   "source": [
    "- open(filename, 'rb') #readable-binary file mode"
   ]
  },
  {
   "cell_type": "code",
   "execution_count": 13,
   "metadata": {
    "run_control": {
     "frozen": false,
     "read_only": false
    }
   },
   "outputs": [
    {
     "data": {
      "text/plain": [
       "256"
      ]
     },
     "execution_count": 13,
     "metadata": {},
     "output_type": "execute_result"
    }
   ],
   "source": [
    "fin = open('bfile', 'rb')\n",
    "bdata = fin.read()\n",
    "fin.close()\n",
    "len(bdata)"
   ]
  },
  {
   "cell_type": "code",
   "execution_count": 14,
   "metadata": {
    "run_control": {
     "frozen": false,
     "read_only": false
    }
   },
   "outputs": [
    {
     "data": {
      "text/plain": [
       "True"
      ]
     },
     "execution_count": 14,
     "metadata": {},
     "output_type": "execute_result"
    }
   ],
   "source": [
    "os.path.exists('tmp1')"
   ]
  },
  {
   "cell_type": "code",
   "execution_count": 15,
   "metadata": {
    "run_control": {
     "frozen": false,
     "read_only": false
    }
   },
   "outputs": [
    {
     "data": {
      "text/plain": [
       "['.DS_Store',\n",
       " '.ipynb_checkpoints',\n",
       " 'aiocrawler.py',\n",
       " 'bfile',\n",
       " 'danmu',\n",
       " 'Page Rank.ipynb',\n",
       " 'preview_3216790-1.mp4',\n",
       " 'Python System .ipynb',\n",
       " 'settings.py',\n",
       " 'tmp',\n",
       " 'tmp2',\n",
       " 'zen_of_py',\n",
       " '正则.pptx',\n",
       " '正则case.ipynb',\n",
       " '正则表达式 Regular Expression.ipynb',\n",
       " '爬虫进阶.ipynb',\n",
       " '真-爬虫~.ipynb']"
      ]
     },
     "execution_count": 15,
     "metadata": {},
     "output_type": "execute_result"
    }
   ],
   "source": [
    "os.rename('tmp1', 'tmp')\n",
    "os.listdir('.')"
   ]
  },
  {
   "cell_type": "code",
   "execution_count": 16,
   "metadata": {
    "run_control": {
     "frozen": false,
     "read_only": false
    }
   },
   "outputs": [
    {
     "data": {
      "text/plain": [
       "['.DS_Store',\n",
       " '.ipynb_checkpoints',\n",
       " 'aiocrawler.py',\n",
       " 'danmu',\n",
       " 'Page Rank.ipynb',\n",
       " 'preview_3216790-1.mp4',\n",
       " 'Python System .ipynb',\n",
       " 'settings.py',\n",
       " 'tmp',\n",
       " 'tmp2',\n",
       " 'zen_of_py',\n",
       " '正则.pptx',\n",
       " '正则case.ipynb',\n",
       " '正则表达式 Regular Expression.ipynb',\n",
       " '爬虫进阶.ipynb',\n",
       " '真-爬虫~.ipynb']"
      ]
     },
     "execution_count": 16,
     "metadata": {},
     "output_type": "execute_result"
    }
   ],
   "source": [
    "os.remove('bfile')\n",
    "os.listdir('.')"
   ]
  },
  {
   "cell_type": "code",
   "execution_count": 17,
   "metadata": {
    "run_control": {
     "frozen": false,
     "read_only": false
    }
   },
   "outputs": [
    {
     "data": {
      "text/plain": [
       "['.DS_Store',\n",
       " '.ipynb_checkpoints',\n",
       " 'aiocrawler.py',\n",
       " 'danmu',\n",
       " 'Page Rank.ipynb',\n",
       " 'preview_3216790-1.mp4',\n",
       " 'Python System .ipynb',\n",
       " 'settings.py',\n",
       " 'tmp',\n",
       " 'tmp2',\n",
       " 'untitled',\n",
       " 'zen_of_py',\n",
       " '正则.pptx',\n",
       " '正则case.ipynb',\n",
       " '正则表达式 Regular Expression.ipynb',\n",
       " '爬虫进阶.ipynb',\n",
       " '真-爬虫~.ipynb']"
      ]
     },
     "execution_count": 17,
     "metadata": {},
     "output_type": "execute_result"
    }
   ],
   "source": [
    "os.mkdir('untitled')\n",
    "os.listdir('.')"
   ]
  },
  {
   "cell_type": "code",
   "execution_count": 18,
   "metadata": {
    "run_control": {
     "frozen": false,
     "read_only": false
    }
   },
   "outputs": [
    {
     "data": {
      "text/plain": [
       "False"
      ]
     },
     "execution_count": 18,
     "metadata": {},
     "output_type": "execute_result"
    }
   ],
   "source": [
    "os.rmdir('untitled')\n",
    "os.path.exists('untitled')"
   ]
  },
  {
   "cell_type": "code",
   "execution_count": 19,
   "metadata": {
    "run_control": {
     "frozen": false,
     "read_only": false
    }
   },
   "outputs": [
    {
     "name": "stdout",
     "output_type": "stream",
     "text": [
      "['.DS_Store', '20180115 python', '20180115 python.zip', '20180123 HTTP ', '20180124 BS4 Reg ', '20180127 SQL', '20180131 Interaction WIn', '20180208 Cloud Deep Learning', '学了python之后.pptx']\n"
     ]
    }
   ],
   "source": [
    "os.chdir('..')\n",
    "print(os.listdir('.'))"
   ]
  },
  {
   "cell_type": "markdown",
   "metadata": {
    "run_control": {
     "frozen": false,
     "read_only": false
    }
   },
   "source": [
    "### List Matching with `glob()`\n",
    "\n",
    "The `glob()` function matches the file or directory names by using Unix shell rules rather than the more complete regular expression.\n",
    "\n",
    "- `*` matches everything\n",
    "- `?` matches a single character\n",
    "- `[abc]` matches a character `a`, `b` or `c`\n",
    "- `[!abc]` matches any character except `a`, `b`, or `c`"
   ]
  },
  {
   "cell_type": "code",
   "execution_count": 20,
   "metadata": {
    "run_control": {
     "frozen": false,
     "read_only": false
    }
   },
   "outputs": [
    {
     "data": {
      "text/plain": [
       "[]"
      ]
     },
     "execution_count": 20,
     "metadata": {},
     "output_type": "execute_result"
    }
   ],
   "source": [
    "import glob\n",
    "\n",
    "glob.glob('T*')"
   ]
  },
  {
   "cell_type": "code",
   "execution_count": 21,
   "metadata": {
    "run_control": {
     "frozen": false,
     "read_only": false
    }
   },
   "outputs": [
    {
     "data": {
      "text/plain": [
       "[]"
      ]
     },
     "execution_count": 21,
     "metadata": {},
     "output_type": "execute_result"
    }
   ],
   "source": [
    "glob.glob('???')"
   ]
  },
  {
   "cell_type": "code",
   "execution_count": 22,
   "metadata": {
    "run_control": {
     "frozen": false,
     "read_only": false
    }
   },
   "outputs": [
    {
     "data": {
      "text/plain": [
       "[]"
      ]
     },
     "execution_count": 22,
     "metadata": {},
     "output_type": "execute_result"
    }
   ],
   "source": [
    "glob.glob('??3')"
   ]
  },
  {
   "cell_type": "code",
   "execution_count": 23,
   "metadata": {
    "run_control": {
     "frozen": false,
     "read_only": false
    }
   },
   "outputs": [
    {
     "data": {
      "text/plain": [
       "['20180123 HTTP ', '20180124 BS4 Reg ']"
      ]
     },
     "execution_count": 23,
     "metadata": {},
     "output_type": "execute_result"
    }
   ],
   "source": [
    "glob.glob('*[1, 2]')"
   ]
  },
  {
   "cell_type": "markdown",
   "metadata": {
    "run_control": {
     "frozen": false,
     "read_only": false
    }
   },
   "source": [
    "### 静态文件获取"
   ]
  },
  {
   "cell_type": "code",
   "execution_count": null,
   "metadata": {
    "collapsed": true,
    "run_control": {
     "frozen": false,
     "read_only": false
    }
   },
   "outputs": [],
   "source": [
    "new_header={\n",
    "    \"Referer\":\"https://m.bilibili.com/bangumi/play/ep30477\",\n",
    "    \"User-Agent\":\"Mozilla/5.0 (iPhone; CPU iPhone OS 9_1 like Mac OS X) AppleWebKit/601.1.46 (KHTML, like Gecko) Version/9.0 Mobile/13B143 Safari/601.1\"\n",
    "}"
   ]
  },
  {
   "cell_type": "markdown",
   "metadata": {},
   "source": [
    "If know url, can use urlparse toolkit to extract some information"
   ]
  },
  {
   "cell_type": "code",
   "execution_count": 6,
   "metadata": {
    "collapsed": true,
    "run_control": {
     "frozen": false,
     "read_only": false
    }
   },
   "outputs": [],
   "source": [
    "from urllib.parse import urlparse\n",
    "import os"
   ]
  },
  {
   "cell_type": "code",
   "execution_count": 7,
   "metadata": {
    "collapsed": true,
    "run_control": {
     "frozen": false,
     "read_only": false
    }
   },
   "outputs": [],
   "source": [
    "video_url = \"https://cn-sdjn-cu-v-08.acgvideo.com/vg4/7/7f/preview_3216790-1.mp4?expires=1516731300&platform=html5&ssig=KY3sRzWFxNhBPwtRyb8vOA&oi=1928746530&stime=0&etime=360&nfa=NGfvvIo5GhqGtvFOjtpZ/g==&dynamic=1&hfa=2018788179&hfb=M2Y2ZWYwZjM2YmRiYmY5MDljYTBiOWE2ZmEwYjJmYTM=\""
   ]
  },
  {
   "cell_type": "code",
   "execution_count": 9,
   "metadata": {
    "run_control": {
     "frozen": false,
     "read_only": false
    }
   },
   "outputs": [
    {
     "name": "stdout",
     "output_type": "stream",
     "text": [
      "ParseResult(scheme='https', netloc='cn-sdjn-cu-v-08.acgvideo.com', path='/vg4/7/7f/preview_3216790-1.mp4', params='', query='expires=1516731300&platform=html5&ssig=KY3sRzWFxNhBPwtRyb8vOA&oi=1928746530&stime=0&etime=360&nfa=NGfvvIo5GhqGtvFOjtpZ/g==&dynamic=1&hfa=2018788179&hfb=M2Y2ZWYwZjM2YmRiYmY5MDljYTBiOWE2ZmEwYjJmYTM=', fragment='')\n"
     ]
    }
   ],
   "source": [
    "parsed_url = urlparse(video_url)\n",
    "\n",
    "print (parsed_url)"
   ]
  },
  {
   "cell_type": "code",
   "execution_count": 10,
   "metadata": {},
   "outputs": [
    {
     "name": "stdout",
     "output_type": "stream",
     "text": [
      "/vg4/7/7f/preview_3216790-1\n",
      ".mp4\n"
     ]
    }
   ],
   "source": [
    "remote_file, remote_extension = os.path.splitext(parsed_url.path)\n",
    "print(remote_file) #extracted filepath from url\n",
    "print(remote_extension) #extracted file extension"
   ]
  },
  {
   "cell_type": "markdown",
   "metadata": {},
   "source": [
    "To summarize the above-- how to download a file(e.g. stream video) directly using web crawler"
   ]
  },
  {
   "cell_type": "code",
   "execution_count": 117,
   "metadata": {
    "collapsed": true,
    "run_control": {
     "frozen": false,
     "read_only": false
    }
   },
   "outputs": [],
   "source": [
    "def download_file(url): #note: this url is the actual url linked to stream video address, not the video webpage address.\n",
    "    # this url needs to be obtained using some digging into the HTML,API,... of the webpage when streaming the video\n",
    "    import requests\n",
    "    import os\n",
    "    parsed_url = urlparse(url)\n",
    "    remote_file, remote_extension = os.path.splitext(parsed_url.path)    \n",
    "    file_names= os.path.split(remote_file)\n",
    "    if file_names:\n",
    "        local_filename = file_names[1]+remote_extension\n",
    "\n",
    "        # NOTE the stream=True parameter\n",
    "        # header is to bypass some anti-webcrawler programs in webpage\n",
    "        header={\n",
    "        \"Referer\":\"https://m.bilibili.com/bangumi/play/ep30477\",\n",
    "        \"User-Agent\":\"Mozilla/5.0 (iPhone; CPU iPhone OS 9_1 like Mac OS X) AppleWebKit/601.1.46 (KHTML, like Gecko) Version/9.0 Mobile/13B143 Safari/601.1\"\n",
    "    }\n",
    "        r = requests.get(url,header,stream=True)\n",
    "        r.raise_for_status()\n",
    "        with open(local_filename, 'wb') as f:\n",
    "            for chunk in r.iter_content(chunk_size=1024): #use chunk is just like stream video, download a large file piece by piece\n",
    "                if chunk: # filter out keep-alive new chunks\n",
    "                    f.write(chunk)\n",
    "                    f.flush() \n",
    "        return local_filename\n",
    "    return None"
   ]
  },
  {
   "cell_type": "code",
   "execution_count": 118,
   "metadata": {
    "run_control": {
     "frozen": false,
     "read_only": false
    }
   },
   "outputs": [
    {
     "data": {
      "text/plain": [
       "'preview_3216790-1.mp4'"
      ]
     },
     "execution_count": 118,
     "metadata": {},
     "output_type": "execute_result"
    }
   ],
   "source": [
    "download_file(video_url)"
   ]
  },
  {
   "cell_type": "markdown",
   "metadata": {
    "run_control": {
     "frozen": false,
     "read_only": false
    }
   },
   "source": [
    "## 认证(authentication)+授权(authorization)\n",
    "-log in from a webpage -> get some authorization"
   ]
  },
  {
   "cell_type": "code",
   "execution_count": 25,
   "metadata": {
    "collapsed": true,
    "run_control": {
     "frozen": false,
     "read_only": false
    }
   },
   "outputs": [],
   "source": [
    "import requests"
   ]
  },
  {
   "cell_type": "markdown",
   "metadata": {
    "run_control": {
     "frozen": false,
     "read_only": false
    }
   },
   "source": [
    "### Cookie-based webpage design\n",
    "- in cookie-based webpage, after user logged in, there is a cookie/cookies generated and stored in your local host(PC)\n",
    "- Then when user did some other request after log in, cookie will be carried along with the requests. So server can tell this request is from a user who logged in\n",
    "- Cookie will have some features to expire after some time, or to be invalid after changing IP, etc. to enhance the security\n",
    "- Example cookie can be found by -- inspect-> application--> cookies"
   ]
  },
  {
   "cell_type": "code",
   "execution_count": null,
   "metadata": {
    "collapsed": true,
    "run_control": {
     "frozen": false,
     "read_only": false
    }
   },
   "outputs": [],
   "source": [
    "url = 'http://i.baidu.com/'\n",
    "cookies = {\"BDUSS\":\"3pnTHRKYWRHY2RNTHZZY2p1amFYeE11MGsycnR5RVc0YmdQcWM5bmpSczI3bzVhQVFBQUFBJCQAAAAAAAAAAAEAAACLQycMenNzcGt4AAAAAAAAAAAAAAAAAAAAAAAAAAAAAAAAAAAAAAAAAAAAAAAAAAAAAAAAAAAAAAAAAAAAAAAAAAAAADZhZ1o2YWdaU\"}\n",
    "r = requests.get(url, cookies=cookies)\n",
    "r.text"
   ]
  },
  {
   "cell_type": "markdown",
   "metadata": {
    "run_control": {
     "frozen": false,
     "read_only": false
    }
   },
   "source": [
    "Cookies are returned in a RequestsCookieJar, which acts like a dict but also offers a more complete interface, suitable for use over multiple domains or paths. Cookie jars can also be passed in to requests:"
   ]
  },
  {
   "cell_type": "code",
   "execution_count": 105,
   "metadata": {
    "collapsed": true,
    "run_control": {
     "frozen": false,
     "read_only": false
    }
   },
   "outputs": [],
   "source": [
    "r = requests.get(\"http://i.baidu.com/\")"
   ]
  },
  {
   "cell_type": "code",
   "execution_count": null,
   "metadata": {
    "collapsed": true,
    "run_control": {
     "frozen": false,
     "read_only": false
    }
   },
   "outputs": [],
   "source": [
    "r.text"
   ]
  },
  {
   "cell_type": "code",
   "execution_count": 12,
   "metadata": {
    "collapsed": true,
    "run_control": {
     "frozen": false,
     "read_only": false
    }
   },
   "outputs": [],
   "source": [
    "?jar.set"
   ]
  },
  {
   "cell_type": "code",
   "execution_count": null,
   "metadata": {
    "collapsed": true,
    "run_control": {
     "frozen": false,
     "read_only": false
    }
   },
   "outputs": [],
   "source": [
    "url = 'http://i.baidu.com/'\n",
    "jar = requests.cookies.RequestsCookieJar()\n",
    "jar.set('BDUSS', '3pnTHRKYWRHY2RNTHZZY2p1amFYeE11MGsycnR5RVc0YmdQcWM5bmpSczI3bzVhQVFBQUFBJCQAAAAAAAAAAAEAAACLQycMenNzcGt4AAAAAAAAAAAAAAAAAAAAAAAAAAAAAAAAAAAAAAAAAAAAAAAAAAAAAAAAAAAAAAAAAAAAAAAAAAAAADZhZ1o2YWdaU', domain='.baidu.com', path='/')\n",
    "r = requests.get(url, cookies=jar)\n",
    "r.text"
   ]
  },
  {
   "cell_type": "code",
   "execution_count": 113,
   "metadata": {
    "run_control": {
     "frozen": false,
     "read_only": false
    }
   },
   "outputs": [
    {
     "data": {
      "text/plain": [
       "<Response [200]>"
      ]
     },
     "execution_count": 113,
     "metadata": {},
     "output_type": "execute_result"
    }
   ],
   "source": [
    "requests.get('http://github.com', timeout=1)"
   ]
  },
  {
   "cell_type": "markdown",
   "metadata": {
    "run_control": {
     "frozen": false,
     "read_only": false
    }
   },
   "source": [
    "## Tokend-based webpage design\n",
    "- The general concept behind a token-based authentication system is simple. Allow users to enter their username and password in order to obtain a token which allows them to fetch a specific resource - without using their username and password. Once their token has been obtained, the user can offer the token - which offers access to a specific resource for a time period - to the remote site.\n",
    "\n",
    "- In other words: add one level of indirection for authentication -- instead of having to authenticate with username and password for each protected resource, the user authenticates that way once (within a session of limited duration), obtains a time-limited token in return, and uses that token for further authentication during the session.\n",
    "\n",
    "- Advantages are many -- e.g., the user could pass the token, once they've obtained it, on to some other automated system which they're willing to trust for a limited time and a limited set of resources, but would not be willing to trust with their username and password (i.e., with every resource they're allowed to access, forevermore or at least until they change their password).\n",
    "- E.g. Third party authentication, log in to baiduyun program using QQ"
   ]
  },
  {
   "cell_type": "code",
   "execution_count": 5,
   "metadata": {
    "collapsed": true,
    "run_control": {
     "frozen": false,
     "read_only": false
    }
   },
   "outputs": [],
   "source": [
    "r = requests.get('https://api.weibo.com/2/statuses/public_timeline.json?access_token=2.00d25mWB2vuYWC2cdf2f60c76qgGZC')"
   ]
  },
  {
   "cell_type": "code",
   "execution_count": 7,
   "metadata": {
    "run_control": {
     "frozen": false,
     "read_only": false
    }
   },
   "outputs": [
    {
     "data": {
      "text/plain": [
       "{'hasvisible': False,\n",
       " 'interval': 0,\n",
       " 'next_cursor': 0,\n",
       " 'previous_cursor': 0,\n",
       " 'statuses': [{'annotations': [{'client_mblogid': 'iPhone-AF7C44CB-E3C8-499F-B06A-1A3D395E4232'},\n",
       "    {'mapi_request': True}],\n",
       "   'attitudes_count': 0,\n",
       "   'biz_feature': 4294967300,\n",
       "   'bmiddle_pic': 'http://wx4.sinaimg.cn/bmiddle/6d69a448gy1fmld6061gtj20qo0qojue.jpg',\n",
       "   'can_edit': False,\n",
       "   'comment_manage_info': {'approval_comment_type': 0,\n",
       "    'comment_permission_type': -1},\n",
       "   'comments_count': 0,\n",
       "   'created_at': 'Tue Dec 19 00:00:21 +0800 2017',\n",
       "   'darwin_tags': [],\n",
       "   'favorited': False,\n",
       "   'geo': None,\n",
       "   'gif_ids': '',\n",
       "   'hasActionTypeCard': 0,\n",
       "   'hot_weibo_tags': [],\n",
       "   'id': 4186457961211038,\n",
       "   'idstr': '4186457961211038',\n",
       "   'in_reply_to_screen_name': '',\n",
       "   'in_reply_to_status_id': '',\n",
       "   'in_reply_to_user_id': '',\n",
       "   'isLongText': False,\n",
       "   'is_paid': False,\n",
       "   'is_show_bulletin': 2,\n",
       "   'mblog_vip_type': 0,\n",
       "   'mid': '4186457961211038',\n",
       "   'mlevel': 0,\n",
       "   'more_info_type': 0,\n",
       "   'original_pic': 'http://wx4.sinaimg.cn/large/6d69a448gy1fmld6061gtj20qo0qojue.jpg',\n",
       "   'pending_approval_count': 0,\n",
       "   'pic_urls': [{'thumbnail_pic': 'http://wx4.sinaimg.cn/thumbnail/6d69a448gy1fmld6061gtj20qo0qojue.jpg'}],\n",
       "   'positive_recom_flag': 0,\n",
       "   'reposts_count': 0,\n",
       "   'source': '<a href=\"http://weibo.com/\" rel=\"nofollow\">iPhone客户端</a>',\n",
       "   'source_allowclick': 0,\n",
       "   'source_type': 2,\n",
       "   'text': '如果不能做使你开心快乐的事情的时候， 就和死亡无异了。\\n那我希望我们都能做自己喜欢的事情，永远不会走向死亡那条路。 \\u200b',\n",
       "   'textLength': 112,\n",
       "   'text_tag_tips': [],\n",
       "   'thumbnail_pic': 'http://wx4.sinaimg.cn/thumbnail/6d69a448gy1fmld6061gtj20qo0qojue.jpg',\n",
       "   'truncated': False,\n",
       "   'user': {'allow_all_act_msg': False,\n",
       "    'allow_all_comment': False,\n",
       "    'avatar_hd': 'http://tvax3.sinaimg.cn/crop.0.15.750.750.1024/6d69a448ly8ffn8667xe7j20ku0lpq44.jpg',\n",
       "    'avatar_large': 'http://tvax3.sinaimg.cn/crop.0.15.750.750.180/6d69a448ly8ffn8667xe7j20ku0lpq44.jpg',\n",
       "    'bi_followers_count': 85,\n",
       "    'block_app': 0,\n",
       "    'block_word': 0,\n",
       "    'city': '1000',\n",
       "    'class': 1,\n",
       "    'cover_image_phone': 'http://ww1.sinaimg.cn/crop.0.0.640.640.640/6cf8d7ebjw1ehfr4xa8psj20hs0hsgpg.jpg',\n",
       "    'created_at': 'Thu Sep 30 06:12:57 +0800 2010',\n",
       "    'credit_score': 80,\n",
       "    'description': '似乎大家都是这样，自命不凡，却无足轻重。',\n",
       "    'domain': '',\n",
       "    'favourites_count': 903,\n",
       "    'follow_me': False,\n",
       "    'followers_count': 376,\n",
       "    'following': False,\n",
       "    'friends_count': 283,\n",
       "    'gender': 'f',\n",
       "    'geo_enabled': True,\n",
       "    'id': 1835639880,\n",
       "    'idstr': '1835639880',\n",
       "    'insecurity': {'sexual_content': False},\n",
       "    'lang': 'zh-cn',\n",
       "    'like': False,\n",
       "    'like_me': False,\n",
       "    'location': '湖南',\n",
       "    'mbrank': 0,\n",
       "    'mbtype': 0,\n",
       "    'name': '紫蛋君',\n",
       "    'online_status': 0,\n",
       "    'pagefriends_count': 0,\n",
       "    'profile_image_url': 'http://tvax3.sinaimg.cn/crop.0.15.750.750.50/6d69a448ly8ffn8667xe7j20ku0lpq44.jpg',\n",
       "    'profile_url': '333123536',\n",
       "    'province': '43',\n",
       "    'ptype': 0,\n",
       "    'remark': '',\n",
       "    'screen_name': '紫蛋君',\n",
       "    'star': 0,\n",
       "    'statuses_count': 10523,\n",
       "    'story_read_state': -1,\n",
       "    'urank': 30,\n",
       "    'url': '',\n",
       "    'user_ability': 0,\n",
       "    'vclub_member': 0,\n",
       "    'verified': False,\n",
       "    'verified_reason': '',\n",
       "    'verified_reason_url': '',\n",
       "    'verified_source': '',\n",
       "    'verified_source_url': '',\n",
       "    'verified_trade': '',\n",
       "    'verified_type': -1,\n",
       "    'weihao': '333123536'},\n",
       "   'userType': 0,\n",
       "   'visible': {'list_id': 0, 'type': 0}},\n",
       "  {'annotations': [{'client_mblogid': 'iPhone-F710153E-16AF-459B-80A1-44DF7B2769BB',\n",
       "     'shooting': 1},\n",
       "    {'mapi_request': True}],\n",
       "   'attitudes_count': 1,\n",
       "   'biz_feature': 4294967304,\n",
       "   'biz_ids': [230444],\n",
       "   'can_edit': False,\n",
       "   'cardid': 'star_314',\n",
       "   'comment_manage_info': {'approval_comment_type': 0,\n",
       "    'comment_permission_type': -1},\n",
       "   'comments_count': 0,\n",
       "   'created_at': 'Tue Dec 19 00:00:20 +0800 2017',\n",
       "   'darwin_tags': [],\n",
       "   'favorited': False,\n",
       "   'geo': None,\n",
       "   'gif_ids': '',\n",
       "   'hasActionTypeCard': 0,\n",
       "   'hot_weibo_tags': [],\n",
       "   'id': 4186457961206488,\n",
       "   'idstr': '4186457961206488',\n",
       "   'in_reply_to_screen_name': '',\n",
       "   'in_reply_to_status_id': '',\n",
       "   'in_reply_to_user_id': '',\n",
       "   'isLongText': False,\n",
       "   'is_paid': False,\n",
       "   'is_show_bulletin': 2,\n",
       "   'mblog_vip_type': 0,\n",
       "   'mid': '4186457961206488',\n",
       "   'mlevel': 0,\n",
       "   'more_info_type': 0,\n",
       "   'pending_approval_count': 0,\n",
       "   'pic_urls': [],\n",
       "   'positive_recom_flag': 0,\n",
       "   'reposts_count': 1,\n",
       "   'source': '<a href=\"http://weibo.com/\" rel=\"nofollow\">兰色回忆的iPhone(玫瑰金)</a>',\n",
       "   'source_allowclick': 0,\n",
       "   'source_type': 2,\n",
       "   'text': '【提高学习效率的9个最佳技巧】大部分人对于如何学习并没有正确的认识，导致效率低下，浪费时间。这9个学习技巧，能帮助你极大提升学习效率。 http://t.cn/RTYCTq9 \\u200b',\n",
       "   'textLength': 152,\n",
       "   'text_tag_tips': [],\n",
       "   'truncated': False,\n",
       "   'user': {'allow_all_act_msg': False,\n",
       "    'allow_all_comment': True,\n",
       "    'avatar_hd': 'http://tvax3.sinaimg.cn/crop.0.0.749.749.1024/006Bzvvsly8fho7y0jwoij30ku0ktq5b.jpg',\n",
       "    'avatar_large': 'http://tvax3.sinaimg.cn/crop.0.0.749.749.180/006Bzvvsly8fho7y0jwoij30ku0ktq5b.jpg',\n",
       "    'avatargj_id': 'gj_vip_019',\n",
       "    'bi_followers_count': 380,\n",
       "    'block_app': 1,\n",
       "    'block_word': 0,\n",
       "    'cardid': 'star_525',\n",
       "    'city': '12',\n",
       "    'class': 1,\n",
       "    'cover_image_phone': 'http://wx3.sinaimg.cn/crop.0.0.640.640.640/6f85c641ly1fm5yzi885uj20hs0hs3zb.jpg',\n",
       "    'created_at': 'Tue Oct 25 19:46:17 +0800 2016',\n",
       "    'credit_score': 80,\n",
       "    'description': '分享生活点滴、情感故事、快乐回忆',\n",
       "    'domain': '',\n",
       "    'favourites_count': 11,\n",
       "    'follow_me': False,\n",
       "    'followers_count': 557,\n",
       "    'following': False,\n",
       "    'friends_count': 622,\n",
       "    'gender': 'm',\n",
       "    'geo_enabled': True,\n",
       "    'id': 6051984018,\n",
       "    'idstr': '6051984018',\n",
       "    'insecurity': {'sexual_content': False},\n",
       "    'lang': 'zh-cn',\n",
       "    'like': False,\n",
       "    'like_me': False,\n",
       "    'location': '上海 闵行区',\n",
       "    'mbrank': 4,\n",
       "    'mbtype': 12,\n",
       "    'name': '兰色的回忆',\n",
       "    'online_status': 0,\n",
       "    'pagefriends_count': 18,\n",
       "    'profile_image_url': 'http://tvax3.sinaimg.cn/crop.0.0.749.749.50/006Bzvvsly8fho7y0jwoij30ku0ktq5b.jpg',\n",
       "    'profile_url': 'u/6051984018',\n",
       "    'province': '31',\n",
       "    'ptype': 0,\n",
       "    'remark': '',\n",
       "    'screen_name': '兰色的回忆',\n",
       "    'star': 0,\n",
       "    'statuses_count': 652,\n",
       "    'story_read_state': -1,\n",
       "    'urank': 19,\n",
       "    'url': '',\n",
       "    'user_ability': 0,\n",
       "    'vclub_member': 0,\n",
       "    'verified': False,\n",
       "    'verified_reason': '',\n",
       "    'verified_reason_url': '',\n",
       "    'verified_source': '',\n",
       "    'verified_source_url': '',\n",
       "    'verified_trade': '',\n",
       "    'verified_type': -1,\n",
       "    'weihao': ''},\n",
       "   'userType': 0,\n",
       "   'visible': {'list_id': 0, 'type': 0}},\n",
       "  {'annotations': [{'client_mblogid': 'iPhone-FF00B554-09F4-4501-89F3-D871DDAD49E8'},\n",
       "    {'mapi_request': True}],\n",
       "   'attitudes_count': 2,\n",
       "   'biz_feature': 4294967300,\n",
       "   'bmiddle_pic': 'http://wx3.sinaimg.cn/bmiddle/b36346ccly1fmld109lehj20qo0x0tf3.jpg',\n",
       "   'can_edit': False,\n",
       "   'comment_manage_info': {'approval_comment_type': 0,\n",
       "    'comment_permission_type': -1},\n",
       "   'comments_count': 4,\n",
       "   'created_at': 'Tue Dec 19 00:00:21 +0800 2017',\n",
       "   'darwin_tags': [],\n",
       "   'favorited': False,\n",
       "   'geo': None,\n",
       "   'gif_ids': '',\n",
       "   'hasActionTypeCard': 0,\n",
       "   'hot_weibo_tags': [],\n",
       "   'id': 4186457961113176,\n",
       "   'idstr': '4186457961113176',\n",
       "   'in_reply_to_screen_name': '',\n",
       "   'in_reply_to_status_id': '',\n",
       "   'in_reply_to_user_id': '',\n",
       "   'isLongText': False,\n",
       "   'is_paid': False,\n",
       "   'is_show_bulletin': 2,\n",
       "   'mblog_vip_type': 0,\n",
       "   'mid': '4186457961113176',\n",
       "   'mlevel': 0,\n",
       "   'more_info_type': 0,\n",
       "   'original_pic': 'http://wx3.sinaimg.cn/large/b36346ccly1fmld109lehj20qo0x0tf3.jpg',\n",
       "   'pending_approval_count': 0,\n",
       "   'pic_urls': [{'thumbnail_pic': 'http://wx3.sinaimg.cn/thumbnail/b36346ccly1fmld109lehj20qo0x0tf3.jpg'},\n",
       "    {'thumbnail_pic': 'http://wx1.sinaimg.cn/thumbnail/b36346ccly1fmld111wqoj20ku112n0m.jpg'}],\n",
       "   'positive_recom_flag': 0,\n",
       "   'reposts_count': 0,\n",
       "   'source': '<a href=\"http://weibo.com/\" rel=\"nofollow\">iPhone客户端</a>',\n",
       "   'source_allowclick': 0,\n",
       "   'source_type': 2,\n",
       "   'text': '以后再也不想跑那么偏来换驾照了[二哈]\\nPS:不管多大，在父母眼中你永远都是个孩子\\n只是现在妈妈紧张到那么冷穿着睡衣就出门等我一趟趟地望[悲伤] \\u200b',\n",
       "   'textLength': 135,\n",
       "   'text_tag_tips': [],\n",
       "   'thumbnail_pic': 'http://wx3.sinaimg.cn/thumbnail/b36346ccly1fmld109lehj20qo0x0tf3.jpg',\n",
       "   'truncated': False,\n",
       "   'user': {'allow_all_act_msg': False,\n",
       "    'allow_all_comment': True,\n",
       "    'avatar_hd': 'http://tva1.sinaimg.cn/crop.0.11.640.640.1024/b36346ccjw8f68stiaducj20hs0iet9t.jpg',\n",
       "    'avatar_large': 'http://tva1.sinaimg.cn/crop.0.11.640.640.180/b36346ccjw8f68stiaducj20hs0iet9t.jpg',\n",
       "    'avatargj_id': 'gj_vip_034',\n",
       "    'bi_followers_count': 67,\n",
       "    'block_app': 0,\n",
       "    'block_word': 0,\n",
       "    'cardid': 'star_015',\n",
       "    'city': '5',\n",
       "    'class': 1,\n",
       "    'cover_image_phone': 'http://ww3.sinaimg.cn/crop.0.0.640.640.640/a1d3feabjw1eca1ktsx9tj20hs0hsjtk.jpg',\n",
       "    'created_at': 'Thu Nov 22 21:25:12 +0800 2012',\n",
       "    'credit_score': 80,\n",
       "    'description': '静谧 那份纯白 ❤Yuki Furukawa',\n",
       "    'domain': '',\n",
       "    'favourites_count': 100,\n",
       "    'follow_me': False,\n",
       "    'followers_count': 405,\n",
       "    'following': False,\n",
       "    'friends_count': 128,\n",
       "    'gender': 'f',\n",
       "    'geo_enabled': True,\n",
       "    'id': 3009627852,\n",
       "    'idstr': '3009627852',\n",
       "    'insecurity': {'sexual_content': False},\n",
       "    'lang': 'zh-cn',\n",
       "    'like': False,\n",
       "    'like_me': False,\n",
       "    'location': '北京 朝阳区',\n",
       "    'mbrank': 0,\n",
       "    'mbtype': 0,\n",
       "    'name': '筱沫Lena',\n",
       "    'online_status': 0,\n",
       "    'pagefriends_count': 0,\n",
       "    'profile_image_url': 'http://tva1.sinaimg.cn/crop.0.11.640.640.50/b36346ccjw8f68stiaducj20hs0iet9t.jpg',\n",
       "    'profile_url': 'u/3009627852',\n",
       "    'province': '11',\n",
       "    'ptype': 0,\n",
       "    'remark': '',\n",
       "    'screen_name': '筱沫Lena',\n",
       "    'star': 0,\n",
       "    'statuses_count': 276,\n",
       "    'story_read_state': -1,\n",
       "    'urank': 30,\n",
       "    'url': 'http://weibo.com/u/3009627852',\n",
       "    'user_ability': 512,\n",
       "    'vclub_member': 0,\n",
       "    'verified': False,\n",
       "    'verified_reason': '',\n",
       "    'verified_reason_url': '',\n",
       "    'verified_source': '',\n",
       "    'verified_source_url': '',\n",
       "    'verified_trade': '',\n",
       "    'verified_type': 220,\n",
       "    'weihao': ''},\n",
       "   'userType': 0,\n",
       "   'visible': {'list_id': 0, 'type': 0}},\n",
       "  {'annotations': [{'client_mblogid': 'iPhone-E7A871FE-1A95-401F-8263-52833268ECF9'},\n",
       "    {'mapi_request': True}],\n",
       "   'attitudes_count': 0,\n",
       "   'biz_feature': 4294967300,\n",
       "   'biz_ids': [0],\n",
       "   'bmiddle_pic': 'http://wx1.sinaimg.cn/bmiddle/0071HikIgy1fmld5zkm8vj302s01vq2q.jpg',\n",
       "   'can_edit': False,\n",
       "   'comment_manage_info': {'approval_comment_type': 0,\n",
       "    'comment_permission_type': -1},\n",
       "   'comments_count': 0,\n",
       "   'created_at': 'Tue Dec 19 00:00:20 +0800 2017',\n",
       "   'darwin_tags': [],\n",
       "   'favorited': False,\n",
       "   'geo': None,\n",
       "   'gif_ids': '',\n",
       "   'hasActionTypeCard': 0,\n",
       "   'hot_weibo_tags': [],\n",
       "   'id': 4186457961107231,\n",
       "   'idstr': '4186457961107231',\n",
       "   'in_reply_to_screen_name': '',\n",
       "   'in_reply_to_status_id': '',\n",
       "   'in_reply_to_user_id': '',\n",
       "   'isLongText': False,\n",
       "   'is_paid': False,\n",
       "   'is_show_bulletin': 2,\n",
       "   'mblog_vip_type': 0,\n",
       "   'mid': '4186457961107231',\n",
       "   'mlevel': 0,\n",
       "   'more_info_type': 0,\n",
       "   'original_pic': 'http://wx1.sinaimg.cn/large/0071HikIgy1fmld5zkm8vj302s01vq2q.jpg',\n",
       "   'pending_approval_count': 0,\n",
       "   'pic_urls': [{'thumbnail_pic': 'http://wx1.sinaimg.cn/thumbnail/0071HikIgy1fmld5zkm8vj302s01vq2q.jpg'}],\n",
       "   'positive_recom_flag': 0,\n",
       "   'reposts_count': 0,\n",
       "   'source': '<a href=\"http://weibo.com/\" rel=\"nofollow\">iPhone客户端</a>',\n",
       "   'source_allowclick': 0,\n",
       "   'source_type': 2,\n",
       "   'text': '鸿坤理想湾 新吴区-鸿山版块 价格待定http://t.cn/RTHGy57 \\u200b',\n",
       "   'textLength': 54,\n",
       "   'text_tag_tips': [],\n",
       "   'thumbnail_pic': 'http://wx1.sinaimg.cn/thumbnail/0071HikIgy1fmld5zkm8vj302s01vq2q.jpg',\n",
       "   'truncated': False,\n",
       "   'user': {'allow_all_act_msg': False,\n",
       "    'allow_all_comment': True,\n",
       "    'avatar_hd': 'http://tvax1.sinaimg.cn/default/images/default_avatar_female_180.gif',\n",
       "    'avatar_large': 'http://tvax1.sinaimg.cn/default/images/default_avatar_female_180.gif',\n",
       "    'bi_followers_count': 0,\n",
       "    'block_app': 0,\n",
       "    'block_word': 0,\n",
       "    'city': '2',\n",
       "    'class': 1,\n",
       "    'created_at': 'Mon Dec 18 17:59:51 +0800 2017',\n",
       "    'credit_score': 80,\n",
       "    'description': '',\n",
       "    'domain': '',\n",
       "    'favourites_count': 0,\n",
       "    'follow_me': False,\n",
       "    'followers_count': 2,\n",
       "    'following': False,\n",
       "    'friends_count': 30,\n",
       "    'gender': 'f',\n",
       "    'geo_enabled': True,\n",
       "    'id': 6438024740,\n",
       "    'idstr': '6438024740',\n",
       "    'insecurity': {'sexual_content': False},\n",
       "    'lang': 'zh-cn',\n",
       "    'like': False,\n",
       "    'like_me': False,\n",
       "    'location': '江苏 无锡',\n",
       "    'mbrank': 0,\n",
       "    'mbtype': 0,\n",
       "    'name': '马仔又又123321',\n",
       "    'online_status': 0,\n",
       "    'pagefriends_count': 0,\n",
       "    'profile_image_url': 'http://tvax1.sinaimg.cn/default/images/default_avatar_female_50.gif',\n",
       "    'profile_url': 'u/6438024740',\n",
       "    'province': '32',\n",
       "    'ptype': 0,\n",
       "    'remark': '',\n",
       "    'screen_name': '马仔又又123321',\n",
       "    'star': 0,\n",
       "    'statuses_count': 70,\n",
       "    'story_read_state': -1,\n",
       "    'urank': 2,\n",
       "    'url': '',\n",
       "    'user_ability': 0,\n",
       "    'vclub_member': 0,\n",
       "    'verified': False,\n",
       "    'verified_reason': '',\n",
       "    'verified_reason_url': '',\n",
       "    'verified_source': '',\n",
       "    'verified_source_url': '',\n",
       "    'verified_trade': '',\n",
       "    'verified_type': -1,\n",
       "    'weihao': ''},\n",
       "   'userType': 0,\n",
       "   'visible': {'list_id': 0, 'type': 0}},\n",
       "  {'annotations': [{'client_mblogid': 'iPhone-0F5B4F22-D0D9-410B-AE82-CD607AEB1282'},\n",
       "    {'mapi_request': True}],\n",
       "   'attitudes_count': 2,\n",
       "   'biz_feature': 4294967300,\n",
       "   'bmiddle_pic': 'http://wx1.sinaimg.cn/bmiddle/73073bbagy1fmld5fv46hj20u00ez0v1.jpg',\n",
       "   'can_edit': False,\n",
       "   'comment_manage_info': {'approval_comment_type': 0,\n",
       "    'comment_permission_type': -1},\n",
       "   'comments_count': 0,\n",
       "   'created_at': 'Tue Dec 19 00:00:21 +0800 2017',\n",
       "   'darwin_tags': [],\n",
       "   'favorited': False,\n",
       "   'geo': None,\n",
       "   'gif_ids': '',\n",
       "   'hasActionTypeCard': 0,\n",
       "   'hot_weibo_tags': [],\n",
       "   'id': 4186457960854360,\n",
       "   'idstr': '4186457960854360',\n",
       "   'in_reply_to_screen_name': '',\n",
       "   'in_reply_to_status_id': '',\n",
       "   'in_reply_to_user_id': '',\n",
       "   'isLongText': False,\n",
       "   'is_paid': False,\n",
       "   'is_show_bulletin': 2,\n",
       "   'mblog_vip_type': 0,\n",
       "   'mid': '4186457960854360',\n",
       "   'mlevel': 0,\n",
       "   'more_info_type': 0,\n",
       "   'original_pic': 'http://wx1.sinaimg.cn/large/73073bbagy1fmld5fv46hj20u00ez0v1.jpg',\n",
       "   'pending_approval_count': 0,\n",
       "   'pic_urls': [{'thumbnail_pic': 'http://wx1.sinaimg.cn/thumbnail/73073bbagy1fmld5fv46hj20u00ez0v1.jpg'}],\n",
       "   'positive_recom_flag': 0,\n",
       "   'reposts_count': 0,\n",
       "   'source': '<a href=\"http://weibo.com/\" rel=\"nofollow\">iPhone客户端</a>',\n",
       "   'source_allowclick': 0,\n",
       "   'source_type': 2,\n",
       "   'text': '每天的微博 频繁的刷动 人事的变化真的太多太多 珍惜眼前人 珍惜身边每一个爱你的人 \\u200b',\n",
       "   'textLength': 78,\n",
       "   'text_tag_tips': [],\n",
       "   'thumbnail_pic': 'http://wx1.sinaimg.cn/thumbnail/73073bbagy1fmld5fv46hj20u00ez0v1.jpg',\n",
       "   'truncated': False,\n",
       "   'user': {'allow_all_act_msg': False,\n",
       "    'allow_all_comment': True,\n",
       "    'avatar_hd': 'http://tvax4.sinaimg.cn/crop.0.0.960.960.1024/73073bbaly8fkcbxknb2bj20qo0qo0uc.jpg',\n",
       "    'avatar_large': 'http://tvax4.sinaimg.cn/crop.0.0.960.960.180/73073bbaly8fkcbxknb2bj20qo0qo0uc.jpg',\n",
       "    'bi_followers_count': 138,\n",
       "    'block_app': 0,\n",
       "    'block_word': 0,\n",
       "    'city': '19',\n",
       "    'class': 1,\n",
       "    'cover_image_phone': 'http://ww3.sinaimg.cn/crop.0.0.640.640/6ce2240djw1e9uwsjwemzj20hs0hs41z.jpg',\n",
       "    'created_at': 'Sun Feb 13 20:03:31 +0800 2011',\n",
       "    'credit_score': 80,\n",
       "    'description': '没什么好介绍',\n",
       "    'domain': '',\n",
       "    'favourites_count': 82,\n",
       "    'follow_me': False,\n",
       "    'followers_count': 331,\n",
       "    'following': False,\n",
       "    'friends_count': 304,\n",
       "    'gender': 'f',\n",
       "    'geo_enabled': True,\n",
       "    'id': 1929853882,\n",
       "    'idstr': '1929853882',\n",
       "    'insecurity': {'sexual_content': False},\n",
       "    'lang': 'zh-cn',\n",
       "    'like': False,\n",
       "    'like_me': False,\n",
       "    'location': '广东 东莞',\n",
       "    'mbrank': 0,\n",
       "    'mbtype': 0,\n",
       "    'name': '陳呀陳泳如',\n",
       "    'online_status': 0,\n",
       "    'pagefriends_count': 0,\n",
       "    'profile_image_url': 'http://tvax4.sinaimg.cn/crop.0.0.960.960.50/73073bbaly8fkcbxknb2bj20qo0qo0uc.jpg',\n",
       "    'profile_url': 'u/1929853882',\n",
       "    'province': '44',\n",
       "    'ptype': 0,\n",
       "    'remark': '',\n",
       "    'screen_name': '陳呀陳泳如',\n",
       "    'star': 0,\n",
       "    'statuses_count': 31,\n",
       "    'story_read_state': -1,\n",
       "    'urank': 22,\n",
       "    'url': '',\n",
       "    'user_ability': 1024,\n",
       "    'vclub_member': 0,\n",
       "    'verified': False,\n",
       "    'verified_reason': '',\n",
       "    'verified_reason_url': '',\n",
       "    'verified_source': '',\n",
       "    'verified_source_url': '',\n",
       "    'verified_trade': '',\n",
       "    'verified_type': 220,\n",
       "    'weihao': ''},\n",
       "   'userType': 0,\n",
       "   'visible': {'list_id': 0, 'type': 0}},\n",
       "  {'annotations': [{'client_mblogid': '9c666f60-f5d8-4ab8-b181-052329b5b299'},\n",
       "    {'mapi_request': True}],\n",
       "   'attitudes_count': 0,\n",
       "   'biz_feature': 4294967300,\n",
       "   'bmiddle_pic': 'http://wx4.sinaimg.cn/bmiddle/006tGv1Ggy1fmld5y7x55j306o0bu0so.jpg',\n",
       "   'can_edit': False,\n",
       "   'comment_manage_info': {'approval_comment_type': 0,\n",
       "    'comment_permission_type': -1},\n",
       "   'comments_count': 0,\n",
       "   'created_at': 'Tue Dec 19 00:00:21 +0800 2017',\n",
       "   'darwin_tags': [],\n",
       "   'favorited': False,\n",
       "   'geo': None,\n",
       "   'gif_ids': '',\n",
       "   'hasActionTypeCard': 0,\n",
       "   'hot_weibo_tags': [],\n",
       "   'id': 4186457960851979,\n",
       "   'idstr': '4186457960851979',\n",
       "   'in_reply_to_screen_name': '',\n",
       "   'in_reply_to_status_id': '',\n",
       "   'in_reply_to_user_id': '',\n",
       "   'isLongText': False,\n",
       "   'is_paid': False,\n",
       "   'is_show_bulletin': 2,\n",
       "   'mblog_vip_type': 0,\n",
       "   'mid': '4186457960851979',\n",
       "   'mlevel': 0,\n",
       "   'more_info_type': 0,\n",
       "   'original_pic': 'http://wx4.sinaimg.cn/large/006tGv1Ggy1fmld5y7x55j306o0bu0so.jpg',\n",
       "   'pending_approval_count': 0,\n",
       "   'pic_urls': [{'thumbnail_pic': 'http://wx4.sinaimg.cn/thumbnail/006tGv1Ggy1fmld5y7x55j306o0bu0so.jpg'}],\n",
       "   'positive_recom_flag': 0,\n",
       "   'reposts_count': 0,\n",
       "   'source': '<a href=\"http://app.weibo.com/t/feed/2iwiZ4\" rel=\"nofollow\">内涵段子APP</a>',\n",
       "   'source_allowclick': 0,\n",
       "   'source_type': 1,\n",
       "   'text': '悄悄告诉你我想了你一整天。 晚安 😘 内涵段子 http://t.cn/RTQXzQh \\u200b',\n",
       "   'textLength': 65,\n",
       "   'text_tag_tips': [],\n",
       "   'thumbnail_pic': 'http://wx4.sinaimg.cn/thumbnail/006tGv1Ggy1fmld5y7x55j306o0bu0so.jpg',\n",
       "   'truncated': False,\n",
       "   'user': {'allow_all_act_msg': False,\n",
       "    'allow_all_comment': True,\n",
       "    'avatar_hd': 'http://tvax3.sinaimg.cn/crop.0.0.996.996.1024/006tGv1Gly8flae3ax5mcj30ro0ro0t9.jpg',\n",
       "    'avatar_large': 'http://tvax3.sinaimg.cn/crop.0.0.996.996.180/006tGv1Gly8flae3ax5mcj30ro0ro0t9.jpg',\n",
       "    'bi_followers_count': 1,\n",
       "    'block_app': 0,\n",
       "    'block_word': 0,\n",
       "    'city': '1000',\n",
       "    'class': 1,\n",
       "    'created_at': 'Wed May 18 11:03:45 +0800 2016',\n",
       "    'credit_score': 80,\n",
       "    'description': '',\n",
       "    'domain': '',\n",
       "    'favourites_count': 1,\n",
       "    'follow_me': False,\n",
       "    'followers_count': 68,\n",
       "    'following': False,\n",
       "    'friends_count': 47,\n",
       "    'gender': 'm',\n",
       "    'geo_enabled': True,\n",
       "    'id': 5935439780,\n",
       "    'idstr': '5935439780',\n",
       "    'insecurity': {'sexual_content': False},\n",
       "    'lang': 'zh-cn',\n",
       "    'like': False,\n",
       "    'like_me': False,\n",
       "    'location': '湖南',\n",
       "    'mbrank': 1,\n",
       "    'mbtype': 2,\n",
       "    'name': '纳闷安静',\n",
       "    'online_status': 0,\n",
       "    'pagefriends_count': 0,\n",
       "    'profile_image_url': 'http://tvax3.sinaimg.cn/crop.0.0.996.996.50/006tGv1Gly8flae3ax5mcj30ro0ro0t9.jpg',\n",
       "    'profile_url': 'u/5935439780',\n",
       "    'province': '43',\n",
       "    'ptype': 0,\n",
       "    'remark': '',\n",
       "    'screen_name': '纳闷安静',\n",
       "    'star': 0,\n",
       "    'statuses_count': 30,\n",
       "    'story_read_state': -1,\n",
       "    'urank': 9,\n",
       "    'url': '',\n",
       "    'user_ability': 1024,\n",
       "    'vclub_member': 0,\n",
       "    'verified': False,\n",
       "    'verified_reason': '',\n",
       "    'verified_reason_url': '',\n",
       "    'verified_source': '',\n",
       "    'verified_source_url': '',\n",
       "    'verified_trade': '',\n",
       "    'verified_type': -1,\n",
       "    'weihao': ''},\n",
       "   'userType': 0,\n",
       "   'visible': {'list_id': 0, 'type': 0}},\n",
       "  {'attitudes_count': 0,\n",
       "   'biz_feature': 0,\n",
       "   'biz_ids': [100165],\n",
       "   'can_edit': False,\n",
       "   'comment_manage_info': {'approval_comment_type': 0,\n",
       "    'comment_permission_type': -1},\n",
       "   'comments_count': 0,\n",
       "   'created_at': 'Tue Dec 19 00:00:20 +0800 2017',\n",
       "   'darwin_tags': [],\n",
       "   'favorited': False,\n",
       "   'geo': None,\n",
       "   'gif_ids': '',\n",
       "   'hasActionTypeCard': 0,\n",
       "   'hot_weibo_tags': [],\n",
       "   'id': 4186457960850024,\n",
       "   'idstr': '4186457960850024',\n",
       "   'in_reply_to_screen_name': '',\n",
       "   'in_reply_to_status_id': '',\n",
       "   'in_reply_to_user_id': '',\n",
       "   'isLongText': False,\n",
       "   'is_paid': False,\n",
       "   'is_show_bulletin': 2,\n",
       "   'mblog_vip_type': 0,\n",
       "   'mid': '4186457960850024',\n",
       "   'mlevel': 0,\n",
       "   'more_info_type': 0,\n",
       "   'page_type': 32,\n",
       "   'pending_approval_count': 0,\n",
       "   'pic_urls': [],\n",
       "   'positive_recom_flag': 0,\n",
       "   'reposts_count': 0,\n",
       "   'source': '<a href=\"http://app.weibo.com/t/feed/4AbAFV\" rel=\"nofollow\">微话题</a>',\n",
       "   'source_allowclick': 0,\n",
       "   'source_type': 1,\n",
       "   'text': '我在2017#微博King和Queen#活动中，通过#刘涛#超级话题签到为刘涛拉了10票！谁将登上微博King&Queen的宝座，你最看好谁？猛戳 http://t.cn/RTMSls0，支持你的爱豆！ http://t.cn/RTIR1fL \\u200b',\n",
       "   'textLength': 173,\n",
       "   'text_tag_tips': [],\n",
       "   'truncated': False,\n",
       "   'user': {'allow_all_act_msg': False,\n",
       "    'allow_all_comment': True,\n",
       "    'avatar_hd': 'http://tvax2.sinaimg.cn/default/images/default_avatar_female_180.gif',\n",
       "    'avatar_large': 'http://tvax2.sinaimg.cn/default/images/default_avatar_female_180.gif',\n",
       "    'bi_followers_count': 2,\n",
       "    'block_app': 0,\n",
       "    'block_word': 0,\n",
       "    'city': '1000',\n",
       "    'class': 1,\n",
       "    'cover_image_phone': 'http://ww1.sinaimg.cn/crop.0.0.640.640.640/549d0121tw1egm1kjly3jj20hs0hsq4f.jpg',\n",
       "    'created_at': 'Wed Jul 13 22:45:57 +0800 2016',\n",
       "    'credit_score': 80,\n",
       "    'description': '',\n",
       "    'domain': '',\n",
       "    'favourites_count': 46,\n",
       "    'follow_me': False,\n",
       "    'followers_count': 12,\n",
       "    'following': False,\n",
       "    'friends_count': 61,\n",
       "    'gender': 'f',\n",
       "    'geo_enabled': True,\n",
       "    'id': 5984139361,\n",
       "    'idstr': '5984139361',\n",
       "    'insecurity': {'sexual_content': False},\n",
       "    'lang': 'zh-cn',\n",
       "    'like': False,\n",
       "    'like_me': False,\n",
       "    'location': '其他',\n",
       "    'mbrank': 1,\n",
       "    'mbtype': 2,\n",
       "    'name': 'MayYuek',\n",
       "    'online_status': 0,\n",
       "    'pagefriends_count': 4,\n",
       "    'profile_image_url': 'http://tvax2.sinaimg.cn/default/images/default_avatar_female_50.gif',\n",
       "    'profile_url': 'u/5984139361',\n",
       "    'province': '100',\n",
       "    'ptype': 0,\n",
       "    'remark': '',\n",
       "    'screen_name': 'MayYuek',\n",
       "    'star': 0,\n",
       "    'statuses_count': 197,\n",
       "    'story_read_state': -1,\n",
       "    'urank': 4,\n",
       "    'url': '',\n",
       "    'user_ability': 33554432,\n",
       "    'vclub_member': 0,\n",
       "    'verified': False,\n",
       "    'verified_reason': '',\n",
       "    'verified_reason_url': '',\n",
       "    'verified_source': '',\n",
       "    'verified_source_url': '',\n",
       "    'verified_trade': '',\n",
       "    'verified_type': -1,\n",
       "    'weihao': ''},\n",
       "   'userType': 0,\n",
       "   'visible': {'list_id': 0, 'type': 0}},\n",
       "  {'attitudes_count': 0,\n",
       "   'biz_feature': 0,\n",
       "   'bmiddle_pic': 'http://wx2.sinaimg.cn/bmiddle/9222e8b6gy1fml7w7285qj20m80m8dhp.jpg',\n",
       "   'can_edit': False,\n",
       "   'cardid': 'star_005',\n",
       "   'comment_manage_info': {'approval_comment_type': 0,\n",
       "    'comment_permission_type': -1},\n",
       "   'comments_count': 1,\n",
       "   'created_at': 'Tue Dec 19 00:00:21 +0800 2017',\n",
       "   'darwin_tags': [],\n",
       "   'favorited': False,\n",
       "   'geo': None,\n",
       "   'gif_ids': '',\n",
       "   'hasActionTypeCard': 0,\n",
       "   'hot_weibo_tags': [],\n",
       "   'id': 4186457960538451,\n",
       "   'idstr': '4186457960538451',\n",
       "   'in_reply_to_screen_name': '',\n",
       "   'in_reply_to_status_id': '',\n",
       "   'in_reply_to_user_id': '',\n",
       "   'isLongText': False,\n",
       "   'is_paid': False,\n",
       "   'is_show_bulletin': 2,\n",
       "   'mblog_vip_type': 0,\n",
       "   'mid': '4186457960538451',\n",
       "   'mlevel': 0,\n",
       "   'more_info_type': 0,\n",
       "   'original_pic': 'http://wx2.sinaimg.cn/large/9222e8b6gy1fml7w7285qj20m80m8dhp.jpg',\n",
       "   'pending_approval_count': 0,\n",
       "   'pic_urls': [{'thumbnail_pic': 'http://wx2.sinaimg.cn/thumbnail/9222e8b6gy1fml7w7285qj20m80m8dhp.jpg'},\n",
       "    {'thumbnail_pic': 'http://wx2.sinaimg.cn/thumbnail/9222e8b6gy1fml7w6ye70j20b40b40ti.jpg'},\n",
       "    {'thumbnail_pic': 'http://wx4.sinaimg.cn/thumbnail/9222e8b6gy1fml7w72k36j20rs0rs0x0.jpg'},\n",
       "    {'thumbnail_pic': 'http://wx1.sinaimg.cn/thumbnail/9222e8b6gy1fml7w73eivj20m80m8mz3.jpg'},\n",
       "    {'thumbnail_pic': 'http://wx3.sinaimg.cn/thumbnail/9222e8b6gy1fml7w6zfiuj20by0bydgw.jpg'},\n",
       "    {'thumbnail_pic': 'http://wx2.sinaimg.cn/thumbnail/9222e8b6gy1fml7w726pbj20m80m8dhb.jpg'},\n",
       "    {'thumbnail_pic': 'http://wx2.sinaimg.cn/thumbnail/9222e8b6gy1fml7w7791xj20m80m8tbi.jpg'},\n",
       "    {'thumbnail_pic': 'http://wx2.sinaimg.cn/thumbnail/9222e8b6gy1fml7w7daomj20m80m841s.jpg'},\n",
       "    {'thumbnail_pic': 'http://wx1.sinaimg.cn/thumbnail/9222e8b6gy1fml7w77rrbj20m80m8gml.jpg'}],\n",
       "   'positive_recom_flag': 0,\n",
       "   'reposts_count': 0,\n",
       "   'source': '<a href=\"http://app.weibo.com/t/feed/6vtZb0\" rel=\"nofollow\">微博 weibo.com</a>',\n",
       "   'source_allowclick': 0,\n",
       "   'source_type': 1,\n",
       "   'text': '冬季穿搭，日常单品推荐，她客毛呢阔腿裤九分裤，面料成分，粘纤66.7% 聚酯纤维29.1%，氨纶4.2%，面料摸起来手感很好，很厚实，上身效果很好，和衬衣毛衣搭配，感觉很时尚，喜欢的小伙伴可以试下，领券更优惠哦~ \\u200b',\n",
       "   'textLength': 196,\n",
       "   'text_tag_tips': [],\n",
       "   'thumbnail_pic': 'http://wx2.sinaimg.cn/thumbnail/9222e8b6gy1fml7w7285qj20m80m8dhp.jpg',\n",
       "   'truncated': False,\n",
       "   'user': {'allow_all_act_msg': True,\n",
       "    'allow_all_comment': True,\n",
       "    'avatar_hd': 'http://tva4.sinaimg.cn/crop.0.0.180.180.1024/9222e8b6jw8ev8cuqb3d8j2050050wes.jpg',\n",
       "    'avatar_large': 'http://tva4.sinaimg.cn/crop.0.0.180.180.180/9222e8b6jw8ev8cuqb3d8j2050050wes.jpg',\n",
       "    'bi_followers_count': 89,\n",
       "    'block_app': 1,\n",
       "    'block_word': 0,\n",
       "    'cardid': 'star_005',\n",
       "    'city': '1',\n",
       "    'class': 1,\n",
       "    'created_at': 'Fri Oct 07 23:33:58 +0800 2011',\n",
       "    'credit_score': 78,\n",
       "    'description': '属于女人的衣柜，总有用到的时候！',\n",
       "    'domain': '',\n",
       "    'favourites_count': 2,\n",
       "    'follow_me': False,\n",
       "    'followers_count': 134371,\n",
       "    'following': False,\n",
       "    'friends_count': 178,\n",
       "    'gender': 'f',\n",
       "    'geo_enabled': True,\n",
       "    'has_service_tel': False,\n",
       "    'id': 2451761334,\n",
       "    'idstr': '2451761334',\n",
       "    'insecurity': {'sexual_content': False},\n",
       "    'lang': 'zh-cn',\n",
       "    'like': False,\n",
       "    'like_me': False,\n",
       "    'location': '广东 广州',\n",
       "    'mbrank': 5,\n",
       "    'mbtype': 11,\n",
       "    'name': '女人时尚搭配',\n",
       "    'online_status': 0,\n",
       "    'pagefriends_count': 14,\n",
       "    'profile_image_url': 'http://tva4.sinaimg.cn/crop.0.0.180.180.50/9222e8b6jw8ev8cuqb3d8j2050050wes.jpg',\n",
       "    'profile_url': 'u/2451761334',\n",
       "    'province': '44',\n",
       "    'ptype': 0,\n",
       "    'remark': '',\n",
       "    'screen_name': '女人时尚搭配',\n",
       "    'star': 0,\n",
       "    'statuses_count': 460088,\n",
       "    'story_read_state': -1,\n",
       "    'urank': 41,\n",
       "    'url': '',\n",
       "    'user_ability': 8,\n",
       "    'vclub_member': 0,\n",
       "    'verified': True,\n",
       "    'verified_contact_email': '',\n",
       "    'verified_contact_mobile': '',\n",
       "    'verified_contact_name': '',\n",
       "    'verified_level': 3,\n",
       "    'verified_reason': '深圳市高飞传媒有限公司设计师',\n",
       "    'verified_reason_modified': '',\n",
       "    'verified_reason_url': '',\n",
       "    'verified_source': '',\n",
       "    'verified_source_url': '',\n",
       "    'verified_state': 0,\n",
       "    'verified_trade': '1985',\n",
       "    'verified_type': 0,\n",
       "    'verified_type_ext': 0,\n",
       "    'weihao': ''},\n",
       "   'userType': 0,\n",
       "   'visible': {'list_id': 0, 'type': 0}},\n",
       "  {'attitudes_count': 0,\n",
       "   'biz_feature': 0,\n",
       "   'biz_ids': [230769],\n",
       "   'bmiddle_pic': 'http://wx2.sinaimg.cn/bmiddle/006uBeNLly1fmld5xwbgbj30cs0csjru.jpg',\n",
       "   'can_edit': False,\n",
       "   'comment_manage_info': {'approval_comment_type': 0,\n",
       "    'comment_permission_type': -1},\n",
       "   'comments_count': 0,\n",
       "   'created_at': 'Tue Dec 19 00:00:21 +0800 2017',\n",
       "   'darwin_tags': [],\n",
       "   'favorited': False,\n",
       "   'geo': None,\n",
       "   'gif_ids': '',\n",
       "   'hasActionTypeCard': 0,\n",
       "   'hot_weibo_tags': [],\n",
       "   'id': 4186457960538216,\n",
       "   'idstr': '4186457960538216',\n",
       "   'in_reply_to_screen_name': '',\n",
       "   'in_reply_to_status_id': '',\n",
       "   'in_reply_to_user_id': '',\n",
       "   'isLongText': False,\n",
       "   'is_paid': False,\n",
       "   'is_show_bulletin': 2,\n",
       "   'mblog_vip_type': 0,\n",
       "   'mid': '4186457960538216',\n",
       "   'mlevel': 0,\n",
       "   'more_info_type': 0,\n",
       "   'original_pic': 'http://wx2.sinaimg.cn/large/006uBeNLly1fmld5xwbgbj30cs0csjru.jpg',\n",
       "   'pending_approval_count': 0,\n",
       "   'pic_urls': [{'thumbnail_pic': 'http://wx2.sinaimg.cn/thumbnail/006uBeNLly1fmld5xwbgbj30cs0csjru.jpg'},\n",
       "    {'thumbnail_pic': 'http://wx2.sinaimg.cn/thumbnail/006uBeNLly1fmld5y28qyj30cs0cs0uc.jpg'},\n",
       "    {'thumbnail_pic': 'http://wx1.sinaimg.cn/thumbnail/006uBeNLly1fmld5ycdoij30cs0cstaa.jpg'}],\n",
       "   'positive_recom_flag': 0,\n",
       "   'reposts_count': 0,\n",
       "   'source': '<a href=\"http://app.weibo.com/t/feed/cUcI1A\" rel=\"nofollow\">分享按钮</a>',\n",
       "   'source_allowclick': 0,\n",
       "   'source_type': 1,\n",
       "   'text': '【卷后=45】韩版秋季新款厚底内增高小白鞋→→→拍：http://t.cn/RTTbfM6 \\n【更多白菜】戳http://t.cn/RTpqRwg \\u200b',\n",
       "   'textLength': 103,\n",
       "   'text_tag_tips': [],\n",
       "   'thumbnail_pic': 'http://wx2.sinaimg.cn/thumbnail/006uBeNLly1fmld5xwbgbj30cs0csjru.jpg',\n",
       "   'truncated': False,\n",
       "   'user': {'allow_all_act_msg': False,\n",
       "    'allow_all_comment': True,\n",
       "    'avatar_hd': 'http://tva3.sinaimg.cn/crop.14.0.722.722.1024/006uBeNLjw8f4o7z2uaeoj30ku0k2q3w.jpg',\n",
       "    'avatar_large': 'http://tva3.sinaimg.cn/crop.14.0.722.722.180/006uBeNLjw8f4o7z2uaeoj30ku0k2q3w.jpg',\n",
       "    'bi_followers_count': 547,\n",
       "    'block_app': 1,\n",
       "    'block_word': 0,\n",
       "    'city': '1000',\n",
       "    'class': 1,\n",
       "    'cover_image_phone': 'http://ww1.sinaimg.cn/crop.0.0.640.640.640/549d0121tw1egm1kjly3jj20hs0hsq4f.jpg',\n",
       "    'created_at': 'Thu Jun 09 06:58:29 +0800 2016',\n",
       "    'credit_score': 80,\n",
       "    'description': '专享淘宝白菜价，一起快递收不停',\n",
       "    'domain': '',\n",
       "    'favourites_count': 0,\n",
       "    'follow_me': False,\n",
       "    'followers_count': 18812,\n",
       "    'following': False,\n",
       "    'friends_count': 14007,\n",
       "    'gender': 'f',\n",
       "    'geo_enabled': True,\n",
       "    'has_service_tel': False,\n",
       "    'id': 5948962109,\n",
       "    'idstr': '5948962109',\n",
       "    'insecurity': {'sexual_content': False},\n",
       "    'lang': 'zh-cn',\n",
       "    'like': False,\n",
       "    'like_me': False,\n",
       "    'location': '安徽',\n",
       "    'mbrank': 5,\n",
       "    'mbtype': 12,\n",
       "    'name': '白菜君主',\n",
       "    'online_status': 0,\n",
       "    'pagefriends_count': 0,\n",
       "    'profile_image_url': 'http://tva3.sinaimg.cn/crop.14.0.722.722.50/006uBeNLjw8f4o7z2uaeoj30ku0k2q3w.jpg',\n",
       "    'profile_url': 'u/5948962109',\n",
       "    'province': '34',\n",
       "    'ptype': 0,\n",
       "    'remark': '',\n",
       "    'screen_name': '白菜君主',\n",
       "    'star': 0,\n",
       "    'statuses_count': 90384,\n",
       "    'story_read_state': -1,\n",
       "    'urank': 29,\n",
       "    'url': '',\n",
       "    'user_ability': 0,\n",
       "    'vclub_member': 0,\n",
       "    'verified': True,\n",
       "    'verified_contact_email': '',\n",
       "    'verified_contact_mobile': '',\n",
       "    'verified_contact_name': '',\n",
       "    'verified_level': 3,\n",
       "    'verified_reason': '小白菜工作室创始人',\n",
       "    'verified_reason_modified': '',\n",
       "    'verified_reason_url': '',\n",
       "    'verified_source': '',\n",
       "    'verified_source_url': '',\n",
       "    'verified_state': 0,\n",
       "    'verified_trade': '2389',\n",
       "    'verified_type': 0,\n",
       "    'verified_type_ext': 0,\n",
       "    'weihao': ''},\n",
       "   'userType': 0,\n",
       "   'visible': {'list_id': 0, 'type': 0}},\n",
       "  {'annotations': [{'client_mblogid': 'iPhone-E8BD48A3-03CC-4630-A551-42FCC3B2BA06',\n",
       "     'shooting': 1},\n",
       "    {'mapi_request': True}],\n",
       "   'attitudes_count': 0,\n",
       "   'biz_feature': 0,\n",
       "   'can_edit': False,\n",
       "   'comment_manage_info': {'approval_comment_type': 0,\n",
       "    'comment_permission_type': -1},\n",
       "   'comments_count': 0,\n",
       "   'created_at': 'Tue Dec 19 00:00:21 +0800 2017',\n",
       "   'darwin_tags': [],\n",
       "   'favorited': False,\n",
       "   'geo': None,\n",
       "   'gif_ids': '',\n",
       "   'hasActionTypeCard': 0,\n",
       "   'hot_weibo_tags': [],\n",
       "   'id': 4186457960536943,\n",
       "   'idstr': '4186457960536943',\n",
       "   'in_reply_to_screen_name': '',\n",
       "   'in_reply_to_status_id': '',\n",
       "   'in_reply_to_user_id': '',\n",
       "   'isLongText': False,\n",
       "   'is_paid': False,\n",
       "   'is_show_bulletin': 2,\n",
       "   'mblog_vip_type': 0,\n",
       "   'mid': '4186457960536943',\n",
       "   'mlevel': 0,\n",
       "   'more_info_type': 0,\n",
       "   'pending_approval_count': 0,\n",
       "   'pic_urls': [],\n",
       "   'positive_recom_flag': 0,\n",
       "   'reposts_count': 0,\n",
       "   'source': '<a href=\"http://weibo.com/\" rel=\"nofollow\">iPhone客户端</a>',\n",
       "   'source_allowclick': 0,\n",
       "   'source_type': 2,\n",
       "   'text': '内心的高傲终究成了可怜的笑料。不是我不懂谦虚只是因为有人欠揍。 \\u200b',\n",
       "   'textLength': 62,\n",
       "   'text_tag_tips': [],\n",
       "   'truncated': False,\n",
       "   'user': {'allow_all_act_msg': False,\n",
       "    'allow_all_comment': True,\n",
       "    'avatar_hd': 'http://tvax3.sinaimg.cn/crop.0.0.996.996.1024/006Y7dYWly8flffjcp3iaj30ro0ro0up.jpg',\n",
       "    'avatar_large': 'http://tvax3.sinaimg.cn/crop.0.0.996.996.180/006Y7dYWly8flffjcp3iaj30ro0ro0up.jpg',\n",
       "    'bi_followers_count': 300,\n",
       "    'block_app': 0,\n",
       "    'block_word': 0,\n",
       "    'city': '1000',\n",
       "    'class': 1,\n",
       "    'cover_image_phone': 'http://ww1.sinaimg.cn/crop.0.0.640.640.640/549d0121tw1egm1kjly3jj20hs0hsq4f.jpg',\n",
       "    'created_at': 'Sun Oct 22 09:20:55 +0800 2017',\n",
       "    'credit_score': 80,\n",
       "    'description': '',\n",
       "    'domain': '',\n",
       "    'favourites_count': 0,\n",
       "    'follow_me': False,\n",
       "    'followers_count': 599,\n",
       "    'following': False,\n",
       "    'friends_count': 667,\n",
       "    'gender': 'm',\n",
       "    'geo_enabled': True,\n",
       "    'id': 6385099198,\n",
       "    'idstr': '6385099198',\n",
       "    'insecurity': {'sexual_content': False},\n",
       "    'lang': 'zh-cn',\n",
       "    'like': False,\n",
       "    'like_me': False,\n",
       "    'location': '甘肃',\n",
       "    'mbrank': 1,\n",
       "    'mbtype': 2,\n",
       "    'name': '阿干老萧f',\n",
       "    'online_status': 0,\n",
       "    'pagefriends_count': 0,\n",
       "    'profile_image_url': 'http://tvax3.sinaimg.cn/crop.0.0.996.996.50/006Y7dYWly8flffjcp3iaj30ro0ro0up.jpg',\n",
       "    'profile_url': 'u/6385099198',\n",
       "    'province': '62',\n",
       "    'ptype': 0,\n",
       "    'remark': '',\n",
       "    'screen_name': '阿干老萧f',\n",
       "    'star': 0,\n",
       "    'statuses_count': 251,\n",
       "    'story_read_state': -1,\n",
       "    'urank': 5,\n",
       "    'url': '',\n",
       "    'user_ability': 0,\n",
       "    'vclub_member': 0,\n",
       "    'verified': False,\n",
       "    'verified_reason': '',\n",
       "    'verified_reason_url': '',\n",
       "    'verified_source': '',\n",
       "    'verified_source_url': '',\n",
       "    'verified_trade': '',\n",
       "    'verified_type': -1,\n",
       "    'weihao': ''},\n",
       "   'userType': 0,\n",
       "   'visible': {'list_id': 0, 'type': 0}},\n",
       "  {'annotations': [{'client_mblogid': 'cbc192ff-fe44-e653-bff7-a614ba2a7b8c',\n",
       "     'shooting': 1},\n",
       "    {'mapi_request': True}],\n",
       "   'attitudes_count': 0,\n",
       "   'biz_feature': 0,\n",
       "   'can_edit': False,\n",
       "   'comment_manage_info': {'approval_comment_type': 0,\n",
       "    'comment_permission_type': -1},\n",
       "   'comments_count': 0,\n",
       "   'created_at': 'Tue Dec 19 00:00:20 +0800 2017',\n",
       "   'darwin_tags': [],\n",
       "   'favorited': False,\n",
       "   'geo': None,\n",
       "   'gif_ids': '',\n",
       "   'hasActionTypeCard': 0,\n",
       "   'hot_weibo_tags': [],\n",
       "   'id': 4186457960534295,\n",
       "   'idstr': '4186457960534295',\n",
       "   'in_reply_to_screen_name': '',\n",
       "   'in_reply_to_status_id': '',\n",
       "   'in_reply_to_user_id': '',\n",
       "   'isLongText': False,\n",
       "   'is_paid': False,\n",
       "   'is_show_bulletin': 2,\n",
       "   'mblog_vip_type': 0,\n",
       "   'mid': '4186457960534295',\n",
       "   'mlevel': 0,\n",
       "   'more_info_type': 0,\n",
       "   'pending_approval_count': 0,\n",
       "   'pic_urls': [],\n",
       "   'positive_recom_flag': 0,\n",
       "   'reposts_count': 0,\n",
       "   'source': '<a href=\"http://app.weibo.com/t/feed/5Nu7MV\" rel=\"nofollow\">华为P9手机摄影再突破</a>',\n",
       "   'source_allowclick': 1,\n",
       "   'source_type': 1,\n",
       "   'text': '看蓝精灵，很high \\u200b',\n",
       "   'textLength': 16,\n",
       "   'text_tag_tips': [],\n",
       "   'truncated': False,\n",
       "   'user': {'allow_all_act_msg': False,\n",
       "    'allow_all_comment': True,\n",
       "    'avatar_hd': 'http://tvax3.sinaimg.cn/crop.0.0.639.639.1024/0071oQsbly8fmgk83xkwqj30hr0hrmxu.jpg',\n",
       "    'avatar_large': 'http://tvax3.sinaimg.cn/crop.0.0.639.639.180/0071oQsbly8fmgk83xkwqj30hr0hrmxu.jpg',\n",
       "    'bi_followers_count': 0,\n",
       "    'block_app': 1,\n",
       "    'block_word': 0,\n",
       "    'city': '52',\n",
       "    'class': 1,\n",
       "    'created_at': 'Thu Dec 14 20:16:36 +0800 2017',\n",
       "    'credit_score': 80,\n",
       "    'description': '',\n",
       "    'domain': '',\n",
       "    'favourites_count': 0,\n",
       "    'follow_me': False,\n",
       "    'followers_count': 1,\n",
       "    'following': False,\n",
       "    'friends_count': 2,\n",
       "    'gender': 'f',\n",
       "    'geo_enabled': True,\n",
       "    'id': 6433627667,\n",
       "    'idstr': '6433627667',\n",
       "    'insecurity': {'sexual_content': False},\n",
       "    'lang': 'zh-cn',\n",
       "    'like': False,\n",
       "    'like_me': False,\n",
       "    'location': '广东 揭阳',\n",
       "    'mbrank': 1,\n",
       "    'mbtype': 11,\n",
       "    'name': '黄翊宁真人',\n",
       "    'online_status': 0,\n",
       "    'pagefriends_count': 0,\n",
       "    'profile_image_url': 'http://tvax3.sinaimg.cn/crop.0.0.639.639.50/0071oQsbly8fmgk83xkwqj30hr0hrmxu.jpg',\n",
       "    'profile_url': 'u/6433627667',\n",
       "    'province': '44',\n",
       "    'ptype': 0,\n",
       "    'remark': '',\n",
       "    'screen_name': '黄翊宁真人',\n",
       "    'star': 0,\n",
       "    'statuses_count': 12,\n",
       "    'story_read_state': -1,\n",
       "    'urank': 4,\n",
       "    'url': '',\n",
       "    'user_ability': 0,\n",
       "    'vclub_member': 0,\n",
       "    'verified': False,\n",
       "    'verified_reason': '',\n",
       "    'verified_reason_url': '',\n",
       "    'verified_source': '',\n",
       "    'verified_source_url': '',\n",
       "    'verified_trade': '',\n",
       "    'verified_type': -1,\n",
       "    'weihao': ''},\n",
       "   'userType': 0,\n",
       "   'visible': {'list_id': 0, 'type': 0}},\n",
       "  {'attitudes_count': 0,\n",
       "   'biz_feature': 0,\n",
       "   'biz_ids': [100165],\n",
       "   'can_edit': False,\n",
       "   'cardid': 'star_429',\n",
       "   'comment_manage_info': {'approval_comment_type': 0,\n",
       "    'comment_permission_type': -1},\n",
       "   'comments_count': 0,\n",
       "   'created_at': 'Tue Dec 19 00:00:21 +0800 2017',\n",
       "   'darwin_tags': [],\n",
       "   'favorited': False,\n",
       "   'geo': None,\n",
       "   'gif_ids': '',\n",
       "   'hasActionTypeCard': 0,\n",
       "   'hot_weibo_tags': [],\n",
       "   'id': 4186457960209603,\n",
       "   'idstr': '4186457960209603',\n",
       "   'in_reply_to_screen_name': '',\n",
       "   'in_reply_to_status_id': '',\n",
       "   'in_reply_to_user_id': '',\n",
       "   'isLongText': False,\n",
       "   'is_paid': False,\n",
       "   'is_show_bulletin': 2,\n",
       "   'mblog_vip_type': 0,\n",
       "   'mid': '4186457960209603',\n",
       "   'mlevel': 0,\n",
       "   'more_info_type': 0,\n",
       "   'page_type': 32,\n",
       "   'pending_approval_count': 0,\n",
       "   'pic_urls': [],\n",
       "   'positive_recom_flag': 0,\n",
       "   'reposts_count': 0,\n",
       "   'source': '<a href=\"http://app.weibo.com/t/feed/4AbAFV\" rel=\"nofollow\">微话题</a>',\n",
       "   'source_allowclick': 0,\n",
       "   'source_type': 1,\n",
       "   'text': '我在2017#微博King和Queen#活动中，通过#陈伟霆#超级话题签到为陈伟霆拉了10票！谁将登上微博King&Queen的宝座，你最看好谁？猛戳 http://t.cn/RTQXPaq，支持你的爱豆！ http://t.cn/RTIR1fL \\u200b',\n",
       "   'textLength': 177,\n",
       "   'text_tag_tips': [],\n",
       "   'truncated': False,\n",
       "   'user': {'allow_all_act_msg': False,\n",
       "    'allow_all_comment': True,\n",
       "    'attitude_style': 'p_0007',\n",
       "    'avatar_hd': 'http://tvax1.sinaimg.cn/crop.0.0.750.750.1024/74600e93ly8flr3z3773bj20ku0ku75y.jpg',\n",
       "    'avatar_large': 'http://tvax1.sinaimg.cn/crop.0.0.750.750.180/74600e93ly8flr3z3773bj20ku0ku75y.jpg',\n",
       "    'avatargj_id': 'gj_vip_011',\n",
       "    'bi_followers_count': 317,\n",
       "    'block_app': 1,\n",
       "    'block_word': 0,\n",
       "    'cardid': 'star_429',\n",
       "    'city': '1000',\n",
       "    'class': 1,\n",
       "    'cover_image_phone': 'http://ww3.sinaimg.cn/crop.0.0.640.640.640/74600e93jw1f9ykd6bhbjj20e80e8ta0.jpg;http://wx1.sinaimg.cn/crop.0.0.640.640.640/74600e93ly1fhocffolpbj20ku0kudhh.jpg;http://wx3.sinaimg.cn/crop.0.0.640.640.640/74600e93ly1fhamqe68hqj20ku0laaba.jpg;http://ww4.sinaimg.cn/crop.0.0.640.640.640/74600e93jw1f9ykckq02aj20e80e70tn.jpg;http://ww2.sinaimg.cn/crop.0.0.640.640.640/539b2bcdjw1f5eh225k7rj20hs0hsmzs.jpg;http://ww4.sinaimg.cn/crop.0.0.640.640.640/74600e93jw1f8edid5rryj20ku0kk410.jpg',\n",
       "    'created_at': 'Sun Feb 06 04:09:50 +0800 2011',\n",
       "    'credit_score': 80,\n",
       "    'description': '想对你说漫漫长路陪你走',\n",
       "    'domain': '',\n",
       "    'favourites_count': 34,\n",
       "    'follow_me': False,\n",
       "    'followers_count': 570,\n",
       "    'following': False,\n",
       "    'friends_count': 865,\n",
       "    'gender': 'f',\n",
       "    'geo_enabled': True,\n",
       "    'id': 1952452243,\n",
       "    'idstr': '1952452243',\n",
       "    'insecurity': {'sexual_content': False},\n",
       "    'lang': 'zh-cn',\n",
       "    'like': False,\n",
       "    'like_me': False,\n",
       "    'location': '天津',\n",
       "    'mbrank': 5,\n",
       "    'mbtype': 12,\n",
       "    'name': '威廉的上等霖',\n",
       "    'online_status': 0,\n",
       "    'pagefriends_count': 16,\n",
       "    'profile_image_url': 'http://tvax1.sinaimg.cn/crop.0.0.750.750.50/74600e93ly8flr3z3773bj20ku0ku75y.jpg',\n",
       "    'profile_url': 'u/1952452243',\n",
       "    'province': '12',\n",
       "    'ptype': 0,\n",
       "    'remark': '',\n",
       "    'screen_name': '威廉的上等霖',\n",
       "    'star': 0,\n",
       "    'statuses_count': 5729,\n",
       "    'story_read_state': -1,\n",
       "    'urank': 38,\n",
       "    'url': '',\n",
       "    'user_ability': 1024,\n",
       "    'vclub_member': 0,\n",
       "    'verified': False,\n",
       "    'verified_reason': '',\n",
       "    'verified_reason_url': '',\n",
       "    'verified_source': '',\n",
       "    'verified_source_url': '',\n",
       "    'verified_trade': '',\n",
       "    'verified_type': -1,\n",
       "    'weihao': ''},\n",
       "   'userType': 0,\n",
       "   'visible': {'list_id': 0, 'type': 0}},\n",
       "  {'annotations': [{'client_mblogid': '047121ec-17b8-4e99-a0ca-6778e91f3b7e',\n",
       "     'shooting': 1},\n",
       "    {'mapi_request': True}],\n",
       "   'attitudes_count': 0,\n",
       "   'biz_feature': 0,\n",
       "   'biz_ids': [101515, 101515],\n",
       "   'can_edit': False,\n",
       "   'comment_manage_info': {'approval_comment_type': 0,\n",
       "    'comment_permission_type': -1},\n",
       "   'comments_count': 0,\n",
       "   'created_at': 'Tue Dec 19 00:00:21 +0800 2017',\n",
       "   'darwin_tags': [],\n",
       "   'favorited': False,\n",
       "   'geo': None,\n",
       "   'gif_ids': '',\n",
       "   'hasActionTypeCard': 0,\n",
       "   'hot_weibo_tags': [],\n",
       "   'id': 4186457960209394,\n",
       "   'idstr': '4186457960209394',\n",
       "   'in_reply_to_screen_name': '',\n",
       "   'in_reply_to_status_id': '',\n",
       "   'in_reply_to_user_id': '',\n",
       "   'isLongText': False,\n",
       "   'is_paid': False,\n",
       "   'is_show_bulletin': 2,\n",
       "   'mblog_vip_type': 0,\n",
       "   'mid': '4186457960209394',\n",
       "   'mlevel': 0,\n",
       "   'more_info_type': 0,\n",
       "   'page_type': 33,\n",
       "   'pending_approval_count': 0,\n",
       "   'pic_urls': [],\n",
       "   'positive_recom_flag': 0,\n",
       "   'reposts_count': 0,\n",
       "   'source': '<a href=\"http://app.weibo.com/t/feed/5ttZpb\" rel=\"nofollow\">前后2000万 OPPO R11</a>',\n",
       "   'source_allowclick': 1,\n",
       "   'source_type': 1,\n",
       "   'text': '我正在#亚洲新歌榜# 为@爱啃梨的星际碎片  的新歌http://t.cn/RYFO3Tk 打榜，好音乐需要用行动来支持，你也快来加入吧！@爱啃梨的星际碎片 的歌曲 http://t.cn/RYFO3Tk十八 \\u200b',\n",
       "   'textLength': 160,\n",
       "   'text_tag_tips': [],\n",
       "   'truncated': False,\n",
       "   'user': {'allow_all_act_msg': False,\n",
       "    'allow_all_comment': True,\n",
       "    'avatar_hd': 'http://tvax1.sinaimg.cn/crop.0.0.200.200.1024/0071nirqly1fmg6mawa98j305k05kwef.jpg',\n",
       "    'avatar_large': 'http://tvax1.sinaimg.cn/crop.0.0.200.200.180/0071nirqly1fmg6mawa98j305k05kwef.jpg',\n",
       "    'bi_followers_count': 5,\n",
       "    'block_app': 1,\n",
       "    'block_word': 0,\n",
       "    'city': '1000',\n",
       "    'class': 1,\n",
       "    'cover_image_phone': 'http://ww1.sinaimg.cn/crop.0.0.640.640.640/549d0121tw1egm1kjly3jj20hs0hsq4f.jpg',\n",
       "    'created_at': 'Thu Dec 14 12:25:51 +0800 2017',\n",
       "    'credit_score': 80,\n",
       "    'description': '',\n",
       "    'domain': '',\n",
       "    'favourites_count': 0,\n",
       "    'follow_me': False,\n",
       "    'followers_count': 9,\n",
       "    'following': False,\n",
       "    'friends_count': 66,\n",
       "    'gender': 'm',\n",
       "    'geo_enabled': True,\n",
       "    'id': 6433258596,\n",
       "    'idstr': '6433258596',\n",
       "    'insecurity': {'sexual_content': False},\n",
       "    'lang': 'zh-cn',\n",
       "    'like': False,\n",
       "    'like_me': False,\n",
       "    'location': '安徽',\n",
       "    'mbrank': 1,\n",
       "    'mbtype': 11,\n",
       "    'name': '是非xsow_40',\n",
       "    'online_status': 0,\n",
       "    'pagefriends_count': 0,\n",
       "    'profile_image_url': 'http://tvax1.sinaimg.cn/crop.0.0.200.200.50/0071nirqly1fmg6mawa98j305k05kwef.jpg',\n",
       "    'profile_url': 'u/6433258596',\n",
       "    'province': '34',\n",
       "    'ptype': 0,\n",
       "    'remark': '',\n",
       "    'screen_name': '是非xsow_40',\n",
       "    'star': 0,\n",
       "    'statuses_count': 80,\n",
       "    'story_read_state': -1,\n",
       "    'urank': 5,\n",
       "    'url': '',\n",
       "    'user_ability': 0,\n",
       "    'vclub_member': 0,\n",
       "    'verified': False,\n",
       "    'verified_reason': '',\n",
       "    'verified_reason_url': '',\n",
       "    'verified_source': '',\n",
       "    'verified_source_url': '',\n",
       "    'verified_trade': '',\n",
       "    'verified_type': -1,\n",
       "    'weihao': ''},\n",
       "   'userType': 0,\n",
       "   'visible': {'list_id': 0, 'type': 0}},\n",
       "  {'attitudes_count': 1,\n",
       "   'biz_feature': 0,\n",
       "   'can_edit': False,\n",
       "   'comment_manage_info': {'approval_comment_type': 0,\n",
       "    'comment_permission_type': -1},\n",
       "   'comments_count': 0,\n",
       "   'created_at': 'Tue Dec 19 00:00:20 +0800 2017',\n",
       "   'darwin_tags': [],\n",
       "   'favorited': False,\n",
       "   'geo': None,\n",
       "   'gif_ids': '',\n",
       "   'hasActionTypeCard': 0,\n",
       "   'hot_weibo_tags': [],\n",
       "   'id': 4186457957008279,\n",
       "   'idstr': '4186457957008279',\n",
       "   'in_reply_to_screen_name': '',\n",
       "   'in_reply_to_status_id': '',\n",
       "   'in_reply_to_user_id': '',\n",
       "   'isLongText': False,\n",
       "   'is_paid': False,\n",
       "   'is_show_bulletin': 2,\n",
       "   'mblog_vip_type': 0,\n",
       "   'mid': '4186457957008279',\n",
       "   'mlevel': 0,\n",
       "   'more_info_type': 0,\n",
       "   'pending_approval_count': 0,\n",
       "   'pic_urls': [],\n",
       "   'positive_recom_flag': 0,\n",
       "   'reposts_count': 0,\n",
       "   'source': '<a href=\"http://app.weibo.com/t/feed/3o33sO\" rel=\"nofollow\">iPhone 6</a>',\n",
       "   'source_allowclick': 0,\n",
       "   'source_type': 1,\n",
       "   'text': '在干嘛呢 \\u200b',\n",
       "   'textLength': 8,\n",
       "   'text_tag_tips': [],\n",
       "   'truncated': False,\n",
       "   'user': {'allow_all_act_msg': False,\n",
       "    'allow_all_comment': True,\n",
       "    'avatar_hd': 'http://tva4.sinaimg.cn/crop.0.0.996.996.1024/006w1Dr9jw1f568yf7ambj30ro0roq3x.jpg',\n",
       "    'avatar_large': 'http://tva4.sinaimg.cn/crop.0.0.996.996.180/006w1Dr9jw1f568yf7ambj30ro0roq3x.jpg',\n",
       "    'bi_followers_count': 26,\n",
       "    'block_app': 0,\n",
       "    'block_word': 0,\n",
       "    'city': '3',\n",
       "    'class': 1,\n",
       "    'cover_image_phone': 'http://ww2.sinaimg.cn/crop.0.0.640.640/68f96449jw1ergqx79rw4j20hs0hswh0.jpg',\n",
       "    'created_at': 'Fri Jun 24 13:19:15 +0800 2016',\n",
       "    'credit_score': 80,\n",
       "    'description': '况且况且～回家了',\n",
       "    'domain': '',\n",
       "    'favourites_count': 0,\n",
       "    'follow_me': False,\n",
       "    'followers_count': 113,\n",
       "    'following': False,\n",
       "    'friends_count': 239,\n",
       "    'gender': 'f',\n",
       "    'geo_enabled': True,\n",
       "    'id': 5970029671,\n",
       "    'idstr': '5970029671',\n",
       "    'insecurity': {'sexual_content': False},\n",
       "    'lang': 'zh-cn',\n",
       "    'like': False,\n",
       "    'like_me': False,\n",
       "    'location': '广东 深圳',\n",
       "    'mbrank': 1,\n",
       "    'mbtype': 2,\n",
       "    'name': '燕呆仙岁月',\n",
       "    'online_status': 0,\n",
       "    'pagefriends_count': 0,\n",
       "    'profile_image_url': 'http://tva4.sinaimg.cn/crop.0.0.996.996.50/006w1Dr9jw1f568yf7ambj30ro0roq3x.jpg',\n",
       "    'profile_url': 'u/5970029671',\n",
       "    'province': '44',\n",
       "    'ptype': 0,\n",
       "    'remark': '',\n",
       "    'screen_name': '燕呆仙岁月',\n",
       "    'star': 0,\n",
       "    'statuses_count': 263,\n",
       "    'story_read_state': -1,\n",
       "    'urank': 11,\n",
       "    'url': '',\n",
       "    'user_ability': 1024,\n",
       "    'vclub_member': 0,\n",
       "    'verified': False,\n",
       "    'verified_reason': '',\n",
       "    'verified_reason_url': '',\n",
       "    'verified_source': '',\n",
       "    'verified_source_url': '',\n",
       "    'verified_trade': '',\n",
       "    'verified_type': -1,\n",
       "    'weihao': ''},\n",
       "   'userType': 0,\n",
       "   'visible': {'list_id': 0, 'type': 0}},\n",
       "  {'annotations': [{'client_mblogid': '9e57ced1-fc0a-4417-8b76-f03e16d2a9fb',\n",
       "     'place': {'lat': 39.36477,\n",
       "      'lon': 117.05026,\n",
       "      'poiid': '8008612011404000000',\n",
       "      'title': '运河西街区',\n",
       "      'type': 'checkin'}},\n",
       "    {'mapi_request': True}],\n",
       "   'attitudes_count': 1,\n",
       "   'biz_feature': 4294967300,\n",
       "   'biz_ids': [100101],\n",
       "   'bmiddle_pic': 'http://wx2.sinaimg.cn/bmiddle/ed0c3cedly1fmld5hyqfyj20qo0zkagg.jpg',\n",
       "   'can_edit': False,\n",
       "   'cardid': 'star_314',\n",
       "   'comment_manage_info': {'approval_comment_type': 0,\n",
       "    'comment_permission_type': -1},\n",
       "   'comments_count': 3,\n",
       "   'created_at': 'Tue Dec 19 00:00:20 +0800 2017',\n",
       "   'darwin_tags': [],\n",
       "   'favorited': False,\n",
       "   'geo': {'coordinates': [39.36477, 117.05026], 'type': 'Point'},\n",
       "   'gif_ids': '',\n",
       "   'hasActionTypeCard': 0,\n",
       "   'hot_weibo_tags': [],\n",
       "   'id': 4186457956910805,\n",
       "   'idstr': '4186457956910805',\n",
       "   'in_reply_to_screen_name': '',\n",
       "   'in_reply_to_status_id': '',\n",
       "   'in_reply_to_user_id': '',\n",
       "   'isLongText': False,\n",
       "   'is_paid': False,\n",
       "   'is_show_bulletin': 2,\n",
       "   'mblog_vip_type': 0,\n",
       "   'mid': '4186457956910805',\n",
       "   'mlevel': 0,\n",
       "   'more_info_type': 0,\n",
       "   'original_pic': 'http://wx2.sinaimg.cn/large/ed0c3cedly1fmld5hyqfyj20qo0zkagg.jpg',\n",
       "   'page_type': 40,\n",
       "   'pending_approval_count': 0,\n",
       "   'picStatus': '0:1',\n",
       "   'pic_urls': [{'thumbnail_pic': 'http://wx2.sinaimg.cn/thumbnail/ed0c3cedly1fmld5hyqfyj20qo0zkagg.jpg'}],\n",
       "   'positive_recom_flag': 0,\n",
       "   'reposts_count': 0,\n",
       "   'source': '<a href=\"http://app.weibo.com/t/feed/655s7U\" rel=\"nofollow\">前置双摄vivo X9Plus</a>',\n",
       "   'source_allowclick': 1,\n",
       "   'source_type': 1,\n",
       "   'stickerID': '0:1014229',\n",
       "   'text': '#今日贴纸打卡# 暖暖的，冬天必备！ http://t.cn/R2d2wAd \\u200b',\n",
       "   'textLength': 53,\n",
       "   'text_tag_tips': [],\n",
       "   'thumbnail_pic': 'http://wx2.sinaimg.cn/thumbnail/ed0c3cedly1fmld5hyqfyj20qo0zkagg.jpg',\n",
       "   'truncated': False,\n",
       "   'user': {'allow_all_act_msg': False,\n",
       "    'allow_all_comment': True,\n",
       "    'avatar_hd': 'http://tvax2.sinaimg.cn/crop.0.0.996.996.1024/ed0c3cedly8fi157rhs0qj20ro0rodl8.jpg',\n",
       "    'avatar_large': 'http://tvax2.sinaimg.cn/crop.0.0.996.996.180/ed0c3cedly8fi157rhs0qj20ro0rodl8.jpg',\n",
       "    'avatargj_id': 'gj_vip_141',\n",
       "    'bi_followers_count': 32,\n",
       "    'block_app': 1,\n",
       "    'block_word': 0,\n",
       "    'cardid': 'star_314',\n",
       "    'city': '14',\n",
       "    'class': 1,\n",
       "    'cover_image_phone': 'http://wx4.sinaimg.cn/crop.0.0.640.640.640/ed0c3cedly1fldurf7fn4j20u00u0ars.jpg',\n",
       "    'created_at': 'Sun Jan 12 16:25:31 +0800 2014',\n",
       "    'credit_score': 80,\n",
       "    'description': '用顺其自然的态度，过随遇而安的生活！',\n",
       "    'domain': '',\n",
       "    'favourites_count': 8,\n",
       "    'follow_me': False,\n",
       "    'followers_count': 428,\n",
       "    'following': False,\n",
       "    'friends_count': 50,\n",
       "    'gender': 'f',\n",
       "    'geo_enabled': True,\n",
       "    'id': 3977002221,\n",
       "    'idstr': '3977002221',\n",
       "    'insecurity': {'sexual_content': False},\n",
       "    'lang': 'zh-cn',\n",
       "    'like': False,\n",
       "    'like_me': False,\n",
       "    'location': '天津 武清区',\n",
       "    'mbrank': 2,\n",
       "    'mbtype': 12,\n",
       "    'name': '大然然sr',\n",
       "    'online_status': 0,\n",
       "    'pagefriends_count': 0,\n",
       "    'profile_image_url': 'http://tvax2.sinaimg.cn/crop.0.0.996.996.50/ed0c3cedly8fi157rhs0qj20ro0rodl8.jpg',\n",
       "    'profile_url': 'u/3977002221',\n",
       "    'province': '12',\n",
       "    'ptype': 0,\n",
       "    'remark': '',\n",
       "    'screen_name': '大然然sr',\n",
       "    'star': 0,\n",
       "    'statuses_count': 272,\n",
       "    'story_read_state': -1,\n",
       "    'urank': 29,\n",
       "    'url': '',\n",
       "    'user_ability': 1024,\n",
       "    'vclub_member': 0,\n",
       "    'verified': False,\n",
       "    'verified_reason': '',\n",
       "    'verified_reason_url': '',\n",
       "    'verified_source': '',\n",
       "    'verified_source_url': '',\n",
       "    'verified_trade': '',\n",
       "    'verified_type': -1,\n",
       "    'weihao': ''},\n",
       "   'userType': 0,\n",
       "   'visible': {'list_id': 0, 'type': 0}},\n",
       "  {'annotations': [{'client_mblogid': 'iPhone-005A0672-18FD-42C4-9EF3-4B2991F28082',\n",
       "     'shooting': 1},\n",
       "    {'mapi_request': True}],\n",
       "   'attitudes_count': 0,\n",
       "   'biz_feature': 0,\n",
       "   'can_edit': False,\n",
       "   'cardid': 'star_063',\n",
       "   'comment_manage_info': {'approval_comment_type': 0,\n",
       "    'comment_permission_type': -1},\n",
       "   'comments_count': 0,\n",
       "   'created_at': 'Tue Dec 19 00:00:20 +0800 2017',\n",
       "   'darwin_tags': [],\n",
       "   'favorited': False,\n",
       "   'geo': None,\n",
       "   'gif_ids': '',\n",
       "   'hasActionTypeCard': 0,\n",
       "   'hot_weibo_tags': [],\n",
       "   'id': 4186457956909683,\n",
       "   'idstr': '4186457956909683',\n",
       "   'in_reply_to_screen_name': '',\n",
       "   'in_reply_to_status_id': '',\n",
       "   'in_reply_to_user_id': '',\n",
       "   'isLongText': True,\n",
       "   'is_paid': False,\n",
       "   'is_show_bulletin': 2,\n",
       "   'mblog_vip_type': 0,\n",
       "   'mid': '4186457956909683',\n",
       "   'mlevel': 0,\n",
       "   'more_info_type': 0,\n",
       "   'pending_approval_count': 0,\n",
       "   'pic_urls': [],\n",
       "   'positive_recom_flag': 0,\n",
       "   'reposts_count': 0,\n",
       "   'source': '<a href=\"http://app.weibo.com/t/feed/3o33sO\" rel=\"nofollow\">iPhone 6</a>',\n",
       "   'source_allowclick': 0,\n",
       "   'source_type': 1,\n",
       "   'text': '从上个月接手开始，一个人干两份工作，压力很大天天头痛，想请个假去医院看看都没有时间，只能天天吃头痛药。给老爸说可是他一点也不理解，在他看来我们这一代没有金钱压力上班很轻松，可是完全不是这样啊[失望]我是真的好想休息一下哦[失望]嘴上说着人生苦短要做自己想做的事，可别说马上辞职了，我他...全文： http://m.weibo.cn/3661246291/4186457956909683 \\u200b',\n",
       "   'textLength': 304,\n",
       "   'text_tag_tips': [],\n",
       "   'truncated': False,\n",
       "   'user': {'allow_all_act_msg': False,\n",
       "    'allow_all_comment': True,\n",
       "    'avatar_hd': 'http://tvax2.sinaimg.cn/crop.0.1.750.750.1024/da3a2f53ly8fig7cabwypj20ku0kw0te.jpg',\n",
       "    'avatar_large': 'http://tvax2.sinaimg.cn/crop.0.1.750.750.180/da3a2f53ly8fig7cabwypj20ku0kw0te.jpg',\n",
       "    'avatargj_id': 'gj_vip_018',\n",
       "    'bi_followers_count': 0,\n",
       "    'block_app': 1,\n",
       "    'block_word': 1,\n",
       "    'cardid': 'star_063',\n",
       "    'city': '8',\n",
       "    'class': 1,\n",
       "    'cover_image_phone': 'http://wx4.sinaimg.cn/crop.0.0.640.640.640/da3a2f53gy1fig7av2c9jj20ku0ktwgt.jpg;http://wx2.sinaimg.cn/crop.0.0.640.640.640/da3a2f53gy1fig78qk2q1j20ku0kuju4.jpg;http://ww1.sinaimg.cn/crop.0.0.640.640.640/9d44112bjw1f1xl1c10tuj20hs0hs0tw.jpg',\n",
       "    'created_at': 'Thu Jul 25 14:20:52 +0800 2013',\n",
       "    'credit_score': 80,\n",
       "    'description': '唯弹。他们互相喜欢得要死❤️ 7-1=0',\n",
       "    'domain': '',\n",
       "    'favourites_count': 407,\n",
       "    'follow_me': False,\n",
       "    'followers_count': 44,\n",
       "    'following': False,\n",
       "    'friends_count': 99,\n",
       "    'gender': 'f',\n",
       "    'geo_enabled': True,\n",
       "    'id': 3661246291,\n",
       "    'idstr': '3661246291',\n",
       "    'insecurity': {'sexual_content': False},\n",
       "    'lang': 'zh-cn',\n",
       "    'like': False,\n",
       "    'like_me': False,\n",
       "    'location': '重庆 南岸区',\n",
       "    'mbrank': 2,\n",
       "    'mbtype': 11,\n",
       "    'name': '磕弹的半',\n",
       "    'online_status': 0,\n",
       "    'pagefriends_count': 1,\n",
       "    'profile_image_url': 'http://tvax2.sinaimg.cn/crop.0.1.750.750.50/da3a2f53ly8fig7cabwypj20ku0kw0te.jpg',\n",
       "    'profile_url': 'u/3661246291',\n",
       "    'province': '50',\n",
       "    'ptype': 0,\n",
       "    'remark': '',\n",
       "    'screen_name': '磕弹的半',\n",
       "    'star': 0,\n",
       "    'statuses_count': 11563,\n",
       "    'story_read_state': -1,\n",
       "    'urank': 35,\n",
       "    'url': '',\n",
       "    'user_ability': 1024,\n",
       "    'vclub_member': 0,\n",
       "    'verified': False,\n",
       "    'verified_reason': '',\n",
       "    'verified_reason_url': '',\n",
       "    'verified_source': '',\n",
       "    'verified_source_url': '',\n",
       "    'verified_trade': '',\n",
       "    'verified_type': -1,\n",
       "    'weihao': ''},\n",
       "   'userType': 0,\n",
       "   'visible': {'list_id': 0, 'type': 0}},\n",
       "  {'annotations': [{'client_mblogid': 'dffbc8e1-d300-4cb0-9f22-535824f30ec4'},\n",
       "    {'mapi_request': True}],\n",
       "   'attitudes_count': 0,\n",
       "   'biz_feature': 4294967300,\n",
       "   'bmiddle_pic': 'http://wx3.sinaimg.cn/bmiddle/006Zb8Hsly1fmld5i5as4j30qo0z3e3d.jpg',\n",
       "   'can_edit': False,\n",
       "   'comment_manage_info': {'approval_comment_type': 0,\n",
       "    'comment_permission_type': -1},\n",
       "   'comments_count': 0,\n",
       "   'created_at': 'Tue Dec 19 00:00:20 +0800 2017',\n",
       "   'darwin_tags': [],\n",
       "   'favorited': False,\n",
       "   'geo': None,\n",
       "   'gif_ids': '',\n",
       "   'hasActionTypeCard': 0,\n",
       "   'hot_weibo_tags': [],\n",
       "   'id': 4186457956907766,\n",
       "   'idstr': '4186457956907766',\n",
       "   'in_reply_to_screen_name': '',\n",
       "   'in_reply_to_status_id': '',\n",
       "   'in_reply_to_user_id': '',\n",
       "   'isLongText': False,\n",
       "   'is_paid': False,\n",
       "   'is_show_bulletin': 2,\n",
       "   'mblog_vip_type': 0,\n",
       "   'mid': '4186457956907766',\n",
       "   'mlevel': 0,\n",
       "   'more_info_type': 0,\n",
       "   'original_pic': 'http://wx3.sinaimg.cn/large/006Zb8Hsly1fmld5i5as4j30qo0z3e3d.jpg',\n",
       "   'pending_approval_count': 0,\n",
       "   'pic_urls': [{'thumbnail_pic': 'http://wx3.sinaimg.cn/thumbnail/006Zb8Hsly1fmld5i5as4j30qo0z3e3d.jpg'},\n",
       "    {'thumbnail_pic': 'http://wx2.sinaimg.cn/thumbnail/006Zb8Hsly1fmld5in8onj30qo0yfae6.jpg'},\n",
       "    {'thumbnail_pic': 'http://wx3.sinaimg.cn/thumbnail/006Zb8Hsly1fmld5j2tirj30qo0y6gpx.jpg'},\n",
       "    {'thumbnail_pic': 'http://wx2.sinaimg.cn/thumbnail/006Zb8Hsly1fmld5kgszkj30qo0yde0a.jpg'}],\n",
       "   'positive_recom_flag': 0,\n",
       "   'reposts_count': 0,\n",
       "   'source': '<a href=\"http://app.weibo.com/t/feed/3kdgj1\" rel=\"nofollow\">前置双摄vivo X9</a>',\n",
       "   'source_allowclick': 1,\n",
       "   'source_type': 1,\n",
       "   'text': '有个逗比媳妇是什么体验？ \\u200b',\n",
       "   'textLength': 24,\n",
       "   'text_tag_tips': [],\n",
       "   'thumbnail_pic': 'http://wx3.sinaimg.cn/thumbnail/006Zb8Hsly1fmld5i5as4j30qo0z3e3d.jpg',\n",
       "   'truncated': False,\n",
       "   'user': {'allow_all_act_msg': False,\n",
       "    'allow_all_comment': True,\n",
       "    'avatar_hd': 'http://tvax1.sinaimg.cn/crop.0.0.960.960.1024/006Zb8Hsly8fmg8u29okpj30qo0qojty.jpg',\n",
       "    'avatar_large': 'http://tvax1.sinaimg.cn/crop.0.0.960.960.180/006Zb8Hsly8fmg8u29okpj30qo0qojty.jpg',\n",
       "    'bi_followers_count': 1,\n",
       "    'block_app': 0,\n",
       "    'block_word': 0,\n",
       "    'city': '1',\n",
       "    'class': 1,\n",
       "    'created_at': 'Wed Nov 01 14:30:21 +0800 2017',\n",
       "    'credit_score': 80,\n",
       "    'description': '',\n",
       "    'domain': '',\n",
       "    'favourites_count': 0,\n",
       "    'follow_me': False,\n",
       "    'followers_count': 11,\n",
       "    'following': False,\n",
       "    'friends_count': 169,\n",
       "    'gender': 'm',\n",
       "    'geo_enabled': True,\n",
       "    'id': 6400808542,\n",
       "    'idstr': '6400808542',\n",
       "    'insecurity': {'sexual_content': False},\n",
       "    'lang': 'zh-cn',\n",
       "    'like': False,\n",
       "    'like_me': False,\n",
       "    'location': '河北 石家庄',\n",
       "    'mbrank': 1,\n",
       "    'mbtype': 2,\n",
       "    'name': '南山之影皆向北',\n",
       "    'online_status': 0,\n",
       "    'pagefriends_count': 0,\n",
       "    'profile_image_url': 'http://tvax1.sinaimg.cn/crop.0.0.960.960.50/006Zb8Hsly8fmg8u29okpj30qo0qojty.jpg',\n",
       "    'profile_url': 'u/6400808542',\n",
       "    'province': '13',\n",
       "    'ptype': 0,\n",
       "    'remark': '',\n",
       "    'screen_name': '南山之影皆向北',\n",
       "    'star': 0,\n",
       "    'statuses_count': 12,\n",
       "    'story_read_state': -1,\n",
       "    'urank': 5,\n",
       "    'url': '',\n",
       "    'user_ability': 0,\n",
       "    'vclub_member': 0,\n",
       "    'verified': False,\n",
       "    'verified_reason': '',\n",
       "    'verified_reason_url': '',\n",
       "    'verified_source': '',\n",
       "    'verified_source_url': '',\n",
       "    'verified_trade': '',\n",
       "    'verified_type': -1,\n",
       "    'weihao': ''},\n",
       "   'userType': 0,\n",
       "   'visible': {'list_id': 0, 'type': 0}},\n",
       "  {'annotations': [{'client_mblogid': '03b851e0-9794-4af0-abc5-64af892ff2a8',\n",
       "     'shooting': 1},\n",
       "    {'mapi_request': True}],\n",
       "   'attitudes_count': 0,\n",
       "   'biz_feature': 0,\n",
       "   'can_edit': False,\n",
       "   'comment_manage_info': {'approval_comment_type': 0,\n",
       "    'comment_permission_type': -1},\n",
       "   'comments_count': 0,\n",
       "   'created_at': 'Tue Dec 19 00:00:20 +0800 2017',\n",
       "   'darwin_tags': [],\n",
       "   'favorited': False,\n",
       "   'geo': None,\n",
       "   'gif_ids': '',\n",
       "   'hasActionTypeCard': 0,\n",
       "   'hot_weibo_tags': [],\n",
       "   'id': 4186457956655044,\n",
       "   'idstr': '4186457956655044',\n",
       "   'in_reply_to_screen_name': '',\n",
       "   'in_reply_to_status_id': '',\n",
       "   'in_reply_to_user_id': '',\n",
       "   'isLongText': False,\n",
       "   'is_paid': False,\n",
       "   'is_show_bulletin': 2,\n",
       "   'mblog_vip_type': 0,\n",
       "   'mid': '4186457956655044',\n",
       "   'mlevel': 0,\n",
       "   'more_info_type': 0,\n",
       "   'pending_approval_count': 0,\n",
       "   'pic_urls': [],\n",
       "   'positive_recom_flag': 0,\n",
       "   'reposts_count': 0,\n",
       "   'source': '<a href=\"http://weibo.com/\" rel=\"nofollow\">够快才畅快vivo X6S</a>',\n",
       "   'source_allowclick': 1,\n",
       "   'source_type': 2,\n",
       "   'text': '生日快乐 \\u200b',\n",
       "   'textLength': 8,\n",
       "   'text_tag_tips': [],\n",
       "   'truncated': False,\n",
       "   'user': {'allow_all_act_msg': False,\n",
       "    'allow_all_comment': True,\n",
       "    'avatar_hd': 'http://tvax2.sinaimg.cn/crop.0.0.996.996.1024/3ec2ea41ly8fleljqoup2j20ro0rowg9.jpg',\n",
       "    'avatar_large': 'http://tvax2.sinaimg.cn/crop.0.0.996.996.180/3ec2ea41ly8fleljqoup2j20ro0rowg9.jpg',\n",
       "    'bi_followers_count': 4,\n",
       "    'block_app': 1,\n",
       "    'block_word': 0,\n",
       "    'city': '1000',\n",
       "    'class': 1,\n",
       "    'cover_image_phone': 'http://wx4.sinaimg.cn/crop.0.0.640.640.640/3ec2ea41gy1fmigpiulc5j20u00u0h5b.jpg',\n",
       "    'created_at': 'Thu Feb 27 11:09:13 +0800 2014',\n",
       "    'credit_score': 80,\n",
       "    'description': '我是个神',\n",
       "    'domain': '',\n",
       "    'favourites_count': 3,\n",
       "    'follow_me': False,\n",
       "    'followers_count': 17,\n",
       "    'following': False,\n",
       "    'friends_count': 30,\n",
       "    'gender': 'm',\n",
       "    'geo_enabled': True,\n",
       "    'id': 1052961345,\n",
       "    'idstr': '1052961345',\n",
       "    'insecurity': {'sexual_content': False},\n",
       "    'lang': 'zh-cn',\n",
       "    'like': False,\n",
       "    'like_me': False,\n",
       "    'location': '其他',\n",
       "    'mbrank': 1,\n",
       "    'mbtype': 11,\n",
       "    'name': 'Y-vp',\n",
       "    'online_status': 0,\n",
       "    'pagefriends_count': 0,\n",
       "    'profile_image_url': 'http://tvax2.sinaimg.cn/crop.0.0.996.996.50/3ec2ea41ly8fleljqoup2j20ro0rowg9.jpg',\n",
       "    'profile_url': 'u/1052961345',\n",
       "    'province': '100',\n",
       "    'ptype': 0,\n",
       "    'remark': '',\n",
       "    'screen_name': 'Y-vp',\n",
       "    'star': 0,\n",
       "    'statuses_count': 126,\n",
       "    'story_read_state': -1,\n",
       "    'urank': 14,\n",
       "    'url': '',\n",
       "    'user_ability': 1024,\n",
       "    'vclub_member': 0,\n",
       "    'verified': False,\n",
       "    'verified_reason': '',\n",
       "    'verified_reason_url': '',\n",
       "    'verified_source': '',\n",
       "    'verified_source_url': '',\n",
       "    'verified_trade': '',\n",
       "    'verified_type': -1,\n",
       "    'weihao': ''},\n",
       "   'userType': 0,\n",
       "   'visible': {'list_id': 0, 'type': 0}},\n",
       "  {'attitudes_count': 0,\n",
       "   'biz_feature': 0,\n",
       "   'bmiddle_pic': 'http://ww2.sinaimg.cn/bmiddle/61e6c012jw1f6z2pimn51j20jg0jgwgc.jpg',\n",
       "   'can_edit': False,\n",
       "   'comment_manage_info': {'approval_comment_type': 0,\n",
       "    'comment_permission_type': -1},\n",
       "   'comments_count': 0,\n",
       "   'created_at': 'Tue Dec 19 00:00:20 +0800 2017',\n",
       "   'darwin_tags': [],\n",
       "   'favorited': False,\n",
       "   'geo': None,\n",
       "   'gif_ids': '',\n",
       "   'hasActionTypeCard': 0,\n",
       "   'hot_weibo_tags': [],\n",
       "   'id': 4186457956652338,\n",
       "   'idstr': '4186457956652338',\n",
       "   'in_reply_to_screen_name': '',\n",
       "   'in_reply_to_status_id': '',\n",
       "   'in_reply_to_user_id': '',\n",
       "   'isLongText': False,\n",
       "   'is_paid': False,\n",
       "   'is_show_bulletin': 2,\n",
       "   'mblog_vip_type': 0,\n",
       "   'mid': '4186457956652338',\n",
       "   'mlevel': 0,\n",
       "   'more_info_type': 0,\n",
       "   'original_pic': 'http://ww2.sinaimg.cn/large/61e6c012jw1f6z2pimn51j20jg0jgwgc.jpg',\n",
       "   'pending_approval_count': 0,\n",
       "   'pic_urls': [{'thumbnail_pic': 'http://ww2.sinaimg.cn/thumbnail/61e6c012jw1f6z2pimn51j20jg0jgwgc.jpg'},\n",
       "    {'thumbnail_pic': 'http://ww4.sinaimg.cn/thumbnail/005KAXmTjw1evnxri6alxj30ck08474p.jpg'}],\n",
       "   'positive_recom_flag': 0,\n",
       "   'reposts_count': 0,\n",
       "   'source': '<a href=\"http://app.weibo.com/t/feed/6vtZb0\" rel=\"nofollow\">微博 weibo.com</a>',\n",
       "   'source_allowclick': 0,\n",
       "   'source_type': 1,\n",
       "   'text': 'Faorever twenty one 我有很多事情要做 \\u200b',\n",
       "   'textLength': 36,\n",
       "   'text_tag_tips': [],\n",
       "   'thumbnail_pic': 'http://ww2.sinaimg.cn/thumbnail/61e6c012jw1f6z2pimn51j20jg0jgwgc.jpg',\n",
       "   'truncated': False,\n",
       "   'user': {'allow_all_act_msg': False,\n",
       "    'allow_all_comment': True,\n",
       "    'avatar_hd': 'http://tva4.sinaimg.cn/crop.10.10.758.758.1024/006BAOqhjw8f912l9tjwnj30sg0lctaj.jpg',\n",
       "    'avatar_large': 'http://tva4.sinaimg.cn/crop.10.10.758.758.180/006BAOqhjw8f912l9tjwnj30sg0lctaj.jpg',\n",
       "    'bi_followers_count': 58,\n",
       "    'block_app': 0,\n",
       "    'block_word': 0,\n",
       "    'city': '3',\n",
       "    'class': 1,\n",
       "    'created_at': 'Sat Oct 22 04:16:58 +0800 2016',\n",
       "    'credit_score': 80,\n",
       "    'description': '命中注定吗？切近尊前。',\n",
       "    'domain': '',\n",
       "    'favourites_count': 0,\n",
       "    'follow_me': False,\n",
       "    'followers_count': 267,\n",
       "    'following': False,\n",
       "    'friends_count': 216,\n",
       "    'gender': 'm',\n",
       "    'geo_enabled': True,\n",
       "    'id': 6052295061,\n",
       "    'idstr': '6052295061',\n",
       "    'insecurity': {'sexual_content': False},\n",
       "    'lang': 'zh-cn',\n",
       "    'like': False,\n",
       "    'like_me': False,\n",
       "    'location': '贵州 遵义',\n",
       "    'mbrank': 0,\n",
       "    'mbtype': 0,\n",
       "    'name': 'Rakn晓-L',\n",
       "    'online_status': 0,\n",
       "    'pagefriends_count': 0,\n",
       "    'profile_image_url': 'http://tva4.sinaimg.cn/crop.10.10.758.758.50/006BAOqhjw8f912l9tjwnj30sg0lctaj.jpg',\n",
       "    'profile_url': 'u/6052295061',\n",
       "    'province': '52',\n",
       "    'ptype': 0,\n",
       "    'remark': '',\n",
       "    'screen_name': 'Rakn晓-L',\n",
       "    'star': 0,\n",
       "    'statuses_count': 175,\n",
       "    'story_read_state': -1,\n",
       "    'urank': 11,\n",
       "    'url': '',\n",
       "    'user_ability': 0,\n",
       "    'vclub_member': 0,\n",
       "    'verified': False,\n",
       "    'verified_reason': '',\n",
       "    'verified_reason_url': '',\n",
       "    'verified_source': '',\n",
       "    'verified_source_url': '',\n",
       "    'verified_trade': '',\n",
       "    'verified_type': -1,\n",
       "    'weihao': ''},\n",
       "   'userType': 0,\n",
       "   'visible': {'list_id': 0, 'type': 0}}],\n",
       " 'total_number': 20}"
      ]
     },
     "execution_count": 7,
     "metadata": {},
     "output_type": "execute_result"
    }
   ],
   "source": [
    "r.json()"
   ]
  },
  {
   "cell_type": "markdown",
   "metadata": {},
   "source": [
    "## Optional FYI knowledges"
   ]
  },
  {
   "cell_type": "markdown",
   "metadata": {
    "run_control": {
     "frozen": false,
     "read_only": false
    }
   },
   "source": [
    "### Programs and Processes\n",
    "\n",
    "When you run an individual program, your operating system creates a single **process**. It uses system resources (CPU, memory, disk space) and data structures in the operating system's kernel.\n",
    "\n",
    "A process is isolated from from other processes."
   ]
  },
  {
   "cell_type": "code",
   "execution_count": 26,
   "metadata": {
    "run_control": {
     "frozen": false,
     "read_only": false
    }
   },
   "outputs": [
    {
     "name": "stdout",
     "output_type": "stream",
     "text": [
      "683\n",
      "/Users/joshuaz/Documents/Data Application Lab/教学/Beijing/万门/教学开发/30天\n"
     ]
    }
   ],
   "source": [
    "import os\n",
    "\n",
    "print(os.getpid())\n",
    "print(os.getcwd())"
   ]
  },
  {
   "cell_type": "code",
   "execution_count": 27,
   "metadata": {
    "run_control": {
     "frozen": false,
     "read_only": false
    }
   },
   "outputs": [
    {
     "ename": "NameError",
     "evalue": "name 'subprocess' is not defined",
     "output_type": "error",
     "traceback": [
      "\u001b[0;31m---------------------------------------------------------------------------\u001b[0m",
      "\u001b[0;31mNameError\u001b[0m                                 Traceback (most recent call last)",
      "\u001b[0;32m<ipython-input-27-c01efcaa1307>\u001b[0m in \u001b[0;36m<module>\u001b[0;34m()\u001b[0m\n\u001b[0;32m----> 1\u001b[0;31m \u001b[0mret\u001b[0m \u001b[0;34m=\u001b[0m \u001b[0msubprocess\u001b[0m\u001b[0;34m.\u001b[0m\u001b[0mgetoutput\u001b[0m\u001b[0;34m(\u001b[0m\u001b[0;34m'dir'\u001b[0m\u001b[0;34m)\u001b[0m\u001b[0;34m\u001b[0m\u001b[0m\n\u001b[0m\u001b[1;32m      2\u001b[0m \u001b[0mret\u001b[0m\u001b[0;34m\u001b[0m\u001b[0m\n",
      "\u001b[0;31mNameError\u001b[0m: name 'subprocess' is not defined"
     ]
    }
   ],
   "source": [
    "ret = subprocess.getoutput('dir')\n",
    "ret"
   ]
  },
  {
   "cell_type": "markdown",
   "metadata": {
    "run_control": {
     "frozen": false,
     "read_only": false
    }
   },
   "source": [
    "## Concurrency-- called threading in Python\n",
    "\n",
    "So far, most of the programs what we've written run in one place (one machine) and one line at a time (sequential). But we can do more than one thin at a time (concurrency) and in more than one place (distributed computing or networking)."
   ]
  },
  {
   "cell_type": "code",
   "execution_count": 87,
   "metadata": {
    "run_control": {
     "frozen": false,
     "read_only": false
    }
   },
   "outputs": [
    {
     "name": "stdout",
     "output_type": "stream",
     "text": [
      "Thread <Thread(Thread-316, started 123145560481792)> says\" I'm function 0Thread <Thread(Thread-317, started 123145565736960)> says\" I'm function 1Thread <Thread(Thread-318, started 123145560481792)> says\" I'm function 2Thread <_MainThread(MainThread, started 140735997522880)> says\" I'm the main program\n",
      "\n",
      "\n",
      "Thread <Thread(Thread-319, started 123145560481792)> says\" I'm function 3\n",
      "\n"
     ]
    }
   ],
   "source": [
    "import threading\n",
    "\n",
    "def do_this(what):\n",
    "    whoami(what)\n",
    "\n",
    "def whoami(what):\n",
    "    print('Thread %s says\" %s' % (threading.current_thread(), what))\n",
    "\n",
    "if __name__ == '__main__':\n",
    "    whoami(\"I'm the main program\")\n",
    "    for n in range(4):\n",
    "        p = threading.Thread(target=do_this, args=(\"I'm function %s\" % n,))\n",
    "        p.start()"
   ]
  },
  {
   "cell_type": "markdown",
   "metadata": {},
   "source": [
    "### Advanced Web Crawling\n",
    "- Extract/store useful information of current webpage\n",
    "- Get/store every external link in the current webpage\n",
    "- Go to each of the external link, and store useful information of child pages.\n",
    "- Traverse using a algorithm called Graph\n",
    "- Set up some rules to prevent duplicated url (child webpage linked back to its parent webpage)"
   ]
  },
  {
   "cell_type": "code",
   "execution_count": 32,
   "metadata": {
    "collapsed": true
   },
   "outputs": [],
   "source": [
    "from bs4 import BeautifulSoup"
   ]
  },
  {
   "cell_type": "code",
   "execution_count": 33,
   "metadata": {
    "collapsed": true
   },
   "outputs": [],
   "source": [
    "def get_page(page_url):\n",
    "    \"\"\"\n",
    "    based on the url, get the page information\n",
    "    \"\"\"\n",
    "    try:\n",
    "        r = requests.get(page_url)        \n",
    "        return r.text\n",
    "    except Exception as inst:\n",
    "        return None"
   ]
  },
  {
   "cell_type": "code",
   "execution_count": 34,
   "metadata": {
    "collapsed": true
   },
   "outputs": [],
   "source": [
    "def get_all_links(page):\n",
    "    soup = BeautifulSoup(page, 'lxml')\n",
    "\n",
    "    all_links = [item['href'] \n",
    "                 for item in soup.find_all('a') \n",
    "                 if 'href' in item.attrs]\n",
    "    return all_links"
   ]
  },
  {
   "cell_type": "code",
   "execution_count": 35,
   "metadata": {
    "collapsed": true
   },
   "outputs": [],
   "source": [
    "def union(p,q):\n",
    "    for e in q:\n",
    "        if e not in p:\n",
    "            p.append(e)"
   ]
  },
  {
   "cell_type": "code",
   "execution_count": 36,
   "metadata": {
    "collapsed": true
   },
   "outputs": [],
   "source": [
    "def crawl_web(seed):\n",
    "    tocrawl = seed\n",
    "    crawled = []\n",
    "    while tocrawl:\n",
    "        page_url = tocrawl.pop()\n",
    "        print(\"starting crawing\",page_url)\n",
    "        if page_url not in crawled:\n",
    "            print(\"get page content here\")\n",
    "            page_content= get_page(page_url)\n",
    "            if page_content:\n",
    "                all_links_onpage = get_all_links(page_content)\n",
    "                if all_links_onpage: #if we got any link on the pages\n",
    "                    union(tocrawl, all_links_onpage)\n",
    "            crawled.append(page_url)\n",
    "    return crawled "
   ]
  },
  {
   "cell_type": "code",
   "execution_count": null,
   "metadata": {
    "collapsed": true
   },
   "outputs": [],
   "source": []
  },
  {
   "cell_type": "code",
   "execution_count": 48,
   "metadata": {
    "collapsed": true
   },
   "outputs": [],
   "source": [
    "seeds = ['http://pvp.qq.com/web201605/herodetail/194.shtml',\n",
    " 'http://pvp.qq.com/web201605/herodetail/195.shtml',\n",
    " 'http://pvp.qq.com/web201605/herodetail/196.shtml',\n",
    " 'http://pvp.qq.com/web201605/herodetail/193.shtml',\n",
    " 'http://pvp.qq.com/web201605/herodetail/189.shtml',\n",
    " 'http://pvp.qq.com/web201605/herodetail/182.shtml',\n",
    " 'http://pvp.qq.com/web201605/herodetail/187.shtml',\n",
    " 'http://pvp.qq.com/web201605/herodetail/191.shtml',\n",
    " 'http://pvp.qq.com/web201605/herodetail/192.shtml',\n",
    " 'http://pvp.qq.com/web201605/herodetail/190.shtml',\n",
    " 'http://pvp.qq.com/web201605/herodetail/180.shtml',\n",
    " 'http://pvp.qq.com/web201605/herodetail/186.shtml',\n",
    " 'http://pvp.qq.com/web201605/herodetail/184.shtml',\n",
    " 'http://pvp.qq.com/web201605/herodetail/183.shtml',\n",
    " 'http://pvp.qq.com/web201605/herodetail/178.shtml',\n",
    " 'http://pvp.qq.com/web201605/herodetail/177.shtml',\n",
    " 'http://pvp.qq.com/web201605/herodetail/175.shtml',\n",
    " 'http://pvp.qq.com/web201605/herodetail/174.shtml',\n",
    " 'http://pvp.qq.com/web201605/herodetail/173.shtml',\n",
    " 'http://pvp.qq.com/web201605/herodetail/171.shtml',\n",
    " 'http://pvp.qq.com/web201605/herodetail/170.shtml',\n",
    " 'http://pvp.qq.com/web201605/herodetail/169.shtml',\n",
    " 'http://pvp.qq.com/web201605/herodetail/168.shtml',\n",
    " 'http://pvp.qq.com/web201605/herodetail/167.shtml',\n",
    " 'http://pvp.qq.com/web201605/herodetail/166.shtml',\n",
    " 'http://pvp.qq.com/web201605/herodetail/163.shtml',\n",
    " 'http://pvp.qq.com/web201605/herodetail/162.shtml',\n",
    " 'http://pvp.qq.com/web201605/herodetail/157.shtml',\n",
    " 'http://pvp.qq.com/web201605/herodetail/156.shtml',\n",
    " 'http://pvp.qq.com/web201605/herodetail/154.shtml',\n",
    " 'http://pvp.qq.com/web201605/herodetail/153.shtml',\n",
    " 'http://pvp.qq.com/web201605/herodetail/152.shtml',\n",
    " 'http://pvp.qq.com/web201605/herodetail/150.shtml',\n",
    " 'http://pvp.qq.com/web201605/herodetail/149.shtml',\n",
    " 'http://pvp.qq.com/web201605/herodetail/148.shtml',\n",
    " 'http://pvp.qq.com/web201605/herodetail/146.shtml',\n",
    " 'http://pvp.qq.com/web201605/herodetail/144.shtml',\n",
    " 'http://pvp.qq.com/web201605/herodetail/142.shtml',\n",
    " 'http://pvp.qq.com/web201605/herodetail/141.shtml',\n",
    " 'http://pvp.qq.com/web201605/herodetail/140.shtml',\n",
    " 'http://pvp.qq.com/web201605/herodetail/139.shtml',\n",
    " 'http://pvp.qq.com/web201605/herodetail/136.shtml',\n",
    " 'http://pvp.qq.com/web201605/herodetail/135.shtml',\n",
    " 'http://pvp.qq.com/web201605/herodetail/134.shtml',\n",
    " 'http://pvp.qq.com/web201605/herodetail/133.shtml',\n",
    " 'http://pvp.qq.com/web201605/herodetail/132.shtml',\n",
    " 'http://pvp.qq.com/web201605/herodetail/131.shtml',\n",
    " 'http://pvp.qq.com/web201605/herodetail/130.shtml',\n",
    " 'http://pvp.qq.com/web201605/herodetail/129.shtml',\n",
    " 'http://pvp.qq.com/web201605/herodetail/128.shtml',\n",
    " 'http://pvp.qq.com/web201605/herodetail/127.shtml',\n",
    " 'http://pvp.qq.com/web201605/herodetail/126.shtml',\n",
    " 'http://pvp.qq.com/web201605/herodetail/124.shtml',\n",
    " 'http://pvp.qq.com/web201605/herodetail/123.shtml',\n",
    " 'http://pvp.qq.com/web201605/herodetail/121.shtml',\n",
    " 'http://pvp.qq.com/web201605/herodetail/120.shtml',\n",
    " 'http://pvp.qq.com/web201605/herodetail/119.shtml',\n",
    " 'http://pvp.qq.com/web201605/herodetail/118.shtml',\n",
    " 'http://pvp.qq.com/web201605/herodetail/117.shtml',\n",
    " 'http://pvp.qq.com/web201605/herodetail/116.shtml',\n",
    " 'http://pvp.qq.com/web201605/herodetail/115.shtml',\n",
    " 'http://pvp.qq.com/web201605/herodetail/114.shtml',\n",
    " 'http://pvp.qq.com/web201605/herodetail/113.shtml',\n",
    " 'http://pvp.qq.com/web201605/herodetail/112.shtml',\n",
    " 'http://pvp.qq.com/web201605/herodetail/111.shtml',\n",
    " 'http://pvp.qq.com/web201605/herodetail/110.shtml',\n",
    " 'http://pvp.qq.com/web201605/herodetail/109.shtml',\n",
    " 'http://pvp.qq.com/web201605/herodetail/108.shtml',\n",
    " 'http://pvp.qq.com/web201605/herodetail/107.shtml',\n",
    " 'http://pvp.qq.com/web201605/herodetail/106.shtml',\n",
    " 'http://pvp.qq.com/web201605/herodetail/105.shtml']"
   ]
  },
  {
   "cell_type": "code",
   "execution_count": 38,
   "metadata": {
    "collapsed": true
   },
   "outputs": [],
   "source": [
    "def get_page(page_url):\n",
    "    \"\"\"\n",
    "    based on the url, get the page information\n",
    "    \"\"\"\n",
    "    try:\n",
    "        if not page_url.startswith(\"http\"):\n",
    "            page_url = \"http://\"+page_url\n",
    "        r = requests.get(page_url)\n",
    "        if 'Content-Type' in r.headers and r.headers['Content-Type'] == 'text/html':\n",
    "            return page_url, r.content\n",
    "        else:\n",
    "            return None\n",
    "    except Exception as inst:\n",
    "        return None"
   ]
  },
  {
   "cell_type": "code",
   "execution_count": 39,
   "metadata": {
    "collapsed": true
   },
   "outputs": [],
   "source": [
    "## beautiful soup version \n",
    "def get_all_links(page):\n",
    "    soup = BeautifulSoup(page, 'lxml')\n",
    "\n",
    "    all_links = [item['href'] \n",
    "                 for item in soup.find_all('a') \n",
    "                 if 'href' in item.attrs]\n",
    "    if all_links:\n",
    "        all_links = [link.strip(\"/\") for link in all_links \n",
    "                     if link.startswith(\"http\") or link.startswith(\"//\")]\n",
    "\n",
    "        ## filter as early as possible\n",
    "        for link in all_links:\n",
    "            parsed_url = urlparse(link)\n",
    "            if parsed_url.path:\n",
    "                file_path, ext_name = os.path.splitext(parsed_url.path)\n",
    "                if ext_name in ('.mp4', '.avi', '.asf', \n",
    "                                '.mov', '.flv', '.pdf',\n",
    "                                '.mpg', '.mpeg', '.wmv',\n",
    "                                '.exe','.rar','.zip','.apk'):\n",
    "                    print(\"skip file download\",link)\n",
    "                    all_links.remove(link)\n",
    "        return all_links\n",
    "    else:\n",
    "        return None"
   ]
  },
  {
   "cell_type": "code",
   "execution_count": 40,
   "metadata": {
    "collapsed": true
   },
   "outputs": [],
   "source": [
    "def extract_information(page_url,page_content):\n",
    "    page_soup = BeautifulSoup(page_content, 'lxml')\n",
    "    page_info = {}\n",
    "    page_title = image_url = page_text= \"\"\n",
    "    for script in page_soup([\"script\", \"style\"]):\n",
    "        script.extract()          \n",
    "    try:\n",
    "        image_url = page_soup.find('img')['src'].strip('/')\n",
    "        if not image_url.startswith(\"http\"):\n",
    "            image_url = \"http://\"+image_url\n",
    "        page_text = ','.join([text for text in page_soup.stripped_strings])\n",
    "        page_title = page_soup.title.text.strip('\\n')\n",
    "    except:\n",
    "        image_url = \"\"\n",
    "    finally:\n",
    "        page_info= {\"url\": page_url,\"title\": page_title, \"image\": image_url,\"content\":page_text}\n",
    "\n",
    "    return page_info"
   ]
  },
  {
   "cell_type": "code",
   "execution_count": 41,
   "metadata": {
    "collapsed": true
   },
   "outputs": [],
   "source": [
    "def crawl_web(seed,max_depth):\n",
    "    tocrawl = seed\n",
    "    crawled = []\n",
    "    next_depth = []\n",
    "    depth = 0    \n",
    "    graph = {}\n",
    "\n",
    "    while tocrawl and depth <= max_depth:\n",
    "        page_url = tocrawl.pop()\n",
    "#        print(\".\",end=\" \")\n",
    "        if page_url not in crawled:\n",
    "            get_url,page_content= get_page(page_url)\n",
    "            page_info = extract_information(get_url,page_content)\n",
    "            if page_content:\n",
    "                graph[page_url] = {}\n",
    "                graph[page_url][\"info\"] = page_info\n",
    "                all_links_onpage = get_all_links(page_content)\n",
    "                if all_links_onpage: #if we got any link on the pages\n",
    "                    union(next_depth, all_links_onpage)\n",
    "                    graph[page_url][\"outlinks\"] = all_links_onpage\n",
    "            #all_info.append([page_url,page_info])\n",
    "            \n",
    "            crawled.append(page_url)\n",
    "\n",
    "        if not tocrawl:\n",
    "            print(\"next round\")            \n",
    "            tocrawl, next_depth = next_depth, []\n",
    "            depth = depth + 1\n",
    "            \n",
    "    return crawled, graph"
   ]
  },
  {
   "cell_type": "code",
   "execution_count": 49,
   "metadata": {},
   "outputs": [
    {
     "name": "stdout",
     "output_type": "stream",
     "text": [
      "next round\n",
      "skip file download dlied6.qq.com/invc/xfspeed/qqpcmgr/download/GameDownload_wzry_Build4096_12.exe\n",
      "skip file download http://dlied5.myapp.com/myapp/1104466820/sgame/2017_com.tencent.tmgp.sgame_h161_1.32.1.25_335782.apk\n",
      "next round\n"
     ]
    }
   ],
   "source": [
    "processed_web, all_pages = crawl_web(seeds, max_depth=1)"
   ]
  },
  {
   "cell_type": "code",
   "execution_count": 57,
   "metadata": {},
   "outputs": [
    {
     "data": {
      "text/plain": [
       "dict"
      ]
     },
     "execution_count": 57,
     "metadata": {},
     "output_type": "execute_result"
    }
   ],
   "source": [
    "import json\n",
    "?json.dump\n",
    "type(all_pages)"
   ]
  },
  {
   "cell_type": "code",
   "execution_count": 60,
   "metadata": {},
   "outputs": [
    {
     "data": {
      "text/plain": [
       "'/Users/joshuaz/Documents/Data Application Lab/教学/Beijing/万门/教学开发/30天'"
      ]
     },
     "execution_count": 60,
     "metadata": {},
     "output_type": "execute_result"
    }
   ],
   "source": [
    "os.getcwd()"
   ]
  },
  {
   "cell_type": "code",
   "execution_count": 59,
   "metadata": {
    "collapsed": true
   },
   "outputs": [],
   "source": [
    "fout = open('wzry.json', 'w')\n",
    "ret = json.dump(all_pages,fout)\n",
    "fout.close()"
   ]
  }
 ],
 "metadata": {
  "kernelspec": {
   "display_name": "Python 3",
   "language": "python",
   "name": "python3"
  },
  "language_info": {
   "codemirror_mode": {
    "name": "ipython",
    "version": 3
   },
   "file_extension": ".py",
   "mimetype": "text/x-python",
   "name": "python",
   "nbconvert_exporter": "python",
   "pygments_lexer": "ipython3",
   "version": "3.6.3"
  }
 },
 "nbformat": 4,
 "nbformat_minor": 2
}
