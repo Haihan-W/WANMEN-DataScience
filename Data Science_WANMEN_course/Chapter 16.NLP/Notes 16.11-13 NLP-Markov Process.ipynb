{
 "cells": [
  {
   "cell_type": "code",
   "execution_count": 1,
   "metadata": {},
   "outputs": [],
   "source": [
    "import jieba # 分词软件\n",
    "import re #normalization \n",
    "import copy \n",
    "\n",
    "from sklearn.preprocessing import LabelEncoder\n",
    "\n",
    "import numpy as np\n",
    "\n",
    "from collections import OrderedDict"
   ]
  },
  {
   "cell_type": "markdown",
   "metadata": {},
   "source": [
    "## Data Cleaning"
   ]
  },
  {
   "cell_type": "code",
   "execution_count": 6,
   "metadata": {},
   "outputs": [
    {
     "name": "stdout",
     "output_type": "stream",
     "text": [
      "《红楼梦》曹雪芹\n",
      "\n",
      "\n",
      "\n",
      "严正声明：本书为丫丫小说网(www.shuyaya.com)的用户上传至其在本站的存储空间，本站只提供TXT全集电子书存储服务以及免费下载服务，以下作品内容之版权与本站无任何关系。\n",
      "\n",
      "在线阅读：http://www.shuyaya.com/read/2034/\n",
      "\n",
      "--------------------------------------------------\n",
      "\n",
      "\n",
      "\n",
      "第一回  甄士隐梦幻识通灵　贾雨村风尘怀闺秀\n",
      "\n",
      "\n",
      "\n",
      "    \t\t\n",
      "\n",
      "\n",
      "\n",
      "    此开卷第一回也．作者自云：因曾历过一番梦幻之后，故将真事隐去，而借\"通灵\"之说，撰此《石头记》一书也．故曰\"甄士隐\"云云．但书中所记何事何人？自又云：“今风尘碌碌，一事无成，忽念及当日所有之女子，一一细考较去，觉其行止见识，皆出于我之上．何我堂堂须眉，诚不若彼裙钗哉？实愧则有余，悔又无益之大无可如何之日也！当此，则自欲将已往所赖天恩祖德，锦衣纨绔之时，饫甘餍肥之日，背父兄教育之恩，负师友规谈之德，以至今日一技无成，半生潦倒之罪，编述一集，以告天下人：我之罪固不免，然闺阁中本自历历有人，万不可因我之不肖，自护己短，一并使其泯灭也．虽今日之茅椽蓬牖，瓦灶绳床，其晨夕风露，阶柳庭花，亦未有妨我之襟怀笔墨者．虽我未学，下笔无文，又何妨用假语村言，敷演出一段故事来，亦可使闺阁昭传，复可悦世之目，破人愁闷，不亦宜乎？\"故曰\"贾雨村\"云云．\n",
      "\n"
     ]
    }
   ],
   "source": [
    "with open('data/hongloumeng.txt', encoding='utf-8', mode = 'r') as f:\n",
    "    i=0\n",
    "    for line in f:\n",
    "        print (line)\n",
    "        i+=1\n",
    "        if i>10:\n",
    "            break"
   ]
  },
  {
   "cell_type": "code",
   "execution_count": 15,
   "metadata": {
    "collapsed": true
   },
   "outputs": [],
   "source": [
    "def cut_sentence(text):  #cut sentences by punctuations\n",
    "    start = 0\n",
    "    i = 0\n",
    "    sentences = []\n",
    "\n",
    "    #punt_list = ',.!?:;~，。！？：；～'\n",
    "    #punt_list = ',.!?:;~，．。！？：；～'\n",
    "    punt_list = '.!?~． 。！？～\\n'\n",
    "    for word in text:\n",
    "        if word in punt_list and token not in punt_list: #检查标点符号下一个字符是否还是标点\n",
    "            sentences.append(text[start:i+1])\n",
    "            start = i+1\n",
    "            i += 1\n",
    "        else:\n",
    "            i += 1\n",
    "            token = list(text[start:i+2]).pop() # 取下一个字符\n",
    "    if start < len(text):\n",
    "        sentences.append(text[start:])\n",
    "    return sentences"
   ]
  },
  {
   "cell_type": "code",
   "execution_count": 16,
   "metadata": {},
   "outputs": [
    {
     "data": {
      "text/plain": [
       "<function TextIOWrapper.close>"
      ]
     },
     "execution_count": 16,
     "metadata": {},
     "output_type": "execute_result"
    }
   ],
   "source": [
    "f=open('data/hongloumeng.txt', encoding='utf-8', mode = 'r')\n",
    "context=f.read()\n",
    "sentences=cut_sentence(context)\n",
    "f.close"
   ]
  },
  {
   "cell_type": "code",
   "execution_count": 18,
   "metadata": {},
   "outputs": [
    {
     "name": "stdout",
     "output_type": "stream",
     "text": [
      "《红楼梦》曹雪芹\n",
      "\n",
      "\n",
      "严正声明：本书为丫丫小说网(www.\n",
      "shuyaya.\n",
      "com)的用户上传至其在本站的存储空间，本站只提供TXT全集电子书存储服务以及免费下载服务，以下作品内容之版权与本站无任何关系。\n",
      "\n",
      "在线阅读：http://www.\n",
      "shuyaya.\n",
      "com/read/2034/\n",
      "\n",
      "--------------------------------------------------\n",
      "\n",
      "\n",
      "第一回  \n",
      "甄士隐梦幻识通灵　贾雨村风尘怀闺秀\n",
      "\n",
      "    \n"
     ]
    }
   ],
   "source": [
    "for s in sentences[:10]:\n",
    "    print (s)"
   ]
  },
  {
   "cell_type": "code",
   "execution_count": 20,
   "metadata": {
    "collapsed": true
   },
   "outputs": [],
   "source": [
    "filter_re = re.compile(u'[^\\u4E00-\\u9FA5]') # all chinese characters' encoding range"
   ]
  },
  {
   "cell_type": "code",
   "execution_count": 24,
   "metadata": {},
   "outputs": [],
   "source": [
    "f=open('data/cleaned_hongloumeng.txt', encoding='utf-8', mode = 'w') #created a new writable/editable doc called \"cleaned_hongloumeng.txt'\n",
    "for s in sentences:\n",
    "    cleaned_s=filter_re.sub(r'',s) # substitute all non-chinese characters in sentences\n",
    "    if len(cleaned_s):\n",
    "        f.write(cleaned_s+'\\n')\n",
    "f.close()"
   ]
  },
  {
   "cell_type": "markdown",
   "metadata": {},
   "source": [
    "### Now all punctuations and english characters have been removed; Only Chinese characters have been kept"
   ]
  },
  {
   "cell_type": "code",
   "execution_count": 28,
   "metadata": {
    "collapsed": true
   },
   "outputs": [],
   "source": [
    "# put all chinese sentences into a list\n",
    "cleaned_sentences = []\n",
    "for s in sentences:\n",
    "    cleaned_s = filter_re.sub(r'', s)\n",
    "    if len(cleaned_s) :\n",
    "        cleaned_sentences.append(cleaned_s)"
   ]
  },
  {
   "cell_type": "code",
   "execution_count": 29,
   "metadata": {},
   "outputs": [
    {
     "data": {
      "text/plain": [
       "['红楼梦曹雪芹',\n",
       " '严正声明本书为丫丫小说网',\n",
       " '的用户上传至其在本站的存储空间本站只提供全集电子书存储服务以及免费下载服务以下作品内容之版权与本站无任何关系',\n",
       " '在线阅读',\n",
       " '第一回',\n",
       " '甄士隐梦幻识通灵贾雨村风尘怀闺秀',\n",
       " '此开卷第一回也',\n",
       " '作者自云因曾历过一番梦幻之后故将真事隐去而借通灵之说撰此石头记一书也',\n",
       " '故曰甄士隐云云',\n",
       " '但书中所记何事何人',\n",
       " '自又云今风尘碌碌一事无成忽念及当日所有之女子一一细考较去觉其行止见识皆出于我之上',\n",
       " '何我堂堂须眉诚不若彼裙钗哉',\n",
       " '实愧则有余悔又无益之大无可如何之日也',\n",
       " '当此则自欲将已往所赖天恩祖德锦衣纨绔之时饫甘餍肥之日背父兄教育之恩负师友规谈之德以至今日一技无成半生潦倒之罪编述一集以告天下人我之罪固不免然闺阁中本自历历有人万不可因我之不肖自护己短一并使其泯灭也',\n",
       " '虽今日之茅椽蓬牖瓦灶绳床其晨夕风露阶柳庭花亦未有妨我之襟怀笔墨者',\n",
       " '虽我未学下笔无文又何妨用假语村言敷演出一段故事来亦可使闺阁昭传复可悦世之目破人愁闷不亦宜乎',\n",
       " '故曰贾雨村云云',\n",
       " '此回中凡用梦用幻等字是提醒阅者眼目亦是此书立意本旨',\n",
       " '列位看官你道此书从何而来',\n",
       " '说起根由虽近荒唐细按则深有趣味']"
      ]
     },
     "execution_count": 29,
     "metadata": {},
     "output_type": "execute_result"
    }
   ],
   "source": [
    "cleaned_sentences[:20]"
   ]
  },
  {
   "cell_type": "markdown",
   "metadata": {},
   "source": [
    "### Use jieba.cut() to cut sentence to phrase"
   ]
  },
  {
   "cell_type": "code",
   "execution_count": 31,
   "metadata": {},
   "outputs": [
    {
     "name": "stdout",
     "output_type": "stream",
     "text": [
      "说起\n",
      "根由\n",
      "虽近\n",
      "荒唐\n",
      "细\n",
      "按\n",
      "则\n",
      "深有\n",
      "趣味\n"
     ]
    }
   ],
   "source": [
    "# an example:\n",
    "for s in jieba.cut('说起根由虽近荒唐细按则深有趣味'):\n",
    "    print (s)"
   ]
  },
  {
   "cell_type": "code",
   "execution_count": 32,
   "metadata": {},
   "outputs": [
    {
     "data": {
      "text/plain": [
       "generator"
      ]
     },
     "execution_count": 32,
     "metadata": {},
     "output_type": "execute_result"
    }
   ],
   "source": [
    "type(jieba.cut('说起根由虽近荒唐细按则深有趣味'))"
   ]
  },
  {
   "cell_type": "code",
   "execution_count": 33,
   "metadata": {},
   "outputs": [
    {
     "name": "stdout",
     "output_type": "stream",
     "text": [
      "<generator object Tokenizer.cut at 0x0000013A6187AA40>\n"
     ]
    }
   ],
   "source": [
    "print (jieba.cut('说起根由虽近荒唐细按则深有趣味'))"
   ]
  },
  {
   "cell_type": "code",
   "execution_count": 35,
   "metadata": {},
   "outputs": [
    {
     "name": "stdout",
     "output_type": "stream",
     "text": [
      "['说起', '根由', '虽近', '荒唐', '细', '按', '则', '深有', '趣味']\n"
     ]
    }
   ],
   "source": [
    "print (list(jieba.cut('说起根由虽近荒唐细按则深有趣味')))"
   ]
  },
  {
   "cell_type": "code",
   "execution_count": 36,
   "metadata": {},
   "outputs": [
    {
     "name": "stdout",
     "output_type": "stream",
     "text": [
      "['红楼梦', '曹雪芹']\n"
     ]
    }
   ],
   "source": [
    "# Just like above, do the similar for all sentences in cleaned_sentences\n",
    "cut_sentences = [list(jieba.cut(s)) for s in cleaned_sentences]\n",
    "print (cut_sentences[0])"
   ]
  },
  {
   "cell_type": "code",
   "execution_count": 61,
   "metadata": {},
   "outputs": [
    {
     "data": {
      "text/plain": [
       "[['红楼梦', '曹雪芹'],\n",
       " ['严正声明', '本书', '为', '丫丫', '小说网'],\n",
       " ['的',\n",
       "  '用户',\n",
       "  '上传',\n",
       "  '至',\n",
       "  '其',\n",
       "  '在',\n",
       "  '本站',\n",
       "  '的',\n",
       "  '存储空间',\n",
       "  '本站',\n",
       "  '只',\n",
       "  '提供',\n",
       "  '全集',\n",
       "  '电子书',\n",
       "  '存储',\n",
       "  '服务',\n",
       "  '以及',\n",
       "  '免费',\n",
       "  '下载',\n",
       "  '服务',\n",
       "  '以下',\n",
       "  '作品',\n",
       "  '内容',\n",
       "  '之',\n",
       "  '版权',\n",
       "  '与',\n",
       "  '本站',\n",
       "  '无',\n",
       "  '任何',\n",
       "  '关系'],\n",
       " ['在线', '阅读'],\n",
       " ['第一回'],\n",
       " ['甄士隐', '梦幻', '识通灵', '贾雨村', '风尘', '怀', '闺秀'],\n",
       " ['此', '开卷', '第一回', '也'],\n",
       " ['作者',\n",
       "  '自云因',\n",
       "  '曾',\n",
       "  '历过',\n",
       "  '一番',\n",
       "  '梦幻',\n",
       "  '之后',\n",
       "  '故',\n",
       "  '将',\n",
       "  '真事',\n",
       "  '隐去',\n",
       "  '而',\n",
       "  '借',\n",
       "  '通灵之',\n",
       "  '说',\n",
       "  '撰此',\n",
       "  '石头记',\n",
       "  '一书',\n",
       "  '也'],\n",
       " ['故曰', '甄士隐', '云云'],\n",
       " ['但书中', '所记', '何事', '何人']]"
      ]
     },
     "execution_count": 61,
     "metadata": {},
     "output_type": "execute_result"
    }
   ],
   "source": [
    "cut_sentences[0:10]"
   ]
  },
  {
   "cell_type": "markdown",
   "metadata": {},
   "source": [
    "## Language Model: n-grams"
   ]
  },
  {
   "cell_type": "code",
   "execution_count": 39,
   "metadata": {
    "collapsed": true
   },
   "outputs": [],
   "source": [
    "generate_ngrams = lambda sentence, n : zip(*[sentence[i:] for i in range(n)]) # set up a function to generate n-grams language model\n",
    "# note: n in above argument --> n-gram (i.e. n=1, unigram; n=2, bigram; n=3, trigram)"
   ]
  },
  {
   "cell_type": "code",
   "execution_count": 50,
   "metadata": {
    "scrolled": true
   },
   "outputs": [
    {
     "name": "stdout",
     "output_type": "stream",
     "text": [
      "自\n",
      "又\n",
      "云今\n",
      "风尘碌碌\n",
      "一事无成\n",
      "忽\n",
      "念及\n",
      "当日\n",
      "所有\n",
      "之\n",
      "女子\n",
      "一一\n",
      "细考\n",
      "较\n",
      "去\n",
      "觉\n",
      "其\n",
      "行止\n",
      "见识\n",
      "皆\n",
      "出于\n",
      "我\n",
      "之上\n"
     ]
    }
   ],
   "source": [
    "for unigram in generate_ngrams(cut_sentences[10], 1):\n",
    "    print (unigram[0])"
   ]
  },
  {
   "cell_type": "code",
   "execution_count": 49,
   "metadata": {},
   "outputs": [
    {
     "name": "stdout",
     "output_type": "stream",
     "text": [
      "自 又\n",
      "又 云今\n",
      "云今 风尘碌碌\n",
      "风尘碌碌 一事无成\n",
      "一事无成 忽\n",
      "忽 念及\n",
      "念及 当日\n",
      "当日 所有\n",
      "所有 之\n",
      "之 女子\n",
      "女子 一一\n",
      "一一 细考\n",
      "细考 较\n",
      "较 去\n",
      "去 觉\n",
      "觉 其\n",
      "其 行止\n",
      "行止 见识\n",
      "见识 皆\n",
      "皆 出于\n",
      "出于 我\n",
      "我 之上\n"
     ]
    }
   ],
   "source": [
    "# test generate_ngrams function\n",
    "for bigram in generate_ngrams(cut_sentences[10], 2):\n",
    "    print (bigram[0], bigram[1])\n"
   ]
  },
  {
   "cell_type": "code",
   "execution_count": 58,
   "metadata": {},
   "outputs": [
    {
     "name": "stdout",
     "output_type": "stream",
     "text": [
      "自 又 云今\n",
      "又 云今 风尘碌碌\n",
      "云今 风尘碌碌 一事无成\n",
      "风尘碌碌 一事无成 忽\n",
      "一事无成 忽 念及\n",
      "忽 念及 当日\n",
      "念及 当日 所有\n",
      "当日 所有 之\n",
      "所有 之 女子\n",
      "之 女子 一一\n",
      "女子 一一 细考\n",
      "一一 细考 较\n",
      "细考 较 去\n",
      "较 去 觉\n",
      "去 觉 其\n",
      "觉 其 行止\n",
      "其 行止 见识\n",
      "行止 见识 皆\n",
      "见识 皆 出于\n",
      "皆 出于 我\n",
      "出于 我 之上\n"
     ]
    }
   ],
   "source": [
    "for trigram in generate_ngrams(cut_sentences[10], 3):\n",
    "    print (trigram[0],trigram[1],trigram[2])"
   ]
  },
  {
   "cell_type": "markdown",
   "metadata": {},
   "source": [
    "## Maximum Likehood Parameter Estimation\n",
    "After setting-up n-gram model, next step is to calculate maximum likelihood parameter estimation (PDF P22, 21)"
   ]
  },
  {
   "cell_type": "code",
   "execution_count": 60,
   "metadata": {
    "collapsed": true
   },
   "outputs": [],
   "source": [
    "# maximum likelihood parameter estimation \n",
    "def ngrams_parameter_estimate(sentences, n):\n",
    "    sentences_copy = copy.deepcopy(sentences)\n",
    "    ngrams_dict = {}\n",
    "    num_ngrams = 0\n",
    "    for words in sentences_copy:\n",
    "        for i in range(n-1):\n",
    "            words.insert(0, '*')  # add \"*\" at beginning of each cutted sentence\n",
    "        words.append('#')  # add stop sign \"#\" at end of each cutted sentence\n",
    "        ngrams = generate_ngrams(words, n) # sub those to pre-defined n-gram language model above\n",
    "        for ngram in ngrams:\n",
    "            ngrams_dict[ngram] = ngrams_dict.get(ngram, 0.0) + 1.0  # form a dictionary with key=word, value=frequency\n",
    "            num_ngrams += 1  # count total # of unique word appeared\n",
    "    \n",
    "    # normalize (optional)\n",
    "    #for ngram in ngrams_dict:\n",
    "        #ngrams_dict[ngram] /= num_ngrams\n",
    "        \n",
    "    return ngrams_dict, num_ngrams"
   ]
  },
  {
   "cell_type": "code",
   "execution_count": 64,
   "metadata": {},
   "outputs": [],
   "source": [
    "# for example: unigram\n",
    "unigrams_dict, n_unigrams = ngrams_parameter_estimate(cut_sentences, 1)"
   ]
  },
  {
   "cell_type": "code",
   "execution_count": 77,
   "metadata": {},
   "outputs": [
    {
     "name": "stdout",
     "output_type": "stream",
     "text": [
      "k:  ('红楼梦',)\n",
      "v:  9.0\n",
      "k:  ('曹雪芹',)\n",
      "v:  5.0\n",
      "k:  ('#',)\n",
      "v:  34412.0\n",
      "k:  ('严正声明',)\n",
      "v:  1.0\n",
      "k:  ('本书',)\n",
      "v:  7.0\n",
      "k:  ('为',)\n",
      "v:  529.0\n",
      "k:  ('丫丫',)\n",
      "v:  1.0\n",
      "k:  ('小说网',)\n",
      "v:  1.0\n",
      "k:  ('的',)\n",
      "v:  14115.0\n"
     ]
    }
   ],
   "source": [
    "for k, v in unigrams_dict.items():\n",
    "    print (\"k: \",k)\n",
    "    print (\"v: \",v)\n",
    "    i+=1\n",
    "    if i>20:\n",
    "        break"
   ]
  },
  {
   "cell_type": "code",
   "execution_count": 72,
   "metadata": {
    "collapsed": true
   },
   "outputs": [],
   "source": [
    "def fx(k,v):\n",
    "    return (v,k)"
   ]
  },
  {
   "cell_type": "code",
   "execution_count": 81,
   "metadata": {},
   "outputs": [],
   "source": [
    "# sort by frequency of word, create a sorted_dictionary with key=(word,), value=frequency where frequency>=10 (note: we\n",
    "ignored words with frequency<10, i.e. v<10 as below)\n",
    "filtered_unigrams_dict = OrderedDict(sorted([(k, v) for k, v in unigrams_dict.items() if v >= 10], key = lambda x: x[1], reverse=True))"
   ]
  },
  {
   "cell_type": "markdown",
   "metadata": {},
   "source": [
    "- PLEASE NOTE: In Python 3, dictionaries (including OrderedDict) return \"view\" objects from their keys() and values() methods. Those are iterable, but don't support indexing. \n",
    "- To refer to position of the list of .key() or .value(), e.g. .keys()[0] (the first key in dictionary), you need to make list() of .keys() then refer to the position by indexing, e.g. list(dict.keys())[0]"
   ]
  },
  {
   "cell_type": "code",
   "execution_count": 91,
   "metadata": {
    "collapsed": true
   },
   "outputs": [],
   "source": [
    "listofkey=list(filtered_unigrams_dict.keys())"
   ]
  },
  {
   "cell_type": "code",
   "execution_count": 93,
   "metadata": {
    "scrolled": true
   },
   "outputs": [
    {
     "name": "stdout",
     "output_type": "stream",
     "text": [
      "('#',)\n",
      "34412.0\n"
     ]
    }
   ],
   "source": [
    "print(listofkey[0])  #the word of key in first position(highest frequency)\n",
    "print(filtered_unigrams_dict[listofkey[0]]) #its frequency"
   ]
  },
  {
   "cell_type": "code",
   "execution_count": 92,
   "metadata": {},
   "outputs": [
    {
     "name": "stdout",
     "output_type": "stream",
     "text": [
      "word: #, frequency: 34412.0\n",
      "word: 了, frequency: 19613.0\n",
      "word: 今儿, frequency: 286.0\n",
      "word: 查抄, frequency: 10.0\n"
     ]
    }
   ],
   "source": [
    "print ('word: %s, frequency: %s' % (listofkey[0][0], filtered_unigrams_dict[listofkey[0]])) # highest frequency\n",
    "print ('word: %s, frequency: %s' % (listofkey[1][0], filtered_unigrams_dict[listofkey[1]])) # 2nd highest frequency\n",
    "print ('word: %s, frequency: %s' % (listofkey[200][0], filtered_unigrams_dict[listofkey[200]])) # 201 highest frequency\n",
    "print ('word: %s, frequency: %s' % (listofkey[-1][0], filtered_unigrams_dict[listofkey[-1]])) # the least frequency"
   ]
  },
  {
   "cell_type": "markdown",
   "metadata": {},
   "source": [
    "visualization"
   ]
  },
  {
   "cell_type": "code",
   "execution_count": 95,
   "metadata": {
    "collapsed": true
   },
   "outputs": [],
   "source": [
    "import matplotlib.pyplot as plt\n",
    "import seaborn as sns\n",
    "\n",
    "%matplotlib inline"
   ]
  },
  {
   "cell_type": "markdown",
   "metadata": {},
   "source": [
    "- PLEASE NOTE: similar like .keys(), dict.values() in python 3 still needs list() to actually use it instead of viewing it (see below list(filtered_unigrams_dict.values()) [note: np.log10(filtered_unigrams_dict.values()) won't work, it only worked in python 2, I added a list() to make it work in python 3]"
   ]
  },
  {
   "cell_type": "code",
   "execution_count": 107,
   "metadata": {},
   "outputs": [
    {
     "data": {
      "text/plain": [
       "[Text(0,0.5,'frequency'), Text(0.5,0,'log(word frequency)')]"
      ]
     },
     "execution_count": 107,
     "metadata": {},
     "output_type": "execute_result"
    },
    {
     "data": {
      "image/png": "[encoded data removed]",
      "text/plain": [
       "<matplotlib.figure.Figure at 0x13a6d753630>"
      ]
     },
     "metadata": {},
     "output_type": "display_data"
    }
   ],
   "source": [
    "ax = sns.distplot(np.log10(list(filtered_unigrams_dict.values())))\n",
    "ax.set(xlabel='log(word frequency)', ylabel='frequency')"
   ]
  },
  {
   "cell_type": "markdown",
   "metadata": {},
   "source": [
    "## Evaluate Language Model with Perplexity(迷惑度) with train/test dataset"
   ]
  },
  {
   "cell_type": "markdown",
   "metadata": {},
   "source": [
    "- see PDF P 23"
   ]
  },
  {
   "cell_type": "markdown",
   "metadata": {},
   "source": [
    "### Split Data into Train, Valid, Test"
   ]
  },
  {
   "cell_type": "code",
   "execution_count": 108,
   "metadata": {
    "collapsed": true
   },
   "outputs": [],
   "source": [
    "n_samples = len(cut_sentences)\n",
    "n_valid = int(n_samples * 0.2)\n",
    "n_test = int(n_samples * 0.3)"
   ]
  },
  {
   "cell_type": "code",
   "execution_count": 109,
   "metadata": {
    "collapsed": true
   },
   "outputs": [],
   "source": [
    "permutation = np.random.permutation(n_samples)"
   ]
  },
  {
   "cell_type": "code",
   "execution_count": 110,
   "metadata": {
    "collapsed": true
   },
   "outputs": [],
   "source": [
    "shuffled_sentences = np.array(cut_sentences)[permutation]"
   ]
  },
  {
   "cell_type": "code",
   "execution_count": 111,
   "metadata": {
    "collapsed": true
   },
   "outputs": [],
   "source": [
    "train = shuffled_sentences[:n_samples-n_test-n_valid]\n",
    "valid = shuffled_sentences[n_samples-n_test-n_valid:n_samples-n_test]\n",
    "test = shuffled_sentences[n_samples-n_test:]"
   ]
  },
  {
   "cell_type": "markdown",
   "metadata": {},
   "source": [
    "### Build Language Model on Training dataset"
   ]
  },
  {
   "cell_type": "code",
   "execution_count": 112,
   "metadata": {
    "collapsed": true
   },
   "outputs": [],
   "source": [
    "unigram_dict, n_unigrams = ngrams_parameter_estimate(train, 1)\n",
    "bigrams_dict, n_bigrams = ngrams_parameter_estimate(train, 2)\n",
    "trigrams_dict, n_trigrams = ngrams_parameter_estimate(train, 3)"
   ]
  },
  {
   "cell_type": "code",
   "execution_count": 113,
   "metadata": {},
   "outputs": [
    {
     "data": {
      "text/plain": [
       "242714"
      ]
     },
     "execution_count": 113,
     "metadata": {},
     "output_type": "execute_result"
    }
   ],
   "source": [
    "n_unigrams"
   ]
  },
  {
   "cell_type": "code",
   "execution_count": 114,
   "metadata": {},
   "outputs": [
    {
     "data": {
      "text/plain": [
       "242714"
      ]
     },
     "execution_count": 114,
     "metadata": {},
     "output_type": "execute_result"
    }
   ],
   "source": [
    "n_bigrams"
   ]
  },
  {
   "cell_type": "code",
   "execution_count": 115,
   "metadata": {},
   "outputs": [
    {
     "data": {
      "text/plain": [
       "242714"
      ]
     },
     "execution_count": 115,
     "metadata": {},
     "output_type": "execute_result"
    }
   ],
   "source": [
    "n_trigrams"
   ]
  },
  {
   "cell_type": "markdown",
   "metadata": {},
   "source": [
    "- why same amount of # grams among the above three? -- Because I have added a \"*\" and \"#\" sign for each cutted sentences"
   ]
  },
  {
   "cell_type": "markdown",
   "metadata": {},
   "source": [
    "### Test Our Uni-, Bi-, Tri-gram Model on Testing dataset"
   ]
  },
  {
   "cell_type": "markdown",
   "metadata": {},
   "source": [
    "#### 1. Testing using general log probability to calculate perplexity (PDF P23-25)"
   ]
  },
  {
   "cell_type": "code",
   "execution_count": 127,
   "metadata": {
    "collapsed": true
   },
   "outputs": [],
   "source": [
    "def calculate_sentence_log_probability(sentence, n, num_grams, ngrams_dict, n_1grams_dict=None): #log probability (PDF P23)\n",
    "    assert len(list(ngrams_dict.keys())[0])== n, n\n",
    "    if n_1grams_dict is None:\n",
    "        assert n == 1\n",
    "    ngrams = generate_ngrams(sentence, n)\n",
    "    log_prob, has_unknown_ngram = 0.0, False\n",
    "    for ngram in ngrams:\n",
    "        if ngram in ngrams_dict:\n",
    "            if n == 1:\n",
    "                log_prob += np.log2(ngrams_dict[ngram]/num_grams)\n",
    "            else:\n",
    "                log_prob += np.log2(ngrams_dict[ngram]/n_1grams_dict[ngram[:n-1]])\n",
    "        else:\n",
    "            has_unknown_ngram = True\n",
    "    return 0.0 if has_unknown_ngram else log_prob"
   ]
  },
  {
   "cell_type": "code",
   "execution_count": 128,
   "metadata": {
    "collapsed": true
   },
   "outputs": [],
   "source": [
    "def compute_total_words(sentences):\n",
    "    \n",
    "    return np.sum([len(s) for s in sentences])"
   ]
  },
  {
   "cell_type": "code",
   "execution_count": 129,
   "metadata": {},
   "outputs": [
    {
     "data": {
      "text/plain": [
       "134818"
      ]
     },
     "execution_count": 129,
     "metadata": {},
     "output_type": "execute_result"
    }
   ],
   "source": [
    "n_words_in_test = compute_total_words(test)\n",
    "n_words_in_test"
   ]
  },
  {
   "cell_type": "code",
   "execution_count": 130,
   "metadata": {},
   "outputs": [
    {
     "name": "stdout",
     "output_type": "stream",
     "text": [
      "Number of words in test: 134818\n",
      "Perplexity for uni gram language model: 15.243750590959857\n",
      "Perplexity for bi gram language model: 1.0866422336263726\n",
      "Perplexity for tri gram language model: 1.0068247873077378\n"
     ]
    }
   ],
   "source": [
    "# calculate perplexity for n-grams model using testing set: (PDF P 23)\n",
    "ngrams_list = [unigram_dict, bigrams_dict, trigrams_dict]\n",
    "ngrams_names = ['uni', 'bi', 'tri']\n",
    "print (\"Number of words in test: {}\".format(n_words_in_test))\n",
    "for n in range(1, 4):\n",
    "    sum_log_prob = 0.0\n",
    "    for s in test:\n",
    "        if n == 1:\n",
    "            sum_log_prob += calculate_sentence_log_probability(s, n, n_unigrams, ngrams_list[n-1])\n",
    "        else:\n",
    "            sum_log_prob += calculate_sentence_log_probability(s, n, n_unigrams, ngrams_list[n-1], ngrams_list[n-2])\n",
    "    perplexity = 2**(-sum_log_prob/n_words_in_test)\n",
    "    \n",
    "    print (\"Perplexity for {} gram language model: {}\".format(ngrams_names[n-1], perplexity))"
   ]
  },
  {
   "cell_type": "markdown",
   "metadata": {},
   "source": [
    "#### Conclusion for above: perplexity smaller means language is better(PDF P24)--> we can see unigram is the worst; bi-gram and trigram are both good. "
   ]
  },
  {
   "cell_type": "code",
   "execution_count": null,
   "metadata": {
    "collapsed": true
   },
   "outputs": [],
   "source": [
    "# same testing using validation dataset, same as above, so we can skip for now...\n",
    "n_words_in_valid = compute_total_words(valid)\n",
    "print \"Number of words in valid: {}\".format(n_words_in_valid)\n",
    "for n in range(1, 4):\n",
    "    sum_log_prob = 0.0\n",
    "    for s in valid:\n",
    "        if n == 1:\n",
    "            sum_log_prob += calculate_sentence_log_probability(s, n, n_unigrams, ngrams_list[n-1])\n",
    "        else:\n",
    "            sum_log_prob += calculate_sentence_log_probability(s, n, n_unigrams, ngrams_list[n-1], ngrams_list[n-2])\n",
    "    perplexity = 2**(-sum_log_prob/n_words_in_valid)\n",
    "    \n",
    "    print \"Perplexity for {} gram language model: {}\".format(ngrams_names[n-1], perplexity)"
   ]
  },
  {
   "cell_type": "markdown",
   "metadata": {},
   "source": [
    "#### 2. Testing using log probability w/ Linear Interpolation Smoothing to calculate perplexity (PDF P26-27)"
   ]
  },
  {
   "cell_type": "code",
   "execution_count": 147,
   "metadata": {
    "collapsed": true
   },
   "outputs": [],
   "source": [
    "def sentence_log_probability_with_linear_interpolation(sentence, num_grams, ngrams_list, lambdas):\n",
    "    ngrams = generate_ngrams(sentence, 3)\n",
    "    log_prob, has_unknown_ngram = 0.0, False\n",
    "    for ngram in ngrams:\n",
    "        if ngram in ngrams_list[2]:\n",
    "            prob = 0.0\n",
    "            for i in range(3):\n",
    "                if i == 0:\n",
    "                    prob += ngrams_list[i][ngram[:i+1]]*lambdas[i]/num_grams\n",
    "                else:\n",
    "                    prob += ngrams_list[i][ngram[:i+1]]*lambdas[i]/ngrams_list[i-1][ngram[:i]]\n",
    "            log_prob += np.log2(prob) if prob > 0.0 else 0.0\n",
    "        else:\n",
    "            has_unknown_ngram = True\n",
    "    return 0.0 if has_unknown_ngram else log_prob"
   ]
  },
  {
   "cell_type": "markdown",
   "metadata": {},
   "source": [
    " - Find best lambdas combination below to Maximize Weighted Sum of Log Probability w/ Linear Interpolation Smoothing (Equation L(...)=... on PDF P 27) "
   ]
  },
  {
   "cell_type": "code",
   "execution_count": 148,
   "metadata": {},
   "outputs": [],
   "source": [
    "def random_search_lambdas(sentences, n_iter, n_unigrams, ngrams_list, verbose=True):\n",
    "    best_lambda_1, best_lambda_2, best_lambda_3 = None, None, None\n",
    "    best_log_prob = -np.inf\n",
    "    for i in range(n_iter):\n",
    "        lambda_1 = np.random.uniform(0, 1)\n",
    "        lambda_2 = np.random.uniform(0, 1-lambda_1)\n",
    "        lambda_3 = 1.0 - lambda_1 - lambda_2        # All three lambdas must be >0\n",
    "        lambdas = [lambda_1, lambda_2, lambda_3]\n",
    "        sum_log_prob = 0.0\n",
    "        for s in valid:\n",
    "            sum_log_prob += sentence_log_probability_with_linear_interpolation(s, n_unigrams, ngrams_list, lambdas)\n",
    "        if sum_log_prob > best_log_prob:\n",
    "            best_log_prob = sum_log_prob\n",
    "            best_lambda_1, best_lambda_2, best_lambda_3 = tuple(lambdas)\n",
    "        if verbose:\n",
    "            print (\"current best log_prob: {}\".format(best_log_prob))\n",
    "            \n",
    "    return [best_lambda_1, best_lambda_2, best_lambda_3]"
   ]
  },
  {
   "cell_type": "code",
   "execution_count": 149,
   "metadata": {},
   "outputs": [
    {
     "name": "stdout",
     "output_type": "stream",
     "text": [
      "current best log_prob: -1321.9976076970513\n",
      "current best log_prob: -1178.2458477273863\n",
      "current best log_prob: -1178.2458477273863\n",
      "current best log_prob: -1178.2458477273863\n",
      "current best log_prob: -835.9468839964425\n",
      "current best log_prob: -835.9468839964425\n",
      "current best log_prob: -835.9468839964425\n",
      "current best log_prob: -835.9468839964425\n",
      "current best log_prob: -835.9468839964425\n",
      "current best log_prob: -835.9468839964425\n"
     ]
    }
   ],
   "source": [
    "best_lambdas = random_search_lambdas(valid, 10, n_unigrams, ngrams_list)"
   ]
  },
  {
   "cell_type": "code",
   "execution_count": 150,
   "metadata": {},
   "outputs": [
    {
     "data": {
      "text/plain": [
       "[0.03449309798939648, 0.45996695823350303, 0.5055399437771004]"
      ]
     },
     "execution_count": 150,
     "metadata": {},
     "output_type": "execute_result"
    }
   ],
   "source": [
    "best_lambdas"
   ]
  },
  {
   "cell_type": "code",
   "execution_count": 151,
   "metadata": {},
   "outputs": [
    {
     "name": "stdout",
     "output_type": "stream",
     "text": [
      "Number of words in valid: 89866\n",
      "Perplexity for smoothed trigram language model: 1.0064685895992813\n"
     ]
    }
   ],
   "source": [
    "# use best_lambdas to recalculate perplexity\n",
    "n_words_in_valid = compute_total_words(valid)\n",
    "lambdas = best_lambdas\n",
    "print (\"Number of words in valid: {}\".format(n_words_in_valid))\n",
    "sum_log_prob = 0.0\n",
    "for s in valid:\n",
    "    sum_log_prob += sentence_log_probability_with_linear_interpolation(s, n_unigrams, ngrams_list, lambdas)\n",
    "perplexity = 2**(-sum_log_prob/n_words_in_valid)\n",
    "    \n",
    "print (\"Perplexity for smoothed trigram language model: {}\".format(perplexity))"
   ]
  },
  {
   "cell_type": "markdown",
   "metadata": {},
   "source": [
    "#### Conclusion for method above with linear interpolation smoothing--> compared trigram model perplexity between this smoothing method (1.0064685895992813) and general method(without smoothing, 1.0068247873077378), we found results was improved a little bit."
   ]
  },
  {
   "cell_type": "markdown",
   "metadata": {},
   "source": [
    "#### 3. Testing using log probability w/ Laplace Smoothing to calculate perplexity (PDF P28)- homework"
   ]
  },
  {
   "cell_type": "code",
   "execution_count": null,
   "metadata": {
    "collapsed": true
   },
   "outputs": [],
   "source": []
  }
 ],
 "metadata": {
  "kernelspec": {
   "display_name": "Python 3",
   "language": "python",
   "name": "python3"
  },
  "language_info": {
   "codemirror_mode": {
    "name": "ipython",
    "version": 3
   },
   "file_extension": ".py",
   "mimetype": "text/x-python",
   "name": "python",
   "nbconvert_exporter": "python",
   "pygments_lexer": "ipython3",
   "version": "3.6.3"
  }
 },
 "nbformat": 4,
 "nbformat_minor": 2
}
