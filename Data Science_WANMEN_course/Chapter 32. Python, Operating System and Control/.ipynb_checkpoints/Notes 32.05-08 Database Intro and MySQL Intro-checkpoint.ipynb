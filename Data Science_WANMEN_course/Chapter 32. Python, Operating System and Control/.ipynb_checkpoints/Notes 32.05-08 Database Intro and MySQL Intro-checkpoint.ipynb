{
 "cells": [
  {
   "cell_type": "markdown",
   "metadata": {},
   "source": [
    "# How to config MySQL: change the Data Directory from default.\n",
    "# i.e. store the database data in customized folder, currently I stored in D:\\Program_Data\\MySQL\\MySQL Server 8.0\\Data\n",
    "https://www.youtube.com/watch?v=aNy4N8M6eUs&ab_channel=TechBrothersIT"
   ]
  }
 ],
 "metadata": {
  "kernelspec": {
   "display_name": "Python 3",
   "language": "python",
   "name": "python3"
  },
  "language_info": {
   "codemirror_mode": {
    "name": "ipython",
    "version": 3
   },
   "file_extension": ".py",
   "mimetype": "text/x-python",
   "name": "python",
   "nbconvert_exporter": "python",
   "pygments_lexer": "ipython3",
   "version": "3.7.5"
  }
 },
 "nbformat": 4,
 "nbformat_minor": 2
}
