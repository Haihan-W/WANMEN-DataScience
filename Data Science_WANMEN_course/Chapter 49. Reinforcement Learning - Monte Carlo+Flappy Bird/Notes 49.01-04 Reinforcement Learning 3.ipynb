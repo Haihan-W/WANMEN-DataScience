{
 "cells": [
  {
   "cell_type": "markdown",
   "metadata": {},
   "source": [
    "# Overview"
   ]
  },
  {
   "cell_type": "markdown",
   "metadata": {},
   "source": [
    "\n",
    "\n",
    "* 总价值不易计算时，但环境状态有显式的分布时\n",
    "    * 如何使用迭代法计算总价值\n",
    "    * 如何使用迭代法反复改进总策略\n",
    "    * 策略迭代法的收敛\n",
    "\n",
    "\n",
    "---------------THIS CHAPTER FOCUSED ON --------------------\n",
    "\n",
    "**- 总价值不易计算时，环境状态没有显式的分布时，从连续的样本和经验中学习**\n",
    "    * 蒙特卡洛方法 (Monte Carlo - MC Method)\n",
    "    * 计算总价值\n",
    "    * 更新总策略\n",
    "----------------END-------------------------------------------    \n",
    "* 总价值不易计算时，环境状态没有显式的分布时，从每一次与环境状态的交互中学习\n",
    "    * Temporal Differences\n",
    "    * Temporal Differences与蒙特卡罗方法的对比\n",
    "    * SARSA\n",
    "    * Q-learning\n",
    "* 当环境状态过多，如何将有限样本中的策略推广到更大的状态空间，作为更大状态空间的近似解？\n",
    "    * 结合监督学习, function approximation\n",
    "    * 线性方法等\n",
    "* Q-learing+Deep-Learning\n",
    "    * DQN\n",
    "    * DQN的优势与特点\n",
    "\n",
    "\n",
    "[参考视频](http://www0.cs.ucl.ac.uk/staff/d.silver/web/Teaching.html)\n",
    "\n",
    "[参考书籍](https://www.amazon.com/Reinforcement-Learning-Introduction-Adaptive-Computation/dp/0262193981)\n",
    "\n",
    "[参考中文知乎](https://www.zhihu.com/people/flood-sung/activities)"
   ]
  },
  {
   "cell_type": "markdown",
   "metadata": {
    "collapsed": true
   },
   "source": [
    " <img src='pic/mc.png'>"
   ]
  },
  {
   "cell_type": "markdown",
   "metadata": {},
   "source": [
    "- Iterative vs. MC:"
   ]
  },
  {
   "cell_type": "markdown",
   "metadata": {},
   "source": [
    "<img src='pic/Iterative_vs_MC.png'>"
   ]
  },
  {
   "cell_type": "markdown",
   "metadata": {},
   "source": [
    "- MC: 记住：对每一个possibility （path), 都一路走到黑 for each state，all the way until t=end;\n",
    "    - t=end: example: if it is flappy bird, t=end means bird hit the pillar and game over\n",
    "   <img src='pic/flappybird_MC.png'>\n",
    "    "
   ]
  },
  {
   "cell_type": "markdown",
   "metadata": {},
   "source": [
    "# A Typical MC example:\n",
    "<img src='pic/mc_ex1.png'>"
   ]
  },
  {
   "cell_type": "code",
   "execution_count": null,
   "metadata": {},
   "outputs": [],
   "source": []
  }
 ],
 "metadata": {
  "kernelspec": {
   "display_name": "Python 3",
   "language": "python",
   "name": "python3"
  },
  "language_info": {
   "codemirror_mode": {
    "name": "ipython",
    "version": 3
   },
   "file_extension": ".py",
   "mimetype": "text/x-python",
   "name": "python",
   "nbconvert_exporter": "python",
   "pygments_lexer": "ipython3",
   "version": "3.8.5"
  }
 },
 "nbformat": 4,
 "nbformat_minor": 2
}
