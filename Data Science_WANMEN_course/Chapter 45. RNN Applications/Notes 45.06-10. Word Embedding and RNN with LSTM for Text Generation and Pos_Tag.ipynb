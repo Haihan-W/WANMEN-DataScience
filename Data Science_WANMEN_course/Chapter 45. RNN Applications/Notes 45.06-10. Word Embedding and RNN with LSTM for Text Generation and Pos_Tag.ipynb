{
 "cells": [
  {
   "cell_type": "code",
   "execution_count": 1,
   "metadata": {},
   "outputs": [
    {
     "name": "stderr",
     "output_type": "stream",
     "text": [
      "Using TensorFlow backend.\n"
     ]
    }
   ],
   "source": [
    "from __future__ import print_function\n",
    "from gensim.models import Word2Vec \n",
    "#Gensim is a Python library for topic modelling, document indexing and similarity retrieval with large corpora. Target audience is the natural language processing (NLP) and information retrieval (IR) community.\n",
    "\n",
    "import jieba #“结巴”中文分词：做最好的 Python 中文分词组件\n",
    "import numpy as np\n",
    "from sklearn.manifold import TSNE\n",
    "from copy import deepcopy\n",
    "\n",
    "import matplotlib.pyplot as plt\n",
    "\n",
    "import tensorflow as tf\n",
    "from keras.backend.tensorflow_backend import set_session\n",
    "from tensorflow.python.keras import backend as K\n",
    "config = tf.compat.v1.ConfigProto()\n",
    "config.gpu_options.allow_growth=True\n",
    "K.set_session(tf.compat.v1.Session(config=config))\n",
    "\n",
    "\n",
    "%matplotlib inline"
   ]
  },
  {
   "cell_type": "markdown",
   "metadata": {},
   "source": [
    "# 1. Word Embedding using Word2Vec and Visualization"
   ]
  },
  {
   "cell_type": "code",
   "execution_count": 7,
   "metadata": {},
   "outputs": [],
   "source": [
    "def load_text(path):\n",
    "    with open(path, 'r', encoding='utf-8') as f:\n",
    "        text = f.read()\n",
    "\n",
    "    \n",
    "    return text"
   ]
  },
  {
   "cell_type": "code",
   "execution_count": 8,
   "metadata": {},
   "outputs": [
    {
     "name": "stdout",
     "output_type": "stream",
     "text": [
      "corpus length: 855523\n"
     ]
    }
   ],
   "source": [
    "text = load_text('./data/hongloumeng.txt')\n",
    "print('corpus length:', len(text))"
   ]
  },
  {
   "cell_type": "code",
   "execution_count": 13,
   "metadata": {},
   "outputs": [],
   "source": [
    "def cut_sentence(text):\n",
    "    start = 0\n",
    "    i = 0\n",
    "    sentences = []\n",
    "\n",
    "    #punt_list = ',.!?:;~，。！？：；～'.decode('utf8')\n",
    "    #punt_list = ',.!?:;~，．。！？：；～'.decode('utf-8')\n",
    "    punt_list = '.!?~． 。！？～\\n'\n",
    "    for word in text:\n",
    "        if word in punt_list and token not in punt_list: #检查标点符号下一个字符是否还是标点\n",
    "            sentences.append(text[start:i+1])\n",
    "            start = i+1\n",
    "            i += 1\n",
    "        else:\n",
    "            i += 1\n",
    "            token = list(text[start:i+2]).pop() # 取下一个字符\n",
    "    if start < len(text):\n",
    "        sentences.append(text[start:])\n",
    "    return sentences"
   ]
  },
  {
   "cell_type": "markdown",
   "metadata": {},
   "source": [
    "## 1.1分词"
   ]
  },
  {
   "cell_type": "code",
   "execution_count": 15,
   "metadata": {},
   "outputs": [
    {
     "data": {
      "text/plain": [
       "['《红楼梦》曹雪芹\\n\\n',\n",
       " '严正声明：本书为丫丫小说网(www.',\n",
       " 'shuyaya.',\n",
       " 'com)的用户上传至其在本站的存储空间，本站只提供TXT全集电子书存储服务以及免费下载服务，以下作品内容之版权与本站无任何关系。\\n',\n",
       " '在线阅读：http://www.',\n",
       " 'shuyaya.',\n",
       " 'com/read/2034/\\n',\n",
       " '--------------------------------------------------\\n\\n',\n",
       " '第一回  ',\n",
       " '甄士隐梦幻识通灵\\u3000贾雨村风尘怀闺秀\\n\\n    ']"
      ]
     },
     "execution_count": 15,
     "metadata": {},
     "output_type": "execute_result"
    }
   ],
   "source": [
    "sentences = cut_sentence(text)\n",
    "sentences[:10]"
   ]
  },
  {
   "cell_type": "code",
   "execution_count": 16,
   "metadata": {},
   "outputs": [
    {
     "name": "stderr",
     "output_type": "stream",
     "text": [
      "Building prefix dict from the default dictionary ...\n",
      "Dumping model to file cache C:\\Users\\haiha\\AppData\\Local\\Temp\\jieba.cache\n",
      "Loading model cost 0.688 seconds.\n",
      "Prefix dict has been built successfully.\n"
     ]
    }
   ],
   "source": [
    "tokenized_sentences = []\n",
    "for sentence in sentences:\n",
    "    tokenized_sentences.append([w for w in jieba.cut(sentence)])"
   ]
  },
  {
   "cell_type": "code",
   "execution_count": 17,
   "metadata": {},
   "outputs": [
    {
     "name": "stdout",
     "output_type": "stream",
     "text": [
      "\"\n",
      "封肃\n",
      "忙\n",
      "陪笑\n",
      "道\n",
      "：\n",
      "“\n",
      "小人\n",
      "姓\n",
      "封\n",
      "，\n",
      "并\n",
      "不姓\n",
      "甄\n",
      "．\n"
     ]
    }
   ],
   "source": [
    "for w in tokenized_sentences[300]:\n",
    "    print(w)"
   ]
  },
  {
   "cell_type": "markdown",
   "metadata": {},
   "source": [
    "# 1.2 Word2Vec"
   ]
  },
  {
   "cell_type": "markdown",
   "metadata": {},
   "source": [
    "#### build the word2vec model for a given token list"
   ]
  },
  {
   "cell_type": "code",
   "execution_count": 18,
   "metadata": {},
   "outputs": [],
   "source": [
    "model = Word2Vec(tokenized_sentences, size=50) \n",
    "#for now, we just define the size to 50, which means each token will be vectorized to vector with length of 50"
   ]
  },
  {
   "cell_type": "code",
   "execution_count": 19,
   "metadata": {},
   "outputs": [],
   "source": [
    "vocab = model.wv.vocab #a dict storing unique tokens in the model"
   ]
  },
  {
   "cell_type": "code",
   "execution_count": 23,
   "metadata": {},
   "outputs": [
    {
     "name": "stdout",
     "output_type": "stream",
     "text": [
      "红楼梦\n"
     ]
    }
   ],
   "source": [
    "print(list(vocab.keys())[1])"
   ]
  },
  {
   "cell_type": "code",
   "execution_count": 24,
   "metadata": {},
   "outputs": [],
   "source": [
    "model.save('word2vec_model_hongloumeng.model.bin')"
   ]
  },
  {
   "cell_type": "markdown",
   "metadata": {},
   "source": [
    "#### Find most_similar words"
   ]
  },
  {
   "cell_type": "code",
   "execution_count": 27,
   "metadata": {},
   "outputs": [],
   "source": [
    "model.wv.most_similar_cosmul?"
   ]
  },
  {
   "cell_type": "code",
   "execution_count": 25,
   "metadata": {},
   "outputs": [
    {
     "name": "stdout",
     "output_type": "stream",
     "text": [
      "贾琏 0.9087133407592773\n",
      "凤姐 0.9067167639732361\n",
      "紫鹃 0.9037010669708252\n",
      "林黛玉 0.9013649225234985\n",
      "薛姨妈 0.895914614200592\n",
      "鸳鸯 0.8918719291687012\n",
      "香菱 0.886788010597229\n",
      "雨村 0.8822209239006042\n",
      "晴雯 0.8805127739906311\n",
      "赵姨娘 0.8802212476730347\n"
     ]
    }
   ],
   "source": [
    "for word, sim in model.wv.most_similar_cosmul(positive=[u'宝玉', u'黛玉'], negative=[u'宝钗']):\n",
    "    print(word, sim)"
   ]
  },
  {
   "cell_type": "markdown",
   "metadata": {},
   "source": [
    "Explanation of positive and negative parameters in model.wv.most_similar_cosmul:\n",
    "\n",
    " >  model.wv.most_similar(positive=[‘woman’, ‘king’], negative=[‘man’], topn=1)[0]\n",
    "\n",
    "Here, we are adding king and woman (they are positive parameters), and subtracting man (it is a negative parameter), and choosing only the first value in the tuple.\n",
    "-> In plain language: The above code means:  we are searching for **the word most similar to Woman and King, but far away from Man.**\n",
    "\n",
    "-> (u’queen’)\n",
    "\n",
    "And voila! As we expected, Queen is the closest word vector when we search for **the word most similar to Woman and King, but far away from man.**\n",
    "\n",
    "<img src=\"Word2Vec_Find_Similar_Word_Example.png\">"
   ]
  },
  {
   "cell_type": "markdown",
   "metadata": {},
   "source": [
    "Therefore, the model.wv.most_similar_cosmul(positive=[u'宝玉', u'黛玉'], negative=[u'宝钗']) code above means:\n",
    "- Find the most similar words that is close to '宝玉' and '黛玉', but far from '宝钗'"
   ]
  },
  {
   "cell_type": "markdown",
   "metadata": {},
   "source": [
    "#### Find similarity between two words"
   ]
  },
  {
   "cell_type": "code",
   "execution_count": 39,
   "metadata": {
    "scrolled": true
   },
   "outputs": [
    {
     "data": {
      "text/plain": [
       "0.75354844"
      ]
     },
     "execution_count": 39,
     "metadata": {},
     "output_type": "execute_result"
    }
   ],
   "source": [
    "model.wv.similarity(u'宝玉', u'黛玉')"
   ]
  },
  {
   "cell_type": "code",
   "execution_count": 38,
   "metadata": {},
   "outputs": [
    {
     "data": {
      "text/plain": [
       "0.8549028"
      ]
     },
     "execution_count": 38,
     "metadata": {},
     "output_type": "execute_result"
    }
   ],
   "source": [
    "model.wv.similarity(u'宝玉', u'宝钗')"
   ]
  },
  {
   "cell_type": "markdown",
   "metadata": {},
   "source": [
    "Other Resources for word to vector:\n",
    "- Facebook: fasttext\n",
    "- Google: word2vec"
   ]
  },
  {
   "cell_type": "code",
   "execution_count": null,
   "metadata": {},
   "outputs": [],
   "source": []
  },
  {
   "cell_type": "code",
   "execution_count": null,
   "metadata": {},
   "outputs": [],
   "source": []
  },
  {
   "cell_type": "markdown",
   "metadata": {
    "collapsed": true
   },
   "source": [
    "## 1.3可视化"
   ]
  },
  {
   "cell_type": "markdown",
   "metadata": {},
   "source": [
    "Please note:\n",
    "Because visualization cannot visualize chinese character easily, therefore below used a workaround to just use index to represent the word in graph"
   ]
  },
  {
   "cell_type": "code",
   "execution_count": 40,
   "metadata": {},
   "outputs": [],
   "source": [
    "def plot_with_labels(embedded_vectors, labels):\n",
    "\n",
    "    assert embedded_vectors.shape[0] >= len(labels), 'More labels than embeddings'\n",
    "    plt.figure(figsize = (18, 18))\n",
    "    for i, label in enumerate(labels):\n",
    "        x, y = embedded_vectors[i, :]\n",
    "        plt.scatter(x, y)\n",
    "        plt.annotate(label, xy = (x, y), xytext = (5, 2), textcoords = 'offset points',ha = 'right',va = 'bottom')\n",
    "    plt.show()"
   ]
  },
  {
   "cell_type": "code",
   "execution_count": 42,
   "metadata": {},
   "outputs": [],
   "source": [
    "hongloumeng_embedding = Word2Vec.load('word2vec_model_hongloumeng.model.bin')"
   ]
  },
  {
   "cell_type": "code",
   "execution_count": 43,
   "metadata": {},
   "outputs": [
    {
     "data": {
      "text/plain": [
       "gensim.models.word2vec.Word2Vec"
      ]
     },
     "execution_count": 43,
     "metadata": {},
     "output_type": "execute_result"
    }
   ],
   "source": [
    "type(hongloumeng_embedding)"
   ]
  },
  {
   "cell_type": "code",
   "execution_count": 45,
   "metadata": {},
   "outputs": [],
   "source": [
    "#build nparray from loaded word2vec model\n",
    "word_embedding = np.zeros((len(vocab) + 1, 50))\n",
    "word_mapping = {}\n",
    "for i, word in enumerate(hongloumeng_embedding.wv.vocab.keys()):\n",
    "    word_embedding[i + 1] = hongloumeng_embedding.wv[word]\n",
    "    word_mapping[word] = i + 1"
   ]
  },
  {
   "cell_type": "code",
   "execution_count": 47,
   "metadata": {},
   "outputs": [],
   "source": [
    "index2word = dict((v, k) for k, v in word_mapping.items())"
   ]
  },
  {
   "cell_type": "code",
   "execution_count": 48,
   "metadata": {},
   "outputs": [],
   "source": [
    "n_words_to_show = 300\n",
    "start_index = 1000\n",
    "tsne = TSNE(perplexity = 30, n_components = 2, init = 'pca', n_iter = 500) #TSNE: reduce dim to visualization (e.g. here we reduced to 2-dim graph) \n",
    "reduced_word_vectors = tsne.fit_transform(word_embedding[start_index:start_index+n_words_to_show+1, :])\n",
    "labels = [i for i in range(start_index, start_index+n_words_to_show+1)]"
   ]
  },
  {
   "cell_type": "code",
   "execution_count": 49,
   "metadata": {},
   "outputs": [
    {
     "data": {
      "image/png": "[encoded data removed]",
      "text/plain": [
       "<Figure size 1296x1296 with 1 Axes>"
      ]
     },
     "metadata": {
      "needs_background": "light"
     },
     "output_type": "display_data"
    }
   ],
   "source": [
    "plot_with_labels(reduced_word_vectors, labels)"
   ]
  },
  {
   "cell_type": "markdown",
   "metadata": {},
   "source": [
    "# 2. RNN Language Model for Text Generation of Hongloumeng.txt"
   ]
  },
  {
   "cell_type": "code",
   "execution_count": 50,
   "metadata": {},
   "outputs": [],
   "source": [
    "from keras.utils import to_categorical\n",
    "from keras.preprocessing.sequence import pad_sequences\n",
    "from keras.models import Sequential\n",
    "from keras.layers import Dense, Activation, LSTM, Embedding\n",
    "from keras.optimizers import RMSprop\n",
    "\n",
    "from sklearn.model_selection import train_test_split\n",
    "\n",
    "import itertools\n",
    "from collections import Counter"
   ]
  },
  {
   "cell_type": "markdown",
   "metadata": {},
   "source": [
    "## 2.1 红楼梦的语言模型"
   ]
  },
  {
   "cell_type": "code",
   "execution_count": 51,
   "metadata": {},
   "outputs": [],
   "source": [
    "word_counts = Counter(itertools.chain(*tokenized_sentences))"
   ]
  },
  {
   "cell_type": "code",
   "execution_count": 53,
   "metadata": {},
   "outputs": [],
   "source": [
    "max_vocab = 20000 #define the max vocab in scope is 20000 (first 20000 most frequent vocab); any extra is truncated\n",
    "vocabulary = [x[0] for x in word_counts.most_common(max_vocab)]\n",
    "vocabulary = list(sorted(vocabulary))\n",
    "word2index = {x : i + 1 for i, x in enumerate(index2word)}\n",
    "index2word = dict((v, k) for k, v in word2index.items())"
   ]
  },
  {
   "cell_type": "code",
   "execution_count": 54,
   "metadata": {},
   "outputs": [],
   "source": [
    "test_size = int(len(tokenized_sentences)*0.3)"
   ]
  },
  {
   "cell_type": "code",
   "execution_count": 55,
   "metadata": {},
   "outputs": [],
   "source": [
    "#We want to build a model to predict (i+1) th word using all words from first to ith word.\n",
    "\n",
    "x = [] #Input is a sentence: first word to ith word\n",
    "y = [] #output label is a single word (i+1)th word.)\n",
    "maxlen = 50\n",
    "for s in tokenized_sentences[:-test_size]:\n",
    "    tmp = []\n",
    "    for i in range(min(len(s)-1, maxlen)):\n",
    "        tmp.append(word2index[s[i]] if s[i] in word2index else 0)\n",
    "        x.append(deepcopy(tmp))\n",
    "        y.append(word2index[s[i+1]] if s[i+1] in word2index else 0)"
   ]
  },
  {
   "cell_type": "code",
   "execution_count": 57,
   "metadata": {},
   "outputs": [],
   "source": [
    "assert len(x) == len(y)"
   ]
  },
  {
   "cell_type": "code",
   "execution_count": 58,
   "metadata": {},
   "outputs": [],
   "source": [
    "x = pad_sequences(x, maxlen=maxlen, padding='pre') #padding to the same size"
   ]
  },
  {
   "cell_type": "code",
   "execution_count": 59,
   "metadata": {},
   "outputs": [
    {
     "data": {
      "text/plain": [
       "(394066, 50)"
      ]
     },
     "execution_count": 59,
     "metadata": {},
     "output_type": "execute_result"
    }
   ],
   "source": [
    "x.shape"
   ]
  },
  {
   "cell_type": "code",
   "execution_count": 60,
   "metadata": {},
   "outputs": [],
   "source": [
    "vocab_size = len(word2index)+1"
   ]
  },
  {
   "cell_type": "code",
   "execution_count": 61,
   "metadata": {},
   "outputs": [],
   "source": [
    "y = np.array(y, dtype=np.int64)"
   ]
  },
  {
   "cell_type": "code",
   "execution_count": 62,
   "metadata": {},
   "outputs": [],
   "source": [
    "#Output label: One-hot encoding\n",
    "Y_onehot = np.zeros((y.shape[0], vocab_size), dtype=np.bool)\n",
    "for idx in range(y.shape[0]):\n",
    "    Y_onehot[idx, y[idx]] = 1"
   ]
  },
  {
   "cell_type": "code",
   "execution_count": 63,
   "metadata": {},
   "outputs": [],
   "source": [
    "train_x, valid_x, train_y, valid_y = train_test_split(x, Y_onehot, test_size=0.3, random_state=0)"
   ]
  },
  {
   "cell_type": "code",
   "execution_count": 64,
   "metadata": {},
   "outputs": [],
   "source": [
    "#build Model:\n",
    "model = Sequential()\n",
    "model.add(Embedding(vocab_size, 10, input_length=maxlen)) #embedding layer to get embedding vector: each input is converted to a embedding vector\n",
    "model.add(LSTM(50))\n",
    "model.add(Dense(vocab_size))\n",
    "model.add(Activation('softmax'))"
   ]
  },
  {
   "cell_type": "code",
   "execution_count": 65,
   "metadata": {},
   "outputs": [
    {
     "name": "stdout",
     "output_type": "stream",
     "text": [
      "Model: \"sequential_1\"\n",
      "_________________________________________________________________\n",
      "Layer (type)                 Output Shape              Param #   \n",
      "=================================================================\n",
      "embedding_1 (Embedding)      (None, 50, 10)            73900     \n",
      "_________________________________________________________________\n",
      "lstm_1 (LSTM)                (None, 50)                12200     \n",
      "_________________________________________________________________\n",
      "dense_1 (Dense)              (None, 7390)              376890    \n",
      "_________________________________________________________________\n",
      "activation_1 (Activation)    (None, 7390)              0         \n",
      "=================================================================\n",
      "Total params: 462,990\n",
      "Trainable params: 462,990\n",
      "Non-trainable params: 0\n",
      "_________________________________________________________________\n"
     ]
    }
   ],
   "source": [
    "model.summary()"
   ]
  },
  {
   "cell_type": "code",
   "execution_count": 66,
   "metadata": {},
   "outputs": [],
   "source": [
    "rmsprop = RMSprop(lr=0.01)\n",
    "model.compile(loss='categorical_crossentropy', optimizer=rmsprop, metrics=['accuracy'])"
   ]
  },
  {
   "cell_type": "code",
   "execution_count": 67,
   "metadata": {},
   "outputs": [
    {
     "name": "stderr",
     "output_type": "stream",
     "text": [
      "D:\\Program_Data\\Anaconda3\\envs\\py37tf_gpu\\lib\\site-packages\\tensorflow_core\\python\\framework\\indexed_slices.py:433: UserWarning: Converting sparse IndexedSlices to a dense Tensor of unknown shape. This may consume a large amount of memory.\n",
      "  \"Converting sparse IndexedSlices to a dense Tensor of unknown shape. \"\n"
     ]
    },
    {
     "name": "stdout",
     "output_type": "stream",
     "text": [
      "Train on 275846 samples, validate on 118220 samples\n",
      "Epoch 1/1\n",
      "275846/275846 [==============================] - 296s 1ms/step - loss: 0.0036 - accuracy: 0.9999 - val_loss: 0.0000e+00 - val_accuracy: 1.0000.024 - ETA: 3:50 - loss: 0.0235  - ETA: 3:49 - loss: 0.0232 - accu - ETA: 3:49 - loss: 0.0230 - accura - ETA: 3:49 - loss: 0.0228 - accuracy: 0.99 - ETA: 3: - ETA: 3:47 - ETA: 3:46 - loss: 0.0217 - ac - ETA: 2:21 - loss: 0.0 - E - ETA: 2:19 - loss: 0.0076  - ETA: 2:19 - loss: 0.0076 - accura - ETA: 2:18 - los - ETA: 2:17 - loss: 0.0075 - accuracy: 0.99 - ETA: 2:17 - loss: 0.0075 - accuracy:  - ETA: 2:17 - loss: 0.007 - ETA: 2:17 - loss: 0.0074 - accu - ETA: 2:15 - loss: 0.0073 - accuracy - ETA: 2:15 - - ETA: 2: - ETA - ETA: 1:51 - loss: 0.0062 - accu - ETA:  - ETA: 1: - ETA: 1:46 - loss: 0.0060 - accu - ETA: 1:46 - ETA: 1:42 - loss: 0.0059 - ac - ETA: 1:41 - loss: 0.0058 - accu - ETA: 1:41 - loss: 0.0058 - accura - ETA: 1:41 - loss: 0.0058  - ETA: 1:40 - loss: 0.0058 - accura - ETA: 1:40 - loss: 0 - ETA: 1:38 - loss: 0.0057 - accu - ETA: 1:26 - loss: 0.0053 - accuracy - ETA: 1:26 - loss: 0.0053 - ac - ETA: 1:25 - loss: 0.0053 - accuracy:  - ETA - ETA:  - ETA: 1:21 - loss: 0.0052 - accuracy:  - ETA: 1:21 - loss: 0.0052 - accuracy:  - ETA: 1:21 - loss: 0.0052 - ac - ETA: 1:13 - loss: 0 - ETA: 1:13 - loss: 0.005 - ETA: 1:12 - loss: 0.004 - ETA: 1:10 - loss: 0. - ETA: 54s - loss: 0.0045  - ETA: 53s - loss: 0.0045 - ac - ETA: 46s - loss: 0.0044 - accur - ETA: 43s - loss: 0.00 - ETA: 41s - loss: 0.0043 - accuracy: 0.9 - ETA: 41s - loss: 0.0043 - accuracy: 0.99 - ETA: 41s - loss: 0.0043 - accuracy:  - ETA: 41s - loss: 0 - ETA: 36s - loss: 0.0042 - accuracy: 0.99 - ETA: 36s - loss: 0.0042 - accuracy: 0.99 - ETA: 36s - loss: 0.0042 - accuracy: 0.99 - ETA: 36s - loss: 0.0042 - accuracy: 0 - ETA: 36s - loss: 0.00 - ETA: 34 - ETA: 32s - loss: 0.0041 - accuracy: 0.99 - ETA: 32s - loss: 0. - ETA: 31s - - ETA: 29s - loss: 0.0040 - accuracy - ETA: 28s - loss: 0.0040 - accuracy: 0.99 - ETA: 28s - loss: 0.0040 - accuracy - ETA: 28s - loss: 0.0040 - accura - ETA: 27s - loss: 0.0040 - accuracy: 0. - ETA: 27s - loss: 0.00 - ETA: 25s - loss: 0.0040 - accuracy:  - ETA: - ETA: 23s - loss: 0.0039 - accuracy: - ETA: 22s - loss: 0.0039 - accuracy: 0.999 - ETA: 22s - - ETA: 20s - loss: 0.0039 - accuracy - ETA: 20s - loss: 0.003 - ETA: 19s - loss: 0.0039 - accuracy: 0.99 - ETA: 18s - loss: 0.0039 - accur - ETA: 18s - loss: 0.0039 - accuracy: 0.99 - ETA: 18s - loss: 0.0039 - accuracy: 0.99 - ETA: 18s - loss: 0.0039 - accuracy: 0. - ETA: 17s - loss: 0.0039 - accuracy: 0.99 - ETA: 17s - loss: 0.0039 - accuracy: 0 - ETA: 17s - loss: 0.0039 - ETA: 16s - loss: \n"
     ]
    },
    {
     "data": {
      "text/plain": [
       "<keras.callbacks.callbacks.History at 0x29039c53dc8>"
      ]
     },
     "execution_count": 67,
     "metadata": {},
     "output_type": "execute_result"
    }
   ],
   "source": [
    "model.fit(train_x, train_y, validation_data=(valid_x, valid_y), epochs=1, verbose=True)"
   ]
  },
  {
   "cell_type": "markdown",
   "metadata": {},
   "source": [
    "Note: A good validation loss value is below 2, close to 1 or below 1"
   ]
  },
  {
   "cell_type": "markdown",
   "metadata": {},
   "source": [
    "## 2.2 测试语言模型"
   ]
  },
  {
   "cell_type": "code",
   "execution_count": 68,
   "metadata": {},
   "outputs": [],
   "source": [
    "def compute_total_words(sentences):\n",
    "    \n",
    "    return np.sum([len(s) for s in sentences])"
   ]
  },
  {
   "cell_type": "code",
   "execution_count": 69,
   "metadata": {},
   "outputs": [],
   "source": [
    "n_words_in_test = compute_total_words(tokenized_sentences[-test_size:])"
   ]
  },
  {
   "cell_type": "code",
   "execution_count": 70,
   "metadata": {},
   "outputs": [
    {
     "data": {
      "text/plain": [
       "175842"
      ]
     },
     "execution_count": 70,
     "metadata": {},
     "output_type": "execute_result"
    }
   ],
   "source": [
    "n_words_in_test"
   ]
  },
  {
   "cell_type": "code",
   "execution_count": 71,
   "metadata": {},
   "outputs": [],
   "source": [
    "def compute_sentence_log_prob(model, sentence):\n",
    "    test_x = []\n",
    "    test_y = []\n",
    "    tmp = []\n",
    "    for i in range(len(sentence)-1):\n",
    "        tmp.append(word_mapping[sentence[i]] if sentence[i] in word_mapping else 0)\n",
    "        test_x.append(deepcopy(tmp))\n",
    "        test_y.append(word_mapping[sentence[i+1]] if sentence[i+1] in word_mapping else 0)\n",
    "    test_x = pad_sequences(test_x, maxlen=maxlen, padding='pre')\n",
    "    test_y = np.array(test_y)\n",
    "    test_y_pred = model.predict(test_x)\n",
    "    probs = test_y_pred[(np.arange(test_x.shape[0]), test_y)]\n",
    "    return np.sum(np.log2(probs))"
   ]
  },
  {
   "cell_type": "code",
   "execution_count": 72,
   "metadata": {},
   "outputs": [
    {
     "data": {
      "text/plain": [
       "-707.0357"
      ]
     },
     "execution_count": 72,
     "metadata": {},
     "output_type": "execute_result"
    }
   ],
   "source": [
    "compute_sentence_log_prob(model, tokenized_sentences[-3])"
   ]
  },
  {
   "cell_type": "code",
   "execution_count": 73,
   "metadata": {},
   "outputs": [],
   "source": [
    "sum_log_prob = 0.0\n",
    "for s in tokenized_sentences[-test_size:]:\n",
    "    if len(s) <= 1:\n",
    "        continue\n",
    "    log_prob_s = compute_sentence_log_prob(model, s)\n",
    "    sum_log_prob += log_prob_s\n",
    "perplexity = 2**(-sum_log_prob/n_words_in_test)"
   ]
  },
  {
   "cell_type": "code",
   "execution_count": 74,
   "metadata": {},
   "outputs": [
    {
     "data": {
      "text/plain": [
       "4902040839.801971"
      ]
     },
     "execution_count": 74,
     "metadata": {},
     "output_type": "execute_result"
    }
   ],
   "source": [
    "perplexity"
   ]
  },
  {
   "cell_type": "markdown",
   "metadata": {},
   "source": [
    "Note: The perplexity shows how much varied the predicted distribution for the next word is. When a language model represents the dataset well, it should show a high probability only for the correct next word, so that the entropy should be high.\n",
    "\n",
    "**smaller perplexity means better model.**\n",
    "\n",
    "So the model above is not good at all after epoch=1 training"
   ]
  },
  {
   "cell_type": "markdown",
   "metadata": {
    "collapsed": true
   },
   "source": [
    "# 3. RNN for POS tagging"
   ]
  },
  {
   "cell_type": "markdown",
   "metadata": {},
   "source": [
    "For this tutorial, we use treebank corpus (语料库） from nltk to finish training"
   ]
  },
  {
   "cell_type": "markdown",
   "metadata": {
    "collapsed": true
   },
   "source": [
    "## 3.1 Load data"
   ]
  },
  {
   "cell_type": "code",
   "execution_count": 75,
   "metadata": {},
   "outputs": [],
   "source": [
    "from nltk.corpus import treebank #a test dataset for this tutorial\n",
    "from keras.layers import TimeDistributed, Dropout"
   ]
  },
  {
   "cell_type": "code",
   "execution_count": 78,
   "metadata": {},
   "outputs": [
    {
     "name": "stderr",
     "output_type": "stream",
     "text": [
      "[nltk_data] Downloading package treebank to\n",
      "[nltk_data]     C:\\Users\\haiha\\AppData\\Roaming\\nltk_data...\n",
      "[nltk_data]   Unzipping corpora\\treebank.zip.\n"
     ]
    },
    {
     "data": {
      "text/plain": [
       "True"
      ]
     },
     "execution_count": 78,
     "metadata": {},
     "output_type": "execute_result"
    }
   ],
   "source": [
    "import nltk\n",
    "# nltk.download('treebank')"
   ]
  },
  {
   "cell_type": "code",
   "execution_count": 79,
   "metadata": {},
   "outputs": [
    {
     "name": "stdout",
     "output_type": "stream",
     "text": [
      "[('Pierre', 'NNP'), ('Vinken', 'NNP'), (',', ','), ('61', 'CD'), ('years', 'NNS'), ('old', 'JJ'), (',', ','), ('will', 'MD'), ('join', 'VB'), ('the', 'DT'), ('board', 'NN'), ('as', 'IN'), ('a', 'DT'), ('nonexecutive', 'JJ'), ('director', 'NN'), ('Nov.', 'NNP'), ('29', 'CD'), ('.', '.')]\n"
     ]
    }
   ],
   "source": [
    "train_data = treebank.tagged_sents()\n",
    "\n",
    "print(train_data[0])"
   ]
  },
  {
   "cell_type": "code",
   "execution_count": 80,
   "metadata": {},
   "outputs": [],
   "source": [
    "#Build 2 dicts (one for word, one for label), to convert unique word or label to integer index\n",
    "word_mapping = {}\n",
    "label_mapping = {}\n",
    "i, j = 1, 1\n",
    "for s in train_data:\n",
    "    for t in s:\n",
    "        if t[0] not in word_mapping:\n",
    "            word_mapping[t[0]] = i\n",
    "            i += 1\n",
    "        if t[1] not in label_mapping:\n",
    "            label_mapping[t[1]] = j\n",
    "            j += 1"
   ]
  },
  {
   "cell_type": "code",
   "execution_count": 81,
   "metadata": {},
   "outputs": [
    {
     "data": {
      "text/plain": [
       "{'Pierre': 1,\n",
       " 'Vinken': 2,\n",
       " ',': 3,\n",
       " '61': 4,\n",
       " 'years': 5,\n",
       " 'old': 6,\n",
       " 'will': 7,\n",
       " 'join': 8,\n",
       " 'the': 9,\n",
       " 'board': 10,\n",
       " 'as': 11,\n",
       " 'a': 12,\n",
       " 'nonexecutive': 13,\n",
       " 'director': 14,\n",
       " 'Nov.': 15,\n",
       " '29': 16,\n",
       " '.': 17,\n",
       " 'Mr.': 18,\n",
       " 'is': 19,\n",
       " 'chairman': 20,\n",
       " 'of': 21,\n",
       " 'Elsevier': 22,\n",
       " 'N.V.': 23,\n",
       " 'Dutch': 24,\n",
       " 'publishing': 25,\n",
       " 'group': 26,\n",
       " 'Rudolph': 27,\n",
       " 'Agnew': 28,\n",
       " '55': 29,\n",
       " 'and': 30,\n",
       " 'former': 31,\n",
       " 'Consolidated': 32,\n",
       " 'Gold': 33,\n",
       " 'Fields': 34,\n",
       " 'PLC': 35,\n",
       " 'was': 36,\n",
       " 'named': 37,\n",
       " '*-1': 38,\n",
       " 'this': 39,\n",
       " 'British': 40,\n",
       " 'industrial': 41,\n",
       " 'conglomerate': 42,\n",
       " 'A': 43,\n",
       " 'form': 44,\n",
       " 'asbestos': 45,\n",
       " 'once': 46,\n",
       " 'used': 47,\n",
       " '*': 48,\n",
       " 'to': 49,\n",
       " 'make': 50,\n",
       " 'Kent': 51,\n",
       " 'cigarette': 52,\n",
       " 'filters': 53,\n",
       " 'has': 54,\n",
       " 'caused': 55,\n",
       " 'high': 56,\n",
       " 'percentage': 57,\n",
       " 'cancer': 58,\n",
       " 'deaths': 59,\n",
       " 'among': 60,\n",
       " 'workers': 61,\n",
       " 'exposed': 62,\n",
       " 'it': 63,\n",
       " 'more': 64,\n",
       " 'than': 65,\n",
       " '30': 66,\n",
       " 'ago': 67,\n",
       " 'researchers': 68,\n",
       " 'reported': 69,\n",
       " '0': 70,\n",
       " '*T*-1': 71,\n",
       " 'The': 72,\n",
       " 'fiber': 73,\n",
       " 'crocidolite': 74,\n",
       " 'unusually': 75,\n",
       " 'resilient': 76,\n",
       " 'enters': 77,\n",
       " 'lungs': 78,\n",
       " 'with': 79,\n",
       " 'even': 80,\n",
       " 'brief': 81,\n",
       " 'exposures': 82,\n",
       " 'causing': 83,\n",
       " 'symptoms': 84,\n",
       " 'that': 85,\n",
       " 'show': 86,\n",
       " 'up': 87,\n",
       " 'decades': 88,\n",
       " 'later': 89,\n",
       " 'said': 90,\n",
       " '*T*-2': 91,\n",
       " 'Lorillard': 92,\n",
       " 'Inc.': 93,\n",
       " 'unit': 94,\n",
       " 'New': 95,\n",
       " 'York-based': 96,\n",
       " 'Loews': 97,\n",
       " 'Corp.': 98,\n",
       " 'makes': 99,\n",
       " 'cigarettes': 100,\n",
       " 'stopped': 101,\n",
       " 'using': 102,\n",
       " 'in': 103,\n",
       " 'its': 104,\n",
       " 'Micronite': 105,\n",
       " '1956': 106,\n",
       " 'Although': 107,\n",
       " 'preliminary': 108,\n",
       " 'findings': 109,\n",
       " 'were': 110,\n",
       " '*-2': 111,\n",
       " 'year': 112,\n",
       " 'latest': 113,\n",
       " 'results': 114,\n",
       " 'appear': 115,\n",
       " 'today': 116,\n",
       " \"'s\": 117,\n",
       " 'England': 118,\n",
       " 'Journal': 119,\n",
       " 'Medicine': 120,\n",
       " 'forum': 121,\n",
       " 'likely': 122,\n",
       " 'bring': 123,\n",
       " 'new': 124,\n",
       " 'attention': 125,\n",
       " 'problem': 126,\n",
       " 'spokewoman': 127,\n",
       " '``': 128,\n",
       " 'This': 129,\n",
       " 'an': 130,\n",
       " 'story': 131,\n",
       " 'We': 132,\n",
       " \"'re\": 133,\n",
       " 'talking': 134,\n",
       " 'about': 135,\n",
       " 'before': 136,\n",
       " 'anyone': 137,\n",
       " 'heard': 138,\n",
       " 'having': 139,\n",
       " 'any': 140,\n",
       " 'questionable': 141,\n",
       " 'properties': 142,\n",
       " 'There': 143,\n",
       " 'no': 144,\n",
       " 'our': 145,\n",
       " 'products': 146,\n",
       " 'now': 147,\n",
       " \"''\": 148,\n",
       " 'Neither': 149,\n",
       " 'nor': 150,\n",
       " 'who': 151,\n",
       " '*T*-3': 152,\n",
       " 'studied': 153,\n",
       " 'aware': 154,\n",
       " 'research': 155,\n",
       " 'on': 156,\n",
       " 'smokers': 157,\n",
       " 'have': 158,\n",
       " 'useful': 159,\n",
       " 'information': 160,\n",
       " 'whether': 161,\n",
       " 'users': 162,\n",
       " 'are': 163,\n",
       " 'at': 164,\n",
       " 'risk': 165,\n",
       " 'James': 166,\n",
       " 'A.': 167,\n",
       " 'Talcott': 168,\n",
       " 'Boston': 169,\n",
       " 'Dana-Farber': 170,\n",
       " 'Cancer': 171,\n",
       " 'Institute': 172,\n",
       " 'Dr.': 173,\n",
       " 'led': 174,\n",
       " 'team': 175,\n",
       " 'from': 176,\n",
       " 'National': 177,\n",
       " 'medical': 178,\n",
       " 'schools': 179,\n",
       " 'Harvard': 180,\n",
       " 'University': 181,\n",
       " 'spokeswoman': 182,\n",
       " 'very': 183,\n",
       " 'modest': 184,\n",
       " 'amounts': 185,\n",
       " 'making': 186,\n",
       " 'paper': 187,\n",
       " 'for': 188,\n",
       " 'early': 189,\n",
       " '1950s': 190,\n",
       " 'replaced': 191,\n",
       " 'different': 192,\n",
       " 'type': 193,\n",
       " 'filter': 194,\n",
       " 'From': 195,\n",
       " '1953': 196,\n",
       " '1955': 197,\n",
       " '9.8': 198,\n",
       " 'billion': 199,\n",
       " 'sold': 200,\n",
       " '*-3': 201,\n",
       " 'company': 202,\n",
       " 'Among': 203,\n",
       " '33': 204,\n",
       " 'men': 205,\n",
       " '*T*-4': 206,\n",
       " 'worked': 207,\n",
       " 'closely': 208,\n",
       " 'substance': 209,\n",
       " '28': 210,\n",
       " '*ICH*-1': 211,\n",
       " 'died': 212,\n",
       " '--': 213,\n",
       " 'three': 214,\n",
       " 'times': 215,\n",
       " 'expected': 216,\n",
       " 'number': 217,\n",
       " 'Four': 218,\n",
       " 'five': 219,\n",
       " 'surviving': 220,\n",
       " 'asbestos-related': 221,\n",
       " 'diseases': 222,\n",
       " 'including': 223,\n",
       " 'recently': 224,\n",
       " 'diagnosed': 225,\n",
       " 'total': 226,\n",
       " '18': 227,\n",
       " 'malignant': 228,\n",
       " 'mesothelioma': 229,\n",
       " 'lung': 230,\n",
       " 'asbestosis': 231,\n",
       " 'far': 232,\n",
       " 'higher': 233,\n",
       " '*?*': 234,\n",
       " 'morbidity': 235,\n",
       " 'rate': 236,\n",
       " 'striking': 237,\n",
       " 'finding': 238,\n",
       " 'those': 239,\n",
       " 'us': 240,\n",
       " '*T*-5': 241,\n",
       " 'study': 242,\n",
       " 'West': 243,\n",
       " 'Groton': 244,\n",
       " 'Mass.': 245,\n",
       " 'factory': 246,\n",
       " 'appears': 247,\n",
       " 'be': 248,\n",
       " 'highest': 249,\n",
       " 'Western': 250,\n",
       " 'industrialized': 251,\n",
       " 'countries': 252,\n",
       " 'he': 253,\n",
       " 'plant': 254,\n",
       " 'which': 255,\n",
       " 'owned': 256,\n",
       " '*-4': 257,\n",
       " 'by': 258,\n",
       " 'Hollingsworth': 259,\n",
       " '&': 260,\n",
       " 'Vose': 261,\n",
       " 'Co.': 262,\n",
       " 'under': 263,\n",
       " 'contract': 264,\n",
       " '*ICH*-2': 265,\n",
       " 'probably': 266,\n",
       " 'support': 267,\n",
       " '*T*-6': 268,\n",
       " 'argue': 269,\n",
       " 'U.S.': 270,\n",
       " 'should': 271,\n",
       " 'regulate': 272,\n",
       " 'class': 273,\n",
       " 'stringently': 274,\n",
       " 'common': 275,\n",
       " 'kind': 276,\n",
       " 'chrysotile': 277,\n",
       " 'found': 278,\n",
       " 'most': 279,\n",
       " 'other': 280,\n",
       " 'buildings': 281,\n",
       " 'one': 282,\n",
       " 'few': 283,\n",
       " 'nations': 284,\n",
       " '*T*-7': 285,\n",
       " 'does': 286,\n",
       " \"n't\": 287,\n",
       " 'standard': 288,\n",
       " 'regulation': 289,\n",
       " 'smooth': 290,\n",
       " 'needle-like': 291,\n",
       " 'fibers': 292,\n",
       " 'such': 293,\n",
       " 'classified': 294,\n",
       " '*-5': 295,\n",
       " 'amphobiles': 296,\n",
       " 'according': 297,\n",
       " 'Brooke': 298,\n",
       " 'T.': 299,\n",
       " 'Mossman': 300,\n",
       " 'professor': 301,\n",
       " 'pathlogy': 302,\n",
       " 'Vermont': 303,\n",
       " 'College': 304,\n",
       " 'More': 305,\n",
       " 'curly': 306,\n",
       " 'easily': 307,\n",
       " 'rejected': 308,\n",
       " 'body': 309,\n",
       " 'explained': 310,\n",
       " 'In': 311,\n",
       " 'July': 312,\n",
       " 'Environmental': 313,\n",
       " 'Protection': 314,\n",
       " 'Agency': 315,\n",
       " 'imposed': 316,\n",
       " 'gradual': 317,\n",
       " 'ban': 318,\n",
       " 'virtually': 319,\n",
       " 'all': 320,\n",
       " 'uses': 321,\n",
       " 'By': 322,\n",
       " '1997': 323,\n",
       " 'almost': 324,\n",
       " 'remaining': 325,\n",
       " 'cancer-causing': 326,\n",
       " 'outlawed': 327,\n",
       " '*-6': 328,\n",
       " 'About': 329,\n",
       " '160': 330,\n",
       " '*T*-8': 331,\n",
       " 'made': 332,\n",
       " '*-7': 333,\n",
       " 'Areas': 334,\n",
       " 'particularly': 335,\n",
       " 'dusty': 336,\n",
       " 'where': 337,\n",
       " '*-8': 338,\n",
       " 'Workers': 339,\n",
       " 'dumped': 340,\n",
       " 'large': 341,\n",
       " 'burlap': 342,\n",
       " 'sacks': 343,\n",
       " 'imported': 344,\n",
       " 'material': 345,\n",
       " 'into': 346,\n",
       " 'huge': 347,\n",
       " 'bin': 348,\n",
       " 'poured': 349,\n",
       " 'cotton': 350,\n",
       " 'acetate': 351,\n",
       " 'mechanically': 352,\n",
       " 'mixed': 353,\n",
       " 'dry': 354,\n",
       " 'process': 355,\n",
       " 'described': 356,\n",
       " 'clouds': 357,\n",
       " 'blue': 358,\n",
       " 'dust': 359,\n",
       " 'hung': 360,\n",
       " 'over': 361,\n",
       " 'parts': 362,\n",
       " 'though': 363,\n",
       " 'exhaust': 364,\n",
       " 'fans': 365,\n",
       " 'ventilated': 366,\n",
       " 'area': 367,\n",
       " 'question': 368,\n",
       " 'some': 369,\n",
       " 'managers': 370,\n",
       " 'contracted': 371,\n",
       " 'Darrell': 372,\n",
       " 'Phillips': 373,\n",
       " 'vice': 374,\n",
       " 'president': 375,\n",
       " 'human': 376,\n",
       " 'resources': 377,\n",
       " 'But': 378,\n",
       " 'you': 379,\n",
       " 'recognize': 380,\n",
       " 'these': 381,\n",
       " 'events': 382,\n",
       " 'took': 383,\n",
       " 'place': 384,\n",
       " '35': 385,\n",
       " 'It': 386,\n",
       " 'bearing': 387,\n",
       " 'work': 388,\n",
       " 'force': 389,\n",
       " 'Yields': 390,\n",
       " 'money-market': 391,\n",
       " 'mutual': 392,\n",
       " 'funds': 393,\n",
       " 'continued': 394,\n",
       " 'slide': 395,\n",
       " 'amid': 396,\n",
       " 'signs': 397,\n",
       " 'portfolio': 398,\n",
       " 'expect': 399,\n",
       " 'further': 400,\n",
       " 'declines': 401,\n",
       " 'interest': 402,\n",
       " 'rates': 403,\n",
       " 'average': 404,\n",
       " 'seven-day': 405,\n",
       " 'compound': 406,\n",
       " 'yield': 407,\n",
       " '400': 408,\n",
       " 'taxable': 409,\n",
       " 'tracked': 410,\n",
       " 'IBC': 411,\n",
       " 'Money': 412,\n",
       " 'Fund': 413,\n",
       " 'Report': 414,\n",
       " 'eased': 415,\n",
       " 'fraction': 416,\n",
       " 'point': 417,\n",
       " '8.45': 418,\n",
       " '%': 419,\n",
       " '8.47': 420,\n",
       " 'week': 421,\n",
       " 'ended': 422,\n",
       " 'Tuesday': 423,\n",
       " 'Compound': 424,\n",
       " 'yields': 425,\n",
       " 'assume': 426,\n",
       " 'reinvestment': 427,\n",
       " 'dividends': 428,\n",
       " 'current': 429,\n",
       " 'continues': 430,\n",
       " 'Average': 431,\n",
       " 'maturity': 432,\n",
       " \"'\": 433,\n",
       " 'investments': 434,\n",
       " 'lengthened': 435,\n",
       " 'day': 436,\n",
       " '41': 437,\n",
       " 'days': 438,\n",
       " 'longest': 439,\n",
       " 'since': 440,\n",
       " 'August': 441,\n",
       " 'Donoghue': 442,\n",
       " 'Longer': 443,\n",
       " 'maturities': 444,\n",
       " 'thought': 445,\n",
       " 'indicate': 446,\n",
       " 'declining': 447,\n",
       " 'because': 448,\n",
       " 'they': 449,\n",
       " 'permit': 450,\n",
       " 'retain': 451,\n",
       " 'relatively': 452,\n",
       " 'longer': 453,\n",
       " 'period': 454,\n",
       " 'Shorter': 455,\n",
       " 'considered': 456,\n",
       " '*-9': 457,\n",
       " 'sign': 458,\n",
       " 'rising': 459,\n",
       " 'can': 460,\n",
       " 'capture': 461,\n",
       " 'sooner': 462,\n",
       " 'open': 463,\n",
       " 'only': 464,\n",
       " 'institutions': 465,\n",
       " 'stronger': 466,\n",
       " 'indicator': 467,\n",
       " 'watch': 468,\n",
       " 'market': 469,\n",
       " 'reached': 470,\n",
       " 'Nevertheless': 471,\n",
       " 'Brenda': 472,\n",
       " 'Malizia': 473,\n",
       " 'Negus': 474,\n",
       " 'editor': 475,\n",
       " 'may': 476,\n",
       " 'blip': 477,\n",
       " 'again': 478,\n",
       " 'down': 479,\n",
       " 'recent': 480,\n",
       " 'rises': 481,\n",
       " 'short-term': 482,\n",
       " 'six-month': 483,\n",
       " 'Treasury': 484,\n",
       " 'bills': 485,\n",
       " 'Monday': 486,\n",
       " 'auction': 487,\n",
       " 'example': 488,\n",
       " 'rose': 489,\n",
       " '8.04': 490,\n",
       " '7.90': 491,\n",
       " 'Despite': 492,\n",
       " 'investors': 493,\n",
       " 'continue': 494,\n",
       " 'pour': 495,\n",
       " 'cash': 496,\n",
       " 'money': 497,\n",
       " 'Assets': 498,\n",
       " 'grew': 499,\n",
       " '$': 500,\n",
       " '1.5': 501,\n",
       " '*U*': 502,\n",
       " 'during': 503,\n",
       " '352.7': 504,\n",
       " 'Typically': 505,\n",
       " 'money-fund': 506,\n",
       " 'beat': 507,\n",
       " 'comparable': 508,\n",
       " 'vary': 509,\n",
       " 'go': 510,\n",
       " 'after': 511,\n",
       " 'top': 512,\n",
       " 'currently': 513,\n",
       " 'yielding': 514,\n",
       " 'well': 515,\n",
       " '9': 516,\n",
       " 'Dreyfus': 517,\n",
       " 'World-Wide': 518,\n",
       " 'Dollar': 519,\n",
       " 'top-yielding': 520,\n",
       " 'fund': 521,\n",
       " 'had': 522,\n",
       " '9.37': 523,\n",
       " '9.45': 524,\n",
       " 'earlier': 525,\n",
       " 'invests': 526,\n",
       " 'heavily': 527,\n",
       " 'dollar-denominated': 528,\n",
       " 'securities': 529,\n",
       " 'overseas': 530,\n",
       " 'waiving': 531,\n",
       " 'management': 532,\n",
       " 'fees': 533,\n",
       " '*T*-9': 534,\n",
       " 'boosts': 535,\n",
       " 'simple': 536,\n",
       " '8.12': 537,\n",
       " '8.14': 538,\n",
       " '30-day': 539,\n",
       " 'fell': 540,\n",
       " '8.19': 541,\n",
       " '8.22': 542,\n",
       " ';': 543,\n",
       " 'slid': 544,\n",
       " '8.53': 545,\n",
       " '8.56': 546,\n",
       " 'J.P.': 547,\n",
       " 'Bolduc': 548,\n",
       " 'W.R.': 549,\n",
       " 'Grace': 550,\n",
       " '*T*-10': 551,\n",
       " 'holds': 552,\n",
       " '83.4': 553,\n",
       " 'energy-services': 554,\n",
       " 'elected': 555,\n",
       " '*-10': 556,\n",
       " 'He': 557,\n",
       " 'succeeds': 558,\n",
       " 'Terrence': 559,\n",
       " 'D.': 560,\n",
       " 'Daniels': 561,\n",
       " 'formerly': 562,\n",
       " '*T*-11': 563,\n",
       " 'resigned': 564,\n",
       " 'Energy': 565,\n",
       " 'seven': 566,\n",
       " 'seats': 567,\n",
       " 'Pacific': 568,\n",
       " 'First': 569,\n",
       " 'Financial': 570,\n",
       " 'shareholders': 571,\n",
       " 'approved': 572,\n",
       " 'acquisition': 573,\n",
       " 'Royal': 574,\n",
       " 'Trustco': 575,\n",
       " 'Ltd.': 576,\n",
       " 'Toronto': 577,\n",
       " '27': 578,\n",
       " 'share': 579,\n",
       " 'or': 580,\n",
       " '212': 581,\n",
       " 'million': 582,\n",
       " 'thrift': 583,\n",
       " 'holding': 584,\n",
       " 'expects': 585,\n",
       " 'obtain': 586,\n",
       " 'regulatory': 587,\n",
       " 'approval': 588,\n",
       " 'complete': 589,\n",
       " 'transaction': 590,\n",
       " 'year-end': 591,\n",
       " 'McDermott': 592,\n",
       " 'International': 593,\n",
       " 'Babcock': 594,\n",
       " 'Wilcox': 595,\n",
       " 'completed': 596,\n",
       " 'sale': 597,\n",
       " 'Bailey': 598,\n",
       " 'Controls': 599,\n",
       " 'Operations': 600,\n",
       " 'Finmeccanica': 601,\n",
       " 'S.p': 602,\n",
       " '295': 603,\n",
       " 'Italian': 604,\n",
       " 'state-owned': 605,\n",
       " 'interests': 606,\n",
       " 'mechanical': 607,\n",
       " 'engineering': 608,\n",
       " 'industry': 609,\n",
       " 'based': 610,\n",
       " 'Wickliffe': 611,\n",
       " 'Ohio': 612,\n",
       " 'computerized': 613,\n",
       " 'controls': 614,\n",
       " 'systems': 615,\n",
       " 'employs': 616,\n",
       " '2,700': 617,\n",
       " 'people': 618,\n",
       " 'annual': 619,\n",
       " 'revenue': 620,\n",
       " '370': 621,\n",
       " 'federal': 622,\n",
       " 'government': 623,\n",
       " 'suspended': 624,\n",
       " 'sales': 625,\n",
       " 'savings': 626,\n",
       " 'bonds': 627,\n",
       " 'Congress': 628,\n",
       " 'lifted': 629,\n",
       " 'ceiling': 630,\n",
       " 'debt': 631,\n",
       " 'Until': 632,\n",
       " 'acts': 633,\n",
       " 'authority': 634,\n",
       " 'issue': 635,\n",
       " 'obligations': 636,\n",
       " 'borrowing': 637,\n",
       " 'dropped': 638,\n",
       " 'midnight': 639,\n",
       " '2.80': 640,\n",
       " 'trillion': 641,\n",
       " '2.87': 642,\n",
       " 'Legislation': 643,\n",
       " 'lift': 644,\n",
       " 'ensnarled': 645,\n",
       " '*-11': 646,\n",
       " 'fight': 647,\n",
       " 'cutting': 648,\n",
       " 'capital-gains': 649,\n",
       " 'taxes': 650,\n",
       " 'House': 651,\n",
       " 'voted': 652,\n",
       " 'raise': 653,\n",
       " '3.1': 654,\n",
       " 'but': 655,\n",
       " 'Senate': 656,\n",
       " 'act': 657,\n",
       " 'until': 658,\n",
       " 'next': 659,\n",
       " 'earliest': 660,\n",
       " 'default': 661,\n",
       " 'if': 662,\n",
       " 'then': 663,\n",
       " 'Clark': 664,\n",
       " 'J.': 665,\n",
       " 'Vitulli': 666,\n",
       " '*-12': 667,\n",
       " 'senior': 668,\n",
       " '*RNR*-1': 669,\n",
       " 'general': 670,\n",
       " 'manager': 671,\n",
       " 'marketing': 672,\n",
       " 'arm': 673,\n",
       " 'Japanese': 674,\n",
       " 'auto': 675,\n",
       " 'maker': 676,\n",
       " 'Mazda': 677,\n",
       " 'Motor': 678,\n",
       " 'Corp': 679,\n",
       " 'position': 680,\n",
       " 'oversee': 681,\n",
       " 'service': 682,\n",
       " 'operations': 683,\n",
       " 'Previously': 684,\n",
       " '43': 685,\n",
       " 'Chrysler': 686,\n",
       " 'division': 687,\n",
       " 'been': 688,\n",
       " 'executive': 689,\n",
       " '20': 690,\n",
       " 'When': 691,\n",
       " 'time': 692,\n",
       " 'their': 693,\n",
       " 'biannual': 694,\n",
       " 'powwow': 695,\n",
       " 'nation': 696,\n",
       " 'manufacturing': 697,\n",
       " 'titans': 698,\n",
       " 'typically': 699,\n",
       " 'jet': 700,\n",
       " 'off': 701,\n",
       " 'sunny': 702,\n",
       " 'confines': 703,\n",
       " 'resort': 704,\n",
       " 'towns': 705,\n",
       " 'like': 706,\n",
       " 'Boca': 707,\n",
       " 'Raton': 708,\n",
       " 'Hot': 709,\n",
       " 'Springs': 710,\n",
       " 'Not': 711,\n",
       " 'Association': 712,\n",
       " 'Manufacturers': 713,\n",
       " 'settled': 714,\n",
       " 'Hoosier': 715,\n",
       " 'capital': 716,\n",
       " 'Indianapolis': 717,\n",
       " 'fall': 718,\n",
       " 'meeting': 719,\n",
       " 'And': 720,\n",
       " 'city': 721,\n",
       " 'decided': 722,\n",
       " 'treat': 723,\n",
       " 'guests': 724,\n",
       " 'royalty': 725,\n",
       " 'rock': 726,\n",
       " 'stars': 727,\n",
       " 'owners': 728,\n",
       " 'idea': 729,\n",
       " 'course': 730,\n",
       " ':': 731,\n",
       " 'prove': 732,\n",
       " '125': 733,\n",
       " 'corporate': 734,\n",
       " 'decision': 735,\n",
       " 'makers': 736,\n",
       " 'buckle': 737,\n",
       " 'Rust': 738,\n",
       " 'Belt': 739,\n",
       " 'so': 740,\n",
       " 'rusty': 741,\n",
       " 'good': 742,\n",
       " 'expand': 743,\n",
       " 'On': 744,\n",
       " 'receiving': 745,\n",
       " 'end': 746,\n",
       " 'message': 747,\n",
       " 'officials': 748,\n",
       " 'giants': 749,\n",
       " 'Du': 750,\n",
       " 'Pont': 751,\n",
       " 'Maytag': 752,\n",
       " 'along': 753,\n",
       " 'lesser': 754,\n",
       " 'knowns': 755,\n",
       " 'Trojan': 756,\n",
       " 'Steel': 757,\n",
       " 'Valley': 758,\n",
       " 'Queen': 759,\n",
       " 'Cheese': 760,\n",
       " 'Factory': 761,\n",
       " 'For': 762,\n",
       " 'starters': 763,\n",
       " 'executives': 764,\n",
       " 'joined': 765,\n",
       " 'Mayor': 766,\n",
       " 'William': 767,\n",
       " 'H.': 768,\n",
       " 'Hudnut': 769,\n",
       " 'III': 770,\n",
       " 'evening': 771,\n",
       " 'Symphony': 772,\n",
       " 'Orchestra': 773,\n",
       " 'guest': 774,\n",
       " 'pianist-comedian': 775,\n",
       " 'Victor': 776,\n",
       " 'Borge': 777,\n",
       " 'Champagne': 778,\n",
       " 'dessert': 779,\n",
       " 'followed': 780,\n",
       " 'morning': 781,\n",
       " 'police': 782,\n",
       " 'escort': 783,\n",
       " 'busloads': 784,\n",
       " 'wives': 785,\n",
       " 'raced': 786,\n",
       " 'Speedway': 787,\n",
       " 'unimpeded': 788,\n",
       " 'traffic': 789,\n",
       " 'red': 790,\n",
       " 'lights': 791,\n",
       " 'governor': 792,\n",
       " 'could': 793,\n",
       " 'lieutenant': 794,\n",
       " 'welcomed': 795,\n",
       " 'special': 796,\n",
       " 'buffet': 797,\n",
       " 'breakfast': 798,\n",
       " 'held': 799,\n",
       " 'museum': 800,\n",
       " 'food': 801,\n",
       " 'drinks': 802,\n",
       " 'banned': 803,\n",
       " 'everyday': 804,\n",
       " 'visitors': 805,\n",
       " 'Then': 806,\n",
       " 'honor': 807,\n",
       " 'speedway': 808,\n",
       " 'hauled': 809,\n",
       " 'out': 810,\n",
       " 'four': 811,\n",
       " 'drivers': 812,\n",
       " 'crews': 813,\n",
       " 'official': 814,\n",
       " '500': 815,\n",
       " 'announcer': 816,\n",
       " '10-lap': 817,\n",
       " 'exhibition': 818,\n",
       " 'race': 819,\n",
       " 'After': 820,\n",
       " 'Fortune': 821,\n",
       " 'drooled': 822,\n",
       " 'schoolboys': 823,\n",
       " 'cars': 824,\n",
       " 'No': 825,\n",
       " 'dummies': 826,\n",
       " 'pointed': 827,\n",
       " 'still': 828,\n",
       " 'space': 829,\n",
       " 'machines': 830,\n",
       " 'another': 831,\n",
       " 'sponsor': 832,\n",
       " 'name': 833,\n",
       " 'two': 834,\n",
       " 'Back': 835,\n",
       " 'downtown': 836,\n",
       " 'execs': 837,\n",
       " 'squeezed': 838,\n",
       " 'meetings': 839,\n",
       " 'hotel': 840,\n",
       " 'boarding': 841,\n",
       " 'buses': 842,\n",
       " 'dinner': 843,\n",
       " 'dancing': 844,\n",
       " 'block': 845,\n",
       " 'away': 846,\n",
       " 'Under': 847,\n",
       " 'moons': 848,\n",
       " 'renovated': 849,\n",
       " 'Indiana': 850,\n",
       " 'Roof': 851,\n",
       " 'ballroom': 852,\n",
       " 'nine': 853,\n",
       " 'hottest': 854,\n",
       " 'chefs': 855,\n",
       " 'town': 856,\n",
       " 'fed': 857,\n",
       " 'them': 858,\n",
       " 'duckling': 859,\n",
       " 'mousseline': 860,\n",
       " 'lobster': 861,\n",
       " 'consomme': 862,\n",
       " 'veal': 863,\n",
       " 'mignon': 864,\n",
       " 'chocolate': 865,\n",
       " 'terrine': 866,\n",
       " 'raspberry': 867,\n",
       " 'sauce': 868,\n",
       " 'Knowing': 869,\n",
       " 'tasty': 870,\n",
       " 'free': 871,\n",
       " 'meal': 872,\n",
       " 'when': 873,\n",
       " 'eat': 874,\n",
       " 'gave': 875,\n",
       " 'standing': 876,\n",
       " 'ovation': 877,\n",
       " 'CEOs': 878,\n",
       " 'say': 879,\n",
       " 'red-carpet': 880,\n",
       " 'treatment': 881,\n",
       " 'tempts': 882,\n",
       " 'return': 883,\n",
       " 'heartland': 884,\n",
       " 'future': 885,\n",
       " 'looking': 886,\n",
       " 'forward': 887,\n",
       " 'winter': 888,\n",
       " 'February': 889,\n",
       " 'South': 890,\n",
       " 'Korea': 891,\n",
       " 'registered': 892,\n",
       " 'trade': 893,\n",
       " 'deficit': 894,\n",
       " '101': 895,\n",
       " 'October': 896,\n",
       " 'reflecting': 897,\n",
       " 'country': 898,\n",
       " 'economic': 899,\n",
       " 'sluggishness': 900,\n",
       " 'figures': 901,\n",
       " 'released': 902,\n",
       " 'Wednesday': 903,\n",
       " 'Preliminary': 904,\n",
       " 'tallies': 905,\n",
       " 'Trade': 906,\n",
       " 'Industry': 907,\n",
       " 'Ministry': 908,\n",
       " 'showed': 909,\n",
       " 'fifth': 910,\n",
       " 'monthly': 911,\n",
       " 'setback': 912,\n",
       " 'casting': 913,\n",
       " 'cloud': 914,\n",
       " 'export-oriented': 915,\n",
       " 'economy': 916,\n",
       " 'Exports': 917,\n",
       " 'stood': 918,\n",
       " '5.29': 919,\n",
       " 'mere': 920,\n",
       " '0.7': 921,\n",
       " 'increase': 922,\n",
       " 'while': 923,\n",
       " 'imports': 924,\n",
       " 'increased': 925,\n",
       " 'sharply': 926,\n",
       " '5.39': 927,\n",
       " 'last': 928,\n",
       " 'boom': 929,\n",
       " '*T*-12': 930,\n",
       " 'began': 931,\n",
       " '1986': 932,\n",
       " 'prolonged': 933,\n",
       " 'labor': 934,\n",
       " 'disputes': 935,\n",
       " 'conflicts': 936,\n",
       " 'sluggish': 937,\n",
       " 'exports': 938,\n",
       " 'Government': 939,\n",
       " 'would': 940,\n",
       " 'remain': 941,\n",
       " 'target': 942,\n",
       " '68': 943,\n",
       " 'gloomy': 944,\n",
       " 'forecast': 945,\n",
       " 'recorded': 946,\n",
       " 'surplus': 947,\n",
       " '71': 948,\n",
       " 'January': 949,\n",
       " 'accumulated': 950,\n",
       " '4': 951,\n",
       " 'same': 952,\n",
       " '50.45': 953,\n",
       " 'Imports': 954,\n",
       " '50.38': 955,\n",
       " '19': 956,\n",
       " 'Newsweek': 957,\n",
       " 'trying': 958,\n",
       " 'keep': 959,\n",
       " 'pace': 960,\n",
       " 'rival': 961,\n",
       " 'Time': 962,\n",
       " 'magazine': 963,\n",
       " 'announced': 964,\n",
       " 'advertising': 965,\n",
       " '1990': 966,\n",
       " 'introduce': 967,\n",
       " 'incentive': 968,\n",
       " 'plan': 969,\n",
       " 'advertisers': 970,\n",
       " 'ad': 971,\n",
       " 'Washington': 972,\n",
       " 'Post': 973,\n",
       " 'second': 974,\n",
       " 'offered': 975,\n",
       " 'Plans': 976,\n",
       " '*T*-13': 977,\n",
       " 'give': 978,\n",
       " 'discounts': 979,\n",
       " 'maintaining': 980,\n",
       " 'increasing': 981,\n",
       " 'spending': 982,\n",
       " 'become': 983,\n",
       " 'permanent': 984,\n",
       " 'fixtures': 985,\n",
       " 'news': 986,\n",
       " 'weeklies': 987,\n",
       " 'underscore': 988,\n",
       " 'fierce': 989,\n",
       " 'competition': 990,\n",
       " 'between': 991,\n",
       " 'Warner': 992,\n",
       " 'Mortimer': 993,\n",
       " 'B.': 994,\n",
       " 'Zuckerman': 995,\n",
       " 'News': 996,\n",
       " 'World': 997,\n",
       " 'Alan': 998,\n",
       " 'Spoon': 999,\n",
       " '5': 1000,\n",
       " ...}"
      ]
     },
     "execution_count": 81,
     "metadata": {},
     "output_type": "execute_result"
    }
   ],
   "source": [
    "word_mapping"
   ]
  },
  {
   "cell_type": "code",
   "execution_count": 82,
   "metadata": {
    "scrolled": true
   },
   "outputs": [
    {
     "data": {
      "text/plain": [
       "{'NNP': 1,\n",
       " ',': 2,\n",
       " 'CD': 3,\n",
       " 'NNS': 4,\n",
       " 'JJ': 5,\n",
       " 'MD': 6,\n",
       " 'VB': 7,\n",
       " 'DT': 8,\n",
       " 'NN': 9,\n",
       " 'IN': 10,\n",
       " '.': 11,\n",
       " 'VBZ': 12,\n",
       " 'VBG': 13,\n",
       " 'CC': 14,\n",
       " 'VBD': 15,\n",
       " 'VBN': 16,\n",
       " '-NONE-': 17,\n",
       " 'RB': 18,\n",
       " 'TO': 19,\n",
       " 'PRP': 20,\n",
       " 'RBR': 21,\n",
       " 'WDT': 22,\n",
       " 'VBP': 23,\n",
       " 'RP': 24,\n",
       " 'PRP$': 25,\n",
       " 'JJS': 26,\n",
       " 'POS': 27,\n",
       " '``': 28,\n",
       " 'EX': 29,\n",
       " \"''\": 30,\n",
       " 'WP': 31,\n",
       " ':': 32,\n",
       " 'JJR': 33,\n",
       " 'WRB': 34,\n",
       " '$': 35,\n",
       " 'NNPS': 36,\n",
       " 'WP$': 37,\n",
       " '-LRB-': 38,\n",
       " '-RRB-': 39,\n",
       " 'PDT': 40,\n",
       " 'RBS': 41,\n",
       " 'FW': 42,\n",
       " 'UH': 43,\n",
       " 'SYM': 44,\n",
       " 'LS': 45,\n",
       " '#': 46}"
      ]
     },
     "execution_count": 82,
     "metadata": {},
     "output_type": "execute_result"
    }
   ],
   "source": [
    "label_mapping"
   ]
  },
  {
   "cell_type": "code",
   "execution_count": 83,
   "metadata": {},
   "outputs": [],
   "source": [
    "vocab_size = len(word_mapping) + 1\n",
    "label_size = len(label_mapping) + 1"
   ]
  },
  {
   "cell_type": "code",
   "execution_count": 84,
   "metadata": {},
   "outputs": [],
   "source": [
    "x = []\n",
    "y = []\n",
    "maxlen = -np.inf\n",
    "for s in train_data:\n",
    "    maxlen = max(len(s), maxlen)\n",
    "    x.append([word_mapping[t[0]] for t in s])\n",
    "    y.append([label_mapping[t[1]] for t in s])"
   ]
  },
  {
   "cell_type": "code",
   "execution_count": 85,
   "metadata": {},
   "outputs": [],
   "source": [
    "x = pad_sequences(x, maxlen=maxlen, padding='pre')\n",
    "y = pad_sequences(y, maxlen=maxlen, padding='pre')"
   ]
  },
  {
   "cell_type": "code",
   "execution_count": 86,
   "metadata": {},
   "outputs": [
    {
     "data": {
      "text/plain": [
       "(3914, 271)"
      ]
     },
     "execution_count": 86,
     "metadata": {},
     "output_type": "execute_result"
    }
   ],
   "source": [
    "y.shape"
   ]
  },
  {
   "cell_type": "code",
   "execution_count": 87,
   "metadata": {},
   "outputs": [],
   "source": [
    "#one hot encoding to Y label\n",
    "Y_onehot = np.zeros((y.shape[0], maxlen, label_size), dtype=np.bool)\n",
    "for i in range(y.shape[0]):\n",
    "    for j in range(maxlen):\n",
    "        Y_onehot[i, j, y[i, j]] = 1"
   ]
  },
  {
   "cell_type": "code",
   "execution_count": 88,
   "metadata": {},
   "outputs": [],
   "source": [
    "#build model:\n",
    "model = Sequential()\n",
    "model.add(Embedding(vocab_size, 50, input_length=maxlen))\n",
    "model.add(LSTM(50, return_sequences=True))\n",
    "#Here we need return_sequences=True, because we need hidden state from each token in sequence.\n",
    "    #otherwise,if return_sequences=False -> LSTM only take hidden state (h) from last word in sequence \n",
    "    #see graph below for visual explanation\n",
    "\n",
    "model.add(TimeDistributed(Dense(64, activation='relu')))\n",
    "#Using TimeDistributed layer to copy the operation in each word of a sequence, a max_len times.\n",
    "    #see graph below for visual explanation\n",
    "\n",
    "model.add(TimeDistributed(Dropout(0.2)))\n",
    "model.add(TimeDistributed(Dense(label_size, activation='softmax')))"
   ]
  },
  {
   "cell_type": "markdown",
   "metadata": {},
   "source": [
    "<img src='RNNforPosTag.png'>"
   ]
  },
  {
   "cell_type": "code",
   "execution_count": 89,
   "metadata": {},
   "outputs": [],
   "source": [
    "rmsprop = RMSprop(lr=0.01)\n",
    "model.compile(loss='categorical_crossentropy', optimizer=rmsprop, metrics=['accuracy'])"
   ]
  },
  {
   "cell_type": "code",
   "execution_count": 90,
   "metadata": {},
   "outputs": [],
   "source": [
    "train_x, valid_x, train_y, valid_y = train_test_split(x, Y_onehot, test_size=0.3, random_state=0)"
   ]
  },
  {
   "cell_type": "code",
   "execution_count": 91,
   "metadata": {},
   "outputs": [
    {
     "name": "stderr",
     "output_type": "stream",
     "text": [
      "D:\\Program_Data\\Anaconda3\\envs\\py37tf_gpu\\lib\\site-packages\\tensorflow_core\\python\\framework\\indexed_slices.py:433: UserWarning: Converting sparse IndexedSlices to a dense Tensor of unknown shape. This may consume a large amount of memory.\n",
      "  \"Converting sparse IndexedSlices to a dense Tensor of unknown shape. \"\n"
     ]
    },
    {
     "name": "stdout",
     "output_type": "stream",
     "text": [
      "Train on 2739 samples, validate on 1175 samples\n",
      "Epoch 1/1\n",
      "2739/2739 [==============================] - 18s 7ms/step - loss: 0.2950 - accuracy: 0.9334 - val_loss: 0.0602 - val_accuracy: 0.9835\n"
     ]
    },
    {
     "data": {
      "text/plain": [
       "<keras.callbacks.callbacks.History at 0x2903e5e2488>"
      ]
     },
     "execution_count": 91,
     "metadata": {},
     "output_type": "execute_result"
    }
   ],
   "source": [
    "model.fit(train_x, train_y, validation_data=(valid_x, valid_y), epochs=1, verbose=True)"
   ]
  },
  {
   "cell_type": "markdown",
   "metadata": {},
   "source": [
    "#### Test Model:"
   ]
  },
  {
   "cell_type": "code",
   "execution_count": 92,
   "metadata": {},
   "outputs": [],
   "source": [
    "test_s = \"Today is a good day .\".split()"
   ]
  },
  {
   "cell_type": "code",
   "execution_count": 93,
   "metadata": {},
   "outputs": [],
   "source": [
    "test_x = pad_sequences([[word_mapping[w] for w in test_s]], maxlen=maxlen, padding='pre')"
   ]
  },
  {
   "cell_type": "code",
   "execution_count": 94,
   "metadata": {},
   "outputs": [],
   "source": [
    "test_y_pred = model.predict(test_x)"
   ]
  },
  {
   "cell_type": "code",
   "execution_count": 96,
   "metadata": {},
   "outputs": [],
   "source": [
    "index2label = dict((v, k) for k, v in label_mapping.items())"
   ]
  },
  {
   "cell_type": "code",
   "execution_count": 97,
   "metadata": {},
   "outputs": [],
   "source": [
    "pred_label = []\n",
    "for idx in np.argmax(test_y_pred, axis=2)[0]:\n",
    "    if idx > 0:\n",
    "        pred_label.append(index2label[idx])"
   ]
  },
  {
   "cell_type": "code",
   "execution_count": 99,
   "metadata": {},
   "outputs": [
    {
     "name": "stdout",
     "output_type": "stream",
     "text": [
      "['Today', 'is', 'a', 'good', 'day', '.']\n",
      "['NN', 'VBZ', 'DT', 'JJ', 'NN', '.']\n"
     ]
    }
   ],
   "source": [
    "print(test_s)\n",
    "print(pred_label)"
   ]
  },
  {
   "cell_type": "code",
   "execution_count": null,
   "metadata": {
    "collapsed": true
   },
   "outputs": [],
   "source": []
  }
 ],
 "metadata": {
  "kernelspec": {
   "display_name": "Python 3",
   "language": "python",
   "name": "python3"
  },
  "language_info": {
   "codemirror_mode": {
    "name": "ipython",
    "version": 3
   },
   "file_extension": ".py",
   "mimetype": "text/x-python",
   "name": "python",
   "nbconvert_exporter": "python",
   "pygments_lexer": "ipython3",
   "version": "3.7.9"
  }
 },
 "nbformat": 4,
 "nbformat_minor": 1
}
