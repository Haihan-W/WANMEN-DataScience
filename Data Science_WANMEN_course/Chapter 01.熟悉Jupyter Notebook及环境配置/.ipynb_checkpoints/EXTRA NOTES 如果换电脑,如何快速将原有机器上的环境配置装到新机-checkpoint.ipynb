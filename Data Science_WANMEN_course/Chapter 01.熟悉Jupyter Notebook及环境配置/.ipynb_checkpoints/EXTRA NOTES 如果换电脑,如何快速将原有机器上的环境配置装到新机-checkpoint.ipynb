{
 "cells": [
  {
   "cell_type": "markdown",
   "metadata": {},
   "source": [
    "EXTRA NOTES 如果换电脑,如何快速将原有机器上的环境配置装到新机:\n",
    "\n",
    "Better use Anaconda Navigator rather than anaconda prompt.\n",
    "\n",
    "S1. in old computer, activate environment to be export, then follow this link, create a spec list (txt) https://docs.conda.io/projects/conda/en/latest/user-guide/tasks/manage-environments.html#cloning-an-environment (note: using this link can only transfer env specs sometimes, if you want to export all pip files as well, try method 2 below (req.txt) or try method 1 below to export yml file, then continue to S2)\n",
    "\n",
    "S2. Send this txt file to new PC.\n",
    "\n",
    "S3. Open Anaconda navigator in your new PC.\n",
    "\n",
    "S4. Import-> choose spec file\n",
    "\n",
    "------------- ARCHIVE : ignore Method 1 and 2 below, not working... ------------------\n",
    "Method 1:\n",
    "\n",
    "Step 1.\n",
    "\n",
    "https://datascience.stackexchange.com/questions/24093/how-to-clone-python-working-environment-on-another-machine\n",
    "this method is better than method 2. (steps silimar as method 2, difference:\n",
    "\n",
    "1. just use different command and export yml file instead of txt file.\n",
    "2. In your new computer, you do not need to create an environment, the name of your cloned environment will be the same as your imported yml file. If you would like to change the name of the environment, just open yml file with notepad, and change display name to whatever you want.\n",
    "\n",
    "NOTE:\n",
    "Before you export the environment from old PC, make sure to activate that env, and run the following commands with CAUTIOUS since it may mess up with the original settings for anaconda:\n",
    "\n",
    "conda update conda\n",
    "\n",
    "conda update anaconda\n",
    "\n",
    "conda update pip\n",
    "\n",
    "\n",
    "Since sometimes when you upgrade something in the env, it will break something/results in inconsistency and does not let export env to include all of the pip packages you have in the current env. Doing the things above will ensure the exported yml file also include pip packages and packages are up to date in that env setting.\n",
    "\n",
    "note: https://stackoverflow.com/questions/49174185/export-conda-environment-without-prefix-variable-which-shows-local-path-to-execu\n",
    "It seems prefix: ... at the end of the yml file is useless, so I just ignored it in the new computer.\n",
    "\n",
    "\n",
    "Step 2. \n",
    "\n",
    "Even if you did the step above, new PC anaconda still may NOT install pip and pip - packages from yml file. (reason don't know, it is an existing bug with anaconda)\n",
    "\n",
    "Workaround:\n",
    "After you have done step 1, run command: pip list, if the packages under - pip: in yml file does not exist in list, means anaconda did not install those pip packages.\n",
    "\n",
    "Then manually copy the packages under - pip: , and remove \"-\" and space before package name. (e.g. \"- get == 23.21.0\" --> \"get == 23.21.0\"), then paste it into a new notepad and save as txt file (e.g. \"requiredpip.txt\". (same format as requirement.txt).\n",
    "\n",
    "Then use the same method as method 2 below, i.e. pip install -r requiredpip.txt, under the activated environment. Then all of the pip packages under original yml files (\" - pip:\" section) will be installed into your current acitivated environment.\n",
    "\n",
    "Sometimes error will pop up saying no version found, in this case, just remove the version number from txt file and retry it.\n",
    "\n",
    "\n",
    "\n",
    "Method 2:\n",
    "1. 进入原有电脑\n",
    "2. open anaconda prompt, activate the environment that you want to export.\n",
    "3. type pip freeze > requirement.txt\n",
    "\n",
    "then a txt file with all of the environment and configurations in your current activated environment is written in requirement.txt file.\n",
    "4. on your new PC, Paste that requirement.txt into your directory\n",
    "5. On your new PC, open conda prompt, create a new environment name, activate it, then cd to that directory where requirement.txt locates, type pip install -r requirement.txt; Then all packages in requirement.txt file will be installed in your current activated environment.\n"
   ]
  },
  {
   "cell_type": "code",
   "execution_count": null,
   "metadata": {
    "collapsed": true
   },
   "outputs": [],
   "source": []
  }
 ],
 "metadata": {
  "kernelspec": {
   "display_name": "Python 3",
   "language": "python",
   "name": "python3"
  },
  "language_info": {
   "codemirror_mode": {
    "name": "ipython",
    "version": 3
   },
   "file_extension": ".py",
   "mimetype": "text/x-python",
   "name": "python",
   "nbconvert_exporter": "python",
   "pygments_lexer": "ipython3",
   "version": "3.6.8"
  }
 },
 "nbformat": 4,
 "nbformat_minor": 2
}
