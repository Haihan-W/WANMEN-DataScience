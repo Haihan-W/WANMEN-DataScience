{
 "cells": [
  {
   "cell_type": "markdown",
   "metadata": {},
   "source": [
    "# 1. Jupyter Notebook 基本使用技巧\n",
    "以下所有操作都需要在命令模式下完成（按ESC或者点击编辑框外的空白处）\n",
    "\n",
    "* 向上增加空白cell, <span style=\"color:blue\">A</span>\n",
    "* 向下增加空白cell, <span style=\"color:blue\">B</span>\n",
    "* 运行cell，并将光标移动到下一个cell，<span style=\"color:blue\">shift+enter</span>\n",
    "* 运行cell，<span style=\"color:blue\">ctrl+enter</span>\n",
    "* 删除本cell，<span style=\"color:blue\">DD</span>\n",
    "* 剪切本cell, <span style=\"color:blue\">X</span>\n",
    "* 粘贴本cell, <span style=\"color:blue\">V</span>\n",
    "\n",
    "* 合并两个cell,<span style=\"color:blue\">A</span>\n",
    "* 将cell转为代码状态，<span style=\"color:blue\">Y</span>\n",
    "* 将cell转为markdown状态，<span style=\"color:blue\">M</span>\n",
    "* 将选中的几个cells合并，<span style=\"color:blue\">Shift+M</span>\n",
    "* 打开／关闭行号，<span style=\"color:blue\">L</span>\n",
    "* 恢复删除的最后一个cell，<span style='color:blue'>Z</span>  只有最后一个啊\n",
    "* 选中代码整体左移／右移, <span style = 'color:blue'>ctrl+[或者ctrl+]</span>"
   ]
  },
  {
   "cell_type": "markdown",
   "metadata": {},
   "source": [
    "## 2. Markdown的基本技巧\n",
    "\n",
    "[链接在这里哟](https://github.com/adam-p/markdown-here/wiki/Markdown-Cheatsheet)\n",
    "\n",
    "[小抄](https://guides.github.com/pdfs/markdown-cheatsheet-online.pdf)\n",
    "\n",
    "## 标题\n",
    "\n",
    "# 一号标题\n",
    "## 二号标题\n",
    "### 三号标题\n",
    "#### 四号标题"
   ]
  },
  {
   "cell_type": "markdown",
   "metadata": {},
   "source": [
    "怎么样**划重点**(黑体)"
   ]
  },
  {
   "cell_type": "markdown",
   "metadata": {},
   "source": [
    "怎么样*画斜体*"
   ]
  },
  {
   "cell_type": "code",
   "execution_count": null,
   "metadata": {
    "collapsed": true
   },
   "outputs": [],
   "source": []
  },
  {
   "cell_type": "markdown",
   "metadata": {},
   "source": [
    "引用一段话\n",
    "\n",
    "> 于是我就念了一句诗"
   ]
  },
  {
   "cell_type": "markdown",
   "metadata": {},
   "source": [
    "* bullets points\n",
    "* 不带序号的子观点\n",
    "    * 子观点\n",
    "* 带序号的子观点\n",
    "    1. 爱丽丝的法律\n",
    "    2. asjdfl\n",
    "    * lajsd\n",
    "    "
   ]
  },
  {
   "cell_type": "markdown",
   "metadata": {},
   "source": [
    "1. 序号list\n",
    "2. 不带序号的子观点\n",
    "    * 子观点\n",
    "3. 带序号的子观点\n",
    "    1. asldfj\n",
    "    2. asdj"
   ]
  },
  {
   "cell_type": "markdown",
   "metadata": {},
   "source": [
    "插入数学符号\n",
    "\n",
    "$e^{i\\pi}+1 = 0$\n",
    "\n",
    "$ \\sum_{\\forall i}{x_i^{2}} $\n",
    "\n",
    "\\begin{align}\n",
    "\\dot{x} & = \\sigma(y-x) \\\\\n",
    "\\dot{y} & = \\rho x - y - xz \\\\\n",
    "\\dot{z} & = -\\beta z + xy\n",
    "\\end{align}\n",
    "\n",
    "\\begin{equation*}\n",
    "\\left( \\sum_{k=1}^n a_k b_k \\right)^2 \\leq \\left( \\sum_{k=1}^n a_k^2 \\right) \\left( \\sum_{k=1}^n b_k^2 \\right)\n",
    "\\end{equation*}\n",
    "\n",
    "\n",
    "[更多小抄](https://reu.dimacs.rutgers.edu/Symbols.pdf)\n",
    "\n",
    "[更多小抄2](http://jupyter-notebook.readthedocs.io/en/stable/examples/Notebook/Typesetting%20Equations.html)\n"
   ]
  },
  {
   "cell_type": "markdown",
   "metadata": {},
   "source": [
    "[引用外部链接](https://github.com/adam-p/markdown-here/wiki/Markdown-Cheatsheet)\n",
    "\n",
    "[引用local file](..\\Chapter 3.Python Basic Data Type基本数据类型\\test.py)  # '..' means return to upper level directory "
   ]
  },
  {
   "cell_type": "markdown",
   "metadata": {},
   "source": [
    "**插入图片**"
   ]
  },
  {
   "cell_type": "markdown",
   "metadata": {},
   "source": [
    "* 第一种写法:\n",
    "![来来来](https://cdn.cubegoal.com/app_static/images/championship/upload/ddf819e8f3dd513fb5d837a7444d5e598cbfc88e.gif)"
   ]
  },
  {
   "cell_type": "markdown",
   "metadata": {},
   "source": [
    "* 第二种写法: (preference,could adjust width)\n",
    "<img src='https://cdn.cubegoal.com/app_static/images/championship/upload/ddf819e8f3dd513fb5d837a7444d5e598cbfc88e.gif', width=200>\n"
   ]
  },
  {
   "cell_type": "markdown",
   "metadata": {},
   "source": [
    "* 第三种写法:"
   ]
  },
  {
   "cell_type": "code",
   "execution_count": 1,
   "metadata": {},
   "outputs": [
    {
     "data": {
      "text/html": [
       "<img src=\"https://duddj2.files.wordpress.com/2013/11/dscn3034.jpg\" width=\"200\"/>"
      ],
      "text/plain": [
       "<IPython.core.display.Image object>"
      ]
     },
     "execution_count": 1,
     "metadata": {},
     "output_type": "execute_result"
    }
   ],
   "source": [
    "#此行用code 形式,前面两种都用markdown格式\n",
    "from IPython.display import Image\n",
    "Image(url='https://duddj2.files.wordpress.com/2013/11/dscn3034.jpg', width=200)"
   ]
  },
  {
   "cell_type": "markdown",
   "metadata": {},
   "source": [
    "**插入表格**\n",
    "\n",
    "note: ':' 在左边,column左对齐;右边,右对齐;两边,居中 (见markdown代码表头) \n",
    "\n",
    "| Col1      | Col2           |Col3  |\n",
    "|:----------|:-------------:| -----:|\n",
    "| col 3 is      | right-aligned | 1600 |\n",
    "| col 2 is      | centered      |   12 |\n",
    "| col 1 is| left centered     |    1 |"
   ]
  },
  {
   "cell_type": "markdown",
   "metadata": {
    "collapsed": true
   },
   "source": [
    "# 3. 查找function help\n",
    "\n",
    "在function 之前打 ?, 运行可显示function help"
   ]
  },
  {
   "cell_type": "code",
   "execution_count": 3,
   "metadata": {
    "collapsed": true
   },
   "outputs": [],
   "source": [
    "import math\n",
    "? math\n",
    "? math.floor"
   ]
  }
 ],
 "metadata": {
  "kernelspec": {
   "display_name": "Python 3",
   "language": "python",
   "name": "python3"
  },
  "language_info": {
   "codemirror_mode": {
    "name": "ipython",
    "version": 3
   },
   "file_extension": ".py",
   "mimetype": "text/x-python",
   "name": "python",
   "nbconvert_exporter": "python",
   "pygments_lexer": "ipython3",
   "version": "3.6.3"
  }
 },
 "nbformat": 4,
 "nbformat_minor": 2
}
