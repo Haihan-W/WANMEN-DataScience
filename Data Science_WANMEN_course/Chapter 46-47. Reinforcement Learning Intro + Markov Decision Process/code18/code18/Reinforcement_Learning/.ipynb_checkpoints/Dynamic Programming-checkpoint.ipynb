{
 "cells": [
  {
   "cell_type": "markdown",
   "metadata": {},
   "source": [
    "# 动态规划\n",
    "\n",
    "1. 从硬币凑数开始\n",
    "    * 动态规划的特点--分而治之\n",
    "     \n",
    "2. 斐波拉契数列\n",
    "    * 递归解法\n",
    "    * BottomUp\n",
    "    * TopDown+memory\n",
    "    * 比递归好在哪里？\n",
    "        * 拿空间换时间\n",
    "        \n",
    "3. 最长递增数列\n",
    "4. 最短路径\n",
    "5. Value/Policy Iteration"
   ]
  },
  {
   "cell_type": "code",
   "execution_count": null,
   "metadata": {
    "collapsed": true
   },
   "outputs": [],
   "source": []
  },
  {
   "cell_type": "code",
   "execution_count": null,
   "metadata": {
    "collapsed": true
   },
   "outputs": [],
   "source": []
  },
  {
   "cell_type": "markdown",
   "metadata": {},
   "source": [
    "## 1. 凑硬币\n",
    "\n",
    "现有硬币若干，面值为1分硬币，2分硬币，5分硬币，如果用最少的硬币个数凑出要求的金额？\n",
    "\n",
    "分析题目：\n",
    "1. 解决的问题是什么？总额=[1分，2分，3分，4分。。。。。1元，1元1分，1元2分，1元3分，1元4分，1元5分。。。。]\n",
    "2. 对某个总额的最优解要求是什么？\n",
    "3. 如何达到这个最优解？是否可借助其他总额的最优解？\n",
    "    "
   ]
  },
  {
   "cell_type": "markdown",
   "metadata": {},
   "source": [
    "正向的求解过程\n",
    "<img src='DP_coins_3.png',width=700>\n"
   ]
  },
  {
   "cell_type": "code",
   "execution_count": null,
   "metadata": {
    "collapsed": true
   },
   "outputs": [],
   "source": []
  },
  {
   "cell_type": "code",
   "execution_count": null,
   "metadata": {
    "collapsed": true
   },
   "outputs": [],
   "source": []
  },
  {
   "cell_type": "markdown",
   "metadata": {},
   "source": [
    "逆向的求解过程\n",
    "<img src='DP_coins_2.png',width=700>"
   ]
  },
  {
   "cell_type": "markdown",
   "metadata": {},
   "source": [
    "## DP的重点：分解成关联的子问题\n",
    "\n",
    "** 分而治之  ** + **储存结果**"
   ]
  },
  {
   "cell_type": "markdown",
   "metadata": {},
   "source": [
    "## 2. 斐波拉契数列\n",
    "\n",
    "* 递归解法\n",
    "* BottomUp\n",
    "* TopDown+memory\n",
    "* 动态规划解法比递归好在哪里？\n",
    "    * **空间换时间**"
   ]
  },
  {
   "cell_type": "code",
   "execution_count": null,
   "metadata": {
    "collapsed": true
   },
   "outputs": [],
   "source": [
    "# 递归的斐波拉契\n",
    "def fib(n):\n",
    "    if n == 0:\n",
    "        return 0\n",
    "    if n == 1:\n",
    "        return 1\n",
    "\n",
    "    return fib(n - 1) + fib(n - 2)"
   ]
  },
  {
   "cell_type": "code",
   "execution_count": null,
   "metadata": {
    "collapsed": true
   },
   "outputs": [],
   "source": [
    "# Bottom Up \n",
    "cache = {}\n",
    "\n",
    "def fib(n):\n",
    "    cache[0] = 0\n",
    "    cache[1] = 1\n",
    "\n",
    "    for i in range(2, n + 1):\n",
    "        cache[i] = cache[i - 1] +  cache[i - 2]\n",
    "\n",
    "    return cache[n]"
   ]
  },
  {
   "cell_type": "code",
   "execution_count": 2,
   "metadata": {
    "collapsed": true
   },
   "outputs": [],
   "source": [
    "# TopDown+memory\n",
    "cache = {} # dictionary\n",
    "\n",
    "def fib(n):\n",
    "    if n == 0:\n",
    "        return 0\n",
    "    if n == 1:\n",
    "        return 1\n",
    "    if n in cache:\n",
    "        return cache[n]\n",
    "\n",
    "    cache[n] = fib(n - 1) + fib(n - 2)\n",
    "\n",
    "    return cache[n]"
   ]
  },
  {
   "cell_type": "markdown",
   "metadata": {},
   "source": [
    "### 动态规划解法比递归好在哪里？\n",
    "fib(n) = fib(n-1)+fib(n-2)\n",
    "\n",
    "fib(n-1) = fib(n-2)+fib(n-3)\n",
    "\n",
    "fib(n-2) = fib(n-3)+fib(n-4)\n",
    "\n",
    "......\n",
    "\n"
   ]
  },
  {
   "cell_type": "markdown",
   "metadata": {},
   "source": [
    "<img src='fib.png',width=700>"
   ]
  },
  {
   "cell_type": "markdown",
   "metadata": {},
   "source": []
  },
  {
   "cell_type": "code",
   "execution_count": null,
   "metadata": {
    "collapsed": true
   },
   "outputs": [],
   "source": []
  },
  {
   "cell_type": "code",
   "execution_count": null,
   "metadata": {
    "collapsed": true
   },
   "outputs": [],
   "source": []
  },
  {
   "cell_type": "markdown",
   "metadata": {},
   "source": [
    "## 3. 最长递增序列\n",
    "\n",
    "\n",
    "<img src='DP_0nn1.png',width=800>"
   ]
  },
  {
   "cell_type": "markdown",
   "metadata": {},
   "source": [
    "* 问题描述： 找出数列A中的最长递增序列的长度\n",
    "* 几个变量：\n",
    "    * i\n",
    "    * A[i]\n",
    "    * 长度S(i)\n",
    "    * 最长序列倒数第二的元素位置"
   ]
  },
  {
   "cell_type": "markdown",
   "metadata": {},
   "source": [
    "<img src='DP_0nn2.png',width=800>"
   ]
  },
  {
   "cell_type": "markdown",
   "metadata": {},
   "source": [
    "<img src='DP_0nn3.png',width=800>"
   ]
  },
  {
   "cell_type": "code",
   "execution_count": 13,
   "metadata": {
    "collapsed": true
   },
   "outputs": [],
   "source": [
    "def DP_nn_S(A):\n",
    "    \"\"\"这个解法比较直观，简单，复杂度O(n^2).\"\"\"\n",
    "\n",
    "    S = []\n",
    "    D2 = [] # 重建最长序列时用\n",
    "    Longest_end = 0 #最佳的序号，做记录用\n",
    "\n",
    "    for current in range(len(A)):\n",
    "        # 第一个元素组成的序列的最长递增长度为1            \n",
    "        S.append(1)\n",
    "\n",
    "        # 最后开始这个元素没有 倒数第二元素             \n",
    "        D2.append(None)\n",
    "\n",
    "        for prev_ele in range(current):\n",
    "            # 如果之前的元素比当前的小，并且以之前元素为结尾的最长递增序列长度+1 比当前的长             \n",
    "            if ((A[prev_ele] < A[current]) and (S[prev_ele] + 1) > S[current]):\n",
    "                # 把当前元素接在之前元素的最长递增序列末尾，像链表一样，改变当前序列的长度    \n",
    "                S[current] = S[prev_ele] + 1\n",
    "                D2[current] = prev_ele\n",
    "\n",
    "        if (S[current] > S[Longest_end]):\n",
    "            Longest_end = current\n",
    "\n",
    "    return S[Longest_end]"
   ]
  },
  {
   "cell_type": "markdown",
   "metadata": {},
   "source": [
    "* 另一种DP解法从不同的角度出发\n",
    "[wiki](https://en.wikipedia.org/wiki/Longest_increasing_subsequence)"
   ]
  },
  {
   "cell_type": "markdown",
   "metadata": {},
   "source": [
    "<img src='DP_nlogn.png',width=800>"
   ]
  },
  {
   "cell_type": "code",
   "execution_count": null,
   "metadata": {
    "collapsed": true
   },
   "outputs": [],
   "source": []
  },
  {
   "cell_type": "code",
   "execution_count": null,
   "metadata": {
    "collapsed": true
   },
   "outputs": [],
   "source": []
  },
  {
   "cell_type": "code",
   "execution_count": null,
   "metadata": {
    "collapsed": true
   },
   "outputs": [],
   "source": []
  },
  {
   "cell_type": "markdown",
   "metadata": {},
   "source": [
    "<img src='LISDemo.gif',width=400>"
   ]
  },
  {
   "cell_type": "code",
   "execution_count": 22,
   "metadata": {
    "collapsed": false,
    "scrolled": true
   },
   "outputs": [],
   "source": [
    "import numpy as np\n",
    "def DP_nlogn(X):\n",
    "    # 复杂度 nlog(n)\n",
    "    N = len(X)\n",
    "    # P[i]是用来记录X[i]在已X[i]为末尾的递增序列中的倒数第二个元素的序号\n",
    "    # 可以通过P[i], P[P[i]],P[P[P[i]]]，...，把递增序列找出来\n",
    "    P = np.zeros(N)\n",
    "    M = np.zeros(N+1)\n",
    "\n",
    "    L = 0\n",
    "    for i in range(N):\n",
    "        # 用二分法在生成的递增序列中找到比X[i]小的最大数的序号+1\n",
    "        lo = 1\n",
    "        hi = L\n",
    "        while lo < hi:\n",
    "            mid = ceil((lo+hi)/2)\n",
    "            if X[M[mid]] < X[i]:\n",
    "                lo = mid+1\n",
    "            else:\n",
    "                hi = mid-1\n",
    "        # 将这个值赋值给newL\n",
    "        newL = lo\n",
    "\n",
    "        # The predecessor of X[i] is the last index of \n",
    "        # the subsequence of length newL-1\n",
    "        # 找到的子递增序列中，X[i]的前面一个元素的序号是M[new-1]，也就是P[i]。\n",
    "        # P[i]是用来记录X[i]在已X[i]为末尾的递增序列中的倒数第二个元素的序号\n",
    "        \n",
    "        P[i] = M[newL-1]\n",
    "        M[newL] = i\n",
    "\n",
    "        if newL > L:\n",
    "        # 如果新的序列比以前的长度长，说明X[i]比以前的递增序列最末元素的数值大\n",
    "        # 更新序列长度\n",
    "            L = newL\n",
    "\n",
    "    # 重建序列\n",
    "    S = np.zeros(N)\n",
    "    k = M[L-1]\n",
    "    for i in range(L-1,-1,-1):\n",
    "        S[i] = X[k]\n",
    "        k = P[k]\n",
    "\n",
    "    return S"
   ]
  },
  {
   "cell_type": "code",
   "execution_count": null,
   "metadata": {
    "collapsed": true
   },
   "outputs": [],
   "source": []
  },
  {
   "cell_type": "markdown",
   "metadata": {},
   "source": [
    "## 4. 最短路径"
   ]
  },
  {
   "cell_type": "code",
   "execution_count": null,
   "metadata": {
    "collapsed": true
   },
   "outputs": [],
   "source": []
  },
  {
   "cell_type": "code",
   "execution_count": null,
   "metadata": {
    "collapsed": true
   },
   "outputs": [],
   "source": []
  },
  {
   "cell_type": "code",
   "execution_count": null,
   "metadata": {
    "collapsed": true
   },
   "outputs": [],
   "source": []
  },
  {
   "cell_type": "code",
   "execution_count": null,
   "metadata": {
    "collapsed": true
   },
   "outputs": [],
   "source": [
    "function Dijkstra(Graph, source):\n",
    "\n",
    "    create vertex set Q\n",
    "\n",
    "    for each vertex v in Graph:             // Initialization\n",
    "        dist[v] ← INFINITY                  // Unknown distance from source to v\n",
    "        prev[v] ← UNDEFINED                 // Previous node in optimal path from source\n",
    "        add v to Q                          // All nodes initially in Q (unvisited nodes)\n",
    "\n",
    "    dist[source] ← 0                        // Distance from source to source\n",
    "\n",
    "    while Q is not empty:\n",
    "        u ← vertex in Q with min dist[u]    // Node with the least distance\n",
    "                                              // will be selected first\n",
    "        remove u from Q \n",
    "\n",
    "        for each neighbor v of u:           // where v is still in Q.\n",
    "            alt ← dist[u] + length(u, v)\n",
    "            if alt < dist[v]:               // A shorter path to v has been found\n",
    "                dist[v] ← alt \n",
    "                prev[v] ← u \n",
    "\n",
    "    return dist[], prev[]"
   ]
  },
  {
   "cell_type": "code",
   "execution_count": null,
   "metadata": {
    "collapsed": true
   },
   "outputs": [],
   "source": [
    "class Graph:\n",
    "    def __init__(self):\n",
    "        self.nodes = set()\n",
    "        self.edges = defaultdict(list)\n",
    "        self.distances = {}\n",
    "\n",
    "    def add_node(self, value):\n",
    "        self.nodes.add(value)\n",
    "\n",
    "    def add_edge(self, from_node, to_node, distance):\n",
    "        self.edges[from_node].append(to_node)\n",
    "        self.edges[to_node].append(from_node)\n",
    "        self.distances[(from_node, to_node)] = distance\n",
    "\n",
    "\n",
    "def dijsktra(graph, initial):\n",
    "    visited = {initial: 0}\n",
    "    path = {}\n",
    "\n",
    "    nodes = set(graph.nodes)\n",
    "\n",
    "    while nodes: \n",
    "        min_node = None\n",
    "        for node in nodes:\n",
    "            if node in visited:\n",
    "                if min_node is None:\n",
    "                    min_node = node\n",
    "                elif visited[node] < visited[min_node]:\n",
    "                    min_node = node\n",
    "\n",
    "        if min_node is None:\n",
    "            break\n",
    "\n",
    "    nodes.remove(min_node)\n",
    "    current_weight = visited[min_node]\n",
    "\n",
    "    for edge in graph.edges[min_node]:\n",
    "      weight = current_weight + graph.distance[(min_node, edge)]\n",
    "      if edge not in visited or weight < visited[edge]:\n",
    "        visited[edge] = weight\n",
    "        path[edge] = min_node\n",
    "\n",
    "  return visited, path"
   ]
  },
  {
   "cell_type": "code",
   "execution_count": null,
   "metadata": {
    "collapsed": true
   },
   "outputs": [],
   "source": []
  },
  {
   "cell_type": "code",
   "execution_count": null,
   "metadata": {
    "collapsed": true
   },
   "outputs": [],
   "source": []
  },
  {
   "cell_type": "code",
   "execution_count": null,
   "metadata": {
    "collapsed": true
   },
   "outputs": [],
   "source": []
  },
  {
   "cell_type": "code",
   "execution_count": null,
   "metadata": {
    "collapsed": true
   },
   "outputs": [],
   "source": []
  },
  {
   "cell_type": "code",
   "execution_count": null,
   "metadata": {
    "collapsed": true
   },
   "outputs": [],
   "source": []
  },
  {
   "cell_type": "code",
   "execution_count": null,
   "metadata": {
    "collapsed": true
   },
   "outputs": [],
   "source": []
  },
  {
   "cell_type": "code",
   "execution_count": null,
   "metadata": {
    "collapsed": true
   },
   "outputs": [],
   "source": []
  },
  {
   "cell_type": "code",
   "execution_count": null,
   "metadata": {
    "collapsed": true
   },
   "outputs": [],
   "source": []
  },
  {
   "cell_type": "code",
   "execution_count": null,
   "metadata": {
    "collapsed": true
   },
   "outputs": [],
   "source": []
  },
  {
   "cell_type": "code",
   "execution_count": 7,
   "metadata": {
    "collapsed": false
   },
   "outputs": [],
   "source": [
    "def DP_nn(A):\n",
    "    \"\"\"这个解法比较直观，简单，复杂度O(n^2).\"\"\"\n",
    "\n",
    "    S = []\n",
    "    D2 = []\n",
    "    Longest_end = 0 #最佳的结尾序号，做记录用\n",
    "\n",
    "    for current in range(len(A)):\n",
    "        # 第一个元素组成的序列的最长递增长度为1            \n",
    "        S.append(1)\n",
    "\n",
    "        # 最后开始这个元素没有 倒数第二元素             \n",
    "        D2.append(None)\n",
    "\n",
    "        for prev_ele in range(current):\n",
    "            # 如果之前的元素比当前的小，并且以之前元素为结尾的最长递增序列长度+1 比当前的长             \n",
    "            if ((A[prev_ele] < A[current]) and (S[prev_ele] + 1) > S[current]):\n",
    "                # 把当前元素接在之前元素的最长递增序列末尾，像链表一样，改变当前序列的长度    \n",
    "                S[current] = S[prev_ele] + 1\n",
    "                D2[current] = prev_ele\n",
    "\n",
    "        if (S[current] > S[Longest_end]):\n",
    "            Longest_end = current\n",
    "\n",
    "    lis = []\n",
    "    prev = Longest_end\n",
    "\n",
    "    while prev is not None:\n",
    "        lis.append(A[prev])\n",
    "        prev = (D2[prev])\n",
    "\n",
    "    lis.reverse()\n",
    "\n",
    "    return lis "
   ]
  }
 ],
 "metadata": {
  "kernelspec": {
   "display_name": "Python 3",
   "language": "python",
   "name": "python3"
  },
  "language_info": {
   "codemirror_mode": {
    "name": "ipython",
    "version": 3
   },
   "file_extension": ".py",
   "mimetype": "text/x-python",
   "name": "python",
   "nbconvert_exporter": "python",
   "pygments_lexer": "ipython3",
   "version": "3.6.3"
  }
 },
 "nbformat": 4,
 "nbformat_minor": 2
}
