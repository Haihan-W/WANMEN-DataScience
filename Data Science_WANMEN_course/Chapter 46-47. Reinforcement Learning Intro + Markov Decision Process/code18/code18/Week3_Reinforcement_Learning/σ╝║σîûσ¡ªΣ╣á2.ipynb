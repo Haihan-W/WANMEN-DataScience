{
 "cells": [
  {
   "cell_type": "markdown",
   "metadata": {},
   "source": [
    "# 强化学习2: 动态规划与迭代法\n",
    "* 0.强化学习中如何用到动态规划与迭代法？\n",
    "* 1.动态规划\n",
    "* 2.迭代法\n",
    "* 3.策略迭代与价值迭代"
   ]
  },
  {
   "cell_type": "markdown",
   "metadata": {},
   "source": [
    "<img src='RL_1.png',width=600>"
   ]
  },
  {
   "cell_type": "markdown",
   "metadata": {},
   "source": [
    "\n",
    "\n",
    "* Flappy bird的简单解决方法\n",
    "    * 如何衡量总价值\n",
    "    * 如何选择动作，选择总策略\n",
    "* **总价值不易计算时，但环境状态有显式的分布时**\n",
    "    * 如何使用迭代法计算总价值\n",
    "    * 如何使用迭代法反复改进总策略\n",
    "    * 策略迭代法的收敛\n",
    "* 总价值不易计算时，环境状态没有显式的分布时，从连续的样本和经验中学习\n",
    "    * 蒙特卡洛方法\n",
    "    * 计算总价值\n",
    "    * 更新总策略\n",
    "* 总价值不易计算时，环境状态没有显式的分布时，从每一次与环境状态的交互中学习\n",
    "    * Temporal Differences\n",
    "    * Temporal Differences与蒙特卡罗方法的对比\n",
    "    * SARSA\n",
    "    * Q-learning\n",
    "* 当环境状态过多，如何将有限样本中的策略推广到更大的状态空间，作为更大状态空间的近似解？\n",
    "    * 结合监督学习\n",
    "    * 线性方法等\n",
    "* Q-learing+Deep-Learning\n",
    "    * DQN\n",
    "    * DQN的优势与特点\n",
    "\n",
    "\n",
    "[参考视频](http://www0.cs.ucl.ac.uk/staff/d.silver/web/Teaching.html)\n",
    "\n",
    "[参考书籍](https://www.amazon.com/Reinforcement-Learning-Introduction-Adaptive-Computation/dp/0262193981)\n",
    "\n",
    "[参考中文知乎](https://www.zhihu.com/people/flood-sung/activities)"
   ]
  },
  {
   "cell_type": "code",
   "execution_count": null,
   "metadata": {
    "collapsed": true
   },
   "outputs": [],
   "source": []
  },
  {
   "cell_type": "markdown",
   "metadata": {},
   "source": [
    "# 0.动态规划与迭代法用在哪里？"
   ]
  },
  {
   "cell_type": "markdown",
   "metadata": {},
   "source": [
    "### 0.1 在计算策略总价值时\n",
    "* 当完全知道环境的动态变化，但计算不方便时\n",
    "<img src='v_pi.png',width=500>"
   ]
  },
  {
   "cell_type": "markdown",
   "metadata": {},
   "source": [
    "* 采用近似算法计算在策略$\\pi$下的总价值\n",
    "<img src='v_k.png',width=600>\n",
    "* 最终计算而得的不动点，就应该是$v_\\pi(s)$\n",
    "* 这个步骤，叫做 **iterative policy evaluation 迭代法求策略总价值**"
   ]
  },
  {
   "cell_type": "markdown",
   "metadata": {},
   "source": [
    "### 0.2 在更新策略，求最优策略时\n",
    "* 迭代法求最优策略\n",
    "* 求对应策略总价值 -> 更新策略 -> 求对应策略总价值 -> 更新策略\n",
    "* GPI"
   ]
  },
  {
   "cell_type": "code",
   "execution_count": null,
   "metadata": {
    "collapsed": true
   },
   "outputs": [],
   "source": []
  },
  {
   "cell_type": "code",
   "execution_count": null,
   "metadata": {
    "collapsed": true
   },
   "outputs": [],
   "source": []
  },
  {
   "cell_type": "code",
   "execution_count": null,
   "metadata": {
    "collapsed": true
   },
   "outputs": [],
   "source": []
  },
  {
   "cell_type": "code",
   "execution_count": null,
   "metadata": {
    "collapsed": true
   },
   "outputs": [],
   "source": []
  },
  {
   "cell_type": "markdown",
   "metadata": {},
   "source": [
    "# 复习动态规划\n",
    "\n",
    "1. 从硬币凑数开始\n",
    "    * 动态规划的特点--分而治之\n",
    "     \n",
    "2. 斐波拉契数列\n",
    "    * 递归解法\n",
    "    * BottomUp\n",
    "    * TopDown+memory\n",
    "    * 比递归好在哪里？\n",
    "        * 拿空间换时间\n",
    "        \n",
    "3. 最长递增数列\n",
    "4. 最短路径\n",
    "5. Value/Policy Iteration"
   ]
  },
  {
   "cell_type": "code",
   "execution_count": null,
   "metadata": {
    "collapsed": true
   },
   "outputs": [],
   "source": []
  },
  {
   "cell_type": "markdown",
   "metadata": {},
   "source": [
    "## 1. 凑硬币\n",
    "\n",
    "现有硬币若干，面值为1分硬币，2分硬币，5分硬币，如果用最少的硬币个数凑出要求的金额？\n",
    "\n",
    "分析题目：\n",
    "1. 解决的问题是什么？总额=[1分，2分，3分，4分。。。。。1元，1元1分，1元2分，1元3分，1元4分，1元5分。。。。]\n",
    "2. 对某个总额的最优解要求是什么？\n",
    "3. 如何达到这个最优解？是否可借助其他总额的最优解？\n",
    "    "
   ]
  },
  {
   "cell_type": "code",
   "execution_count": null,
   "metadata": {
    "collapsed": true
   },
   "outputs": [],
   "source": []
  },
  {
   "cell_type": "markdown",
   "metadata": {},
   "source": [
    "正向的求解过程\n",
    "<img src='DP_coins_3.png',width=700>"
   ]
  },
  {
   "cell_type": "code",
   "execution_count": null,
   "metadata": {
    "collapsed": true
   },
   "outputs": [],
   "source": []
  },
  {
   "cell_type": "markdown",
   "metadata": {},
   "source": [
    "逆向的求解过程\n",
    "<img src='DP_coins_2.png',width=700>"
   ]
  },
  {
   "cell_type": "markdown",
   "metadata": {},
   "source": [
    "## DP的重点：分解成关联的子问题\n",
    "\n",
    "** 分而治之  ** + **储存结果**"
   ]
  },
  {
   "cell_type": "code",
   "execution_count": null,
   "metadata": {
    "collapsed": true
   },
   "outputs": [],
   "source": []
  },
  {
   "cell_type": "markdown",
   "metadata": {},
   "source": [
    "## 2. 斐波拉契数列\n",
    "\n",
    "* 递归解法\n",
    "* BottomUp\n",
    "* TopDown+memory\n",
    "* 动态规划解法比递归好在哪里？\n",
    "    * **空间换时间**"
   ]
  },
  {
   "cell_type": "code",
   "execution_count": null,
   "metadata": {
    "collapsed": true
   },
   "outputs": [],
   "source": []
  },
  {
   "cell_type": "code",
   "execution_count": null,
   "metadata": {
    "collapsed": true
   },
   "outputs": [],
   "source": [
    "# 递归的斐波拉契\n",
    "def fib(n):\n",
    "    if n == 0:\n",
    "        return 0\n",
    "    if n == 1:\n",
    "        return 1\n",
    "\n",
    "    return fib(n - 1) + fib(n - 2)"
   ]
  },
  {
   "cell_type": "code",
   "execution_count": null,
   "metadata": {
    "collapsed": true
   },
   "outputs": [],
   "source": []
  },
  {
   "cell_type": "code",
   "execution_count": 2,
   "metadata": {
    "collapsed": true
   },
   "outputs": [],
   "source": [
    "# Bottom Up \n",
    "cache = {}\n",
    "\n",
    "def fib(n):\n",
    "    cache[0] = 0\n",
    "    cache[1] = 1\n",
    "\n",
    "    for i in range(2, n + 1):\n",
    "        cache[i] = cache[i - 1] +  cache[i - 2]\n",
    "\n",
    "    return cache[n]"
   ]
  },
  {
   "cell_type": "code",
   "execution_count": null,
   "metadata": {
    "collapsed": true
   },
   "outputs": [],
   "source": []
  },
  {
   "cell_type": "code",
   "execution_count": 1,
   "metadata": {
    "collapsed": true
   },
   "outputs": [],
   "source": [
    "# TopDown+memory\n",
    "cache = {} # dictionary\n",
    "\n",
    "def fib(n):\n",
    "    if n == 0:\n",
    "        return 0\n",
    "    if n == 1:\n",
    "        return 1\n",
    "    if n in cache:\n",
    "        return cache[n]\n",
    "\n",
    "    cache[n] = fib(n - 1) + fib(n - 2)\n",
    "\n",
    "    return cache[n]"
   ]
  },
  {
   "cell_type": "code",
   "execution_count": null,
   "metadata": {
    "collapsed": true
   },
   "outputs": [],
   "source": []
  },
  {
   "cell_type": "markdown",
   "metadata": {},
   "source": [
    "### 动态规划解法比递归好在哪里？\n",
    "fib(n) = fib(n-1)+fib(n-2)\n",
    "\n",
    "fib(n-1) = fib(n-2)+fib(n-3)\n",
    "\n",
    "fib(n-2) = fib(n-3)+fib(n-4)\n",
    "\n",
    "......"
   ]
  },
  {
   "cell_type": "code",
   "execution_count": null,
   "metadata": {
    "collapsed": true
   },
   "outputs": [],
   "source": []
  },
  {
   "cell_type": "markdown",
   "metadata": {},
   "source": [
    "<img src='fib.png',width=700>"
   ]
  },
  {
   "cell_type": "code",
   "execution_count": null,
   "metadata": {
    "collapsed": true
   },
   "outputs": [],
   "source": []
  },
  {
   "cell_type": "markdown",
   "metadata": {},
   "source": [
    "## 3. 最长递增序列\n",
    "\n",
    "\n",
    "<img src='DP_0nn1.png',width=800>"
   ]
  },
  {
   "cell_type": "markdown",
   "metadata": {},
   "source": [
    "* 问题描述： 找出数列A中的最长递增序列的长度\n",
    "* 几个变量：\n",
    "    * i\n",
    "    * A[i]\n",
    "    * 长度S(i)\n",
    "    * 最长序列倒数第二的元素位置"
   ]
  },
  {
   "cell_type": "markdown",
   "metadata": {},
   "source": [
    "<img src='DP_0nn2.png',width=800>"
   ]
  },
  {
   "cell_type": "markdown",
   "metadata": {},
   "source": [
    "<img src='DP_0nn3.png',width=800>"
   ]
  },
  {
   "cell_type": "code",
   "execution_count": 4,
   "metadata": {
    "collapsed": true
   },
   "outputs": [],
   "source": [
    "def DP_nn_S(A):\n",
    "    \"\"\"这个解法比较直观，简单，复杂度O(n^2).\"\"\"\n",
    "\n",
    "    S = []\n",
    "    D2 = [] # 重建最长序列时用\n",
    "    Longest_end = 0 #最佳的序号，做记录用\n",
    "\n",
    "    for current in range(len(A)):\n",
    "        # 第一个元素组成的序列的最长递增长度为1            \n",
    "        S.append(1)\n",
    "\n",
    "        # 最后开始这个元素没有 倒数第二元素             \n",
    "        D2.append(None)\n",
    "\n",
    "        for prev_ele in range(current):\n",
    "            # 如果之前的元素比当前的小，并且以之前元素为结尾的最长递增序列长度+1 比当前的长             \n",
    "            if ((A[prev_ele] < A[current]) and (S[prev_ele] + 1) > S[current]):\n",
    "                # 把当前元素接在之前元素的最长递增序列末尾，像链表一样，改变当前序列的长度    \n",
    "                S[current] = S[prev_ele] + 1\n",
    "                D2[current] = prev_ele\n",
    "\n",
    "        if (S[current] > S[Longest_end]):\n",
    "            Longest_end = current\n",
    "\n",
    "    return S[Longest_end]"
   ]
  },
  {
   "cell_type": "markdown",
   "metadata": {},
   "source": [
    "* 另一种DP解法从不同的角度出发\n",
    "[wiki](https://en.wikipedia.org/wiki/Longest_increasing_subsequence)"
   ]
  },
  {
   "cell_type": "markdown",
   "metadata": {},
   "source": [
    "<img src='DP_nlogn.png',width=800>"
   ]
  },
  {
   "cell_type": "markdown",
   "metadata": {},
   "source": [
    "<img src='LISDemo.gif',width=400>"
   ]
  },
  {
   "cell_type": "code",
   "execution_count": null,
   "metadata": {
    "collapsed": true
   },
   "outputs": [],
   "source": [
    "import numpy as np\n",
    "def DP_nlogn(X):\n",
    "    # 复杂度 nlog(n)\n",
    "    N = len(X)\n",
    "    # P[i]是用来记录X[i]在已X[i]为末尾的递增序列中的倒数第二个元素的序号\n",
    "    # 可以通过P[i], P[P[i]],P[P[P[i]]]，...，把递增序列找出来\n",
    "    P = np.zeros(N)\n",
    "    M = np.zeros(N+1)\n",
    "\n",
    "    L = 0\n",
    "    for i in range(N):\n",
    "        # 用二分法在生成的递增序列中找到比X[i]小的最大数的序号+1\n",
    "        lo = 1\n",
    "        hi = L\n",
    "        while lo < hi:\n",
    "            mid = ceil((lo+hi)/2)\n",
    "            if X[M[mid]] < X[i]:\n",
    "                lo = mid+1\n",
    "            else:\n",
    "                hi = mid-1\n",
    "        # 将这个值赋值给newL\n",
    "        newL = lo\n",
    "\n",
    "        # The predecessor of X[i] is the last index of \n",
    "        # the subsequence of length newL-1\n",
    "        # 找到的子递增序列中，X[i]的前面一个元素的序号是M[new-1]，也就是P[i]。\n",
    "        # P[i]是用来记录X[i]在已X[i]为末尾的递增序列中的倒数第二个元素的序号\n",
    "        \n",
    "        P[i] = M[newL-1]\n",
    "        M[newL] = i\n",
    "\n",
    "        if newL > L:\n",
    "        # 如果新的序列比以前的长度长，说明X[i]比以前的递增序列最末元素的数值大\n",
    "        # 更新序列长度\n",
    "            L = newL\n",
    "\n",
    "    # 重建序列\n",
    "    S = np.zeros(N)\n",
    "    k = M[L-1]\n",
    "    for i in range(L-1,-1,-1):\n",
    "        S[i] = X[k]\n",
    "        k = P[k]\n",
    "\n",
    "    return S"
   ]
  },
  {
   "cell_type": "code",
   "execution_count": null,
   "metadata": {
    "collapsed": true
   },
   "outputs": [],
   "source": []
  },
  {
   "cell_type": "markdown",
   "metadata": {},
   "source": [
    "# 迭代法\n",
    "* 1.数值计算的基本方法：迭代法解线性方程组\n",
    "    * Gauss消去法的复杂度是n3，迭代法复杂度是n2\n",
    "* 2.Jacob方法\n",
    "* 3.Gauss-Seidel方法\n",
    "* 4.收敛性"
   ]
  },
  {
   "cell_type": "code",
   "execution_count": null,
   "metadata": {
    "collapsed": true
   },
   "outputs": [],
   "source": []
  },
  {
   "cell_type": "markdown",
   "metadata": {},
   "source": [
    "### 2. Jacob方法"
   ]
  },
  {
   "cell_type": "markdown",
   "metadata": {},
   "source": [
    "\\begin{equation}\n",
    "9x_1 + x_2 + x_3 = b_1\\\\\n",
    "2x_1 + 10x_2 + 3x_3 = b_2\\\\\n",
    "3x_1+4x_2+11x_3 = b_3\\\\\n",
    "\\end{equation}"
   ]
  },
  {
   "cell_type": "markdown",
   "metadata": {},
   "source": [
    "* 变形\n",
    "\\begin{equation}\n",
    "x_1 = 1/9 [b_1 - x_2-x_3]\\\\\n",
    "x_2 = 1/10 [b_2 -2x_1-3x_3]\\\\\n",
    "x_3 = 1/11[b_3-3x_1-4x_2]\\\\\n",
    "\\end{equation}"
   ]
  },
  {
   "cell_type": "markdown",
   "metadata": {},
   "source": [
    "* 初始化 $ x^(0) = [x_1^{(0)},x_2^{(0)},x_3^{(0)}]^T$"
   ]
  },
  {
   "cell_type": "markdown",
   "metadata": {},
   "source": [
    "* 反复迭代\n",
    "* 变形\n",
    "\\begin{equation}\n",
    "x_1^{(k+1)} = 1/9 [b_1 - x_2^{(k)}-x_3^{(k)}]\\\\\n",
    "x_2^{(k+1)} = 1/10 [b_2 -2x_1^{(k)}-3x_3^{(k)}]\\\\\n",
    "x_3^{(k+1)} = 1/11[b_3-3x_1^{(k)}-4x_2^{(k)}]\\\\\n",
    "\\end{equation}"
   ]
  },
  {
   "cell_type": "markdown",
   "metadata": {},
   "source": [
    "* 例如，当b=$[10,19,0]^T$时，精确解应为： $x=[1,2,-1]^T$\n",
    "* 利用Jacob方法"
   ]
  },
  {
   "cell_type": "code",
   "execution_count": 23,
   "metadata": {
    "collapsed": true
   },
   "outputs": [],
   "source": [
    "def jacob_iter(x,b):\n",
    "    x_new = [0,0,0]\n",
    "    x_new[0]=1/9*(b[0]-x[1]-x[2])\n",
    "    x_new[1]=1/10*(b[1]-2*x[0]-3*x[2])\n",
    "    x_new[2]=1/11*(b[2]-3*x[0]-4*x[1])\n",
    "    return x_new"
   ]
  },
  {
   "cell_type": "code",
   "execution_count": 24,
   "metadata": {},
   "outputs": [
    {
     "name": "stdout",
     "output_type": "stream",
     "text": [
      "1.111111,1.900000,0.000000\n",
      "0.900000,1.677778,-0.993939\n",
      "1.035129,2.018182,-0.855556\n",
      "0.981930,1.949641,-1.016192\n",
      "1.007395,2.008472,-0.976760\n",
      "0.996476,1.991549,-1.005097\n",
      "1.001505,2.002234,-0.995966\n",
      "0.999304,1.998489,-1.001223\n",
      "1.000304,2.000506,-0.999260\n",
      "0.999862,1.999717,-1.000267\n",
      "1.000061,2.000108,-0.999859\n",
      "0.999972,1.999946,-1.000056\n",
      "1.000012,2.000022,-0.999973\n",
      "0.999994,1.999989,-1.000011\n",
      "1.000002,2.000005,-0.999995\n",
      "0.999999,1.999998,-1.000002\n",
      "1.000000,2.000001,-0.999999\n",
      "1.000000,2.000000,-1.000000\n",
      "1.000000,2.000000,-1.000000\n",
      "1.000000,2.000000,-1.000000\n"
     ]
    }
   ],
   "source": [
    "x=[0,0,0]\n",
    "b=[10,19,0]\n",
    "for i in range(20):\n",
    "    x=jacob_iter(x,b)\n",
    "    print(\"%f,%f,%f\"%(x[0],x[1],x[2]))"
   ]
  },
  {
   "cell_type": "code",
   "execution_count": null,
   "metadata": {
    "collapsed": true
   },
   "outputs": [],
   "source": []
  },
  {
   "cell_type": "markdown",
   "metadata": {},
   "source": [
    "### 3. Gauss-Seidel迭代法"
   ]
  },
  {
   "cell_type": "markdown",
   "metadata": {},
   "source": [
    "\\begin{equation}\n",
    "9x_1 + x_2 + x_3 = b_1\\\\\n",
    "2x_1 + 10x_2 + 3x_3 = b_2\\\\\n",
    "3x_1+4x_2+11x_3 = b_3\\\\\n",
    "\\end{equation}"
   ]
  },
  {
   "cell_type": "markdown",
   "metadata": {},
   "source": [
    "* 变形\n",
    "\\begin{equation}\n",
    "x_1 = 1/9 [b_1 - x_2-x_3]\\\\\n",
    "x_2 = 1/10 [b_2 -2x_1-3x_3]\\\\\n",
    "x_3 = 1/11[b_3-3x_1-4x_2]\\\\\n",
    "\\end{equation}"
   ]
  },
  {
   "cell_type": "markdown",
   "metadata": {},
   "source": [
    "* 反复迭代\n",
    "* 变形\n",
    "\\begin{equation}\n",
    "x_1^{(k+1)} = 1/9 [b_1 - x_2^{(k)}-x_3^{(k)}]\\\\\n",
    "x_2^{(k+1)} = 1/10 [b_2 -2x_1^{(k+1)}-3x_3^{(k)}]\\\\\n",
    "x_3^{(k+1)} = 1/11[b_3-3x_1^{(k+1)}-4x_2^{(k+1)}]\\\\\n",
    "\\end{equation}"
   ]
  },
  {
   "cell_type": "code",
   "execution_count": 20,
   "metadata": {
    "collapsed": true
   },
   "outputs": [],
   "source": [
    "def gs_iter(x,b):\n",
    "    x_new = [0,0,0]\n",
    "    x_new[0]=1/9*(b[0]-x[1]-x[2])\n",
    "    x_new[1]=1/10*(b[1]-2*x_new[0]-3*x[2])\n",
    "    x_new[2]=1/11*(b[2]-3*x_new[0]-4*x_new[1])\n",
    "    return x_new"
   ]
  },
  {
   "cell_type": "code",
   "execution_count": 22,
   "metadata": {},
   "outputs": [
    {
     "name": "stdout",
     "output_type": "stream",
     "text": [
      "1.111111,1.677778,-0.913131\n",
      "1.026150,1.968709,-0.995753\n",
      "1.003005,1.998125,-1.000138\n",
      "1.000224,1.999997,-1.000060\n",
      "1.000007,2.000017,-1.000008\n",
      "0.999999,2.000003,-1.000001\n",
      "1.000000,2.000000,-1.000000\n",
      "1.000000,2.000000,-1.000000\n",
      "1.000000,2.000000,-1.000000\n",
      "1.000000,2.000000,-1.000000\n",
      "1.000000,2.000000,-1.000000\n",
      "1.000000,2.000000,-1.000000\n",
      "1.000000,2.000000,-1.000000\n",
      "1.000000,2.000000,-1.000000\n",
      "1.000000,2.000000,-1.000000\n",
      "1.000000,2.000000,-1.000000\n",
      "1.000000,2.000000,-1.000000\n",
      "1.000000,2.000000,-1.000000\n",
      "1.000000,2.000000,-1.000000\n",
      "1.000000,2.000000,-1.000000\n"
     ]
    }
   ],
   "source": [
    "x=[0,0,0]\n",
    "b=[10,19,0]\n",
    "for i in range(20):\n",
    "    x=gs_iter(x,b)\n",
    "    print(\"%f,%f,%f\"%(x[0],x[1],x[2]))"
   ]
  },
  {
   "cell_type": "markdown",
   "metadata": {},
   "source": [
    "### 4. 收敛性\n",
    "* 对方程组Ax=b\n",
    "* $Nx^{(k+1)}=b+Px^{k}$\n",
    "* Jacob方法：\n",
    "    * N为对角线矩阵，P为N-A\n",
    "* G-S方法\n",
    "    * N为下三角矩阵，P为N-A\n",
    "* $N(x-x^{(k+1)}=P(x-x^{(k)})$\n",
    "* $e^{(k+1)}=N^{-1}Pe^{(k)}$"
   ]
  },
  {
   "cell_type": "code",
   "execution_count": null,
   "metadata": {
    "collapsed": true
   },
   "outputs": [],
   "source": []
  },
  {
   "cell_type": "markdown",
   "metadata": {},
   "source": [
    "# 迭代法求策略估值与迭代法更新最佳策略"
   ]
  },
  {
   "cell_type": "markdown",
   "metadata": {},
   "source": [
    "### 1.迭代法求策略估值"
   ]
  },
  {
   "cell_type": "markdown",
   "metadata": {},
   "source": [
    "<img src='v_pi.png',width=500>"
   ]
  },
  {
   "cell_type": "markdown",
   "metadata": {},
   "source": [
    "<img src='v_k.png',width=500>"
   ]
  },
  {
   "cell_type": "markdown",
   "metadata": {},
   "source": [
    "<img src='policy_ev_alg.png',width=700>"
   ]
  },
  {
   "cell_type": "markdown",
   "metadata": {},
   "source": [
    "* 例子\n",
    "<img src='policy_ev.png',width=600>"
   ]
  },
  {
   "cell_type": "code",
   "execution_count": null,
   "metadata": {
    "collapsed": true
   },
   "outputs": [],
   "source": []
  },
  {
   "cell_type": "markdown",
   "metadata": {},
   "source": [
    "<img src='policy_ev_table.png',width=300>"
   ]
  },
  {
   "cell_type": "code",
   "execution_count": null,
   "metadata": {
    "collapsed": true
   },
   "outputs": [],
   "source": []
  },
  {
   "cell_type": "markdown",
   "metadata": {},
   "source": [
    "### 2.迭代法更新最佳策略"
   ]
  },
  {
   "cell_type": "code",
   "execution_count": null,
   "metadata": {
    "collapsed": true
   },
   "outputs": [],
   "source": []
  },
  {
   "cell_type": "markdown",
   "metadata": {},
   "source": [
    "<img src='policy_iter.png',width=600>"
   ]
  },
  {
   "cell_type": "markdown",
   "metadata": {},
   "source": [
    "* 例子1：\n",
    "<img src='policy_improve_1.png',width=400>"
   ]
  },
  {
   "cell_type": "markdown",
   "metadata": {},
   "source": [
    "* 例子2:\n",
    "* 老贾掌管两个租车行A,B，有车的时候只要有单，就可赚10元。老贾每晚可以在两个租车行间调配第二天的备用车辆数量。每移动一辆，花费2元。已知每天租车和还车的客人成泊松分布$\\frac{e^{-\\lambda}\\lambda^{n}}{n!}$。对每个车行，每天来租车和还车的泊松分布参数分别为租车A,B = 3,4, 还车A,B = 3,2. 每个车行最多有20辆后备车。$\\gamma$=0.9，求每晚老贾在A,B间调配车辆的策略。"
   ]
  },
  {
   "cell_type": "markdown",
   "metadata": {},
   "source": [
    "<img src='policy_improve_2.png',width=700>"
   ]
  },
  {
   "cell_type": "code",
   "execution_count": null,
   "metadata": {
    "collapsed": true
   },
   "outputs": [],
   "source": []
  },
  {
   "cell_type": "markdown",
   "metadata": {},
   "source": [
    "* 为什么持续迭代更新旧的策略可以获得更好的策略？\n",
    "* 命题：如果$q_{\\pi}(s,\\pi'(s))>=v_{\\pi}(s)$，那么$v_{\\pi'}(s)>=v_{\\pi}(s)$"
   ]
  },
  {
   "cell_type": "code",
   "execution_count": null,
   "metadata": {
    "collapsed": true
   },
   "outputs": [],
   "source": []
  },
  {
   "cell_type": "markdown",
   "metadata": {},
   "source": [
    "<img src='policy_improve_3.png',width=500>"
   ]
  },
  {
   "cell_type": "code",
   "execution_count": null,
   "metadata": {
    "collapsed": true
   },
   "outputs": [],
   "source": []
  }
 ],
 "metadata": {
  "kernelspec": {
   "display_name": "Python 3",
   "language": "python",
   "name": "python3"
  },
  "language_info": {
   "codemirror_mode": {
    "name": "ipython",
    "version": 3
   },
   "file_extension": ".py",
   "mimetype": "text/x-python",
   "name": "python",
   "nbconvert_exporter": "python",
   "pygments_lexer": "ipython3",
   "version": "3.6.3"
  }
 },
 "nbformat": 4,
 "nbformat_minor": 2
}
