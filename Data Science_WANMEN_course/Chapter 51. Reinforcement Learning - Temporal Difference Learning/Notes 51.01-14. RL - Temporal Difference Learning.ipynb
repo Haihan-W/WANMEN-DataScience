{
 "cells": [
  {
   "cell_type": "markdown",
   "metadata": {},
   "source": [
    "# Week4. Reinforcement Learning - TD"
   ]
  },
  {
   "cell_type": "markdown",
   "metadata": {},
   "source": [
    "<img src='pic/study_workflow.PNG'>"
   ]
  },
  {
   "cell_type": "markdown",
   "metadata": {},
   "source": [
    "* 1.Temperal-Difference Learning\n",
    "    * 时间差分法公式\n",
    "    * 与蒙特卡洛的对比\n",
    "* 2.Model Free Control\n",
    "    * $\\epsilon$-Greedy Policy\n",
    "    * on-policy v.s off-policy\n",
    "    * sarsa and Q-learning\n",
    "* 3.函数近似方法(对V,q的近似)\n",
    "* 4.DQN\n"
   ]
  },
  {
   "cell_type": "code",
   "execution_count": null,
   "metadata": {
    "collapsed": true
   },
   "outputs": [],
   "source": []
  },
  {
   "cell_type": "markdown",
   "metadata": {},
   "source": [
    "### 1.temperal-difference learning"
   ]
  },
  {
   "cell_type": "markdown",
   "metadata": {},
   "source": [
    "* 公式\n",
    "$ V(S_t)\\leftarrow V(S_t) + \\alpha(R_{t+1}+\\gamma V(S_{t+1})-V(S_{t}))$"
   ]
  },
  {
   "cell_type": "code",
   "execution_count": null,
   "metadata": {
    "collapsed": true
   },
   "outputs": [],
   "source": []
  },
  {
   "cell_type": "markdown",
   "metadata": {},
   "source": [
    "* 与蒙特卡洛法的对比\n",
    "$ V(S_t)\\leftarrow V(S_t) + \\alpha(G_t-V(S_{t}))$"
   ]
  },
  {
   "cell_type": "markdown",
   "metadata": {},
   "source": [
    "* MC的特点\n",
    "    * 不到黄河心不死，不见棺材不流泪\n",
    "    * 必须在有终止条件的环境中使用\n",
    "* TD的特点\n",
    "    * 每走一步都可以从中更新价值函数\n",
    "    * 可以在没有终止条件环境中使用"
   ]
  },
  {
   "cell_type": "markdown",
   "metadata": {},
   "source": [
    "<img src='drive.png',width=500>"
   ]
  },
  {
   "cell_type": "code",
   "execution_count": null,
   "metadata": {
    "collapsed": true
   },
   "outputs": [],
   "source": []
  },
  {
   "cell_type": "markdown",
   "metadata": {},
   "source": [
    "<img src='drive_1.png',width=700>"
   ]
  },
  {
   "cell_type": "code",
   "execution_count": null,
   "metadata": {
    "collapsed": true
   },
   "outputs": [],
   "source": []
  },
  {
   "cell_type": "markdown",
   "metadata": {},
   "source": [
    "* 是否是无偏估计？\n",
    "    * 蒙特卡洛方法的 $G_t = R_{t+1}+\\gamma R_{t+2} + ... $是无偏估计\n",
    "    * TD方法的真实估计量 $R_{t+1}+\\gamma V_{\\pi}(S_{t+1}) $是无偏估计\n",
    "    * TD方法的估计量 $R_{t+1}+\\gamma V(S_{t+1}) $是有偏估计\n",
    "        * 因为$V(S_{t+1})$只是$V_{\\pi}(S_{t+1})$的近似值"
   ]
  },
  {
   "cell_type": "code",
   "execution_count": null,
   "metadata": {
    "collapsed": true
   },
   "outputs": [],
   "source": []
  },
  {
   "cell_type": "code",
   "execution_count": null,
   "metadata": {
    "collapsed": true
   },
   "outputs": [],
   "source": []
  },
  {
   "cell_type": "code",
   "execution_count": null,
   "metadata": {
    "collapsed": true
   },
   "outputs": [],
   "source": []
  },
  {
   "cell_type": "markdown",
   "metadata": {},
   "source": [
    "* 收敛性质\n",
    "    * 蒙特卡洛方法收敛速度一般不快\n",
    "    * TD收敛速度一般比较快\n",
    "    * 蒙特卡洛方法对初始值不敏感\n",
    "    * TD方法较易受初始值影响"
   ]
  },
  {
   "cell_type": "markdown",
   "metadata": {},
   "source": [
    "<img src='td_mc_question.png',width=500>"
   ]
  },
  {
   "cell_type": "code",
   "execution_count": null,
   "metadata": {
    "collapsed": true
   },
   "outputs": [],
   "source": []
  },
  {
   "cell_type": "markdown",
   "metadata": {},
   "source": [
    "<img src='td_mc_result.png',width=500>"
   ]
  },
  {
   "cell_type": "markdown",
   "metadata": {},
   "source": [
    "* 收敛性质\n",
    "    * MC, TD有可能收敛到不同到值"
   ]
  },
  {
   "cell_type": "markdown",
   "metadata": {},
   "source": [
    "* MC v.s TD\n",
    "    * A,B例子：A,B两个状态，实验了8次\n",
    "    * A,0,B,0\n",
    "    * B,1\n",
    "    * B,1\n",
    "    * B,1\n",
    "    * B,1\n",
    "    * B,1\n",
    "    * B,1\n",
    "    * B,0\n",
    "    * 求V(A),V(B)"
   ]
  },
  {
   "cell_type": "markdown",
   "metadata": {},
   "source": [
    "<img src='ab.png',width=300>"
   ]
  },
  {
   "cell_type": "markdown",
   "metadata": {},
   "source": [
    "* MC收敛到与样本分布最近的解\n",
    "* TD收敛到马尔可夫最大似然的解"
   ]
  },
  {
   "cell_type": "code",
   "execution_count": null,
   "metadata": {
    "collapsed": true
   },
   "outputs": [],
   "source": []
  },
  {
   "cell_type": "markdown",
   "metadata": {},
   "source": [
    "<img src='Reinforcement.png',width=600>"
   ]
  },
  {
   "cell_type": "code",
   "execution_count": null,
   "metadata": {
    "collapsed": true
   },
   "outputs": [],
   "source": []
  },
  {
   "cell_type": "markdown",
   "metadata": {},
   "source": [
    "## 2. Model-free control\n",
    "* greedy policy\n",
    "* $\\epsilon$-soft policy\n",
    "* $\\epsilon$-greedy exploring policy\n",
    "* SARSA\n",
    "* Q-learning"
   ]
  },
  {
   "cell_type": "markdown",
   "metadata": {},
   "source": [
    "<img src='epsilon.png',width=500>"
   ]
  },
  {
   "cell_type": "code",
   "execution_count": null,
   "metadata": {
    "collapsed": true
   },
   "outputs": [],
   "source": []
  },
  {
   "cell_type": "code",
   "execution_count": null,
   "metadata": {
    "collapsed": true
   },
   "outputs": [],
   "source": []
  },
  {
   "cell_type": "code",
   "execution_count": null,
   "metadata": {
    "collapsed": true
   },
   "outputs": [],
   "source": []
  },
  {
   "cell_type": "markdown",
   "metadata": {},
   "source": [
    "* prove $\\epsilon-greedy$比$\\epsilon-soft$好"
   ]
  },
  {
   "cell_type": "markdown",
   "metadata": {},
   "source": [
    "<img src='prove_epsilon.png',width=600>"
   ]
  },
  {
   "cell_type": "code",
   "execution_count": null,
   "metadata": {
    "collapsed": true
   },
   "outputs": [],
   "source": []
  },
  {
   "cell_type": "markdown",
   "metadata": {},
   "source": [
    "### on-policy v.s off-policy\n",
    "* behavior policy与target policy的分离\n",
    "* on-policy learning:\n",
    "    * 从用$\\pi$策略取的样本中估计V，按$\\pi$策略更新\n",
    "* off-policy learning:\n",
    "    * 从用$\\pi$策略取的样本中估计V，按$\\pi'$策略更新"
   ]
  },
  {
   "cell_type": "code",
   "execution_count": null,
   "metadata": {
    "collapsed": true
   },
   "outputs": [],
   "source": []
  },
  {
   "cell_type": "markdown",
   "metadata": {},
   "source": [
    "### SARSA"
   ]
  },
  {
   "cell_type": "markdown",
   "metadata": {},
   "source": [
    "<img src='sarsa.png',width=500>"
   ]
  },
  {
   "cell_type": "markdown",
   "metadata": {},
   "source": [
    "<img src='sarsa_1.png',width=600>"
   ]
  },
  {
   "cell_type": "markdown",
   "metadata": {},
   "source": [
    "* 收敛条件\n",
    "    * $\\sum \\alpha_t = \\infty$\n",
    "    * $\\sum \\alpha_t^2 < \\infty$"
   ]
  },
  {
   "cell_type": "code",
   "execution_count": null,
   "metadata": {
    "collapsed": true
   },
   "outputs": [],
   "source": []
  },
  {
   "cell_type": "code",
   "execution_count": null,
   "metadata": {
    "collapsed": true
   },
   "outputs": [],
   "source": []
  },
  {
   "cell_type": "markdown",
   "metadata": {},
   "source": [
    "### Q-learning"
   ]
  },
  {
   "cell_type": "markdown",
   "metadata": {},
   "source": [
    "<img src='q-learning.png',width=500>\n",
    "<img src='q-learning_1.png',width=600>"
   ]
  },
  {
   "cell_type": "code",
   "execution_count": null,
   "metadata": {
    "collapsed": true
   },
   "outputs": [],
   "source": []
  },
  {
   "cell_type": "markdown",
   "metadata": {},
   "source": [
    "* 小结\n",
    "<img src='summary.png',width=500>"
   ]
  },
  {
   "cell_type": "code",
   "execution_count": null,
   "metadata": {
    "collapsed": true
   },
   "outputs": [],
   "source": []
  },
  {
   "cell_type": "code",
   "execution_count": null,
   "metadata": {
    "collapsed": true
   },
   "outputs": [],
   "source": []
  },
  {
   "cell_type": "code",
   "execution_count": null,
   "metadata": {
    "collapsed": true
   },
   "outputs": [],
   "source": []
  },
  {
   "cell_type": "markdown",
   "metadata": {},
   "source": [
    "## 3.函数近似方法"
   ]
  },
  {
   "cell_type": "markdown",
   "metadata": {},
   "source": [
    "<img src='fp.png',width=400>"
   ]
  },
  {
   "cell_type": "code",
   "execution_count": null,
   "metadata": {
    "collapsed": true
   },
   "outputs": [],
   "source": []
  },
  {
   "cell_type": "markdown",
   "metadata": {},
   "source": [
    "<img src='fp_1.png',width=600>"
   ]
  },
  {
   "cell_type": "code",
   "execution_count": null,
   "metadata": {
    "collapsed": true
   },
   "outputs": [],
   "source": []
  },
  {
   "cell_type": "markdown",
   "metadata": {},
   "source": [
    "* 误差平方和最小"
   ]
  },
  {
   "cell_type": "markdown",
   "metadata": {},
   "source": [
    "<img src='fp_2.png',width=400>\n"
   ]
  },
  {
   "cell_type": "markdown",
   "metadata": {},
   "source": [
    "<img src='fp_3.png',width=400>"
   ]
  },
  {
   "cell_type": "markdown",
   "metadata": {},
   "source": [
    "* 方法：\n",
    "    * 线性组合\n",
    "    * 树形模型\n",
    "    * 神经网"
   ]
  },
  {
   "cell_type": "code",
   "execution_count": null,
   "metadata": {
    "collapsed": true
   },
   "outputs": [],
   "source": []
  },
  {
   "cell_type": "code",
   "execution_count": null,
   "metadata": {
    "collapsed": true
   },
   "outputs": [],
   "source": []
  },
  {
   "cell_type": "code",
   "execution_count": null,
   "metadata": {
    "collapsed": true
   },
   "outputs": [],
   "source": []
  },
  {
   "cell_type": "markdown",
   "metadata": {},
   "source": [
    "## 4.DQN\n",
    "* 借助CNN预测价值状态V(s)或者动作状态函数q(s,a)\n",
    "* experience replay\n",
    "* 锁定参数"
   ]
  },
  {
   "cell_type": "code",
   "execution_count": null,
   "metadata": {
    "collapsed": true
   },
   "outputs": [],
   "source": []
  },
  {
   "cell_type": "markdown",
   "metadata": {},
   "source": [
    "* 借助CNN预测价值状态V(s)或者动作状态函数q(s,a)"
   ]
  },
  {
   "cell_type": "markdown",
   "metadata": {},
   "source": [
    "<img src='cnn.png',width=700>"
   ]
  },
  {
   "cell_type": "code",
   "execution_count": null,
   "metadata": {
    "collapsed": true
   },
   "outputs": [],
   "source": []
  },
  {
   "cell_type": "code",
   "execution_count": null,
   "metadata": {
    "collapsed": true
   },
   "outputs": [],
   "source": []
  },
  {
   "cell_type": "markdown",
   "metadata": {},
   "source": [
    "* experience replay从过去的经验中选择历史来更新参数\n",
    "    * $(s_t,a_t,r_{t+1},s_{t+1})$"
   ]
  },
  {
   "cell_type": "code",
   "execution_count": null,
   "metadata": {
    "collapsed": true
   },
   "outputs": [],
   "source": []
  },
  {
   "cell_type": "code",
   "execution_count": null,
   "metadata": {
    "collapsed": true
   },
   "outputs": [],
   "source": []
  },
  {
   "cell_type": "markdown",
   "metadata": {},
   "source": [
    "* 锁定参数\n",
    "<img src='fix.png',width=500>"
   ]
  },
  {
   "cell_type": "code",
   "execution_count": null,
   "metadata": {
    "collapsed": true
   },
   "outputs": [],
   "source": []
  },
  {
   "cell_type": "markdown",
   "metadata": {},
   "source": [
    "* flappy bird:\n",
    "    * f0.区分训练和run模式\n",
    "    * f1.搭建卷积神经网\n",
    "    * f2.定义强化学习训练过程\n",
    "        * f2.1 游戏控制与强化学习参数更新\n",
    "        * f2.2 定义贪心学习\n",
    "        * f2.3 积累experience replay\n",
    "        * f2.4 minibatch 训练\n",
    "        * f2.5 更新卷积神经网参数，让loss function最小"
   ]
  },
  {
   "cell_type": "code",
   "execution_count": null,
   "metadata": {
    "collapsed": true
   },
   "outputs": [],
   "source": []
  },
  {
   "cell_type": "code",
   "execution_count": null,
   "metadata": {
    "collapsed": true
   },
   "outputs": [],
   "source": []
  }
 ],
 "metadata": {
  "kernelspec": {
   "display_name": "Python 3",
   "language": "python",
   "name": "python3"
  },
  "language_info": {
   "codemirror_mode": {
    "name": "ipython",
    "version": 3
   },
   "file_extension": ".py",
   "mimetype": "text/x-python",
   "name": "python",
   "nbconvert_exporter": "python",
   "pygments_lexer": "ipython3",
   "version": "3.7.5"
  }
 },
 "nbformat": 4,
 "nbformat_minor": 2
}
