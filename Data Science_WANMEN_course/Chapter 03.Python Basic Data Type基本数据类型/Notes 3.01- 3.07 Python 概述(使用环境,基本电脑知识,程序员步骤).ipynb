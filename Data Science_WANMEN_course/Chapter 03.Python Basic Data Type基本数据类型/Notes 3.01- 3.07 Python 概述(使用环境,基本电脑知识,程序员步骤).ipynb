{
 "cells": [
  {
   "cell_type": "markdown",
   "metadata": {},
   "source": [
    "1. Editor vs IDE vs REPL\n",
    "    * 编辑器，Editor\n",
    "        * Sublime Text / Notepad++ / Word? (personal note: for anaconda prompt, I used sublime as text editor; for git bash, I use vim for text editor)\n",
    "        * 然后在terminal command line中运行\n",
    "    * 集成开发环境，IDE--Integrated Development Environment (大型软件开发)\n",
    "        * Combine exe, terminal, and editor: e.g. combine python.exe, terminal prompt and text editor, you can do all works in this one interface(environment);\n",
    "        * Also you can break (stop in certain line) and debug\n",
    "        * For python, IDE can be -- PyCharm !!!\n",
    "    * REPL--Read-Evalulate-Print Loop\n",
    "        * e.g. Jupyter Notebook\n",
    "        * 打一行code,可以立马运行看到结果\n",
    "        * 适用于-- 实验性code, 科学计算, 画图表\n",
    "\n",
    "2. CS programming two paths:\n",
    "    1. Be a Software Developer, create actual app-- better learn Java and Python!!!\n",
    "    2. Be a Data Scientist\n",
    "\n",
    "3. 写程序步骤:\n",
    "    1. Problem Formulation -- objective\n",
    "    2. Design the plan -- how to realize, what resource needed\n",
    "    3. Coding and Debugging\n",
    "    4. Evaluation \n",
    "    5. Improving (Refactoring)\n",
    "    \n",
    "    NOTE: Coding is only a small part, majority of time is thinking\n",
    "\n",
    "4. WHY Python:\n",
    "    1. Concise and beautiful\n",
    "    2. Packages for BOTH DATA SCIENCE AND SOFTWARE DEV\n",
    "    3. Support most modern cloud platform\n",
    "    4. Latest ML framework\n",
    "    \n",
    "    Packages (stacks) for Data Analysis\n",
    "    <img src='https://raw.githubusercontent.com/ahirner/smart-factory-audi/master/aux-info/Vanderplas_Python_Stack.png', width=600>\n",
    "    Packages for software dev-- Flask, Django, Pyramid...\n",
    "\n",
    "5. Data Analysis Tools:\n",
    "    1. Excel, SQL\n",
    "    2. R-> 咨询公司\n",
    "    3. Python-> 互联网\n",
    "    4. SAS -> 传统金融,医疗,大企业\n",
    "    \n",
    "    NOTE: 这些都是工具.别想舍弃什么不舍弃什么,这些都是工具,工作中可能都会用到,挑适合的用,适用于不同情况\n",
    "    \n",
    "6. Python 2 vs. Python 3:\n",
    "    1. use Python 3\n",
    "    "
   ]
  },
  {
   "cell_type": "markdown",
   "metadata": {},
   "source": []
  },
  {
   "cell_type": "code",
   "execution_count": null,
   "metadata": {
    "collapsed": true
   },
   "outputs": [],
   "source": []
  }
 ],
 "metadata": {
  "kernelspec": {
   "display_name": "Python 3",
   "language": "python",
   "name": "python3"
  },
  "language_info": {
   "codemirror_mode": {
    "name": "ipython",
    "version": 3
   },
   "file_extension": ".py",
   "mimetype": "text/x-python",
   "name": "python",
   "nbconvert_exporter": "python",
   "pygments_lexer": "ipython3",
   "version": "3.6.3"
  }
 },
 "nbformat": 4,
 "nbformat_minor": 2
}
