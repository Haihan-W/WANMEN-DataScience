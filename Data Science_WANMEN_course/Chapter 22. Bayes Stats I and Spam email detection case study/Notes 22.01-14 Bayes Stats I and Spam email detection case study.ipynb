{
 "cells": [
  {
   "cell_type": "markdown",
   "metadata": {},
   "source": [
    "# 贝叶斯统计1\n",
    "* 0.流感案例\n",
    "* 1.联合概率与边缘概率\n",
    "* 2.贝叶斯公式（ABBAAB）\n",
    "* 3.图形化理解\n",
    "* 4.案例理解（中奖，流感）\n",
    "* 5.**贝叶斯垃圾短信识别程序**\n",
    "* 6.脑筋急转弯：三门问题"
   ]
  },
  {
   "cell_type": "markdown",
   "metadata": {},
   "source": [
    "## 0.流感案例"
   ]
  },
  {
   "cell_type": "markdown",
   "metadata": {},
   "source": [
    "某地最近流感盛行，突然有一天你也开始头疼腿酸，呕吐。流感病患90%都有这样的症状。\n",
    "问题来了：\n",
    "<img src='./here_come.jpg',width=300>"
   ]
  },
  {
   "cell_type": "markdown",
   "metadata": {},
   "source": [
    "你是不是也患流感了？\n"
   ]
  },
  {
   "cell_type": "code",
   "execution_count": null,
   "metadata": {
    "collapsed": true
   },
   "outputs": [],
   "source": []
  },
  {
   "cell_type": "code",
   "execution_count": null,
   "metadata": {
    "collapsed": true
   },
   "outputs": [],
   "source": []
  },
  {
   "cell_type": "code",
   "execution_count": null,
   "metadata": {
    "collapsed": true
   },
   "outputs": [],
   "source": []
  },
  {
   "cell_type": "markdown",
   "metadata": {},
   "source": [
    "## 1.联合概率与条件概率"
   ]
  },
  {
   "cell_type": "markdown",
   "metadata": {},
   "source": [
    "场景：\n",
    "假设一个学校高中和初中合并在一起，只用在数学语文英语三门课中选一门作为主修课，对于所有学生而言：\n",
    "\n",
    "* 所有学生中，事件A=选择数学，发生的概率 $P(A=选择数学)$ \n",
    "* 所有学生中，事件A=选择语文，发生的概率 $P(A=选择语文)$ \n",
    "* 所有学生中，事件A=选择英语，发生的概率 $P(A=选择英语)$\n",
    "* 所有学生中，事件B=学生属于高中阶段，发生的概率 $P(B=高中生)$ \n",
    "* 所有学生中，事件B=学生属于初中阶段，发生的概率 $P(B=初中生)$ "
   ]
  },
  {
   "cell_type": "code",
   "execution_count": null,
   "metadata": {
    "collapsed": true
   },
   "outputs": [],
   "source": []
  },
  {
   "cell_type": "code",
   "execution_count": null,
   "metadata": {
    "collapsed": true
   },
   "outputs": [],
   "source": []
  },
  {
   "cell_type": "code",
   "execution_count": null,
   "metadata": {
    "collapsed": true
   },
   "outputs": [],
   "source": []
  },
  {
   "cell_type": "markdown",
   "metadata": {},
   "source": [
    "### 1.1 P(A and B)"
   ]
  },
  {
   "cell_type": "markdown",
   "metadata": {
    "collapsed": true
   },
   "source": [
    "* 事件A,B**同时发生**的**联合概率** is $P(A,B) aka P(A and B)$\n",
    "    * 属于高中生，并且选择了语文作为主修课程，发生的概率是 $P(A=选择语文,B=高中生)$\n",
    "    * 属于初中生，并且选择了数学作为主修课程，发生的概率是 $P(A=选择数学,B=初中生)$\n",
    "\n",
    "| | 事件(A=主修数学)|事件(A=主修语文) |事件(A=主修英语)||\n",
    "|---|---|---|---|---|\n",
    "|事件(B=高中生)|200|230|210||\n",
    "|事件(B=初中生)|240|300|280||\n",
    "| | | | |||\n",
    "\n",
    "\n",
    "    "
   ]
  },
  {
   "cell_type": "code",
   "execution_count": null,
   "metadata": {
    "collapsed": true
   },
   "outputs": [],
   "source": []
  },
  {
   "cell_type": "code",
   "execution_count": null,
   "metadata": {
    "collapsed": true
   },
   "outputs": [],
   "source": []
  },
  {
   "cell_type": "code",
   "execution_count": null,
   "metadata": {
    "collapsed": true
   },
   "outputs": [],
   "source": []
  },
  {
   "cell_type": "markdown",
   "metadata": {
    "collapsed": true
   },
   "source": [
    "### 1.2 marginal probability边缘概率\n",
    "* 从P(A and B and C and ...)**按类别求和**就是marginal prob\n",
    "\n",
    "| | 事件(A=主修数学)|事件(A=主修语文) |事件(A=主修英语)|边缘概率|\n",
    "|---|---|---|---|---|\n",
    "|事件(B=高中生)|联合概率|联合概率|联合概率|高中生的边缘概率|\n",
    "|事件(B=初中生)|联合概率|联合概率|联合概率|初中生的边缘概率|\n",
    "|边缘概率 |主修数学的边缘概率|主修语文的边缘概率|主修英语的边缘概率|||\n",
    "\n",
    "* Sum of Marginal Prob=1"
   ]
  },
  {
   "cell_type": "code",
   "execution_count": null,
   "metadata": {
    "collapsed": true
   },
   "outputs": [],
   "source": []
  },
  {
   "cell_type": "code",
   "execution_count": null,
   "metadata": {
    "collapsed": true
   },
   "outputs": [],
   "source": []
  },
  {
   "cell_type": "code",
   "execution_count": null,
   "metadata": {
    "collapsed": true
   },
   "outputs": [],
   "source": []
  },
  {
   "cell_type": "markdown",
   "metadata": {},
   "source": [
    "### 1.3 Conditional Probability"
   ]
  },
  {
   "cell_type": "markdown",
   "metadata": {
    "collapsed": true
   },
   "source": [
    "\n",
    "* 条件概率: **满足条件B的所有事件中，事件A也发生的比例** \n",
    "    * 分析的对象：满足条件B的所有事件\n",
    "    * P(A|B) = $\\frac{联合概率}{边缘概率}$ = $\\frac{P(B,A)}{P(B)}$\n",
    "    * 等式右边等价于：事件B,A同时发生的概率，除以，事件B发生的概率\n",
    "\n",
    "\n",
    "* 条件概率: **满足条件A的所有事件中，事件B也发生的比例** \n",
    "    * 分析的对象：满足条件A的所有事件\n",
    "    * P(B|A) = $\\frac{联合概率}{边缘概率}$ = $\\frac{P(A,B)}{P(A)}$\n",
    "    * 等式右边等价于：事件A,B同时发生的概率，除以，事件A发生的概率"
   ]
  },
  {
   "cell_type": "code",
   "execution_count": null,
   "metadata": {
    "collapsed": true
   },
   "outputs": [],
   "source": []
  },
  {
   "cell_type": "markdown",
   "metadata": {},
   "source": [
    "* 在高中生中（条件），选择主修英语的人，有多少？ \n",
    "    * P(主修英语|高中生) = $\\frac{联合概率}{边缘概率}$ = $\\frac{P(高中生\\ 并且\\ 主修英语)}{P(高中生)}$\n",
    "* 在初中生中（条件），选择主修语文的人，有多少？ \n",
    "    * P(主修语文|初中生) = $\\frac{联合概率}{边缘概率}$ = $\\frac{P(初中生\\ 并且\\ 主修语文)}{P(初中生)}$\n",
    "* 在主修数学的人中（条件），有多少是高中生？\n",
    "    * P(高中生|主修数学) = $\\frac{联合概率}{边缘概率}$ = $\\frac{P(主修数学\\ 的\\ 高中生)}{P(主修数学)}$\n"
   ]
  },
  {
   "cell_type": "markdown",
   "metadata": {},
   "source": [
    "\n",
    "| | P(A=主修数学)|P(A=主修语文) |P(A=主修英语)|边缘概率|条件概率|\n",
    "|---|---|---|---|---|\n",
    "|P(B=高中生)|P(A=主修数学，B=高中生)|P(A=主修语文，B=高中生)|P(A=主修英语，B=高中生)||P(A=主修英语/B=高中生)|\n",
    "|P(B=初中生)|P(A=主修数学，B=初中生)|P(A=主修语文，B=初中生)|P(A=主修英语，B=初中生)||P(A=主修语文/B=初中生)|\n",
    "|边缘概率 | | | |||\n",
    "|条件概率|P(B=高中生/A=主修数学)<br>P(B=初中生中生/A=主修数学)||||||\n",
    "\n",
    "\n",
    "* 条件概率的和"
   ]
  },
  {
   "cell_type": "code",
   "execution_count": null,
   "metadata": {
    "collapsed": true
   },
   "outputs": [],
   "source": []
  },
  {
   "cell_type": "markdown",
   "metadata": {},
   "source": [
    "### 1.4 联合概率，条件概率，与边缘概率\n"
   ]
  },
  {
   "cell_type": "markdown",
   "metadata": {},
   "source": [
    "* P(x=主修英语|y=高中生) = $\\frac{P(高中生\\ 并且\\ 主修英语)}{P(高中生)}$\n",
    "\n",
    "* P(A/B) = $\\frac{P(A,B)}{P(B)}$\n",
    "* 联合概率 = 条件概率 * 边缘概率\n",
    "* P(A, B) = P(A/B) * P(B)\n",
    "* P(A, B) = P(B/A) * P(A)\n",
    "* 另外一所学校，**初中生中主修数学**的比例为 1/3，**初中生**的比例为1/2，求 **初中生并且主修数学** 的人群占全校的比例\n",
    "* 2017年，**找到工作的应届毕业生中，进入IT公司** 为1／3，**毕业生找到工作**的比例为7/9,求 **找到工作并且进入IT行业** 的人群占所有毕业生的比例"
   ]
  },
  {
   "cell_type": "code",
   "execution_count": null,
   "metadata": {
    "collapsed": true
   },
   "outputs": [],
   "source": []
  },
  {
   "cell_type": "code",
   "execution_count": null,
   "metadata": {
    "collapsed": true
   },
   "outputs": [],
   "source": []
  },
  {
   "cell_type": "markdown",
   "metadata": {},
   "source": [
    "## 2.贝叶斯公式\n",
    "\\begin{equation*}\n",
    "P(A/B) = \\frac{P(B/A)\\times P(A)}{P(B)}\n",
    "\\end{equation*}"
   ]
  },
  {
   "cell_type": "code",
   "execution_count": null,
   "metadata": {
    "collapsed": true
   },
   "outputs": [],
   "source": []
  },
  {
   "cell_type": "markdown",
   "metadata": {},
   "source": [
    "* 现在知道某学校，主修数学的人中，属于高中生的条件概率 P(高中生/主修数学)\n",
    "* 知道主修数学的边缘概率 P(主修数学)\n",
    "* 知道属于高中生的边缘概率 P(高中生)\n",
    "* **求高中生中，主修数学的同学的条件概率**\n",
    "* <span style = 'color:blue'>条件概率 = $\\frac{联合概率}{边缘概率}$</span>\n",
    "* <span style = 'color:blue'>联合概率 = 条件概率*边缘概率</span>"
   ]
  },
  {
   "cell_type": "code",
   "execution_count": null,
   "metadata": {
    "collapsed": true
   },
   "outputs": [],
   "source": []
  },
  {
   "cell_type": "markdown",
   "metadata": {},
   "source": [
    "| | P(A=主修数学)|P(A=主修语文) |P(A=主修英语)|边缘概率|条件概率|\n",
    "|---|---|---|---|---|\n",
    "|P(B=高中生)||||P(B=高中生)|<span style='color:blue'>P(A=主修数学/B=高中生)</span>|\n",
    "|P(B=初中生)||||||\n",
    "|边缘概率 |P(A=主修数学) | | |||\n",
    "|条件概率|P(B=高中生/A=主修数学)||||||\n"
   ]
  },
  {
   "cell_type": "code",
   "execution_count": null,
   "metadata": {
    "collapsed": true
   },
   "outputs": [],
   "source": []
  },
  {
   "cell_type": "markdown",
   "metadata": {},
   "source": [
    "* <span style = 'color:blue'>条件概率 = $\\frac{联合概率}{边缘概率}$</span>\n",
    "* <span style = 'color:blue'>联合概率 = 条件概率*边缘概率</span>"
   ]
  },
  {
   "cell_type": "markdown",
   "metadata": {},
   "source": [
    "| | P(A=主修数学)|P(A=主修语文) |P(A=主修英语)|边缘概率|条件概率|\n",
    "|---|---|---|---|---|\n",
    "|P(B=高中生)||||||\n",
    "|P(B=初中生)||||P(B=初中生)|<span style='color:blue'>P(A=主修数学/B=初中生)</span>|\n",
    "|边缘概率 |P(A=主修数学) | | |||\n",
    "|条件概率|P(B=高中生/A=主修数学)<br>P(B=初中生/A=主修数学)|||||"
   ]
  },
  {
   "cell_type": "code",
   "execution_count": null,
   "metadata": {
    "collapsed": true
   },
   "outputs": [],
   "source": []
  },
  {
   "cell_type": "markdown",
   "metadata": {},
   "source": [
    "* <span style = 'color:blue'>条件概率 = $\\frac{联合概率}{边缘概率}$</span>\n",
    "* <span style = 'color:blue'>联合概率 = 条件概率*边缘概率</span>"
   ]
  },
  {
   "cell_type": "markdown",
   "metadata": {},
   "source": [
    "| | P(A=主修数学)|P(A=主修语文) |P(A=主修英语)|边缘概率|条件概率|\n",
    "|---|---|---|---|---|\n",
    "|P(B=高中生)||||||\n",
    "|P(B=初中生)||||P(B=初中生)|<span style='color:blue'>P(A=主修语文/B=初中生)</span>|\n",
    "|边缘概率 | | P(A=主修语文)| |||\n",
    "|条件概率||P(B=高中生/A=主修语文)<br>P(B=初中生/A=主修语文)||||"
   ]
  },
  {
   "cell_type": "code",
   "execution_count": null,
   "metadata": {
    "collapsed": true
   },
   "outputs": [],
   "source": []
  },
  {
   "cell_type": "code",
   "execution_count": null,
   "metadata": {
    "collapsed": true
   },
   "outputs": [],
   "source": []
  },
  {
   "cell_type": "code",
   "execution_count": null,
   "metadata": {
    "collapsed": true
   },
   "outputs": [],
   "source": []
  },
  {
   "cell_type": "markdown",
   "metadata": {},
   "source": [
    "\n",
    "* P(<span style='color:blue'>A=主修语文/B=初中生</span>) = $\\frac{联合概率(A,B)}{边缘概率(B)}=\\frac{条件概率(B/A)*边缘概率(A)}{边缘概率(B)}=\\frac{P(B=初中生/A=主修语文) * P(A=主修语文)}{P(B=初中生)}$\n"
   ]
  },
  {
   "cell_type": "code",
   "execution_count": null,
   "metadata": {
    "collapsed": true
   },
   "outputs": [],
   "source": []
  },
  {
   "cell_type": "markdown",
   "metadata": {},
   "source": [
    "### 贝叶斯公式"
   ]
  },
  {
   "cell_type": "markdown",
   "metadata": {},
   "source": [
    "\\begin{equation*}\n",
    "P(A/B) = \\frac{P(B/A)\\times P(A)}{P(B)}\n",
    "\\end{equation*}"
   ]
  },
  {
   "cell_type": "code",
   "execution_count": null,
   "metadata": {
    "collapsed": true
   },
   "outputs": [],
   "source": []
  },
  {
   "cell_type": "code",
   "execution_count": null,
   "metadata": {
    "collapsed": true
   },
   "outputs": [],
   "source": []
  },
  {
   "cell_type": "markdown",
   "metadata": {
    "collapsed": true
   },
   "source": [
    "![ppap](./abbaab.gif)"
   ]
  },
  {
   "cell_type": "code",
   "execution_count": null,
   "metadata": {
    "collapsed": true
   },
   "outputs": [],
   "source": []
  },
  {
   "cell_type": "code",
   "execution_count": null,
   "metadata": {
    "collapsed": true
   },
   "outputs": [],
   "source": []
  },
  {
   "cell_type": "markdown",
   "metadata": {},
   "source": [
    "\\begin{equation*}\n",
    "P(A/B) = \\frac{P(B/A)\\times P(A)}{P(B)}\n",
    "\\end{equation*}\n",
    "* P(<span style='color:blue'>A=主修语文/B=初中生</span>) = $\\frac{联合概率(A,B)}{边缘概率(B)}=\\frac{条件概率(B/A)*边缘概率(A)}{边缘概率(B)}=\\frac{P(B=初中生/A=主修语文) * P(A=主修语文)}{P(B=初中生)}$\n",
    "* 有些情况下，P(B=初中生)没有直接给出，需要用其他方式求"
   ]
  },
  {
   "cell_type": "code",
   "execution_count": null,
   "metadata": {
    "collapsed": true
   },
   "outputs": [],
   "source": []
  },
  {
   "cell_type": "markdown",
   "metadata": {},
   "source": [
    "| | P(A=主修数学)|P(A=主修语文) |P(A=主修英语)|边缘概率|条件概率|\n",
    "|---|---|---|---|---|\n",
    "|P(B=高中生)||||||\n",
    "|P(B=初中生)||||P(B=初中生)?|<span style='color:blue'>P(A=主修语文/B=初中生)</span>|\n",
    "|边缘概率 |P(A=主修数学) | P(A=主修语文)| P(A=主修英语)|||\n",
    "|条件概率|P(B=初中生/A=主修数学)|P(B=初中生/A=主修语文)|P(B=初中生/A=主修英语)|||"
   ]
  },
  {
   "cell_type": "markdown",
   "metadata": {},
   "source": [
    "* **边缘概率 = $\\sum$联合概率 对应类别求和**\n",
    "* 事件B为：学生是初中生\n",
    "* P(B) = P(A=数学,B) + P(A=语文,B) + P(A=英语,B)\n"
   ]
  },
  {
   "cell_type": "markdown",
   "metadata": {
    "collapsed": true
   },
   "source": [
    "\\begin{equation*}\n",
    "P(A=语文/B) = \\frac{P(B/A=语文)\\times P(A=语文)}{P(B)}\\\\\n",
    "=\\frac{P(B/A=语文)\\times P(A=语文)}{P(A=数学,B)+P(A=语文,B)+P(A=英语,B)}\\\\\n",
    "\\end{equation*}"
   ]
  },
  {
   "cell_type": "markdown",
   "metadata": {},
   "source": [
    "* 联合概率（A,B） = 条件概率(B/A) * 边缘概率(A)"
   ]
  },
  {
   "cell_type": "markdown",
   "metadata": {},
   "source": [
    "\\begin{equation*}\n",
    "=\\frac{P(B/A=语文)\\times P(A=语文)}{P(B/A=数学)P(A=数学)+P(B/A=语文)\\times P(A=语文)+P(B/A=英语)\\times P(A=英语)}\n",
    "\\end{equation*}"
   ]
  },
  {
   "cell_type": "code",
   "execution_count": null,
   "metadata": {
    "collapsed": true
   },
   "outputs": [],
   "source": []
  },
  {
   "cell_type": "markdown",
   "metadata": {},
   "source": [
    "\\begin{equation*}\n",
    "=\\frac{P(B/A=语文)\\times P(A=语文)}{\\sum P(B/A=各个学科)P(A=各个学科)}\n",
    "\\end{equation*}"
   ]
  },
  {
   "cell_type": "code",
   "execution_count": null,
   "metadata": {
    "collapsed": true
   },
   "outputs": [],
   "source": []
  },
  {
   "cell_type": "code",
   "execution_count": null,
   "metadata": {
    "collapsed": true
   },
   "outputs": [],
   "source": []
  },
  {
   "cell_type": "markdown",
   "metadata": {},
   "source": [
    "### 对第一节问题的解答"
   ]
  },
  {
   "cell_type": "markdown",
   "metadata": {
    "collapsed": true
   },
   "source": [
    "练习：\n",
    "感冒的人中50%要打喷嚏，没有感冒的人中2%要打喷嚏。当下，感冒的人占比例为0.1%，没感冒的是99.9%。求条件概率P(感冒|打喷嚏）"
   ]
  },
  {
   "cell_type": "markdown",
   "metadata": {
    "collapsed": true
   },
   "source": [
    "P(sneeze|cold)=0.5 \n",
    "\n",
    "p(sneeze|not cold)=0.02\n",
    "\n",
    "P(cold)=0.001"
   ]
  },
  {
   "cell_type": "markdown",
   "metadata": {
    "collapsed": true
   },
   "source": [
    "<img src=\"1.jpg\",style=\"transform: rotate(0deg)\", width=500>"
   ]
  },
  {
   "cell_type": "code",
   "execution_count": null,
   "metadata": {
    "collapsed": true
   },
   "outputs": [],
   "source": []
  },
  {
   "cell_type": "code",
   "execution_count": null,
   "metadata": {
    "collapsed": true
   },
   "outputs": [],
   "source": []
  },
  {
   "cell_type": "code",
   "execution_count": null,
   "metadata": {
    "collapsed": true
   },
   "outputs": [],
   "source": []
  },
  {
   "cell_type": "markdown",
   "metadata": {},
   "source": [
    "## 3.图形化理解"
   ]
  },
  {
   "cell_type": "markdown",
   "metadata": {},
   "source": [
    "<img src='bayesian_image_1.jpg',width=900>"
   ]
  },
  {
   "cell_type": "markdown",
   "metadata": {},
   "source": [
    "<img src='bayesian_image_2.jpg',width=900>"
   ]
  },
  {
   "cell_type": "code",
   "execution_count": null,
   "metadata": {
    "collapsed": true
   },
   "outputs": [],
   "source": []
  },
  {
   "cell_type": "code",
   "execution_count": null,
   "metadata": {
    "collapsed": true
   },
   "outputs": [],
   "source": []
  },
  {
   "cell_type": "markdown",
   "metadata": {},
   "source": [
    "## 4.案例理解（中奖，流感） "
   ]
  },
  {
   "cell_type": "markdown",
   "metadata": {
    "collapsed": true
   },
   "source": [
    "* 中乐透2亿美金的人中，60%疯了。中奖率为亿分之一。一个地区历史上有1%的人疯了。现在你的邻居疯了，请问他中乐透了吗？"
   ]
  },
  {
   "cell_type": "code",
   "execution_count": null,
   "metadata": {
    "collapsed": true
   },
   "outputs": [],
   "source": []
  },
  {
   "cell_type": "code",
   "execution_count": null,
   "metadata": {
    "collapsed": true
   },
   "outputs": [],
   "source": []
  },
  {
   "cell_type": "code",
   "execution_count": null,
   "metadata": {
    "collapsed": true
   },
   "outputs": [],
   "source": []
  },
  {
   "cell_type": "markdown",
   "metadata": {
    "collapsed": true
   },
   "source": [
    "* 流感的人90%要关节疼，发烧等症状。历史统计流感病患为总人群的 5%。 非流感出现同样症状的概率为30%。你室友出现了关节疼，发烧的症状，请问你要搬家吗？"
   ]
  },
  {
   "cell_type": "code",
   "execution_count": null,
   "metadata": {
    "collapsed": true
   },
   "outputs": [],
   "source": []
  },
  {
   "cell_type": "code",
   "execution_count": null,
   "metadata": {
    "collapsed": true
   },
   "outputs": [],
   "source": []
  },
  {
   "cell_type": "code",
   "execution_count": null,
   "metadata": {
    "collapsed": true
   },
   "outputs": [],
   "source": []
  },
  {
   "cell_type": "markdown",
   "metadata": {
    "collapsed": true
   },
   "source": [
    "* 有一种癫痫检验手段，如果是癫痫，能够99.9%地检验成阳性。检验手段的假阳性率为2%。一个地区癫痫病患比例大概0.1%。\n",
    "* 你邻居在做检验时，显示为阳性，请问他是癫痫的概率"
   ]
  },
  {
   "cell_type": "code",
   "execution_count": null,
   "metadata": {
    "collapsed": true
   },
   "outputs": [],
   "source": []
  },
  {
   "cell_type": "code",
   "execution_count": null,
   "metadata": {
    "collapsed": true
   },
   "outputs": [],
   "source": []
  },
  {
   "cell_type": "code",
   "execution_count": null,
   "metadata": {
    "collapsed": true
   },
   "outputs": [],
   "source": []
  },
  {
   "cell_type": "code",
   "execution_count": null,
   "metadata": {
    "collapsed": true
   },
   "outputs": [],
   "source": []
  },
  {
   "cell_type": "code",
   "execution_count": null,
   "metadata": {
    "collapsed": true
   },
   "outputs": [],
   "source": []
  },
  {
   "cell_type": "markdown",
   "metadata": {},
   "source": [
    "## 5. 贝叶斯垃圾短信识别"
   ]
  },
  {
   "cell_type": "markdown",
   "metadata": {},
   "source": [
    "\\begin{equation*}\n",
    "P(垃圾短信/具体关键词) = \\frac{P(具体关键词/垃圾短信)\\times P(垃圾短信)}{P(具体关键词)}\\\\\n",
    "=\\frac{P(具体关键词/垃圾短信)\\times P(垃圾短信)}{P(具体关键词/垃圾短信)\\times P(垃圾短信)+P(具体关键词/正常短信)\\times P(正常短信)}\n",
    "\\end{equation*}"
   ]
  },
  {
   "cell_type": "markdown",
   "metadata": {
    "collapsed": true
   },
   "source": [
    "根据关键词在垃圾短信和正常短信中的相对词频高低，来判断是否为垃圾短信\n",
    "\n",
    "1. 读取垃圾短信信息与正常短信信息\n",
    "2. 建立垃圾短信与正常短信语料库\n",
    "    * 去掉标点符号\n",
    "    * 分词(tokenized)\n",
    "    * 去掉stopword\n",
    "    * 计算词频\n",
    "3. 根据贝叶斯公式计算\n",
    "    * P(垃圾短信/具体关键词) "
   ]
  },
  {
   "cell_type": "markdown",
   "metadata": {},
   "source": [
    "#### 5.1. 读取垃圾短信信息与正常短信信息"
   ]
  },
  {
   "cell_type": "code",
   "execution_count": 2,
   "metadata": {
    "collapsed": true
   },
   "outputs": [],
   "source": [
    "import pandas as pd\n",
    "import nltk\n",
    "from nltk import FreqDist\n",
    "from nltk import word_tokenize\n",
    "from nltk.corpus import stopwords\n",
    "\n",
    "# python 2环境下要使用以下命令\n",
    "# import sys\n",
    "# stdout = sys.stdout\n",
    "# reload(sys) # python 2\n",
    "# sys.setdefaultencoding('utf-8')\n",
    "# sys.stdout = stdout\n",
    "\n",
    "# python 3不用"
   ]
  },
  {
   "cell_type": "markdown",
   "metadata": {},
   "source": [
    "读取短信信息"
   ]
  },
  {
   "cell_type": "markdown",
   "metadata": {},
   "source": [
    "* text= pd.read_csv('spam.csv',encoding='latin-1')"
   ]
  },
  {
   "cell_type": "code",
   "execution_count": 6,
   "metadata": {
    "scrolled": true
   },
   "outputs": [
    {
     "data": {
      "text/html": [
       "<div>\n",
       "<style>\n",
       "    .dataframe thead tr:only-child th {\n",
       "        text-align: right;\n",
       "    }\n",
       "\n",
       "    .dataframe thead th {\n",
       "        text-align: left;\n",
       "    }\n",
       "\n",
       "    .dataframe tbody tr th {\n",
       "        vertical-align: top;\n",
       "    }\n",
       "</style>\n",
       "<table border=\"1\" class=\"dataframe\">\n",
       "  <thead>\n",
       "    <tr style=\"text-align: right;\">\n",
       "      <th></th>\n",
       "      <th>v1</th>\n",
       "      <th>v2</th>\n",
       "      <th>Unnamed: 2</th>\n",
       "      <th>Unnamed: 3</th>\n",
       "      <th>Unnamed: 4</th>\n",
       "    </tr>\n",
       "  </thead>\n",
       "  <tbody>\n",
       "    <tr>\n",
       "      <th>0</th>\n",
       "      <td>ham</td>\n",
       "      <td>Go until jurong point, crazy.. Available only ...</td>\n",
       "      <td>NaN</td>\n",
       "      <td>NaN</td>\n",
       "      <td>NaN</td>\n",
       "    </tr>\n",
       "    <tr>\n",
       "      <th>1</th>\n",
       "      <td>ham</td>\n",
       "      <td>Ok lar... Joking wif u oni...</td>\n",
       "      <td>NaN</td>\n",
       "      <td>NaN</td>\n",
       "      <td>NaN</td>\n",
       "    </tr>\n",
       "    <tr>\n",
       "      <th>2</th>\n",
       "      <td>spam</td>\n",
       "      <td>Free entry in 2 a wkly comp to win FA Cup fina...</td>\n",
       "      <td>NaN</td>\n",
       "      <td>NaN</td>\n",
       "      <td>NaN</td>\n",
       "    </tr>\n",
       "    <tr>\n",
       "      <th>3</th>\n",
       "      <td>ham</td>\n",
       "      <td>U dun say so early hor... U c already then say...</td>\n",
       "      <td>NaN</td>\n",
       "      <td>NaN</td>\n",
       "      <td>NaN</td>\n",
       "    </tr>\n",
       "    <tr>\n",
       "      <th>4</th>\n",
       "      <td>ham</td>\n",
       "      <td>Nah I don't think he goes to usf, he lives aro...</td>\n",
       "      <td>NaN</td>\n",
       "      <td>NaN</td>\n",
       "      <td>NaN</td>\n",
       "    </tr>\n",
       "    <tr>\n",
       "      <th>5</th>\n",
       "      <td>spam</td>\n",
       "      <td>FreeMsg Hey there darling it's been 3 week's n...</td>\n",
       "      <td>NaN</td>\n",
       "      <td>NaN</td>\n",
       "      <td>NaN</td>\n",
       "    </tr>\n",
       "    <tr>\n",
       "      <th>6</th>\n",
       "      <td>ham</td>\n",
       "      <td>Even my brother is not like to speak with me. ...</td>\n",
       "      <td>NaN</td>\n",
       "      <td>NaN</td>\n",
       "      <td>NaN</td>\n",
       "    </tr>\n",
       "    <tr>\n",
       "      <th>7</th>\n",
       "      <td>ham</td>\n",
       "      <td>As per your request 'Melle Melle (Oru Minnamin...</td>\n",
       "      <td>NaN</td>\n",
       "      <td>NaN</td>\n",
       "      <td>NaN</td>\n",
       "    </tr>\n",
       "    <tr>\n",
       "      <th>8</th>\n",
       "      <td>spam</td>\n",
       "      <td>WINNER!! As a valued network customer you have...</td>\n",
       "      <td>NaN</td>\n",
       "      <td>NaN</td>\n",
       "      <td>NaN</td>\n",
       "    </tr>\n",
       "    <tr>\n",
       "      <th>9</th>\n",
       "      <td>spam</td>\n",
       "      <td>Had your mobile 11 months or more? U R entitle...</td>\n",
       "      <td>NaN</td>\n",
       "      <td>NaN</td>\n",
       "      <td>NaN</td>\n",
       "    </tr>\n",
       "  </tbody>\n",
       "</table>\n",
       "</div>"
      ],
      "text/plain": [
       "     v1                                                 v2 Unnamed: 2  \\\n",
       "0   ham  Go until jurong point, crazy.. Available only ...        NaN   \n",
       "1   ham                      Ok lar... Joking wif u oni...        NaN   \n",
       "2  spam  Free entry in 2 a wkly comp to win FA Cup fina...        NaN   \n",
       "3   ham  U dun say so early hor... U c already then say...        NaN   \n",
       "4   ham  Nah I don't think he goes to usf, he lives aro...        NaN   \n",
       "5  spam  FreeMsg Hey there darling it's been 3 week's n...        NaN   \n",
       "6   ham  Even my brother is not like to speak with me. ...        NaN   \n",
       "7   ham  As per your request 'Melle Melle (Oru Minnamin...        NaN   \n",
       "8  spam  WINNER!! As a valued network customer you have...        NaN   \n",
       "9  spam  Had your mobile 11 months or more? U R entitle...        NaN   \n",
       "\n",
       "  Unnamed: 3 Unnamed: 4  \n",
       "0        NaN        NaN  \n",
       "1        NaN        NaN  \n",
       "2        NaN        NaN  \n",
       "3        NaN        NaN  \n",
       "4        NaN        NaN  \n",
       "5        NaN        NaN  \n",
       "6        NaN        NaN  \n",
       "7        NaN        NaN  \n",
       "8        NaN        NaN  \n",
       "9        NaN        NaN  "
      ]
     },
     "execution_count": 6,
     "metadata": {},
     "output_type": "execute_result"
    }
   ],
   "source": [
    "text= pd.read_csv('spam.csv',encoding='latin-1')\n",
    "text.head(10)"
   ]
  },
  {
   "cell_type": "markdown",
   "metadata": {},
   "source": [
    "提取垃圾短信与正常短信\n",
    "* spam_text = text.loc[text['v1']=='spam']['v2']\n",
    "* ham_text = text.loc[text['v1']=='ham']['v2']"
   ]
  },
  {
   "cell_type": "code",
   "execution_count": 5,
   "metadata": {
    "collapsed": true
   },
   "outputs": [],
   "source": [
    "spam_text = text.loc[text['v1']=='spam']['v2']\n",
    "ham_text = text.loc[text['v1']=='ham']['v2']"
   ]
  },
  {
   "cell_type": "markdown",
   "metadata": {},
   "source": [
    "* spam_text.head()"
   ]
  },
  {
   "cell_type": "code",
   "execution_count": 7,
   "metadata": {
    "scrolled": true
   },
   "outputs": [
    {
     "data": {
      "text/plain": [
       "2     Free entry in 2 a wkly comp to win FA Cup fina...\n",
       "5     FreeMsg Hey there darling it's been 3 week's n...\n",
       "8     WINNER!! As a valued network customer you have...\n",
       "9     Had your mobile 11 months or more? U R entitle...\n",
       "11    SIX chances to win CASH! From 100 to 20,000 po...\n",
       "Name: v2, dtype: object"
      ]
     },
     "execution_count": 7,
     "metadata": {},
     "output_type": "execute_result"
    }
   ],
   "source": [
    "spam_text.head()"
   ]
  },
  {
   "cell_type": "markdown",
   "metadata": {},
   "source": [
    "* ham_text.head()"
   ]
  },
  {
   "cell_type": "code",
   "execution_count": 8,
   "metadata": {},
   "outputs": [
    {
     "data": {
      "text/plain": [
       "0    Go until jurong point, crazy.. Available only ...\n",
       "1                        Ok lar... Joking wif u oni...\n",
       "3    U dun say so early hor... U c already then say...\n",
       "4    Nah I don't think he goes to usf, he lives aro...\n",
       "6    Even my brother is not like to speak with me. ...\n",
       "Name: v2, dtype: object"
      ]
     },
     "execution_count": 8,
     "metadata": {},
     "output_type": "execute_result"
    }
   ],
   "source": [
    "ham_text.head()"
   ]
  },
  {
   "cell_type": "code",
   "execution_count": 8,
   "metadata": {
    "collapsed": true
   },
   "outputs": [],
   "source": [
    "# # python 2下面\n",
    "# import sys\n",
    "# import os\n",
    "# import string\n",
    "# trantable = string.maketrans(\"\",\"\")\n",
    "# string.punctuation\n",
    "\n",
    "# def data_clean(text):\n",
    "#     #要去掉的元素放到 text.translate的第二个参数中\n",
    "#     text_clean = text.translate(trantable, string.punctuation)\n",
    "#     text_clean_wo_stop = remove_stopword(text_clean)\n",
    "#     #print text+'over'\n",
    "#     return text_clean\n",
    "\n",
    "# def remove_stopword(text):\n",
    "#     return [word for word in text if word not in stopwords.words('english')]"
   ]
  },
  {
   "cell_type": "markdown",
   "metadata": {},
   "source": [
    "#### 5.2. 建立垃圾短信与正常短信语料库\n",
    "* 去掉标点符号\n",
    "* 分词(tokenize)\n",
    "* 去掉stopword\n",
    "* 计算词频"
   ]
  },
  {
   "cell_type": "code",
   "execution_count": null,
   "metadata": {
    "collapsed": true
   },
   "outputs": [],
   "source": []
  },
  {
   "cell_type": "markdown",
   "metadata": {},
   "source": [
    "* 去除标点符号\n",
    "trantable = str.maketrans(\"\",\"\",string.punctuation)\n",
    "\n",
    "def data_clean(text):\n",
    "\n",
    "    text_clean = text.translate(trantable)\n",
    "\n",
    "    return text_clean"
   ]
  },
  {
   "cell_type": "code",
   "execution_count": 10,
   "metadata": {
    "collapsed": true
   },
   "outputs": [],
   "source": [
    "import string \n",
    "trantable = str.maketrans(\"\",\"\",string.punctuation)\n",
    "\n",
    "def data_clean(text):\n",
    "\n",
    "    text_clean = text.translate(trantable)\n",
    "\n",
    "    return text_clean"
   ]
  },
  {
   "cell_type": "markdown",
   "metadata": {
    "collapsed": true
   },
   "source": [
    "* 去除stopword\n",
    "\n",
    "def remove_stopword(text):\n",
    "\n",
    "    return [word.lower() for word in text if word.lower() not in stopwords.words('english')]"
   ]
  },
  {
   "cell_type": "code",
   "execution_count": 12,
   "metadata": {
    "collapsed": true
   },
   "outputs": [],
   "source": [
    "def remove_stopword(text):\n",
    "\n",
    "    return [word.lower() for word in text if word.lower() not in stopwords.words('english')]"
   ]
  },
  {
   "cell_type": "markdown",
   "metadata": {},
   "source": [
    "* 给垃圾短信建立语料库并计算词频\n",
    "\n",
    "spam_corp = []\n",
    "\n",
    "for line in spam_text:\n",
    "\n",
    "    line_clean = data_clean(str(line))\n",
    "    \n",
    "    word_tk = nltk.word_tokenize(line_clean)\n",
    "    \n",
    "    word_tk_wo_stop = remove_stopword(word_tk)\n",
    "    \n",
    "    spam_corp.extend(word_tk_wo_stop)\n",
    "\n"
   ]
  },
  {
   "cell_type": "code",
   "execution_count": 13,
   "metadata": {
    "collapsed": true
   },
   "outputs": [],
   "source": [
    "spam_corp = []\n",
    "for line in spam_text:\n",
    "\n",
    "    line_clean = data_clean(str(line))\n",
    "\n",
    "    word_tk = nltk.word_tokenize(line_clean)\n",
    "\n",
    "    word_tk_wo_stop = remove_stopword(word_tk)\n",
    "\n",
    "    spam_corp.extend(word_tk_wo_stop)"
   ]
  },
  {
   "cell_type": "code",
   "execution_count": 14,
   "metadata": {},
   "outputs": [
    {
     "data": {
      "text/plain": [
       "['free',\n",
       " 'entry',\n",
       " '2',\n",
       " 'wkly',\n",
       " 'comp',\n",
       " 'win',\n",
       " 'fa',\n",
       " 'cup',\n",
       " 'final',\n",
       " 'tkts',\n",
       " '21st',\n",
       " 'may',\n",
       " '2005',\n",
       " 'text',\n",
       " 'fa',\n",
       " '87121',\n",
       " 'receive',\n",
       " 'entry',\n",
       " 'questionstd',\n",
       " 'txt',\n",
       " 'ratetcs',\n",
       " 'apply',\n",
       " '08452810075over18s',\n",
       " 'freemsg',\n",
       " 'hey',\n",
       " 'darling',\n",
       " '3',\n",
       " 'weeks',\n",
       " 'word',\n",
       " 'back',\n",
       " 'id',\n",
       " 'like',\n",
       " 'fun',\n",
       " 'still',\n",
       " 'tb',\n",
       " 'ok',\n",
       " 'xxx',\n",
       " 'std',\n",
       " 'chgs',\n",
       " 'send',\n",
       " 'å£150',\n",
       " 'rcv',\n",
       " 'winner',\n",
       " 'valued',\n",
       " 'network',\n",
       " 'customer',\n",
       " 'selected',\n",
       " 'receivea',\n",
       " 'å£900',\n",
       " 'prize',\n",
       " 'reward',\n",
       " 'claim',\n",
       " 'call',\n",
       " '09061701461',\n",
       " 'claim',\n",
       " 'code',\n",
       " 'kl341',\n",
       " 'valid',\n",
       " '12',\n",
       " 'hours',\n",
       " 'mobile',\n",
       " '11',\n",
       " 'months',\n",
       " 'u',\n",
       " 'r',\n",
       " 'entitled',\n",
       " 'update',\n",
       " 'latest',\n",
       " 'colour',\n",
       " 'mobiles',\n",
       " 'camera',\n",
       " 'free',\n",
       " 'call',\n",
       " 'mobile',\n",
       " 'update',\n",
       " 'co',\n",
       " 'free',\n",
       " '08002986030',\n",
       " 'six',\n",
       " 'chances',\n",
       " 'win',\n",
       " 'cash',\n",
       " '100',\n",
       " '20000',\n",
       " 'pounds',\n",
       " 'txt',\n",
       " 'csh11',\n",
       " 'send',\n",
       " '87575',\n",
       " 'cost',\n",
       " '150pday',\n",
       " '6days',\n",
       " '16',\n",
       " 'tsandcs',\n",
       " 'apply',\n",
       " 'reply',\n",
       " 'hl',\n",
       " '4',\n",
       " 'info',\n",
       " 'urgent',\n",
       " '1',\n",
       " 'week',\n",
       " 'free',\n",
       " 'membership',\n",
       " 'å£100000',\n",
       " 'prize',\n",
       " 'jackpot',\n",
       " 'txt',\n",
       " 'word',\n",
       " 'claim',\n",
       " '81010',\n",
       " 'tc',\n",
       " 'wwwdbuknet',\n",
       " 'lccltd',\n",
       " 'pobox',\n",
       " '4403ldnw1a7rw18',\n",
       " 'xxxmobilemovieclub',\n",
       " 'use',\n",
       " 'credit',\n",
       " 'click',\n",
       " 'wap',\n",
       " 'link',\n",
       " 'next',\n",
       " 'txt',\n",
       " 'message',\n",
       " 'click',\n",
       " 'httpwap',\n",
       " 'xxxmobilemovieclubcomnqjkgighjjgcbl',\n",
       " 'england',\n",
       " 'v',\n",
       " 'macedonia',\n",
       " 'dont',\n",
       " 'miss',\n",
       " 'goalsteam',\n",
       " 'news',\n",
       " 'txt',\n",
       " 'ur',\n",
       " 'national',\n",
       " 'team',\n",
       " '87077',\n",
       " 'eg',\n",
       " 'england',\n",
       " '87077',\n",
       " 'trywales',\n",
       " 'scotland',\n",
       " '4txtì¼120',\n",
       " 'poboxox36504w45wq',\n",
       " '16',\n",
       " 'thanks',\n",
       " 'subscription',\n",
       " 'ringtone',\n",
       " 'uk',\n",
       " 'mobile',\n",
       " 'charged',\n",
       " 'å£5month',\n",
       " 'please',\n",
       " 'confirm',\n",
       " 'replying',\n",
       " 'yes',\n",
       " 'reply',\n",
       " 'charged',\n",
       " '07732584351',\n",
       " 'rodger',\n",
       " 'burns',\n",
       " 'msg',\n",
       " 'tried',\n",
       " 'call',\n",
       " 'reply',\n",
       " 'sms',\n",
       " 'free',\n",
       " 'nokia',\n",
       " 'mobile',\n",
       " 'free',\n",
       " 'camcorder',\n",
       " 'please',\n",
       " 'call',\n",
       " '08000930705',\n",
       " 'delivery',\n",
       " 'tomorrow',\n",
       " 'sms',\n",
       " 'ac',\n",
       " 'sptv',\n",
       " 'new',\n",
       " 'jersey',\n",
       " 'devils',\n",
       " 'detroit',\n",
       " 'red',\n",
       " 'wings',\n",
       " 'play',\n",
       " 'ice',\n",
       " 'hockey',\n",
       " 'correct',\n",
       " 'incorrect',\n",
       " 'end',\n",
       " 'reply',\n",
       " 'end',\n",
       " 'sptv',\n",
       " 'congrats',\n",
       " '1',\n",
       " 'year',\n",
       " 'special',\n",
       " 'cinema',\n",
       " 'pass',\n",
       " '2',\n",
       " 'call',\n",
       " '09061209465',\n",
       " 'c',\n",
       " 'suprman',\n",
       " 'v',\n",
       " 'matrix3',\n",
       " 'starwars3',\n",
       " 'etc',\n",
       " '4',\n",
       " 'free',\n",
       " 'bx420ip45we',\n",
       " '150pm',\n",
       " 'dont',\n",
       " 'miss',\n",
       " 'valued',\n",
       " 'customer',\n",
       " 'pleased',\n",
       " 'advise',\n",
       " 'following',\n",
       " 'recent',\n",
       " 'review',\n",
       " 'mob',\n",
       " 'awarded',\n",
       " 'å£1500',\n",
       " 'bonus',\n",
       " 'prize',\n",
       " 'call',\n",
       " '09066364589',\n",
       " 'urgent',\n",
       " 'ur',\n",
       " 'awarded',\n",
       " 'complimentary',\n",
       " 'trip',\n",
       " 'eurodisinc',\n",
       " 'trav',\n",
       " 'acoentry41',\n",
       " 'å£1000',\n",
       " 'claim',\n",
       " 'txt',\n",
       " 'dis',\n",
       " '87121',\n",
       " '186å£150morefrmmob',\n",
       " 'shracomorsglsuplt10',\n",
       " 'ls1',\n",
       " '3aj',\n",
       " 'hear',\n",
       " 'new',\n",
       " 'divorce',\n",
       " 'barbie',\n",
       " 'comes',\n",
       " 'kens',\n",
       " 'stuff',\n",
       " 'please',\n",
       " 'call',\n",
       " 'customer',\n",
       " 'service',\n",
       " 'representative',\n",
       " '0800',\n",
       " '169',\n",
       " '6031',\n",
       " '10am9pm',\n",
       " 'guaranteed',\n",
       " 'å£1000',\n",
       " 'cash',\n",
       " 'å£5000',\n",
       " 'prize',\n",
       " 'free',\n",
       " 'ringtone',\n",
       " 'waiting',\n",
       " 'collected',\n",
       " 'simply',\n",
       " 'text',\n",
       " 'password',\n",
       " 'mix',\n",
       " '85069',\n",
       " 'verify',\n",
       " 'get',\n",
       " 'usher',\n",
       " 'britney',\n",
       " 'fml',\n",
       " 'gent',\n",
       " 'trying',\n",
       " 'contact',\n",
       " 'last',\n",
       " 'weekends',\n",
       " 'draw',\n",
       " 'shows',\n",
       " 'å£1000',\n",
       " 'prize',\n",
       " 'guaranteed',\n",
       " 'call',\n",
       " '09064012160',\n",
       " 'claim',\n",
       " 'code',\n",
       " 'k52',\n",
       " 'valid',\n",
       " '12hrs',\n",
       " '150ppm',\n",
       " 'winner',\n",
       " 'u',\n",
       " 'specially',\n",
       " 'selected',\n",
       " '2',\n",
       " 'receive',\n",
       " 'å£1000',\n",
       " '4',\n",
       " 'holiday',\n",
       " 'flights',\n",
       " 'inc',\n",
       " 'speak',\n",
       " 'live',\n",
       " 'operator',\n",
       " '2',\n",
       " 'claim',\n",
       " '0871277810910pmin',\n",
       " '18',\n",
       " 'private',\n",
       " '2004',\n",
       " 'account',\n",
       " 'statement',\n",
       " '07742676969',\n",
       " 'shows',\n",
       " '786',\n",
       " 'unredeemed',\n",
       " 'bonus',\n",
       " 'points',\n",
       " 'claim',\n",
       " 'call',\n",
       " '08719180248',\n",
       " 'identifier',\n",
       " 'code',\n",
       " '45239',\n",
       " 'expires',\n",
       " 'urgent',\n",
       " 'mobile',\n",
       " 'awarded',\n",
       " 'å£2000',\n",
       " 'bonus',\n",
       " 'caller',\n",
       " 'prize',\n",
       " '5903',\n",
       " 'final',\n",
       " 'try',\n",
       " 'contact',\n",
       " 'u',\n",
       " 'call',\n",
       " 'landline',\n",
       " '09064019788',\n",
       " 'box42wr29c',\n",
       " '150ppm',\n",
       " 'todays',\n",
       " 'voda',\n",
       " 'numbers',\n",
       " 'ending',\n",
       " '7548',\n",
       " 'selected',\n",
       " 'receive',\n",
       " '350',\n",
       " 'award',\n",
       " 'match',\n",
       " 'please',\n",
       " 'call',\n",
       " '08712300220',\n",
       " 'quoting',\n",
       " 'claim',\n",
       " 'code',\n",
       " '4041',\n",
       " 'standard',\n",
       " 'rates',\n",
       " 'app',\n",
       " 'sunshine',\n",
       " 'quiz',\n",
       " 'wkly',\n",
       " 'q',\n",
       " 'win',\n",
       " 'top',\n",
       " 'sony',\n",
       " 'dvd',\n",
       " 'player',\n",
       " 'u',\n",
       " 'know',\n",
       " 'country',\n",
       " 'algarve',\n",
       " 'txt',\n",
       " 'ansr',\n",
       " '82277',\n",
       " 'å£150',\n",
       " 'sptyrone',\n",
       " 'want',\n",
       " '2',\n",
       " 'get',\n",
       " 'laid',\n",
       " 'tonight',\n",
       " 'want',\n",
       " 'real',\n",
       " 'dogging',\n",
       " 'locations',\n",
       " 'sent',\n",
       " 'direct',\n",
       " '2',\n",
       " 'ur',\n",
       " 'mob',\n",
       " 'join',\n",
       " 'uks',\n",
       " 'largest',\n",
       " 'dogging',\n",
       " 'network',\n",
       " 'bt',\n",
       " 'txting',\n",
       " 'gravel',\n",
       " '69888',\n",
       " 'nt',\n",
       " 'ec2a',\n",
       " '31pmsg150p',\n",
       " 'youll',\n",
       " 'rcv',\n",
       " 'msgs',\n",
       " 'chat',\n",
       " 'svc',\n",
       " 'free',\n",
       " 'hardcore',\n",
       " 'services',\n",
       " 'text',\n",
       " 'go',\n",
       " '69988',\n",
       " 'u',\n",
       " 'get',\n",
       " 'nothing',\n",
       " 'u',\n",
       " 'must',\n",
       " 'age',\n",
       " 'verify',\n",
       " 'yr',\n",
       " 'network',\n",
       " 'try',\n",
       " 'freemsg',\n",
       " 'havent',\n",
       " 'replied',\n",
       " 'text',\n",
       " 'im',\n",
       " 'randy',\n",
       " 'sexy',\n",
       " 'female',\n",
       " 'live',\n",
       " 'local',\n",
       " 'luv',\n",
       " 'hear',\n",
       " 'u',\n",
       " 'netcollex',\n",
       " 'ltd',\n",
       " '08700621170150p',\n",
       " 'per',\n",
       " 'msg',\n",
       " 'reply',\n",
       " 'stop',\n",
       " 'end',\n",
       " 'customer',\n",
       " 'service',\n",
       " 'annoncement',\n",
       " 'new',\n",
       " 'years',\n",
       " 'delivery',\n",
       " 'waiting',\n",
       " 'please',\n",
       " 'call',\n",
       " '07046744435',\n",
       " 'arrange',\n",
       " 'delivery',\n",
       " 'winner',\n",
       " 'u',\n",
       " 'specially',\n",
       " 'selected',\n",
       " '2',\n",
       " 'receive',\n",
       " 'å£1000',\n",
       " 'cash',\n",
       " '4',\n",
       " 'holiday',\n",
       " 'flights',\n",
       " 'inc',\n",
       " 'speak',\n",
       " 'live',\n",
       " 'operator',\n",
       " '2',\n",
       " 'claim',\n",
       " '0871277810810',\n",
       " 'pls',\n",
       " 'stop',\n",
       " 'bootydelious',\n",
       " '32f',\n",
       " 'inviting',\n",
       " 'friend',\n",
       " 'reply',\n",
       " 'yes434',\n",
       " 'no434',\n",
       " 'see',\n",
       " 'wwwsmsacubootydelious',\n",
       " 'stop',\n",
       " 'send',\n",
       " 'stop',\n",
       " 'frnd',\n",
       " '62468',\n",
       " 'bangbabes',\n",
       " 'ur',\n",
       " 'order',\n",
       " 'way',\n",
       " 'u',\n",
       " 'receive',\n",
       " 'service',\n",
       " 'msg',\n",
       " '2',\n",
       " 'download',\n",
       " 'ur',\n",
       " 'content',\n",
       " 'u',\n",
       " 'goto',\n",
       " 'wap',\n",
       " 'bangb',\n",
       " 'tv',\n",
       " 'ur',\n",
       " 'mobile',\n",
       " 'internetservice',\n",
       " 'menu',\n",
       " 'urgent',\n",
       " 'trying',\n",
       " 'contact',\n",
       " 'last',\n",
       " 'weekends',\n",
       " 'draw',\n",
       " 'shows',\n",
       " 'å£900',\n",
       " 'prize',\n",
       " 'guaranteed',\n",
       " 'call',\n",
       " '09061701939',\n",
       " 'claim',\n",
       " 'code',\n",
       " 's89',\n",
       " 'valid',\n",
       " '12hrs',\n",
       " 'please',\n",
       " 'call',\n",
       " 'customer',\n",
       " 'service',\n",
       " 'representative',\n",
       " 'freephone',\n",
       " '0808',\n",
       " '145',\n",
       " '4742',\n",
       " '9am11pm',\n",
       " 'guaranteed',\n",
       " 'å£1000',\n",
       " 'cash',\n",
       " 'å£5000',\n",
       " 'prize',\n",
       " 'unique',\n",
       " 'enough',\n",
       " 'find',\n",
       " '30th',\n",
       " 'august',\n",
       " 'wwwareyouuniquecouk',\n",
       " '500',\n",
       " 'new',\n",
       " 'mobiles',\n",
       " '2004',\n",
       " 'must',\n",
       " 'go',\n",
       " 'txt',\n",
       " 'nokia',\n",
       " '89545',\n",
       " 'collect',\n",
       " 'todayfrom',\n",
       " 'å£1',\n",
       " 'www4tcbiz',\n",
       " '2optout',\n",
       " '08718726270150gbpmtmsg18',\n",
       " 'u',\n",
       " 'meet',\n",
       " 'ur',\n",
       " 'dream',\n",
       " 'partner',\n",
       " 'soon',\n",
       " 'ur',\n",
       " 'career',\n",
       " '2',\n",
       " 'flyng',\n",
       " 'start',\n",
       " '2',\n",
       " 'find',\n",
       " 'free',\n",
       " 'txt',\n",
       " 'horo',\n",
       " 'followed',\n",
       " 'ur',\n",
       " 'star',\n",
       " 'sign',\n",
       " 'e',\n",
       " 'g',\n",
       " 'horo',\n",
       " 'aries',\n",
       " 'text',\n",
       " 'meet',\n",
       " 'someone',\n",
       " 'sexy',\n",
       " 'today',\n",
       " 'u',\n",
       " 'find',\n",
       " 'date',\n",
       " 'even',\n",
       " 'flirt',\n",
       " 'u',\n",
       " 'join',\n",
       " '4',\n",
       " '10p',\n",
       " 'reply',\n",
       " 'name',\n",
       " 'age',\n",
       " 'eg',\n",
       " 'sam',\n",
       " '25',\n",
       " '18',\n",
       " 'msg',\n",
       " 'recdthirtyeight',\n",
       " 'pence',\n",
       " 'u',\n",
       " '447801259231',\n",
       " 'secret',\n",
       " 'admirer',\n",
       " 'looking',\n",
       " '2',\n",
       " 'make',\n",
       " 'contact',\n",
       " 'ufind',\n",
       " 'rreveal',\n",
       " 'thinks',\n",
       " 'ur',\n",
       " 'specialcall',\n",
       " '09058094597',\n",
       " 'congratulations',\n",
       " 'ur',\n",
       " 'awarded',\n",
       " '500',\n",
       " 'cd',\n",
       " 'vouchers',\n",
       " '125gift',\n",
       " 'guaranteed',\n",
       " 'free',\n",
       " 'entry',\n",
       " '2',\n",
       " '100',\n",
       " 'wkly',\n",
       " 'draw',\n",
       " 'txt',\n",
       " 'music',\n",
       " '87066',\n",
       " 'tncs',\n",
       " 'wwwldewcom1win150ppmx3age16',\n",
       " 'tried',\n",
       " 'contact',\n",
       " 'reply',\n",
       " 'offer',\n",
       " 'video',\n",
       " 'handset',\n",
       " '750',\n",
       " 'anytime',\n",
       " 'networks',\n",
       " 'mins',\n",
       " 'unlimited',\n",
       " 'text',\n",
       " 'camcorder',\n",
       " 'reply',\n",
       " 'call',\n",
       " '08000930705',\n",
       " 'hey',\n",
       " 'really',\n",
       " 'horny',\n",
       " 'want',\n",
       " 'chat',\n",
       " 'see',\n",
       " 'naked',\n",
       " 'text',\n",
       " 'hot',\n",
       " '69698',\n",
       " 'text',\n",
       " 'charged',\n",
       " '150pm',\n",
       " 'unsubscribe',\n",
       " 'text',\n",
       " 'stop',\n",
       " '69698',\n",
       " 'ur',\n",
       " 'ringtone',\n",
       " 'service',\n",
       " 'changed',\n",
       " '25',\n",
       " 'free',\n",
       " 'credits',\n",
       " 'go',\n",
       " 'club4mobilescom',\n",
       " 'choose',\n",
       " 'content',\n",
       " 'stop',\n",
       " 'txt',\n",
       " 'club',\n",
       " 'stop',\n",
       " '87070',\n",
       " '150pwk',\n",
       " 'club4',\n",
       " 'po',\n",
       " 'box1146',\n",
       " 'mk45',\n",
       " '2wt',\n",
       " 'ringtone',\n",
       " 'club',\n",
       " 'get',\n",
       " 'uk',\n",
       " 'singles',\n",
       " 'chart',\n",
       " 'mobile',\n",
       " 'week',\n",
       " 'choose',\n",
       " 'top',\n",
       " 'quality',\n",
       " 'ringtone',\n",
       " 'message',\n",
       " 'free',\n",
       " 'charge',\n",
       " 'hmv',\n",
       " 'bonus',\n",
       " 'special',\n",
       " '500',\n",
       " 'pounds',\n",
       " 'genuine',\n",
       " 'hmv',\n",
       " 'vouchers',\n",
       " 'answer',\n",
       " '4',\n",
       " 'easy',\n",
       " 'questions',\n",
       " 'play',\n",
       " 'send',\n",
       " 'hmv',\n",
       " '86688',\n",
       " 'infowww100percentrealcom',\n",
       " 'tmobile',\n",
       " 'customer',\n",
       " 'may',\n",
       " 'claim',\n",
       " 'free',\n",
       " 'camera',\n",
       " 'phone',\n",
       " 'upgrade',\n",
       " 'pay',\n",
       " 'go',\n",
       " 'sim',\n",
       " 'card',\n",
       " 'loyalty',\n",
       " 'call',\n",
       " '0845',\n",
       " '021',\n",
       " '3680offer',\n",
       " 'ends',\n",
       " '28thfebtcs',\n",
       " 'apply',\n",
       " 'sms',\n",
       " 'ac',\n",
       " 'blind',\n",
       " 'date',\n",
       " '4u',\n",
       " 'rodds1',\n",
       " '21m',\n",
       " 'aberdeen',\n",
       " 'united',\n",
       " 'kingdom',\n",
       " 'check',\n",
       " 'httpimg',\n",
       " 'sms',\n",
       " 'acwicmb3cktz8r74',\n",
       " 'blind',\n",
       " 'dates',\n",
       " 'send',\n",
       " 'hide',\n",
       " 'themob',\n",
       " 'check',\n",
       " 'newest',\n",
       " 'selection',\n",
       " 'content',\n",
       " 'games',\n",
       " 'tones',\n",
       " 'gossip',\n",
       " 'babes',\n",
       " 'sport',\n",
       " 'keep',\n",
       " 'mobile',\n",
       " 'fit',\n",
       " 'funky',\n",
       " 'text',\n",
       " 'wap',\n",
       " '82468',\n",
       " 'think',\n",
       " 'ur',\n",
       " 'smart',\n",
       " 'win',\n",
       " 'å£200',\n",
       " 'week',\n",
       " 'weekly',\n",
       " 'quiz',\n",
       " 'text',\n",
       " 'play',\n",
       " '85222',\n",
       " 'nowtcs',\n",
       " 'winnersclub',\n",
       " 'po',\n",
       " 'box',\n",
       " '84',\n",
       " 'm26',\n",
       " '3uz',\n",
       " '16',\n",
       " 'gbp150week',\n",
       " 'december',\n",
       " 'mobile',\n",
       " '11mths',\n",
       " 'entitled',\n",
       " 'update',\n",
       " 'latest',\n",
       " 'colour',\n",
       " 'camera',\n",
       " 'mobile',\n",
       " 'free',\n",
       " 'call',\n",
       " 'mobile',\n",
       " 'update',\n",
       " 'co',\n",
       " 'free',\n",
       " '08002986906',\n",
       " 'call',\n",
       " 'germany',\n",
       " '1',\n",
       " 'pence',\n",
       " 'per',\n",
       " 'minute',\n",
       " 'call',\n",
       " 'fixed',\n",
       " 'line',\n",
       " 'via',\n",
       " 'access',\n",
       " 'number',\n",
       " '0844',\n",
       " '861',\n",
       " '85',\n",
       " '85',\n",
       " 'prepayment',\n",
       " 'direct',\n",
       " 'access',\n",
       " 'valentines',\n",
       " 'day',\n",
       " 'special',\n",
       " 'win',\n",
       " 'å£1000',\n",
       " 'quiz',\n",
       " 'take',\n",
       " 'partner',\n",
       " 'trip',\n",
       " 'lifetime',\n",
       " 'send',\n",
       " 'go',\n",
       " '83600',\n",
       " '150pmsg',\n",
       " 'rcvd',\n",
       " 'custcare08718720201',\n",
       " 'fancy',\n",
       " 'shag',\n",
       " 'dointerested',\n",
       " 'sextextukcom',\n",
       " 'txt',\n",
       " 'xxuk',\n",
       " 'suzy',\n",
       " '69876',\n",
       " 'txts',\n",
       " 'cost',\n",
       " '150',\n",
       " 'per',\n",
       " 'msg',\n",
       " 'tncs',\n",
       " 'website',\n",
       " 'x',\n",
       " 'congratulations',\n",
       " 'ur',\n",
       " 'awarded',\n",
       " '500',\n",
       " 'cd',\n",
       " 'vouchers',\n",
       " '125gift',\n",
       " 'guaranteed',\n",
       " 'free',\n",
       " 'entry',\n",
       " '2',\n",
       " '100',\n",
       " 'wkly',\n",
       " 'draw',\n",
       " 'txt',\n",
       " 'music',\n",
       " '87066',\n",
       " 'tncs',\n",
       " 'wwwldewcom1win150ppmx3age16',\n",
       " 'ur',\n",
       " 'cashbalance',\n",
       " 'currently',\n",
       " '500',\n",
       " 'pounds',\n",
       " 'maximize',\n",
       " 'ur',\n",
       " 'cashin',\n",
       " 'send',\n",
       " 'cash',\n",
       " '86688',\n",
       " '150pmsg',\n",
       " 'cc',\n",
       " '08708800282',\n",
       " 'hgsuite3422lands',\n",
       " 'roww1j6hl',\n",
       " 'updatenow',\n",
       " 'xmas',\n",
       " 'offer',\n",
       " 'latest',\n",
       " 'motorola',\n",
       " 'sonyericsson',\n",
       " 'nokia',\n",
       " 'free',\n",
       " 'bluetooth',\n",
       " 'double',\n",
       " 'mins',\n",
       " '1000',\n",
       " 'txt',\n",
       " 'orange',\n",
       " 'call',\n",
       " 'mobileupd8',\n",
       " '08000839402',\n",
       " 'call2optoutf4q',\n",
       " 'discount',\n",
       " 'code',\n",
       " 'rp176781',\n",
       " 'stop',\n",
       " 'messages',\n",
       " 'reply',\n",
       " 'stop',\n",
       " 'wwwregalportfoliocouk',\n",
       " 'customer',\n",
       " 'services',\n",
       " '08717205546',\n",
       " 'thanks',\n",
       " 'ringtone',\n",
       " 'order',\n",
       " 'reference',\n",
       " 't91',\n",
       " 'charged',\n",
       " 'gbp',\n",
       " '4',\n",
       " 'per',\n",
       " 'week',\n",
       " 'unsubscribe',\n",
       " 'anytime',\n",
       " 'calling',\n",
       " 'customer',\n",
       " 'services',\n",
       " '09057039994',\n",
       " 'double',\n",
       " 'mins',\n",
       " 'txts',\n",
       " '4',\n",
       " '6months',\n",
       " 'free',\n",
       " 'bluetooth',\n",
       " 'orange',\n",
       " 'available',\n",
       " 'sony',\n",
       " 'nokia',\n",
       " 'motorola',\n",
       " 'phones',\n",
       " 'call',\n",
       " 'mobileupd8',\n",
       " '08000839402',\n",
       " 'call2optoutn9dx',\n",
       " '4mths',\n",
       " 'half',\n",
       " 'price',\n",
       " 'orange',\n",
       " 'line',\n",
       " 'rental',\n",
       " 'latest',\n",
       " 'camera',\n",
       " 'phones',\n",
       " '4',\n",
       " 'free',\n",
       " 'phone',\n",
       " '11mths',\n",
       " ...]"
      ]
     },
     "execution_count": 14,
     "metadata": {},
     "output_type": "execute_result"
    }
   ],
   "source": [
    "spam_corp"
   ]
  },
  {
   "cell_type": "markdown",
   "metadata": {},
   "source": [
    "* 计算词频\n",
    "\n",
    "spam_corp_tk = nltk.Text(spam_corp) #make it text\n",
    "\n",
    "spam_dic = FreqDist(spam_corp_tk) #make it dictionary"
   ]
  },
  {
   "cell_type": "code",
   "execution_count": 15,
   "metadata": {
    "collapsed": true
   },
   "outputs": [],
   "source": [
    "spam_corp_tk = nltk.Text(spam_corp)\n",
    "spam_dic = FreqDist(spam_corp_tk)"
   ]
  },
  {
   "cell_type": "code",
   "execution_count": 16,
   "metadata": {},
   "outputs": [
    {
     "data": {
      "text/plain": [
       "[('call', 347),\n",
       " ('free', 216),\n",
       " ('2', 173),\n",
       " ('txt', 150),\n",
       " ('u', 147),\n",
       " ('ur', 144),\n",
       " ('mobile', 123),\n",
       " ('text', 120),\n",
       " ('4', 119),\n",
       " ('claim', 113),\n",
       " ('stop', 113),\n",
       " ('reply', 101),\n",
       " ('prize', 92),\n",
       " ('get', 83),\n",
       " ('new', 69),\n",
       " ('send', 67),\n",
       " ('nokia', 65),\n",
       " ('urgent', 63),\n",
       " ('cash', 62),\n",
       " ('win', 60),\n",
       " ('contact', 56),\n",
       " ('service', 55),\n",
       " ('please', 52),\n",
       " ('guaranteed', 50),\n",
       " ('customer', 49),\n",
       " ('16', 49),\n",
       " ('week', 49),\n",
       " ('tone', 48),\n",
       " ('per', 46),\n",
       " ('phone', 45)]"
      ]
     },
     "execution_count": 16,
     "metadata": {},
     "output_type": "execute_result"
    }
   ],
   "source": [
    "spam_dic.most_common(30)"
   ]
  },
  {
   "cell_type": "markdown",
   "metadata": {},
   "source": [
    "* 保存在DataFrame中\n",
    "\n",
    "spam_pd = pd.DataFrame(list(spam_dic.items()),columns=['word','freq'])\n",
    "\n",
    "spam_pd.sort_values(by='freq',inplace=True,ascending=False)\n",
    "\n",
    "spam_pd.reset_index(drop=True)\n"
   ]
  },
  {
   "cell_type": "code",
   "execution_count": 21,
   "metadata": {
    "scrolled": true
   },
   "outputs": [
    {
     "data": {
      "text/html": [
       "<div>\n",
       "<style>\n",
       "    .dataframe thead tr:only-child th {\n",
       "        text-align: right;\n",
       "    }\n",
       "\n",
       "    .dataframe thead th {\n",
       "        text-align: left;\n",
       "    }\n",
       "\n",
       "    .dataframe tbody tr th {\n",
       "        vertical-align: top;\n",
       "    }\n",
       "</style>\n",
       "<table border=\"1\" class=\"dataframe\">\n",
       "  <thead>\n",
       "    <tr style=\"text-align: right;\">\n",
       "      <th></th>\n",
       "      <th>word</th>\n",
       "      <th>freq</th>\n",
       "    </tr>\n",
       "  </thead>\n",
       "  <tbody>\n",
       "    <tr>\n",
       "      <th>0</th>\n",
       "      <td>call</td>\n",
       "      <td>347</td>\n",
       "    </tr>\n",
       "    <tr>\n",
       "      <th>1</th>\n",
       "      <td>free</td>\n",
       "      <td>216</td>\n",
       "    </tr>\n",
       "    <tr>\n",
       "      <th>2</th>\n",
       "      <td>2</td>\n",
       "      <td>173</td>\n",
       "    </tr>\n",
       "    <tr>\n",
       "      <th>3</th>\n",
       "      <td>txt</td>\n",
       "      <td>150</td>\n",
       "    </tr>\n",
       "    <tr>\n",
       "      <th>4</th>\n",
       "      <td>u</td>\n",
       "      <td>147</td>\n",
       "    </tr>\n",
       "    <tr>\n",
       "      <th>5</th>\n",
       "      <td>ur</td>\n",
       "      <td>144</td>\n",
       "    </tr>\n",
       "    <tr>\n",
       "      <th>6</th>\n",
       "      <td>mobile</td>\n",
       "      <td>123</td>\n",
       "    </tr>\n",
       "    <tr>\n",
       "      <th>7</th>\n",
       "      <td>text</td>\n",
       "      <td>120</td>\n",
       "    </tr>\n",
       "    <tr>\n",
       "      <th>8</th>\n",
       "      <td>4</td>\n",
       "      <td>119</td>\n",
       "    </tr>\n",
       "    <tr>\n",
       "      <th>9</th>\n",
       "      <td>stop</td>\n",
       "      <td>113</td>\n",
       "    </tr>\n",
       "    <tr>\n",
       "      <th>10</th>\n",
       "      <td>claim</td>\n",
       "      <td>113</td>\n",
       "    </tr>\n",
       "    <tr>\n",
       "      <th>11</th>\n",
       "      <td>reply</td>\n",
       "      <td>101</td>\n",
       "    </tr>\n",
       "    <tr>\n",
       "      <th>12</th>\n",
       "      <td>prize</td>\n",
       "      <td>92</td>\n",
       "    </tr>\n",
       "    <tr>\n",
       "      <th>13</th>\n",
       "      <td>get</td>\n",
       "      <td>83</td>\n",
       "    </tr>\n",
       "    <tr>\n",
       "      <th>14</th>\n",
       "      <td>new</td>\n",
       "      <td>69</td>\n",
       "    </tr>\n",
       "    <tr>\n",
       "      <th>15</th>\n",
       "      <td>send</td>\n",
       "      <td>67</td>\n",
       "    </tr>\n",
       "    <tr>\n",
       "      <th>16</th>\n",
       "      <td>nokia</td>\n",
       "      <td>65</td>\n",
       "    </tr>\n",
       "    <tr>\n",
       "      <th>17</th>\n",
       "      <td>urgent</td>\n",
       "      <td>63</td>\n",
       "    </tr>\n",
       "    <tr>\n",
       "      <th>18</th>\n",
       "      <td>cash</td>\n",
       "      <td>62</td>\n",
       "    </tr>\n",
       "    <tr>\n",
       "      <th>19</th>\n",
       "      <td>win</td>\n",
       "      <td>60</td>\n",
       "    </tr>\n",
       "    <tr>\n",
       "      <th>20</th>\n",
       "      <td>contact</td>\n",
       "      <td>56</td>\n",
       "    </tr>\n",
       "    <tr>\n",
       "      <th>21</th>\n",
       "      <td>service</td>\n",
       "      <td>55</td>\n",
       "    </tr>\n",
       "    <tr>\n",
       "      <th>22</th>\n",
       "      <td>please</td>\n",
       "      <td>52</td>\n",
       "    </tr>\n",
       "    <tr>\n",
       "      <th>23</th>\n",
       "      <td>guaranteed</td>\n",
       "      <td>50</td>\n",
       "    </tr>\n",
       "    <tr>\n",
       "      <th>24</th>\n",
       "      <td>customer</td>\n",
       "      <td>49</td>\n",
       "    </tr>\n",
       "    <tr>\n",
       "      <th>25</th>\n",
       "      <td>16</td>\n",
       "      <td>49</td>\n",
       "    </tr>\n",
       "    <tr>\n",
       "      <th>26</th>\n",
       "      <td>week</td>\n",
       "      <td>49</td>\n",
       "    </tr>\n",
       "    <tr>\n",
       "      <th>27</th>\n",
       "      <td>tone</td>\n",
       "      <td>48</td>\n",
       "    </tr>\n",
       "    <tr>\n",
       "      <th>28</th>\n",
       "      <td>per</td>\n",
       "      <td>46</td>\n",
       "    </tr>\n",
       "    <tr>\n",
       "      <th>29</th>\n",
       "      <td>phone</td>\n",
       "      <td>45</td>\n",
       "    </tr>\n",
       "    <tr>\n",
       "      <th>...</th>\n",
       "      <td>...</td>\n",
       "      <td>...</td>\n",
       "    </tr>\n",
       "    <tr>\n",
       "      <th>2896</th>\n",
       "      <td>arrow</td>\n",
       "      <td>1</td>\n",
       "    </tr>\n",
       "    <tr>\n",
       "      <th>2897</th>\n",
       "      <td>slide</td>\n",
       "      <td>1</td>\n",
       "    </tr>\n",
       "    <tr>\n",
       "      <th>2898</th>\n",
       "      <td>yeah</td>\n",
       "      <td>1</td>\n",
       "    </tr>\n",
       "    <tr>\n",
       "      <th>2899</th>\n",
       "      <td>slow</td>\n",
       "      <td>1</td>\n",
       "    </tr>\n",
       "    <tr>\n",
       "      <th>2900</th>\n",
       "      <td>jamz</td>\n",
       "      <td>1</td>\n",
       "    </tr>\n",
       "    <tr>\n",
       "      <th>2901</th>\n",
       "      <td>toxic</td>\n",
       "      <td>1</td>\n",
       "    </tr>\n",
       "    <tr>\n",
       "      <th>2902</th>\n",
       "      <td>poly3</td>\n",
       "      <td>1</td>\n",
       "    </tr>\n",
       "    <tr>\n",
       "      <th>2903</th>\n",
       "      <td>08712402902</td>\n",
       "      <td>1</td>\n",
       "    </tr>\n",
       "    <tr>\n",
       "      <th>2904</th>\n",
       "      <td>boltblue</td>\n",
       "      <td>1</td>\n",
       "    </tr>\n",
       "    <tr>\n",
       "      <th>2905</th>\n",
       "      <td>69888nyt</td>\n",
       "      <td>1</td>\n",
       "    </tr>\n",
       "    <tr>\n",
       "      <th>2906</th>\n",
       "      <td>thing</td>\n",
       "      <td>1</td>\n",
       "    </tr>\n",
       "    <tr>\n",
       "      <th>2907</th>\n",
       "      <td>nasty</td>\n",
       "      <td>1</td>\n",
       "    </tr>\n",
       "    <tr>\n",
       "      <th>2908</th>\n",
       "      <td>upgrdcentre</td>\n",
       "      <td>1</td>\n",
       "    </tr>\n",
       "    <tr>\n",
       "      <th>2909</th>\n",
       "      <td>w14rg</td>\n",
       "      <td>1</td>\n",
       "    </tr>\n",
       "    <tr>\n",
       "      <th>2910</th>\n",
       "      <td>pobox1</td>\n",
       "      <td>1</td>\n",
       "    </tr>\n",
       "    <tr>\n",
       "      <th>2911</th>\n",
       "      <td>09058098002</td>\n",
       "      <td>1</td>\n",
       "    </tr>\n",
       "    <tr>\n",
       "      <th>2912</th>\n",
       "      <td>becausethey</td>\n",
       "      <td>1</td>\n",
       "    </tr>\n",
       "    <tr>\n",
       "      <th>2913</th>\n",
       "      <td>draws</td>\n",
       "      <td>1</td>\n",
       "    </tr>\n",
       "    <tr>\n",
       "      <th>2914</th>\n",
       "      <td>0871212025016</td>\n",
       "      <td>1</td>\n",
       "    </tr>\n",
       "    <tr>\n",
       "      <th>2915</th>\n",
       "      <td>stream</td>\n",
       "      <td>1</td>\n",
       "    </tr>\n",
       "    <tr>\n",
       "      <th>2916</th>\n",
       "      <td>polyc</td>\n",
       "      <td>1</td>\n",
       "    </tr>\n",
       "    <tr>\n",
       "      <th>2917</th>\n",
       "      <td>monos</td>\n",
       "      <td>1</td>\n",
       "    </tr>\n",
       "    <tr>\n",
       "      <th>2918</th>\n",
       "      <td>monoc</td>\n",
       "      <td>1</td>\n",
       "    </tr>\n",
       "    <tr>\n",
       "      <th>2919</th>\n",
       "      <td>resub</td>\n",
       "      <td>1</td>\n",
       "    </tr>\n",
       "    <tr>\n",
       "      <th>2920</th>\n",
       "      <td>expired</td>\n",
       "      <td>1</td>\n",
       "    </tr>\n",
       "    <tr>\n",
       "      <th>2921</th>\n",
       "      <td>9153</td>\n",
       "      <td>1</td>\n",
       "    </tr>\n",
       "    <tr>\n",
       "      <th>2922</th>\n",
       "      <td>26th</td>\n",
       "      <td>1</td>\n",
       "    </tr>\n",
       "    <tr>\n",
       "      <th>2923</th>\n",
       "      <td>okmail</td>\n",
       "      <td>1</td>\n",
       "    </tr>\n",
       "    <tr>\n",
       "      <th>2924</th>\n",
       "      <td>moan</td>\n",
       "      <td>1</td>\n",
       "    </tr>\n",
       "    <tr>\n",
       "      <th>2925</th>\n",
       "      <td>now1</td>\n",
       "      <td>1</td>\n",
       "    </tr>\n",
       "  </tbody>\n",
       "</table>\n",
       "<p>2926 rows × 2 columns</p>\n",
       "</div>"
      ],
      "text/plain": [
       "               word  freq\n",
       "0              call   347\n",
       "1              free   216\n",
       "2                 2   173\n",
       "3               txt   150\n",
       "4                 u   147\n",
       "5                ur   144\n",
       "6            mobile   123\n",
       "7              text   120\n",
       "8                 4   119\n",
       "9              stop   113\n",
       "10            claim   113\n",
       "11            reply   101\n",
       "12            prize    92\n",
       "13              get    83\n",
       "14              new    69\n",
       "15             send    67\n",
       "16            nokia    65\n",
       "17           urgent    63\n",
       "18             cash    62\n",
       "19              win    60\n",
       "20          contact    56\n",
       "21          service    55\n",
       "22           please    52\n",
       "23       guaranteed    50\n",
       "24         customer    49\n",
       "25               16    49\n",
       "26             week    49\n",
       "27             tone    48\n",
       "28              per    46\n",
       "29            phone    45\n",
       "...             ...   ...\n",
       "2896          arrow     1\n",
       "2897          slide     1\n",
       "2898           yeah     1\n",
       "2899           slow     1\n",
       "2900           jamz     1\n",
       "2901          toxic     1\n",
       "2902          poly3     1\n",
       "2903    08712402902     1\n",
       "2904       boltblue     1\n",
       "2905       69888nyt     1\n",
       "2906          thing     1\n",
       "2907          nasty     1\n",
       "2908    upgrdcentre     1\n",
       "2909          w14rg     1\n",
       "2910         pobox1     1\n",
       "2911    09058098002     1\n",
       "2912    becausethey     1\n",
       "2913          draws     1\n",
       "2914  0871212025016     1\n",
       "2915         stream     1\n",
       "2916          polyc     1\n",
       "2917          monos     1\n",
       "2918          monoc     1\n",
       "2919          resub     1\n",
       "2920        expired     1\n",
       "2921           9153     1\n",
       "2922           26th     1\n",
       "2923         okmail     1\n",
       "2924           moan     1\n",
       "2925           now1     1\n",
       "\n",
       "[2926 rows x 2 columns]"
      ]
     },
     "execution_count": 21,
     "metadata": {},
     "output_type": "execute_result"
    }
   ],
   "source": [
    "spam_pd = pd.DataFrame(list(spam_dic.items()),columns=['word','freq'])\n",
    "spam_pd.sort_values(by='freq',inplace=True,ascending=False)\n",
    "spam_pd.reset_index(drop=True) #index reset, 0,1,2,..."
   ]
  },
  {
   "cell_type": "markdown",
   "metadata": {},
   "source": [
    "* 给正常短信建立语料库并计算词频\n"
   ]
  },
  {
   "cell_type": "code",
   "execution_count": 22,
   "metadata": {
    "collapsed": true
   },
   "outputs": [],
   "source": [
    "ham_corp = []\n",
    "for line in ham_text:\n",
    "    line_clean = data_clean(str(line))\n",
    "    word_tk = nltk.word_tokenize(line_clean)\n",
    "    word_tk_wo_stop = remove_stopword(word_tk)    \n",
    "    ham_corp.extend(word_tk_wo_stop)\n",
    "\n",
    "ham_corp_tk = nltk.Text(ham_corp)\n",
    "ham_dic = FreqDist(ham_corp_tk)\n",
    "\n"
   ]
  },
  {
   "cell_type": "code",
   "execution_count": 23,
   "metadata": {
    "scrolled": true
   },
   "outputs": [
    {
     "data": {
      "text/html": [
       "<div>\n",
       "<style>\n",
       "    .dataframe thead tr:only-child th {\n",
       "        text-align: right;\n",
       "    }\n",
       "\n",
       "    .dataframe thead th {\n",
       "        text-align: left;\n",
       "    }\n",
       "\n",
       "    .dataframe tbody tr th {\n",
       "        vertical-align: top;\n",
       "    }\n",
       "</style>\n",
       "<table border=\"1\" class=\"dataframe\">\n",
       "  <thead>\n",
       "    <tr style=\"text-align: right;\">\n",
       "      <th></th>\n",
       "      <th>word</th>\n",
       "      <th>freq</th>\n",
       "    </tr>\n",
       "  </thead>\n",
       "  <tbody>\n",
       "    <tr>\n",
       "      <th>0</th>\n",
       "      <td>u</td>\n",
       "      <td>972</td>\n",
       "    </tr>\n",
       "    <tr>\n",
       "      <th>1</th>\n",
       "      <td>im</td>\n",
       "      <td>449</td>\n",
       "    </tr>\n",
       "    <tr>\n",
       "      <th>2</th>\n",
       "      <td>2</td>\n",
       "      <td>305</td>\n",
       "    </tr>\n",
       "    <tr>\n",
       "      <th>3</th>\n",
       "      <td>get</td>\n",
       "      <td>303</td>\n",
       "    </tr>\n",
       "    <tr>\n",
       "      <th>4</th>\n",
       "      <td>ltgt</td>\n",
       "      <td>276</td>\n",
       "    </tr>\n",
       "    <tr>\n",
       "      <th>5</th>\n",
       "      <td>ok</td>\n",
       "      <td>272</td>\n",
       "    </tr>\n",
       "    <tr>\n",
       "      <th>6</th>\n",
       "      <td>dont</td>\n",
       "      <td>257</td>\n",
       "    </tr>\n",
       "    <tr>\n",
       "      <th>7</th>\n",
       "      <td>go</td>\n",
       "      <td>247</td>\n",
       "    </tr>\n",
       "    <tr>\n",
       "      <th>8</th>\n",
       "      <td>got</td>\n",
       "      <td>243</td>\n",
       "    </tr>\n",
       "    <tr>\n",
       "      <th>9</th>\n",
       "      <td>ur</td>\n",
       "      <td>240</td>\n",
       "    </tr>\n",
       "    <tr>\n",
       "      <th>10</th>\n",
       "      <td>ill</td>\n",
       "      <td>236</td>\n",
       "    </tr>\n",
       "    <tr>\n",
       "      <th>11</th>\n",
       "      <td>know</td>\n",
       "      <td>232</td>\n",
       "    </tr>\n",
       "    <tr>\n",
       "      <th>12</th>\n",
       "      <td>call</td>\n",
       "      <td>229</td>\n",
       "    </tr>\n",
       "    <tr>\n",
       "      <th>13</th>\n",
       "      <td>like</td>\n",
       "      <td>229</td>\n",
       "    </tr>\n",
       "    <tr>\n",
       "      <th>14</th>\n",
       "      <td>come</td>\n",
       "      <td>224</td>\n",
       "    </tr>\n",
       "    <tr>\n",
       "      <th>15</th>\n",
       "      <td>good</td>\n",
       "      <td>222</td>\n",
       "    </tr>\n",
       "    <tr>\n",
       "      <th>16</th>\n",
       "      <td>time</td>\n",
       "      <td>189</td>\n",
       "    </tr>\n",
       "    <tr>\n",
       "      <th>17</th>\n",
       "      <td>day</td>\n",
       "      <td>187</td>\n",
       "    </tr>\n",
       "    <tr>\n",
       "      <th>18</th>\n",
       "      <td>love</td>\n",
       "      <td>185</td>\n",
       "    </tr>\n",
       "    <tr>\n",
       "      <th>19</th>\n",
       "      <td>4</td>\n",
       "      <td>168</td>\n",
       "    </tr>\n",
       "    <tr>\n",
       "      <th>20</th>\n",
       "      <td>going</td>\n",
       "      <td>167</td>\n",
       "    </tr>\n",
       "    <tr>\n",
       "      <th>21</th>\n",
       "      <td>want</td>\n",
       "      <td>163</td>\n",
       "    </tr>\n",
       "    <tr>\n",
       "      <th>22</th>\n",
       "      <td>one</td>\n",
       "      <td>162</td>\n",
       "    </tr>\n",
       "    <tr>\n",
       "      <th>23</th>\n",
       "      <td>home</td>\n",
       "      <td>160</td>\n",
       "    </tr>\n",
       "    <tr>\n",
       "      <th>24</th>\n",
       "      <td>lor</td>\n",
       "      <td>160</td>\n",
       "    </tr>\n",
       "    <tr>\n",
       "      <th>25</th>\n",
       "      <td>need</td>\n",
       "      <td>156</td>\n",
       "    </tr>\n",
       "    <tr>\n",
       "      <th>26</th>\n",
       "      <td>sorry</td>\n",
       "      <td>153</td>\n",
       "    </tr>\n",
       "    <tr>\n",
       "      <th>27</th>\n",
       "      <td>still</td>\n",
       "      <td>146</td>\n",
       "    </tr>\n",
       "    <tr>\n",
       "      <th>28</th>\n",
       "      <td>see</td>\n",
       "      <td>137</td>\n",
       "    </tr>\n",
       "    <tr>\n",
       "      <th>29</th>\n",
       "      <td>later</td>\n",
       "      <td>134</td>\n",
       "    </tr>\n",
       "    <tr>\n",
       "      <th>...</th>\n",
       "      <td>...</td>\n",
       "      <td>...</td>\n",
       "    </tr>\n",
       "    <tr>\n",
       "      <th>7397</th>\n",
       "      <td>mary</td>\n",
       "      <td>1</td>\n",
       "    </tr>\n",
       "    <tr>\n",
       "      <th>7398</th>\n",
       "      <td>minstand</td>\n",
       "      <td>1</td>\n",
       "    </tr>\n",
       "    <tr>\n",
       "      <th>7399</th>\n",
       "      <td>egbon</td>\n",
       "      <td>1</td>\n",
       "    </tr>\n",
       "    <tr>\n",
       "      <th>7400</th>\n",
       "      <td>adewale</td>\n",
       "      <td>1</td>\n",
       "    </tr>\n",
       "    <tr>\n",
       "      <th>7401</th>\n",
       "      <td>reflex</td>\n",
       "      <td>1</td>\n",
       "    </tr>\n",
       "    <tr>\n",
       "      <th>7402</th>\n",
       "      <td>dane</td>\n",
       "      <td>1</td>\n",
       "    </tr>\n",
       "    <tr>\n",
       "      <th>7403</th>\n",
       "      <td>hittng</td>\n",
       "      <td>1</td>\n",
       "    </tr>\n",
       "    <tr>\n",
       "      <th>7404</th>\n",
       "      <td>ecstasy</td>\n",
       "      <td>1</td>\n",
       "    </tr>\n",
       "    <tr>\n",
       "      <th>7405</th>\n",
       "      <td>priority</td>\n",
       "      <td>1</td>\n",
       "    </tr>\n",
       "    <tr>\n",
       "      <th>7406</th>\n",
       "      <td>anyplaces</td>\n",
       "      <td>1</td>\n",
       "    </tr>\n",
       "    <tr>\n",
       "      <th>7407</th>\n",
       "      <td>scratching</td>\n",
       "      <td>1</td>\n",
       "    </tr>\n",
       "    <tr>\n",
       "      <th>7408</th>\n",
       "      <td>nigro</td>\n",
       "      <td>1</td>\n",
       "    </tr>\n",
       "    <tr>\n",
       "      <th>7409</th>\n",
       "      <td>monkey</td>\n",
       "      <td>1</td>\n",
       "    </tr>\n",
       "    <tr>\n",
       "      <th>7410</th>\n",
       "      <td>asshole</td>\n",
       "      <td>1</td>\n",
       "    </tr>\n",
       "    <tr>\n",
       "      <th>7411</th>\n",
       "      <td>grab</td>\n",
       "      <td>1</td>\n",
       "    </tr>\n",
       "    <tr>\n",
       "      <th>7412</th>\n",
       "      <td>sliding</td>\n",
       "      <td>1</td>\n",
       "    </tr>\n",
       "    <tr>\n",
       "      <th>7413</th>\n",
       "      <td>payback</td>\n",
       "      <td>1</td>\n",
       "    </tr>\n",
       "    <tr>\n",
       "      <th>7414</th>\n",
       "      <td>tescos</td>\n",
       "      <td>1</td>\n",
       "    </tr>\n",
       "    <tr>\n",
       "      <th>7415</th>\n",
       "      <td>feathery</td>\n",
       "      <td>1</td>\n",
       "    </tr>\n",
       "    <tr>\n",
       "      <th>7416</th>\n",
       "      <td>bowa</td>\n",
       "      <td>1</td>\n",
       "    </tr>\n",
       "    <tr>\n",
       "      <th>7417</th>\n",
       "      <td>infra</td>\n",
       "      <td>1</td>\n",
       "    </tr>\n",
       "    <tr>\n",
       "      <th>7418</th>\n",
       "      <td>gep</td>\n",
       "      <td>1</td>\n",
       "    </tr>\n",
       "    <tr>\n",
       "      <th>7419</th>\n",
       "      <td>shhhhh</td>\n",
       "      <td>1</td>\n",
       "    </tr>\n",
       "    <tr>\n",
       "      <th>7420</th>\n",
       "      <td>related</td>\n",
       "      <td>1</td>\n",
       "    </tr>\n",
       "    <tr>\n",
       "      <th>7421</th>\n",
       "      <td>arul</td>\n",
       "      <td>1</td>\n",
       "    </tr>\n",
       "    <tr>\n",
       "      <th>7422</th>\n",
       "      <td>amk</td>\n",
       "      <td>1</td>\n",
       "    </tr>\n",
       "    <tr>\n",
       "      <th>7423</th>\n",
       "      <td>length</td>\n",
       "      <td>1</td>\n",
       "    </tr>\n",
       "    <tr>\n",
       "      <th>7424</th>\n",
       "      <td>santha</td>\n",
       "      <td>1</td>\n",
       "    </tr>\n",
       "    <tr>\n",
       "      <th>7425</th>\n",
       "      <td>corrct</td>\n",
       "      <td>1</td>\n",
       "    </tr>\n",
       "    <tr>\n",
       "      <th>7426</th>\n",
       "      <td>bitching</td>\n",
       "      <td>1</td>\n",
       "    </tr>\n",
       "  </tbody>\n",
       "</table>\n",
       "<p>7427 rows × 2 columns</p>\n",
       "</div>"
      ],
      "text/plain": [
       "            word  freq\n",
       "0              u   972\n",
       "1             im   449\n",
       "2              2   305\n",
       "3            get   303\n",
       "4           ltgt   276\n",
       "5             ok   272\n",
       "6           dont   257\n",
       "7             go   247\n",
       "8            got   243\n",
       "9             ur   240\n",
       "10           ill   236\n",
       "11          know   232\n",
       "12          call   229\n",
       "13          like   229\n",
       "14          come   224\n",
       "15          good   222\n",
       "16          time   189\n",
       "17           day   187\n",
       "18          love   185\n",
       "19             4   168\n",
       "20         going   167\n",
       "21          want   163\n",
       "22           one   162\n",
       "23          home   160\n",
       "24           lor   160\n",
       "25          need   156\n",
       "26         sorry   153\n",
       "27         still   146\n",
       "28           see   137\n",
       "29         later   134\n",
       "...          ...   ...\n",
       "7397        mary     1\n",
       "7398    minstand     1\n",
       "7399       egbon     1\n",
       "7400     adewale     1\n",
       "7401      reflex     1\n",
       "7402        dane     1\n",
       "7403      hittng     1\n",
       "7404     ecstasy     1\n",
       "7405    priority     1\n",
       "7406   anyplaces     1\n",
       "7407  scratching     1\n",
       "7408       nigro     1\n",
       "7409      monkey     1\n",
       "7410     asshole     1\n",
       "7411        grab     1\n",
       "7412     sliding     1\n",
       "7413     payback     1\n",
       "7414      tescos     1\n",
       "7415    feathery     1\n",
       "7416        bowa     1\n",
       "7417       infra     1\n",
       "7418         gep     1\n",
       "7419      shhhhh     1\n",
       "7420     related     1\n",
       "7421        arul     1\n",
       "7422         amk     1\n",
       "7423      length     1\n",
       "7424      santha     1\n",
       "7425      corrct     1\n",
       "7426    bitching     1\n",
       "\n",
       "[7427 rows x 2 columns]"
      ]
     },
     "execution_count": 23,
     "metadata": {},
     "output_type": "execute_result"
    }
   ],
   "source": [
    "ham_pd = pd.DataFrame(list(ham_dic.items()),columns=['word','freq'])\n",
    "ham_pd.sort_values(by='freq',inplace=True,ascending=False)\n",
    "ham_pd.reset_index(drop=True)"
   ]
  },
  {
   "cell_type": "code",
   "execution_count": 24,
   "metadata": {
    "scrolled": true
   },
   "outputs": [
    {
     "data": {
      "text/plain": [
       "[('u', 972),\n",
       " ('im', 449),\n",
       " ('2', 305),\n",
       " ('get', 303),\n",
       " ('ltgt', 276),\n",
       " ('ok', 272),\n",
       " ('dont', 257),\n",
       " ('go', 247),\n",
       " ('got', 243),\n",
       " ('ur', 240),\n",
       " ('ill', 236),\n",
       " ('know', 232),\n",
       " ('like', 229),\n",
       " ('call', 229),\n",
       " ('come', 224),\n",
       " ('good', 222),\n",
       " ('time', 189),\n",
       " ('day', 187),\n",
       " ('love', 185),\n",
       " ('4', 168),\n",
       " ('going', 167),\n",
       " ('want', 163),\n",
       " ('one', 162),\n",
       " ('home', 160),\n",
       " ('lor', 160),\n",
       " ('need', 156),\n",
       " ('sorry', 153),\n",
       " ('still', 146),\n",
       " ('see', 137),\n",
       " ('n', 134)]"
      ]
     },
     "execution_count": 24,
     "metadata": {},
     "output_type": "execute_result"
    }
   ],
   "source": [
    "ham_dic.most_common(30)"
   ]
  },
  {
   "cell_type": "code",
   "execution_count": null,
   "metadata": {
    "collapsed": true
   },
   "outputs": [],
   "source": []
  },
  {
   "cell_type": "markdown",
   "metadata": {},
   "source": [
    "#### 5.3 根据贝叶斯公式计算 P(垃圾短信/具体关键词）"
   ]
  },
  {
   "cell_type": "markdown",
   "metadata": {},
   "source": [
    "\\begin{equation*}\n",
    "P(垃圾短信/具体关键词) = \\frac{P(具体关键词/垃圾短信)\\times P(垃圾短信)}{P(具体关键词)}\\\\\n",
    "=\\frac{P(具体关键词/垃圾短信)\\times P(垃圾短信)}{P(具体关键词/垃圾短信)\\times P(垃圾短信)+P(具体关键词/正常短信)\\times P(正常短信)}\n",
    "\\end{equation*}"
   ]
  },
  {
   "cell_type": "markdown",
   "metadata": {},
   "source": [
    "* P(具体关键词/垃圾短信) = $\\frac {垃圾短信中出现具体关键词的词频}{垃圾短信中所有词的词频}$ = $\\frac {spam\\_dic['具体关键词']}{spam\\_tk\\_freq\\_sum} $\n",
    "* P(具体关键词/正常短信) = $\\frac {正常短信中出现具体关键词的词频}{正常短信中所有词的词频}$ = $\\frac {ham\\_dic['具体关键词']}{ham\\_tk\\_freq\\_sum} $\n"
   ]
  },
  {
   "cell_type": "markdown",
   "metadata": {},
   "source": [
    "* 如何计算 spam_tk_freq_sum?\n",
    "\n",
    "spam_tk_freq_sum = spam_pd['freq'].sum()\n",
    "\n",
    "ham_tk_freq_sum = ham_pd['freq'].sum()"
   ]
  },
  {
   "cell_type": "code",
   "execution_count": 25,
   "metadata": {
    "collapsed": true
   },
   "outputs": [],
   "source": [
    "spam_tk_freq_sum = spam_pd['freq'].sum()\n",
    "ham_tk_freq_sum = ham_pd['freq'].sum()"
   ]
  },
  {
   "cell_type": "markdown",
   "metadata": {},
   "source": [
    "* P(垃圾短信的概率) = $\\frac {垃圾短信的数量}{垃圾短信的数量+正常短信的数量}$\n",
    "* P(正常短信的概率) = $\\frac {正常短信的数量}{垃圾短信的数量+正常短信的数量}$\n"
   ]
  },
  {
   "cell_type": "markdown",
   "metadata": {},
   "source": [
    "P_Spam = len(spam_text)/(len(spam_text)+len(ham_text))\n",
    "\n",
    "P_Ham = len(ham_text)/(len(spam_text)+len(ham_text))"
   ]
  },
  {
   "cell_type": "code",
   "execution_count": 27,
   "metadata": {
    "collapsed": true
   },
   "outputs": [],
   "source": [
    "P_Spam = len(spam_text)/(len(spam_text)+len(ham_text))\n",
    "P_Ham = len(ham_text)/(len(spam_text)+len(ham_text))"
   ]
  },
  {
   "cell_type": "code",
   "execution_count": 30,
   "metadata": {},
   "outputs": [
    {
     "data": {
      "text/plain": [
       "0.13406317300789664"
      ]
     },
     "execution_count": 30,
     "metadata": {},
     "output_type": "execute_result"
    }
   ],
   "source": [
    "P_Spam #spam email"
   ]
  },
  {
   "cell_type": "code",
   "execution_count": 31,
   "metadata": {},
   "outputs": [
    {
     "data": {
      "text/plain": [
       "0.8659368269921034"
      ]
     },
     "execution_count": 31,
     "metadata": {},
     "output_type": "execute_result"
    }
   ],
   "source": [
    "P_Ham #normal email"
   ]
  },
  {
   "cell_type": "code",
   "execution_count": 32,
   "metadata": {
    "collapsed": true
   },
   "outputs": [],
   "source": [
    "def bayesian_spam_keyword(keyword): #sub numbers to Bayes formula\n",
    "    P_spam_keyword = spam_dic[keyword]/spam_tk_freq_sum * P_Spam/(spam_dic[keyword]/spam_tk_freq_sum * P_Spam + ham_dic[keyword]/ham_tk_freq_sum * P_Ham)\n",
    "    return P_spam_keyword"
   ]
  },
  {
   "cell_type": "code",
   "execution_count": 38,
   "metadata": {},
   "outputs": [
    {
     "data": {
      "text/plain": [
       "0.8019382644032893"
      ]
     },
     "execution_count": 38,
     "metadata": {},
     "output_type": "execute_result"
    }
   ],
   "source": [
    "bayesian_spam_keyword('mobile') #P(垃圾短信/具体关键词=\"mobile\")=包含\"mobile\"的email是属于spam的概率"
   ]
  },
  {
   "cell_type": "code",
   "execution_count": null,
   "metadata": {
    "collapsed": true
   },
   "outputs": [],
   "source": []
  },
  {
   "cell_type": "markdown",
   "metadata": {
    "collapsed": true
   },
   "source": [
    "## 有了关键词的贝叶斯分类，如何建模？想想Amazon一课中的解决方案"
   ]
  },
  {
   "cell_type": "markdown",
   "metadata": {
    "collapsed": true
   },
   "source": [
    "- NOTE: here we used Bayes to calculate frequency of words. It is just like TFIDF in Amazon case study in previous chapter"
   ]
  },
  {
   "cell_type": "code",
   "execution_count": null,
   "metadata": {
    "collapsed": true
   },
   "outputs": [],
   "source": []
  },
  {
   "cell_type": "code",
   "execution_count": null,
   "metadata": {
    "collapsed": true
   },
   "outputs": [],
   "source": []
  },
  {
   "cell_type": "markdown",
   "metadata": {},
   "source": [
    "## 附：概率三门问题"
   ]
  },
  {
   "cell_type": "markdown",
   "metadata": {
    "collapsed": true
   },
   "source": [
    "* 三门问题（Monty Hall problem）：\n",
    "\n",
    "电视游戏节目中，参赛者会看见三扇关闭了的门，其中一扇的后面有一辆汽车，选中后面有车的那扇门可赢得该汽车，另外两扇门后面则各藏有一只山羊。当参赛者选定了一扇门，但未去开启它的时候，节目主持人开启剩下两扇门的其中一扇，露出其中一只山羊。主持人其后会问参赛者要不要换另一扇仍然关上的门。\n",
    "\n",
    "问题是：换另一扇门会否增加参赛者赢得汽车的机会率？"
   ]
  },
  {
   "cell_type": "markdown",
   "metadata": {},
   "source": [
    "信息的关键：主持人开启门这个事件是不是随机事件，对原有的门有没有影响？对留下哪一扇门有没有影响？\n",
    "\n",
    "-- NO. 无论选手选择了哪扇门,主持人都会打开一扇是🐏羊的门. (如下: P(A|B)=P(B)=1)"
   ]
  },
  {
   "cell_type": "markdown",
   "metadata": {
    "collapsed": true
   },
   "source": [
    "<img src=\"2.jpg\">"
   ]
  },
  {
   "cell_type": "code",
   "execution_count": null,
   "metadata": {
    "collapsed": true
   },
   "outputs": [],
   "source": []
  },
  {
   "cell_type": "markdown",
   "metadata": {},
   "source": [
    "* 作业：求主修英语的学生中，高中生的比例\n",
    "    * 已知：P(A=主修英语) = 1/4\n",
    "    * 已知：P(B=高中生) = 2/5\n",
    "    * 已知：P(A=主修数学/B=高中生) = 0.2\n",
    "    * 已知：P(A=主修语文/B=高中生) = 0.38\n",
    "    * 已知：P(A=主修英语/B=高中生) = 0.42\n",
    "    * 已知：P(A=主修数学/B=初中生) = 0.3\n",
    "    * 已知：P(A=主修语文/B=初中生) = 0.25\n",
    "    * 已知：P(A=主修英语/B=初中生) = 0.45"
   ]
  },
  {
   "cell_type": "markdown",
   "metadata": {},
   "source": [
    "* <span style = 'color:blue'>条件概率 = $\\frac{联合概率}{边缘概率}$</span>\n",
    "* <span style = 'color:blue'>联合概率 = 条件概率*边缘概率</span>"
   ]
  },
  {
   "cell_type": "markdown",
   "metadata": {},
   "source": [
    "| | P(A=主修数学)|P(A=主修语文) |P(A=主修英语)|边缘概率|条件概率|\n",
    "|---|---|---|---|---|\n",
    "|P(B=高中生)||||P(B=高中生)|P(A=主修数学/B=高中生)<br>P(A=主修语文/B=高中生)<br>P(A=主修英语/B=高中生)|\n",
    "|P(B=初中生)||||P(B=初中生)|P(A=主修数学/B=初中生)<br>P(A=主修语文/B=初中生)<br>P(A=主修英语/B=初中生)|\n",
    "|边缘概率 | | |P(A=主修英语) |||\n",
    "|条件概率|||<span style='color:blue'>P(B=高中生/A=主修英语)</span>|||"
   ]
  },
  {
   "cell_type": "code",
   "execution_count": null,
   "metadata": {
    "collapsed": true
   },
   "outputs": [],
   "source": []
  }
 ],
 "metadata": {
  "kernelspec": {
   "display_name": "Python 3",
   "language": "python",
   "name": "python3"
  },
  "language_info": {
   "codemirror_mode": {
    "name": "ipython",
    "version": 3
   },
   "file_extension": ".py",
   "mimetype": "text/x-python",
   "name": "python",
   "nbconvert_exporter": "python",
   "pygments_lexer": "ipython3",
   "version": "3.7.3"
  }
 },
 "nbformat": 4,
 "nbformat_minor": 2
}
