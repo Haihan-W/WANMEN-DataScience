{
 "cells": [
  {
   "cell_type": "markdown",
   "metadata": {
    "run_control": {
     "frozen": false,
     "read_only": false
    }
   },
   "source": [
    "### 正则表达式\n",
    "\n",
    "正则表达式就是用于描述字符串规则的工具。换句话说，正则表达式就是记录文本规则的代码。\n",
    "\n",
    "#### 能用来做什么：\n",
    "\n",
    "- 在大段文字中搜索特定规则字符串，例如：你想找到email地址在哪里\n",
    "- 替代特定规则的字符串们，例如：你向把特定规则的小写文字替代成大写\n",
    "- 校验输入的正确性，例如：你在设置密码的时候，你要求密码的长度或大小写<br/>\n",
    "等等<br/>\n",
    "\n",
    "https://deerchao.net/tutorials/regex/regex.htm  (正则表达式30分钟入门教程)\n",
    "\n",
    "https://docs.python.org/3.6/library/re.html  (re documentation in python library)\n",
    "\n",
    "https://regex101.com/ online regular expression tester and debugger (recommended)"
   ]
  },
  {
   "cell_type": "markdown",
   "metadata": {
    "run_control": {
     "frozen": false,
     "read_only": false
    }
   },
   "source": [
    "### 常见代码\n",
    "```\n",
    ".\t匹配除换行符以外的任意字符\n",
    "\\w\t匹配any字母或数字或下划线或汉字 (e.g. \\w can be \"a\", \"b\", \"c\", 1,2,3...); (E.g. \\w\\w can be \"ab\", \"cf\", ...) \n",
    "\\s\t匹配任意的空白符\n",
    "\\d\t匹配数字\n",
    "\\b\t匹配单词的开始或结束\n",
    "^\t匹配字符串的开始\n",
    "$\t匹配字符串的结束\n",
    "\n",
    "*   重复零次或更多次\n",
    "+\t重复一次或更多次\n",
    "?\t重复零次或一次\n",
    "{n}\t重复n次\n",
    "{n,}\t重复n次或更多次\n",
    "{n,m}\t重复n到m次\n",
    "\n",
    "\\W\t匹配任意不是字母，数字，下划线，汉字的字符\n",
    "\\S\t匹配任意不是空白符的字符\n",
    "\\D\t匹配任意非数字的字符\n",
    "\\B\t匹配不是单词开头或结束的位置\n",
    "[^x]\t匹配除了x以外的任意字符\n",
    "[^aeiou]\t匹配除了aeiou这几个字母以外的任意字符\n",
    "```"
   ]
  },
  {
   "cell_type": "markdown",
   "metadata": {
    "run_control": {
     "frozen": false,
     "read_only": false
    }
   },
   "source": [
    "#### 基本语法\n",
    "- re.compile()\n",
    "- re.search/match()"
   ]
  },
  {
   "cell_type": "markdown",
   "metadata": {
    "run_control": {
     "frozen": false,
     "read_only": false
    }
   },
   "source": [
    "```python\n",
    "a = re.compile(pattern)\n",
    "result = a.match(string)\n",
    "```\n",
    "相当于：\n",
    "```python\n",
    "result = re.match(pattern, string)\n",
    "```\n",
    "**Note:** The compiled versions of the most recent patterns passed to re.compile() and the module-level matching functions are cached, so programs that use only a few regular expressions at a time needn’t worry about compiling regular expressions.\n"
   ]
  },
  {
   "cell_type": "code",
   "execution_count": 6,
   "metadata": {
    "collapsed": true,
    "run_control": {
     "frozen": false,
     "read_only": false
    }
   },
   "outputs": [],
   "source": [
    "import sys  \n",
    "import re  "
   ]
  },
  {
   "cell_type": "code",
   "execution_count": 5,
   "metadata": {
    "collapsed": true,
    "run_control": {
     "frozen": false,
     "read_only": false
    }
   },
   "outputs": [],
   "source": [
    "re_desc = \"\"\"\n",
    "This module provides regular expression matching operations similar to those found in Perl. Both patterns and strings to be searched can be Unicode strings as well as 8-bit strings.\n",
    "Regular expressions use the backslash character ('\\') to indicate special forms or to allow special characters to be used without invoking their special meaning. This collides with Python’s usage of the same character for the same purpose in string literals; for example, to match a literal backslash, one might have to write '\\\\\\\\' as the pattern string, because the regular expression must be \\\\, and each backslash must be expressed as \\\\ inside a regular Python string literal.\n",
    "The solution is to use Python’s raw string notation for regular expression patterns; backslashes are not handled in any special way in a string literal prefixed with 'r'. So r\"\\n\" is a two-character string containing '\\' and 'n', while \"\\n\" is a one-character string containing a newline. Usually patterns will be expressed in Python code using this raw string notation.\n",
    "It is important to note that most regular expression operations are available as module-level functions and RegexObject methods. The functions are shortcuts that don’t require you to compile a regex object first, but miss some fine-tuning parameters.\n",
    "\"\"\""
   ]
  },
  {
   "cell_type": "code",
   "execution_count": 7,
   "metadata": {
    "run_control": {
     "frozen": false,
     "read_only": false
    }
   },
   "outputs": [
    {
     "data": {
      "text/plain": [
       "5"
      ]
     },
     "execution_count": 7,
     "metadata": {},
     "output_type": "execute_result"
    }
   ],
   "source": [
    "re_desc.count(\"expression\")"
   ]
  },
  {
   "cell_type": "code",
   "execution_count": 28,
   "metadata": {
    "run_control": {
     "frozen": false,
     "read_only": false
    }
   },
   "outputs": [
    {
     "name": "stdout",
     "output_type": "stream",
     "text": [
      "expression\n",
      "<_sre.SRE_Match object; span=(30, 40), match='expression'>\n"
     ]
    }
   ],
   "source": [
    "pattern = re.compile(r\"expression\")\n",
    "search_result = pattern.search(re_desc) \n",
    "print (search_result.group(0))\n",
    "print(search_result)"
   ]
  },
  {
   "cell_type": "code",
   "execution_count": 15,
   "metadata": {
    "run_control": {
     "frozen": false,
     "read_only": false
    }
   },
   "outputs": [
    {
     "data": {
      "text/plain": [
       "'expression'"
      ]
     },
     "execution_count": 15,
     "metadata": {},
     "output_type": "execute_result"
    }
   ],
   "source": [
    "search_result = re.search(r\"expression\",re_desc) \n",
    "search_result.group(0)"
   ]
  },
  {
   "cell_type": "markdown",
   "metadata": {},
   "source": [
    "``` python\n",
    "** re.match() vs. re.search()**\n",
    "```\n",
    "re.match() checks for a match only at the **beginning** of the string\n",
    "\n",
    "re.search() checks for a match anywhere in the string (this is what Perl does by default).\n",
    "\n",
    "BOTH returns a match_type object if match, returns None (a None_type object) when no match.\n",
    "\n",
    "match_type object has some attributes: .group(), .start(), .end(), etc. (see documentation for details) "
   ]
  },
  {
   "cell_type": "markdown",
   "metadata": {
    "run_control": {
     "frozen": false,
     "read_only": false
    }
   },
   "source": [
    "ref: https://docs.python.org/3.6/library/re.html#search-vs-match"
   ]
  },
  {
   "cell_type": "code",
   "execution_count": 82,
   "metadata": {
    "run_control": {
     "frozen": false,
     "read_only": false
    },
    "scrolled": true
   },
   "outputs": [
    {
     "name": "stdout",
     "output_type": "stream",
     "text": [
      "None\n"
     ]
    }
   ],
   "source": [
    "pattern = re.compile(r\"expression\")\n",
    "match_result = pattern.match(re_desc)  \n",
    "print(match_result)  #return None because no match found (string \"expression\") at the beginning of the re_desc"
   ]
  },
  {
   "cell_type": "code",
   "execution_count": 317,
   "metadata": {
    "run_control": {
     "frozen": false,
     "read_only": false
    }
   },
   "outputs": [
    {
     "data": {
      "text/plain": [
       "<_sre.SRE_Match object; span=(4, 5), match='X'>"
      ]
     },
     "execution_count": 317,
     "metadata": {},
     "output_type": "execute_result"
    }
   ],
   "source": [
    "re.match(\"c\", \"abcdef\")    # No match\n",
    "re.search(\"c\", \"abcdef\")   # Match\n",
    "re.match(\"c\", \"abcdef\")    # No match\n",
    "re.search(\"^c\", \"abcdef\")  # No match\n",
    "re.search(\"^a\", \"abcdef\")  # Match\n",
    "re.match('X', 'A\\nB\\nX', re.MULTILINE)  # No match\n",
    "re.search('^X', 'A\\nB\\nX', re.MULTILINE)  # Match"
   ]
  },
  {
   "cell_type": "markdown",
   "metadata": {},
   "source": [
    "``` python\n",
    "**re.findall()**\n",
    "```\n",
    "output in a list/array"
   ]
  },
  {
   "cell_type": "code",
   "execution_count": 43,
   "metadata": {
    "run_control": {
     "frozen": false,
     "read_only": false
    }
   },
   "outputs": [
    {
     "data": {
      "text/plain": [
       "['expression',\n",
       " 'expressions',\n",
       " 'expression',\n",
       " 'expressed',\n",
       " 'expression',\n",
       " 'expressed',\n",
       " 'expression']"
      ]
     },
     "execution_count": 43,
     "metadata": {},
     "output_type": "execute_result"
    }
   ],
   "source": [
    "#pattern = re.compile()\n",
    "search_result = re.findall(r\"exp\\w*\",re_desc) \n",
    "search_result"
   ]
  },
  {
   "cell_type": "markdown",
   "metadata": {},
   "source": [
    "``` python\n",
    "**re.finditer()**\n",
    "```\n",
    "print line by line"
   ]
  },
  {
   "cell_type": "code",
   "execution_count": 17,
   "metadata": {
    "run_control": {
     "frozen": false,
     "read_only": false
    },
    "scrolled": true
   },
   "outputs": [
    {
     "name": "stdout",
     "output_type": "stream",
     "text": [
      "30-40: expression\n",
      "191-201: expression\n",
      "556-566: expression\n",
      "724-734: expression\n",
      "1070-1080: expression\n"
     ]
    }
   ],
   "source": [
    "for m in re.finditer(r\"expression\", re_desc):\n",
    "    print('%02d-%02d: %s' % (m.start(), m.end(), m.group(0)))"
   ]
  },
  {
   "cell_type": "markdown",
   "metadata": {},
   "source": [
    "#### special characters"
   ]
  },
  {
   "cell_type": "markdown",
   "metadata": {},
   "source": [
    "1.r combined with \\\n",
    "\n",
    "note: in standard python DEFAULT expression, \"\\n\" means feed a new line; Since \\ is a special character in python, \\combined with other letter may result in different meaning;\n",
    "\n",
    "So to avoid it, in Regular Expression, we use prefix r to indicate the following is raw string rather than special character:\n",
    "r\"\\n\" is a two-character string containing '\\' and 'n'; search(r\"\\n\",text) meaning search \"\\n\" in text;"
   ]
  },
  {
   "cell_type": "code",
   "execution_count": 164,
   "metadata": {},
   "outputs": [
    {
     "name": "stdout",
     "output_type": "stream",
     "text": [
      "<_sre.SRE_Match object; span=(2, 3), match='\\r'>\n",
      "\r\n"
     ]
    }
   ],
   "source": [
    "text=\"C:\\rl;kfj\"\n",
    "pattern = re.compile(r\"\\r\")\n",
    "result = pattern.search(text)  \n",
    "print (result)\n",
    "print(result.group(0))"
   ]
  },
  {
   "cell_type": "markdown",
   "metadata": {},
   "source": [
    "2.1 r combined with \"\\\\\\x\", where \"\\x\" is any special meaning characters defined in Regular Expression (E.g. 常见代码 at beginning of the notes)"
   ]
  },
  {
   "cell_type": "markdown",
   "metadata": {},
   "source": [
    "\n",
    "\n",
    "--(e.g. \\W    匹配任意不是字母，数字，下划线，汉字的字符)\n",
    "\n",
    "But what if we just want to search for \"\\W\" this string, not its special character as above?\n",
    "\n",
    " -- we need to use double \\ as below"
   ]
  },
  {
   "cell_type": "code",
   "execution_count": 152,
   "metadata": {
    "run_control": {
     "frozen": false,
     "read_only": false
    }
   },
   "outputs": [
    {
     "name": "stdout",
     "output_type": "stream",
     "text": [
      "C:\\Windows\n"
     ]
    }
   ],
   "source": [
    "text = \"C:\\Windows\\Program\\Joshua\"\n",
    "pattern = re.compile(r\"C:\\\\Windows\")\n",
    "result = pattern.search(text)  \n",
    "print(result.group(0))"
   ]
  },
  {
   "cell_type": "markdown",
   "metadata": {},
   "source": [
    "2.2 r combined with \"\\ (\" or \"\\ )\"\n",
    "\n",
    "In regular expression, ( ) has special meaning, so use a \\ before it to indicate \"(\" or \")\" is raw string."
   ]
  },
  {
   "cell_type": "code",
   "execution_count": 167,
   "metadata": {},
   "outputs": [
    {
     "name": "stdout",
     "output_type": "stream",
     "text": [
      "(Windows\n"
     ]
    }
   ],
   "source": [
    "text = \"(Windows\\Program\\Joshua\"\n",
    "pattern = re.compile(r\"\\(Windows\")\n",
    "result = pattern.search(text)  \n",
    "print(result.group(0))"
   ]
  },
  {
   "cell_type": "markdown",
   "metadata": {},
   "source": [
    "3.* vs. +\n",
    "```\n",
    "*    重复零次或更多次, even if searched stuff not exists in search area(i.e. 零次), it will NOT return Nonetype object, it will return match object with group(0)=''\n",
    "    -- use * with cautious since when you search(), rather than findall(), search() will stop searching once it returns something, including ''. (see example 3 below)\n",
    "+    重复一次或更多次, if searched stuff not exists in search area, it will return Nonetype object, i.e. NONE\n",
    "```"
   ]
  },
  {
   "cell_type": "code",
   "execution_count": 70,
   "metadata": {
    "collapsed": true,
    "run_control": {
     "frozen": false,
     "read_only": false
    }
   },
   "outputs": [],
   "source": [
    "num_str=\"aaaba\""
   ]
  },
  {
   "cell_type": "code",
   "execution_count": 92,
   "metadata": {
    "run_control": {
     "frozen": false,
     "read_only": false
    }
   },
   "outputs": [
    {
     "name": "stdout",
     "output_type": "stream",
     "text": [
      "<class '_sre.SRE_Match'>\n",
      "<_sre.SRE_Match object; span=(0, 0), match=''>\n"
     ]
    },
    {
     "data": {
      "text/plain": [
       "''"
      ]
     },
     "execution_count": 92,
     "metadata": {},
     "output_type": "execute_result"
    }
   ],
   "source": [
    "pattern = re.compile(r\"\\d*\")\n",
    "result = pattern.search(num_str)  \n",
    "print (type(result))\n",
    "print (result)\n",
    "result.group(0)"
   ]
  },
  {
   "cell_type": "code",
   "execution_count": 93,
   "metadata": {},
   "outputs": [
    {
     "name": "stdout",
     "output_type": "stream",
     "text": [
      "<class 'NoneType'>\n",
      "None\n"
     ]
    },
    {
     "ename": "AttributeError",
     "evalue": "'NoneType' object has no attribute 'group'",
     "output_type": "error",
     "traceback": [
      "\u001b[1;31m---------------------------------------------------------------------------\u001b[0m",
      "\u001b[1;31mAttributeError\u001b[0m                            Traceback (most recent call last)",
      "\u001b[1;32m<ipython-input-93-90eaf94558bc>\u001b[0m in \u001b[0;36m<module>\u001b[1;34m()\u001b[0m\n\u001b[0;32m      3\u001b[0m \u001b[0mprint\u001b[0m \u001b[1;33m(\u001b[0m\u001b[0mtype\u001b[0m\u001b[1;33m(\u001b[0m\u001b[0mresult\u001b[0m\u001b[1;33m)\u001b[0m\u001b[1;33m)\u001b[0m\u001b[1;33m\u001b[0m\u001b[0m\n\u001b[0;32m      4\u001b[0m \u001b[0mprint\u001b[0m \u001b[1;33m(\u001b[0m\u001b[0mresult\u001b[0m\u001b[1;33m)\u001b[0m\u001b[1;33m\u001b[0m\u001b[0m\n\u001b[1;32m----> 5\u001b[1;33m \u001b[0mresult\u001b[0m\u001b[1;33m.\u001b[0m\u001b[0mgroup\u001b[0m\u001b[1;33m(\u001b[0m\u001b[1;36m0\u001b[0m\u001b[1;33m)\u001b[0m\u001b[1;33m\u001b[0m\u001b[0m\n\u001b[0m",
      "\u001b[1;31mAttributeError\u001b[0m: 'NoneType' object has no attribute 'group'"
     ]
    }
   ],
   "source": [
    "pattern = re.compile(r\"\\d+\")\n",
    "result = pattern.search(num_str)  \n",
    "print (type(result))\n",
    "print (result)\n",
    "result.group(0)"
   ]
  },
  {
   "cell_type": "markdown",
   "metadata": {},
   "source": [
    "Example 3 - use * with cautious\n",
    "```\n",
    "we can see below, when search() combined with *, the function will go like this: search from 1st character in num_str, \n",
    "i.e. 1 --> found it is not \"a\"(1!=a), return match_type object with match=''--> exit function. \n",
    "\n",
    "In this case, we usually use + instead of *, since + will ensure it will not stop until it finds 1st \"a\"\n",
    "```"
   ]
  },
  {
   "cell_type": "code",
   "execution_count": 102,
   "metadata": {
    "run_control": {
     "frozen": false,
     "read_only": false
    }
   },
   "outputs": [
    {
     "data": {
      "text/plain": [
       "<_sre.SRE_Match object; span=(0, 0), match=''>"
      ]
     },
     "execution_count": 102,
     "metadata": {},
     "output_type": "execute_result"
    }
   ],
   "source": [
    "num_str=\"11ab334fga\"\n",
    "pattern = re.compile(r\"a*\")\n",
    "result = pattern.search(num_str)\n",
    "result"
   ]
  },
  {
   "cell_type": "code",
   "execution_count": 103,
   "metadata": {},
   "outputs": [
    {
     "data": {
      "text/plain": [
       "<_sre.SRE_Match object; span=(2, 3), match='a'>"
      ]
     },
     "execution_count": 103,
     "metadata": {},
     "output_type": "execute_result"
    }
   ],
   "source": [
    "num_str=\"11ab334fga\"\n",
    "pattern = re.compile(r\"a+\")\n",
    "result = pattern.search(num_str)\n",
    "result"
   ]
  },
  {
   "cell_type": "markdown",
   "metadata": {},
   "source": [
    "4.Combination of different special characters of regular expressions"
   ]
  },
  {
   "cell_type": "code",
   "execution_count": 107,
   "metadata": {
    "collapsed": true,
    "run_control": {
     "frozen": false,
     "read_only": false
    }
   },
   "outputs": [],
   "source": [
    "s_str=\"Iraq Benq\"\n",
    "s_str1=\"Iraq,Benq\""
   ]
  },
  {
   "cell_type": "code",
   "execution_count": 113,
   "metadata": {
    "run_control": {
     "frozen": false,
     "read_only": false
    }
   },
   "outputs": [
    {
     "data": {
      "text/plain": [
       "'Iraq Benq'"
      ]
     },
     "execution_count": 113,
     "metadata": {},
     "output_type": "execute_result"
    }
   ],
   "source": [
    "pattern=r\"\\b\\w*q[^u]\\w*\\b\"\n",
    "result = re.search(pattern,s_str)\n",
    "result.group(0)"
   ]
  },
  {
   "cell_type": "code",
   "execution_count": 114,
   "metadata": {
    "run_control": {
     "frozen": false,
     "read_only": false
    }
   },
   "outputs": [
    {
     "data": {
      "text/plain": [
       "'Iraq Benq'"
      ]
     },
     "execution_count": 114,
     "metadata": {},
     "output_type": "execute_result"
    }
   ],
   "source": [
    "pattern=r\"\\b\\w*q \\w*\\b\"\n",
    "result = re.search(pattern,s_str)\n",
    "result.group(0)"
   ]
  },
  {
   "cell_type": "markdown",
   "metadata": {
    "run_control": {
     "frozen": false,
     "read_only": false
    }
   },
   "source": [
    "### 字符匹配"
   ]
  },
  {
   "cell_type": "markdown",
   "metadata": {
    "run_control": {
     "frozen": false,
     "read_only": false
    }
   },
   "source": [
    "这个表达式可以匹配几种格式的电话号码，像(010)88886666，或022-22334455，或02912345678等。\n",
    "\n",
    "<br/>我们对它进行一些分析吧：首先是一个转义字符\\(,它能出现0次或1次(?),然后是一个0，后面跟着2个数字(\\d{2})，然后是)或-或空格中的一个，它出现1次或不出现(?)，最后是8个数字(\\d{8})。"
   ]
  },
  {
   "cell_type": "code",
   "execution_count": 401,
   "metadata": {
    "run_control": {
     "frozen": false,
     "read_only": false
    }
   },
   "outputs": [
    {
     "data": {
      "text/plain": [
       "['255.255.255.0', '127.0.0.1', '1.1.1.1']"
      ]
     },
     "execution_count": 401,
     "metadata": {},
     "output_type": "execute_result"
    }
   ],
   "source": [
    "ip_address=\"not validate 255.255.255.0 and 127.0.0.1 or 1.1.1.1\"\n",
    "pattern = re.compile(r\"\\d{1,3}\\.\\d{1,3}\\.\\d{1,3}\\.\\d{1,3}\")\n",
    "search_result = pattern.findall(ip_address) \n",
    "search_result"
   ]
  },
  {
   "cell_type": "code",
   "execution_count": 402,
   "metadata": {
    "run_control": {
     "frozen": false,
     "read_only": false
    },
    "scrolled": true
   },
   "outputs": [
    {
     "data": {
      "text/plain": [
       "['(010)88886666', '022-22334455', '02912345678', '(022-87654321']"
      ]
     },
     "execution_count": 402,
     "metadata": {},
     "output_type": "execute_result"
    }
   ],
   "source": [
    "phone_number=\"some phone number is (010)88886666,some is 022-22334455, other is 02912345678, \\\n",
    "how about (022-87654321 format?\"\n",
    "pattern = re.compile(r\"\\(?0\\d{2}[)-]?\\d{8}\")\n",
    "search_result = pattern.findall(phone_number) \n",
    "search_result"
   ]
  },
  {
   "cell_type": "markdown",
   "metadata": {
    "run_control": {
     "frozen": false,
     "read_only": false
    }
   },
   "source": [
    "### 分枝条件 A or B: using | to separate two condition A and B\n",
    "匹配分枝条件时，将会从左到右地测试每个条件，如果满足了某个分枝的话，就不会去再管其它的条件了。"
   ]
  },
  {
   "cell_type": "code",
   "execution_count": 130,
   "metadata": {
    "run_control": {
     "frozen": false,
     "read_only": false
    }
   },
   "outputs": [
    {
     "data": {
      "text/plain": [
       "['(010)88886666', '022-22334455', '02912345678', '022-87654321']"
      ]
     },
     "execution_count": 130,
     "metadata": {},
     "output_type": "execute_result"
    }
   ],
   "source": [
    "phone_number=\"some phone number is (010)88886666,some is 022-22334455, other is 02912345678, \\\n",
    "how about (022-87654321 format?\"\n",
    "pattern = re.compile(r\"\\(0\\d{2}\\)[- ]?\\d{8}|0\\d{2}[- ]?\\d{8}\")\n",
    "search_result = pattern.findall(phone_number) \n",
    "search_result"
   ]
  },
  {
   "cell_type": "code",
   "execution_count": 129,
   "metadata": {
    "run_control": {
     "frozen": false,
     "read_only": false
    }
   },
   "outputs": [
    {
     "name": "stdout",
     "output_type": "stream",
     "text": [
      "21-34: (010)88886666\n",
      "43-55: 022-22334455\n",
      "66-77: 02912345678\n",
      "90-102: 022-87654321\n"
     ]
    }
   ],
   "source": [
    "phone_number=\"some phone number is (010)88886666,some is 022-22334455, other is 02912345678, \\\n",
    "how about (022-87654321 format?\"\n",
    "pattern = re.compile(r\"\\(0\\d{2}\\)[- ]?\\d{8}|0\\d{2}[- ]?\\d{8}\")\n",
    "for m in re.finditer(pattern, phone_number):\n",
    "    print('%02d-%02d: %s' % (m.start(), m.end(), m.group(0)))"
   ]
  },
  {
   "cell_type": "markdown",
   "metadata": {
    "run_control": {
     "frozen": false,
     "read_only": false
    }
   },
   "source": [
    "### 分组--findall 的两种用法"
   ]
  },
  {
   "cell_type": "code",
   "execution_count": 154,
   "metadata": {
    "run_control": {
     "frozen": false,
     "read_only": false
    }
   },
   "outputs": [
    {
     "data": {
      "text/plain": [
       "['ab', 'ab']"
      ]
     },
     "execution_count": 154,
     "metadata": {},
     "output_type": "execute_result"
    }
   ],
   "source": [
    "text = \"ababab hello ab  cdababcd\"\n",
    "pattern = re.compile(r\"(ab){2}\")\n",
    "pattern.findall(text) "
   ]
  },
  {
   "cell_type": "code",
   "execution_count": 155,
   "metadata": {
    "run_control": {
     "frozen": false,
     "read_only": false
    }
   },
   "outputs": [
    {
     "data": {
      "text/plain": [
       "['abab', 'abab']"
      ]
     },
     "execution_count": 155,
     "metadata": {},
     "output_type": "execute_result"
    }
   ],
   "source": [
    "text = \"ababab hello ab  cdababcd\"\n",
    "pattern = re.compile(r\"(?:ab){2}\")\n",
    "pattern.findall(text)"
   ]
  },
  {
   "cell_type": "code",
   "execution_count": 128,
   "metadata": {
    "run_control": {
     "frozen": false,
     "read_only": false
    },
    "scrolled": true
   },
   "outputs": [
    {
     "name": "stdout",
     "output_type": "stream",
     "text": [
      "00-04: abab\n",
      "19-23: abab\n"
     ]
    }
   ],
   "source": [
    "text = \"ababab hello ab  cdababcd\"\n",
    "for m in re.finditer(r\"(ab){2}\", text):\n",
    "    print('%02d-%02d: %s' % (m.start(), m.end(), m.group(0)))"
   ]
  },
  {
   "cell_type": "code",
   "execution_count": 406,
   "metadata": {
    "run_control": {
     "frozen": false,
     "read_only": false
    }
   },
   "outputs": [
    {
     "name": "stdout",
     "output_type": "stream",
     "text": [
      "13-26: 255.255.255.0\n",
      "31-40: 127.0.0.1\n",
      "44-51: 1.1.1.1\n"
     ]
    }
   ],
   "source": [
    "for m in re.finditer(r\"(\\d{1,3}\\.){3}\\d{1,3}\", ip_address):\n",
    "    print('%02d-%02d: %s' % (m.start(), m.end(), m.group(0)))"
   ]
  },
  {
   "cell_type": "code",
   "execution_count": 407,
   "metadata": {
    "run_control": {
     "frozen": false,
     "read_only": false
    }
   },
   "outputs": [
    {
     "name": "stdout",
     "output_type": "stream",
     "text": [
      "31-40: 127.0.0.1\n",
      "44-51: 1.1.1.1\n"
     ]
    }
   ],
   "source": [
    "ip_address=\"not validate 355.555.255.0 and 127.0.0.1 or 1.1.1.1\"\n",
    "pattern = re.compile(r\"((2[0-4]\\d|25[0-5]|[01]?\\d\\d?)\\.){3}(2[0-4]\\d|25[0-5]|[01]?\\d\\d?)\")\n",
    "for m in pattern.finditer(ip_address):\n",
    "    print('%02d-%02d: %s' % (m.start(), m.end(), m.group(0)))"
   ]
  },
  {
   "cell_type": "markdown",
   "metadata": {
    "run_control": {
     "frozen": false,
     "read_only": false
    }
   },
   "source": [
    "```\n",
    "捕获\t\n",
    "(exp)\t匹配exp,并捕获文本到自动命名的组里\n",
    "(?P<name>exp)\t匹配exp,并捕获文本到名称为name的组里，也可以写成(?'name'exp)\n",
    "(?:exp)\t匹配exp,不捕获匹配的文本，也不给此分组分配组号\n",
    "\n",
    "```"
   ]
  },
  {
   "cell_type": "code",
   "execution_count": 146,
   "metadata": {
    "run_control": {
     "frozen": false,
     "read_only": false
    }
   },
   "outputs": [
    {
     "data": {
      "text/plain": [
       "'Isaac Newton'"
      ]
     },
     "execution_count": 146,
     "metadata": {},
     "output_type": "execute_result"
    }
   ],
   "source": [
    "m = re.match(r\"(\\w+) (\\w+)\", \"Isaac Newton, physicist\")\n",
    "m.group()"
   ]
  },
  {
   "cell_type": "code",
   "execution_count": 147,
   "metadata": {
    "run_control": {
     "frozen": false,
     "read_only": false
    }
   },
   "outputs": [
    {
     "data": {
      "text/plain": [
       "'Isaac'"
      ]
     },
     "execution_count": 147,
     "metadata": {},
     "output_type": "execute_result"
    }
   ],
   "source": [
    "m.group(1)"
   ]
  },
  {
   "cell_type": "code",
   "execution_count": 148,
   "metadata": {
    "run_control": {
     "frozen": false,
     "read_only": false
    }
   },
   "outputs": [
    {
     "data": {
      "text/plain": [
       "'Newton'"
      ]
     },
     "execution_count": 148,
     "metadata": {},
     "output_type": "execute_result"
    }
   ],
   "source": [
    "m.group(2)"
   ]
  },
  {
   "cell_type": "code",
   "execution_count": 153,
   "metadata": {
    "run_control": {
     "frozen": false,
     "read_only": false
    }
   },
   "outputs": [
    {
     "data": {
      "text/plain": [
       "'Malcolm'"
      ]
     },
     "execution_count": 153,
     "metadata": {},
     "output_type": "execute_result"
    }
   ],
   "source": [
    "m = re.match(r\"(?P<first_name>\\w+) (?P<last_name>\\w+)\", \"Malcolm Reynolds\")\n",
    "m.group('first_name')"
   ]
  },
  {
   "cell_type": "code",
   "execution_count": 151,
   "metadata": {
    "run_control": {
     "frozen": false,
     "read_only": false
    }
   },
   "outputs": [
    {
     "data": {
      "text/plain": [
       "'Reynolds'"
      ]
     },
     "execution_count": 151,
     "metadata": {},
     "output_type": "execute_result"
    }
   ],
   "source": [
    "m.group('last_name')"
   ]
  },
  {
   "cell_type": "code",
   "execution_count": 12,
   "metadata": {},
   "outputs": [
    {
     "data": {
      "text/plain": [
       "'Iraq,Benq'"
      ]
     },
     "execution_count": 12,
     "metadata": {},
     "output_type": "execute_result"
    }
   ],
   "source": [
    "text =\"Iraq,Benq\"\n",
    "text1 =\"Iraqx,Benq\"\n",
    "m = re.match(r\"\\b\\w*q[^u]\\w*\\b\",text)\n",
    "m.group()"
   ]
  },
  {
   "cell_type": "code",
   "execution_count": 11,
   "metadata": {},
   "outputs": [
    {
     "data": {
      "text/plain": [
       "'Iraq'"
      ]
     },
     "execution_count": 11,
     "metadata": {},
     "output_type": "execute_result"
    }
   ],
   "source": [
    "m = re.match(r\"\\b\\w*q(?!u)\\w*\\b\",text)\n",
    "m.group()"
   ]
  },
  {
   "cell_type": "markdown",
   "metadata": {
    "run_control": {
     "frozen": false,
     "read_only": false
    }
   },
   "source": [
    "### 后向引用-- 如何捕获叠词 (e.g. ABC ABC)-- using \\1"
   ]
  },
  {
   "cell_type": "code",
   "execution_count": 358,
   "metadata": {
    "run_control": {
     "frozen": false,
     "read_only": false
    },
    "scrolled": true
   },
   "outputs": [
    {
     "name": "stdout",
     "output_type": "stream",
     "text": [
      "00-11: kitty kitty\n",
      "12-17: go go\n"
     ]
    }
   ],
   "source": [
    "text = \"kitty kitty go go, so cute\"\n",
    "pattern = re.compile(r\"\\b(\\w+)\\b\\s+\\1\\b\")  # \\1第一匹配\n",
    "#search_result = pattern.findall(text) \n",
    "for m in pattern.finditer(text):\n",
    "    print('%02d-%02d: %s' % (m.start(), m.end(), m.group(0)))"
   ]
  },
  {
   "cell_type": "code",
   "execution_count": 371,
   "metadata": {
    "run_control": {
     "frozen": false,
     "read_only": false
    }
   },
   "outputs": [
    {
     "name": "stdout",
     "output_type": "stream",
     "text": [
      "00-11: kitty kitty\n",
      "12-17: go go\n"
     ]
    }
   ],
   "source": [
    "text = \"kitty kitty go go, so cute\"\n",
    "pattern = re.compile(r\"\\b(?P<dw>\\w+)\\b\\s+(?P=dw)\\b\")  \n",
    "for m in pattern.finditer(text):\n",
    "    print('%02d-%02d: %s' % (m.start(), m.end(), m.group(0)))"
   ]
  },
  {
   "cell_type": "markdown",
   "metadata": {
    "run_control": {
     "frozen": false,
     "read_only": false
    }
   },
   "source": [
    "<a href=\"cn.dataapplab.com\">'hello dal'</a>"
   ]
  },
  {
   "cell_type": "code",
   "execution_count": 376,
   "metadata": {
    "run_control": {
     "frozen": false,
     "read_only": false
    }
   },
   "outputs": [
    {
     "name": "stdout",
     "output_type": "stream",
     "text": [
      "08-34: \"http://cn.dataapplab.com\"\n",
      "35-46: 'hello dal'\n"
     ]
    }
   ],
   "source": [
    "text = '<a href=\"http://cn.dataapplab.com\">\\'hello dal\\'</a>'\n",
    "pattern = re.compile(r\"(?P<quote>['\\\"]).*?(?P=quote)\")  \n",
    "for m in pattern.finditer(text):\n",
    "    print('%02d-%02d: %s' % (m.start(), m.end(), m.group(0)))"
   ]
  },
  {
   "cell_type": "markdown",
   "metadata": {
    "run_control": {
     "frozen": false,
     "read_only": false
    }
   },
   "source": [
    "### 零宽断言 - search 以 xxx 开头/结尾 的词\n",
    "\n",
    "像\\b,^,$那样用于指定一个位置，这个位置应该满足一定的条件(即断言)，因此它们也被称为零宽断言\n",
    "\n",
    "```\n",
    "(?=exp)\t匹配exp前面的位置\n",
    "(?<=exp)\t匹配exp后面的位置\n",
    "(?!exp)\t匹配后面跟的不是exp的位置\n",
    "(?<!exp)\t匹配前面不是exp的位置\n",
    "\n",
    "注释\t(?#comment)\t这种类型的分组不对正则表达式的处理产生任何影响，用于提供注释让人阅读\n",
    "```"
   ]
  },
  {
   "cell_type": "code",
   "execution_count": 171,
   "metadata": {
    "run_control": {
     "frozen": false,
     "read_only": false
    }
   },
   "outputs": [
    {
     "data": {
      "text/plain": [
       "'def'"
      ]
     },
     "execution_count": 171,
     "metadata": {},
     "output_type": "execute_result"
    }
   ],
   "source": [
    "m = re.search('(?<=abc)\\w+', 'abcdef') #以 abc 开头的词(output excluding abc)\n",
    "m.group(0)"
   ]
  },
  {
   "cell_type": "code",
   "execution_count": 169,
   "metadata": {
    "run_control": {
     "frozen": false,
     "read_only": false
    }
   },
   "outputs": [
    {
     "data": {
      "text/plain": [
       "'egg'"
      ]
     },
     "execution_count": 169,
     "metadata": {},
     "output_type": "execute_result"
    }
   ],
   "source": [
    "m = re.search('(?<=-)\\w+', 'spam-egg')\n",
    "m.group(0)"
   ]
  },
  {
   "cell_type": "code",
   "execution_count": 54,
   "metadata": {
    "run_control": {
     "frozen": false,
     "read_only": false
    }
   },
   "outputs": [
    {
     "name": "stdout",
     "output_type": "stream",
     "text": [
      "04-08: sing\n",
      "25-29: danc\n"
     ]
    }
   ],
   "source": [
    "text = \"I'm singing while you're dancing\"\n",
    "pattern = re.compile(r\"\\b\\w+(?=ing\\b)\")   #匹配以ing结尾的单词的前面部分(除了ing以外的部分)\n",
    "for m in pattern.finditer(text): \n",
    "    print('%02d-%02d: %s' % (m.start(), m.end(), m.group(0)))"
   ]
  },
  {
   "cell_type": "code",
   "execution_count": 51,
   "metadata": {
    "run_control": {
     "frozen": false,
     "read_only": false
    }
   },
   "outputs": [
    {
     "name": "stdout",
     "output_type": "stream",
     "text": [
      "00-01: I\n",
      "02-03: m\n",
      "12-17: while\n",
      "18-21: you\n",
      "22-24: re\n"
     ]
    }
   ],
   "source": [
    "text = \"I'm singing while you're dancing\"\n",
    "pattern = re.compile(r\"\\b\\w+(?<!ing)\\b\")   #匹配不是以ing结尾的单词的前面部分\n",
    "for m in pattern.finditer(text): \n",
    "    print('%02d-%02d: %s' % (m.start(), m.end(), m.group(0)))"
   ]
  },
  {
   "cell_type": "code",
   "execution_count": 34,
   "metadata": {
    "run_control": {
     "frozen": false,
     "read_only": false
    }
   },
   "outputs": [
    {
     "name": "stdout",
     "output_type": "stream",
     "text": [
      "28-32: cing\n"
     ]
    }
   ],
   "source": [
    "text = \"I'm singing while you're dancing\"\n",
    "pattern = re.compile(r\"(?<=\\bdan)\\w+\\b\")   #会匹配以dan开头的单词的后半部分(除了dan以外的部分\n",
    "for m in pattern.finditer(text): \n",
    "    print('%02d-%02d: %s' % (m.start(), m.end(), m.group(0)))"
   ]
  },
  {
   "cell_type": "markdown",
   "metadata": {},
   "source": [
    "### Real examples"
   ]
  },
  {
   "cell_type": "markdown",
   "metadata": {
    "run_control": {
     "frozen": false,
     "read_only": false
    }
   },
   "source": [
    "### Q:找出副词"
   ]
  },
  {
   "cell_type": "code",
   "execution_count": 273,
   "metadata": {
    "run_control": {
     "frozen": false,
     "read_only": false
    }
   },
   "outputs": [
    {
     "data": {
      "text/plain": [
       "['carefully', 'quickly']"
      ]
     },
     "execution_count": 273,
     "metadata": {},
     "output_type": "execute_result"
    }
   ],
   "source": [
    "text = \"He was carefully disguised but captured quickly by police.\"\n",
    "re.findall(r\"\\w+ly\", text)"
   ]
  },
  {
   "cell_type": "code",
   "execution_count": 274,
   "metadata": {
    "run_control": {
     "frozen": false,
     "read_only": false
    }
   },
   "outputs": [
    {
     "name": "stdout",
     "output_type": "stream",
     "text": [
      "07-16: carefully\n",
      "40-47: quickly\n"
     ]
    }
   ],
   "source": [
    "text = \"He was carefully disguised but captured quickly by police.\"\n",
    "for m in re.finditer(r\"\\w+ly\", text):\n",
    "    print('%02d-%02d: %s' % (m.start(), m.end(), m.group(0)))"
   ]
  },
  {
   "cell_type": "markdown",
   "metadata": {
    "run_control": {
     "frozen": false,
     "read_only": false
    }
   },
   "source": [
    "## 分词"
   ]
  },
  {
   "cell_type": "code",
   "execution_count": 157,
   "metadata": {
    "collapsed": true,
    "run_control": {
     "frozen": false,
     "read_only": false
    }
   },
   "outputs": [],
   "source": [
    "phone_text = \"\"\"Ross McFluff: 834.345.1254 155 Elm Street\n",
    "Ronald Heathmore: 892.345.3428 436 Finley Avenue\n",
    "Frank Burger: 925.541.7625 662 South Dogwood Way\n",
    "Heather Albrecht: 548.326.4584 919 Park Place\"\"\""
   ]
  },
  {
   "cell_type": "code",
   "execution_count": 158,
   "metadata": {
    "run_control": {
     "frozen": false,
     "read_only": false
    }
   },
   "outputs": [
    {
     "data": {
      "text/plain": [
       "['Ross McFluff: 834.345.1254 155 Elm Street',\n",
       " 'Ronald Heathmore: 892.345.3428 436 Finley Avenue',\n",
       " 'Frank Burger: 925.541.7625 662 South Dogwood Way',\n",
       " 'Heather Albrecht: 548.326.4584 919 Park Place']"
      ]
     },
     "execution_count": 158,
     "metadata": {},
     "output_type": "execute_result"
    }
   ],
   "source": [
    "entries = re.split(\"\\n+\", phone_text)\n",
    "entries"
   ]
  },
  {
   "cell_type": "code",
   "execution_count": 160,
   "metadata": {
    "run_control": {
     "frozen": false,
     "read_only": false
    }
   },
   "outputs": [
    {
     "data": {
      "text/plain": [
       "['Words', 'words', 'words', '']"
      ]
     },
     "execution_count": 160,
     "metadata": {},
     "output_type": "execute_result"
    }
   ],
   "source": [
    "re.split('\\W+', 'Words, words, words.')"
   ]
  },
  {
   "cell_type": "code",
   "execution_count": 161,
   "metadata": {
    "run_control": {
     "frozen": false,
     "read_only": false
    }
   },
   "outputs": [
    {
     "data": {
      "text/plain": [
       "['Words', ', ', 'words', ', ', 'words', '.', '']"
      ]
     },
     "execution_count": 161,
     "metadata": {},
     "output_type": "execute_result"
    }
   ],
   "source": [
    "re.split('(\\W+)', 'Words, words, words.')"
   ]
  },
  {
   "cell_type": "code",
   "execution_count": 68,
   "metadata": {
    "run_control": {
     "frozen": false,
     "read_only": false
    }
   },
   "outputs": [
    {
     "data": {
      "text/plain": [
       "['Words', 'words, words.']"
      ]
     },
     "execution_count": 68,
     "metadata": {},
     "output_type": "execute_result"
    }
   ],
   "source": [
    "re.split('\\W+', 'Words, words, words.', 1)\n"
   ]
  },
  {
   "cell_type": "code",
   "execution_count": 162,
   "metadata": {
    "run_control": {
     "frozen": false,
     "read_only": false
    }
   },
   "outputs": [
    {
     "data": {
      "text/plain": [
       "['0', '3', '9']"
      ]
     },
     "execution_count": 162,
     "metadata": {},
     "output_type": "execute_result"
    }
   ],
   "source": [
    "re.split('[a-f]+', '0a3B9', flags=re.IGNORECASE)"
   ]
  },
  {
   "cell_type": "code",
   "execution_count": 70,
   "metadata": {
    "run_control": {
     "frozen": false,
     "read_only": false
    }
   },
   "outputs": [
    {
     "data": {
      "text/plain": [
       "[['Ross', 'McFluff', '834.345.1254', '155 Elm Street'],\n",
       " ['Ronald', 'Heathmore', '892.345.3428', '436 Finley Avenue'],\n",
       " ['Frank', 'Burger', '925.541.7625', '662 South Dogwood Way'],\n",
       " ['Heather', 'Albrecht', '548.326.4584', '919 Park Place']]"
      ]
     },
     "execution_count": 70,
     "metadata": {},
     "output_type": "execute_result"
    }
   ],
   "source": [
    "[re.split(\":? \", entry, maxsplit=3) for entry in entries]"
   ]
  },
  {
   "cell_type": "markdown",
   "metadata": {
    "run_control": {
     "frozen": false,
     "read_only": false
    }
   },
   "source": [
    "### 替换"
   ]
  },
  {
   "cell_type": "markdown",
   "metadata": {
    "run_control": {
     "frozen": false,
     "read_only": false
    }
   },
   "source": [
    "Return the string obtained by replacing the leftmost non-overlapping occurrences of pattern in string by the replacement repl."
   ]
  },
  {
   "cell_type": "code",
   "execution_count": 8,
   "metadata": {
    "collapsed": true,
    "run_control": {
     "frozen": false,
     "read_only": false
    }
   },
   "outputs": [],
   "source": [
    "?re.sub"
   ]
  },
  {
   "cell_type": "code",
   "execution_count": 6,
   "metadata": {
    "run_control": {
     "frozen": false,
     "read_only": false
    }
   },
   "outputs": [
    {
     "name": "stdout",
     "output_type": "stream",
     "text": [
      "static PyObject*\n",
      "py_myfunc(void)\n",
      "{\n"
     ]
    }
   ],
   "source": [
    "new_str=re.sub(r'def\\s+([a-zA-Z_][a-zA-Z_0-9]*)\\s*\\(\\s*\\):',\n",
    "       r'static PyObject*\\npy_\\1(void)\\n{',\n",
    "       'def myfunc():')\n",
    "print(new_str)"
   ]
  },
  {
   "cell_type": "markdown",
   "metadata": {
    "run_control": {
     "frozen": false,
     "read_only": false
    }
   },
   "source": [
    "If repl is a function, it is called for every non-overlapping occurrence of pattern. The function takes a single match object argument, and returns the replacement string. For example"
   ]
  },
  {
   "cell_type": "code",
   "execution_count": 73,
   "metadata": {
    "run_control": {
     "frozen": false,
     "read_only": false
    }
   },
   "outputs": [
    {
     "data": {
      "text/plain": [
       "'Psfooresr Abalomdlek, plasee rreopt your asebecns prtlpomy.'"
      ]
     },
     "execution_count": 73,
     "metadata": {},
     "output_type": "execute_result"
    }
   ],
   "source": [
    "import random\n",
    "def repl(m):\n",
    "    inner_word = list(m.group(2))\n",
    "    random.shuffle(inner_word)\n",
    "    return m.group(1) + \"\".join(inner_word) + m.group(3)\n",
    "\n",
    "text = \"Professor Abdolmalek, please report your absences promptly.\"\n",
    "re.sub(r\"(\\w)(\\w+)(\\w)\", repl, text)"
   ]
  },
  {
   "cell_type": "code",
   "execution_count": 74,
   "metadata": {
    "run_control": {
     "frozen": false,
     "read_only": false
    }
   },
   "outputs": [
    {
     "data": {
      "text/plain": [
       "'Pfsoerosr Alemdoalbk, peasle roeprt your acenbess ppomrlty.'"
      ]
     },
     "execution_count": 74,
     "metadata": {},
     "output_type": "execute_result"
    }
   ],
   "source": [
    "re.sub(r\"(\\w)(\\w+)(\\w)\", repl, text)"
   ]
  },
  {
   "cell_type": "markdown",
   "metadata": {
    "run_control": {
     "frozen": false,
     "read_only": false
    }
   },
   "source": []
  },
  {
   "cell_type": "markdown",
   "metadata": {
    "run_control": {
     "frozen": false,
     "read_only": false
    }
   },
   "source": [
    "### 如何处理中文？"
   ]
  },
  {
   "cell_type": "code",
   "execution_count": 275,
   "metadata": {
    "run_control": {
     "frozen": false,
     "read_only": false
    }
   },
   "outputs": [
    {
     "data": {
      "text/plain": [
       "['你好', '世界']"
      ]
     },
     "execution_count": 275,
     "metadata": {},
     "output_type": "execute_result"
    }
   ],
   "source": [
    "title = u'你好，hello，世界'\n",
    "pattern = re.compile(r'[\\u4e00-\\u9fff]+')\n",
    "result = pattern.findall(title)\n",
    "result"
   ]
  },
  {
   "cell_type": "markdown",
   "metadata": {
    "run_control": {
     "frozen": false,
     "read_only": false
    }
   },
   "source": [
    "<table cellspacing=\"0\" cellpadding=\"0\" width=\"900\" border=\"1\"><colgroup></colgroup><colgroup><col width=\"10%\"><col width=\"75%\"><col width=\"15%\"></colgroup><tbody><tr><td colspan=\"3\">\n",
    "<p align=\"center\"><span style=\"font-family:'Microsoft YaHei';font-size:24px;\">主要非英文语系字符范围</span></p>\n",
    "</td>\n",
    "</tr><tr><td><span style=\"font-family:'Microsoft YaHei';font-size:16px;\"><strong>范围</strong></span></td>\n",
    "<td><span style=\"font-family:'Microsoft YaHei';font-size:16px;\"><strong>编码</strong></span></td>\n",
    "<td><span style=\"font-family:'Microsoft YaHei';font-size:16px;\"><strong>说明</strong></span></td>\n",
    "</tr><tr><td><span style=\"font-family:'Microsoft YaHei';font-size:16px;\"><em>2E80~33FFh</em></span></td>\n",
    "<td><span style=\"font-family:'Microsoft YaHei';color:#ff0000;font-size:16px;\">中日韩符号区</span></td>\n",
    "<td><span style=\"font-family:'Microsoft YaHei';font-size:16px;\">收容康熙字典部首、中日韩辅助部首、注音符号、日本假名、韩文音符，中日韩的符号、标点、带圈或带括符文数字、月份，以及日本的假名组合、单位、年号、月份、日期、时间等。</span></td>\n",
    "</tr><tr><td><span style=\"font-family:'Microsoft YaHei';font-size:16px;\"><em>3400~4DFFh</em></span></td>\n",
    "<td><span style=\"font-family:'Microsoft YaHei';color:#ff0000;font-size:16px;\">中日韩认同文字扩充A区</span></td>\n",
    "<td><span style=\"font-family:'Microsoft YaHei';font-size:16px;\">中日韩认同表意文字扩充A区，总计收容6,582个中日韩汉字。</span></td>\n",
    "</tr><tr><td><span style=\"font-family:'Microsoft YaHei';font-size:16px;\"><em>4E00~9FFFh</em></span></td>\n",
    "<td><span style=\"font-family:'Microsoft YaHei';color:#ff0000;font-size:16px;\">中日韩认同表意文字区</span></td>\n",
    "<td><span style=\"font-family:'Microsoft YaHei';font-size:16px;\">中日韩认同表意文字区，总计收容20,902个中日韩汉字。</span></td>\n",
    "</tr><tr><td><span style=\"font-family:'Microsoft YaHei';font-size:16px;\"><em>A000~A4FFh</em></span></td>\n",
    "<td><span style=\"font-family:'Microsoft YaHei';color:#ff0000;font-size:16px;\">彝族文字区</span></td>\n",
    "<td><span style=\"font-family:'Microsoft YaHei';font-size:16px;\">收容中国南方彝族文字和字根</span></td>\n",
    "</tr><tr><td><span style=\"font-family:'Microsoft YaHei';font-size:16px;\"><em>AC00~D7FFh</em></span></td>\n",
    "<td><span style=\"font-family:'Microsoft YaHei';color:#ff0000;font-size:16px;\">韩文拼音组合字区</span></td>\n",
    "<td><span style=\"font-family:'Microsoft YaHei';font-size:16px;\">收容以韩文音符拼成的文字</span></td>\n",
    "</tr><tr><td><span style=\"font-family:'Microsoft YaHei';font-size:16px;\"><em>F900~FAFFh</em></span></td>\n",
    "<td><span style=\"font-family:'Microsoft YaHei';color:#ff0000;font-size:16px;\">中日韩兼容表意文字区</span></td>\n",
    "<td><span style=\"font-family:'Microsoft YaHei';font-size:16px;\">总计收容302个中日韩汉字</span></td>\n",
    "</tr><tr><td><span style=\"font-family:'Microsoft YaHei';font-size:16px;\"><em>FB00~FFFDh</em></span></td>\n",
    "<td><span style=\"font-family:'Microsoft YaHei';color:#ff0000;font-size:16px;\">文字表现形式区</span></td>\n",
    "<td><span style=\"font-family:'Microsoft YaHei';font-size:16px;\">收容组合拉丁文字、希伯来文、阿拉伯文、中日韩直式标点、小符号、半角符号、全角符号等。</span></td>\n",
    "</tr></tbody></table>"
   ]
  },
  {
   "cell_type": "code",
   "execution_count": 276,
   "metadata": {
    "run_control": {
     "frozen": false,
     "read_only": false
    }
   },
   "outputs": [
    {
     "data": {
      "text/plain": [
       "['世界', '世世', '世界']"
      ]
     },
     "execution_count": 276,
     "metadata": {},
     "output_type": "execute_result"
    }
   ],
   "source": [
    "title = u'你好，hello，世界，生生世世，好不好啊, 世界繁荣'\n",
    "pattern = re.compile(r'世{1,2}[\\u4e00-\\u9fff]?')\n",
    "result = pattern.findall(title)\n",
    "result"
   ]
  },
  {
   "cell_type": "code",
   "execution_count": null,
   "metadata": {
    "collapsed": true,
    "run_control": {
     "frozen": false,
     "read_only": false
    }
   },
   "outputs": [],
   "source": []
  }
 ],
 "metadata": {
  "kernelspec": {
   "display_name": "Python 3",
   "language": "python",
   "name": "python3"
  },
  "language_info": {
   "codemirror_mode": {
    "name": "ipython",
    "version": 3
   },
   "file_extension": ".py",
   "mimetype": "text/x-python",
   "name": "python",
   "nbconvert_exporter": "python",
   "pygments_lexer": "ipython3",
   "version": "3.7.3"
  }
 },
 "nbformat": 4,
 "nbformat_minor": 2
}
