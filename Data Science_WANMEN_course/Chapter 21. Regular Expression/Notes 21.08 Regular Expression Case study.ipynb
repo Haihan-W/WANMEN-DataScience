{
 "cells": [
  {
   "cell_type": "code",
   "execution_count": 2,
   "metadata": {
    "collapsed": true
   },
   "outputs": [],
   "source": [
    "import re"
   ]
  },
  {
   "cell_type": "markdown",
   "metadata": {},
   "source": [
    "https://baike.baidu.com/item/ASCII/309296?fr=aladdin"
   ]
  },
  {
   "cell_type": "code",
   "execution_count": 28,
   "metadata": {
    "collapsed": true,
    "run_control": {
     "frozen": false,
     "read_only": false
    }
   },
   "outputs": [],
   "source": [
    "question_str=\"\\a\\f\\n\\r\\t\\v\""
   ]
  },
  {
   "cell_type": "code",
   "execution_count": 25,
   "metadata": {},
   "outputs": [
    {
     "data": {
      "text/plain": [
       "'\\x07\\x0c\\n\\r\\t\\x0b>'"
      ]
     },
     "execution_count": 25,
     "metadata": {},
     "output_type": "execute_result"
    }
   ],
   "source": [
    "question_str"
   ]
  },
  {
   "cell_type": "code",
   "execution_count": 26,
   "metadata": {
    "scrolled": true
   },
   "outputs": [
    {
     "name": "stdout",
     "output_type": "stream",
     "text": [
      "\u0007\f",
      "\n",
      "\r",
      "\t\u000b",
      ">\n"
     ]
    }
   ],
   "source": [
    "print(question_str)"
   ]
  },
  {
   "cell_type": "code",
   "execution_count": 27,
   "metadata": {},
   "outputs": [
    {
     "data": {
      "text/plain": [
       "'\\x07'"
      ]
     },
     "execution_count": 27,
     "metadata": {},
     "output_type": "execute_result"
    }
   ],
   "source": [
    "pattern = re.compile(r\"\\x07\")\n",
    "search_result = pattern.search(question_str) \n",
    "search_result.group(0)"
   ]
  },
  {
   "cell_type": "markdown",
   "metadata": {},
   "source": [
    "Ex 1. Extract Number and Convert to right format of phone number\n",
    "\n",
    "匹配任意连续10个数字序列，例如1234567890，并把这个序列转换成格式正确的电话号码形式。例如(123)456-7890"
   ]
  },
  {
   "cell_type": "code",
   "execution_count": 29,
   "metadata": {
    "collapsed": true
   },
   "outputs": [],
   "source": [
    "q_str=\"2345678901 a bc 1237890765\" # answers see video 21.08"
   ]
  },
  {
   "cell_type": "markdown",
   "metadata": {},
   "source": [
    "Ex 2. Check if the email address is in valid format\n",
    "\n",
    "输入一个电子邮件地址，使用正则表达式对它进行合法化效应"
   ]
  },
  {
   "cell_type": "code",
   "execution_count": 151,
   "metadata": {
    "collapsed": true
   },
   "outputs": [],
   "source": [
    "email_str1=\"joshua@dataapplab.com\"\n",
    "email_str2=\"joshua@dataapplab\"\n",
    "email_str3=\"joshua\"\n",
    "email_str4=\"@dataapplab.com\"\n",
    "email_str5=\"dataapplab.com\"\n",
    "email_str6=\"joshua_zhao@dataapplab.com\"\n",
    "email_str7=\"joshua zhao@dataapplab.com\"\n",
    "email_str8=\"joshua*zhao@dataapplab.com\"\n",
    "email_str9=\"joshua+zhao@dataapplab.com\"\n",
    "email_str10=\"\"\"joshuazhao\n",
    "@dataapplab.com\"\"\"\n",
    "email_str11=\"joshua..zhao@dataapplab.com\"\n",
    "# answers see video 21.08"
   ]
  },
  {
   "cell_type": "markdown",
   "metadata": {},
   "source": [
    "Ex 3. match every word except word \"python\""
   ]
  },
  {
   "cell_type": "code",
   "execution_count": 4,
   "metadata": {
    "collapsed": true
   },
   "outputs": [],
   "source": [
    "re_desc = \"\"\"\n",
    "learning python,\n",
    "Pythonic means code that doesn't just get the syntax right but that follows\n",
    "the conventions of the Python community and uses the language in the way it is \n",
    "intended to be used.\n",
    "\"\"\""
   ]
  },
  {
   "cell_type": "code",
   "execution_count": 5,
   "metadata": {
    "collapsed": true
   },
   "outputs": [
    {
     "data": {
      "text/plain": [
       "['learning',\n",
       " 'Pythonic',\n",
       " 'means',\n",
       " 'code',\n",
       " 'that',\n",
       " 'doesn',\n",
       " 't',\n",
       " 'just',\n",
       " 'get',\n",
       " 'the',\n",
       " 'syntax',\n",
       " 'right',\n",
       " 'but',\n",
       " 'that',\n",
       " 'follows',\n",
       " 'the',\n",
       " 'conventions',\n",
       " 'of',\n",
       " 'the',\n",
       " 'community',\n",
       " 'and',\n",
       " 'uses',\n",
       " 'the',\n",
       " 'language',\n",
       " 'in',\n",
       " 'the',\n",
       " 'way',\n",
       " 'it',\n",
       " 'is',\n",
       " 'intended',\n",
       " 'to',\n",
       " 'be',\n",
       " 'used']"
      ]
     },
     "execution_count": 5,
     "metadata": {},
     "output_type": "execute_result"
    }
   ],
   "source": [
    "pattern=r\"\\b(?!python\\b)\\w+\"\n",
    "re.findall(pattern,re_desc,flags=re.IGNORECASE)"
   ]
  },
  {
   "cell_type": "markdown",
   "metadata": {},
   "source": [
    "Ex 4. Find repeated word that is within 5 words apart"
   ]
  },
  {
   "cell_type": "code",
   "execution_count": 6,
   "metadata": {},
   "outputs": [
    {
     "name": "stdout",
     "output_type": "stream",
     "text": [
      "00-11: kitty kitty\n",
      "12-17: go go\n"
     ]
    }
   ],
   "source": [
    "text = \"kitty kitty go go, so cute\"\n",
    "pattern=re.compile(r\"\\b(\\w+)\\b\\s+\\1\\b\") #\\1 first match\n",
    "\n",
    "for m in pattern.finditer(text):\n",
    "    print ('%02d-%02d: %s' % (m.start(), m.end(), m.group(0)))\n",
    "\n",
    "\n"
   ]
  },
  {
   "cell_type": "code",
   "execution_count": 14,
   "metadata": {},
   "outputs": [
    {
     "name": "stdout",
     "output_type": "stream",
     "text": [
      "00-14: kitty go kitty\n",
      "15-20: go go\n"
     ]
    }
   ],
   "source": [
    "text = \"kitty go kitty go go, so cute\"\n",
    "pattern=re.compile(r\"\\b(\\w+)\\b.{0,5}\\1\\b\")\n",
    "\n",
    "for m in pattern.finditer(text):\n",
    "    print ('%02d-%02d: %s' % (m.start(), m.end(), m.group(0)))\n"
   ]
  },
  {
   "cell_type": "code",
   "execution_count": null,
   "metadata": {
    "collapsed": true
   },
   "outputs": [],
   "source": []
  }
 ],
 "metadata": {
  "kernelspec": {
   "display_name": "Python 3",
   "language": "python",
   "name": "python3"
  },
  "language_info": {
   "codemirror_mode": {
    "name": "ipython",
    "version": 3
   },
   "file_extension": ".py",
   "mimetype": "text/x-python",
   "name": "python",
   "nbconvert_exporter": "python",
   "pygments_lexer": "ipython3",
   "version": "3.7.3"
  }
 },
 "nbformat": 4,
 "nbformat_minor": 2
}
