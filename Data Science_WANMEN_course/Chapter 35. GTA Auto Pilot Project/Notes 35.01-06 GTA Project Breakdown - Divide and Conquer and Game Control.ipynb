{
 "cells": [
  {
   "cell_type": "markdown",
   "metadata": {},
   "source": [
    "# Breakdown problem (35.01-03):\n",
    "<img src=\"./BreakdownGTAProject.jpg\">"
   ]
  },
  {
   "cell_type": "code",
   "execution_count": null,
   "metadata": {},
   "outputs": [],
   "source": []
  },
  {
   "cell_type": "markdown",
   "metadata": {},
   "source": [
    "# Game Control: Walking Tests (35.04-06)\n",
    "- Code was not provided"
   ]
  },
  {
   "cell_type": "markdown",
   "metadata": {},
   "source": [
    "Step 1: Walking, without interaction with environment\n",
    "\n",
    "Walking_test1.1.py\n",
    "- Start GTA Game and run Python to let player auto Walk straight in the game\n",
    "\n",
    "Walking_test1.3.py\n",
    "- Start GTA Game and run Python to let player turn vision/face (simulate mouse movement) to the left automatically in the game.  "
   ]
  },
  {
   "cell_type": "markdown",
   "metadata": {},
   "source": [
    "Step 2: Walking, with interaction with environment\n",
    "\n",
    "Walk along the lane...\n",
    "- we need lane extraction/detection...\n",
    "- see 35.07-13..."
   ]
  }
 ],
 "metadata": {
  "kernelspec": {
   "display_name": "Python [conda env:py37wanmen]",
   "language": "python",
   "name": "conda-env-py37wanmen-py"
  },
  "language_info": {
   "codemirror_mode": {
    "name": "ipython",
    "version": 3
   },
   "file_extension": ".py",
   "mimetype": "text/x-python",
   "name": "python",
   "nbconvert_exporter": "python",
   "pygments_lexer": "ipython3",
   "version": "3.7.5"
  }
 },
 "nbformat": 4,
 "nbformat_minor": 2
}
