{
 "cells": [
  {
   "cell_type": "markdown",
   "metadata": {},
   "source": [
    "# Important tools\n",
    "numpy, scipy-- numerical calculation, matrix calculation, scientific calculation\n",
    "\n",
    "pandas-- borrow R data structure (data frame) for data analysis\n",
    "\n",
    "sklearn--useful, ML tools. 前两周课程重点\n",
    "\n",
    "keras, tensorflow-- for deeplearning, neuronetwork"
   ]
  },
  {
   "cell_type": "markdown",
   "metadata": {},
   "source": [
    "# Numpy\n",
    "numpy defines the fundation of python for matrix calculation\n",
    "\n",
    "np.add(A,B)\n",
    "\n",
    "np.subtract(A,B)\n",
    "\n",
    "np.multiply(C,D) AKA C*D, element*element in corresponding position. if A=3x1 mat, B=1x3 mat, then copy paste row or column, make A=3x3, and B=3x3, and then A*B 对应元素对应位置相乘\n",
    "\n",
    "\n",
    "np.matmul(C,D) AKA C@D, vector by vector(Dot product) or matrix by matrix , e.g. (3x1 vec)by(3x1 vec) OR (2x3 mat) by (3x4 mat)\n",
    "\n",
    "np.dot(C,D) NOTE: compared to matmul: 1-D array (nx1 vector or nx1/1xn mat) AND 2-D arrary (mxn mat) they are the same; ONLY for higher dimension array (e.g. mxnxq matrix), they are different,but 几乎不用高阶array!!!!!! \n",
    "\n",
    "\n",
    "重点看看 np.dot 和 np.matmul的区别\n",
    "\n",
    "1.都是矩阵乘法\n",
    "\n",
    "2.np.matmul中，禁止矩阵与标量的乘法\n",
    "\n",
    "3.np.matmul中，在矢量乘矢量的内积运算中，matmul与dot没有差别\n",
    "\n",
    "4.np.matmul中，多维的矩阵，将前n-2维视为后2维的元素后，进行乘法操作\n"
   ]
  },
  {
   "cell_type": "code",
   "execution_count": 1,
   "metadata": {},
   "outputs": [
    {
     "name": "stdout",
     "output_type": "stream",
     "text": [
      "A+B [5 5 3]\n",
      "A-B= [-3 -1  3]\n",
      "np.multiply(A,B)= [4 6 0]\n",
      "A*B= [4 6 0]\n"
     ]
    }
   ],
   "source": [
    "import numpy as np\n",
    "A=np.array([1,2,3])\n",
    "B=np.array([4,3,0])\n",
    "print ('A+B',np.add(A,B))\n",
    "print ('A-B=',np.subtract(A,B))\n",
    "print ('np.multiply(A,B)=',np.multiply(A,B))\n",
    "print ('A*B=',A*B)"
   ]
  },
  {
   "cell_type": "code",
   "execution_count": 2,
   "metadata": {},
   "outputs": [
    {
     "name": "stdout",
     "output_type": "stream",
     "text": [
      "14\n",
      "14\n",
      "[14]\n",
      "[14]\n",
      "(3,)\n",
      "(3,)\n",
      "(3, 1)\n"
     ]
    }
   ],
   "source": [
    "# for 1-D array (n*1 vector or n*1/1*n mat), matmul and dot are the same!!!\n",
    "\n",
    "t1 = np.array([1,2,3])\n",
    "t3 = np.array([1,2,3])\n",
    "t2 = np.array([[1],\n",
    "               [2],\n",
    "               [3]])\n",
    "#vector dot product with vector\n",
    "print(np.dot(t1,t3))\n",
    "print(np.matmul(t1,t3))\n",
    "\n",
    "#matrix multiply by matrix\n",
    "print(np.dot(t1,t2))\n",
    "print(np.matmul(t1,t2))\n",
    "\n",
    "print (t3.shape)\n",
    "print (t1.shape)\n",
    "print (t2.shape)"
   ]
  },
  {
   "cell_type": "code",
   "execution_count": 4,
   "metadata": {},
   "outputs": [
    {
     "name": "stdout",
     "output_type": "stream",
     "text": [
      "np.dot(C,D)= [[18 11 16 16]\n",
      " [ 9  6 12 12]]\n",
      "np.matmul(C,D)= [[18 11 16 16]\n",
      " [ 9  6 12 12]]\n",
      "C@D= [[18 11 16 16]\n",
      " [ 9  6 12 12]]\n"
     ]
    }
   ],
   "source": [
    "#for 2-D array(m*n mat), malmul and dot are the same!!!\n",
    "\n",
    "#C.shape=(2,3)->2*3 matrix; (2-D array)\n",
    "C=np.array([[1,2,3],\n",
    "           [1,1,1]])\n",
    "#D.shape=(3,4)->3*4 matrix; (2-D array)\n",
    "D=np.array([[4,3,9,9],\n",
    "           [1,1,2,2],\n",
    "           [4,2,1,1]])\n",
    "print ('np.dot(C,D)=',np.dot(C,D))\n",
    "print ('np.matmul(C,D)=', np.matmul(C,D))\n",
    "print ('C@D=',C@D)"
   ]
  },
  {
   "cell_type": "code",
   "execution_count": 7,
   "metadata": {},
   "outputs": [
    {
     "name": "stdout",
     "output_type": "stream",
     "text": [
      "4x4*3x4x2 dot:\n",
      " [[[232 152]\n",
      "  [125 112]\n",
      "  [125 112]]\n",
      "\n",
      " [[172 116]\n",
      "  [123  76]\n",
      "  [123  76]]\n",
      "\n",
      " [[442 296]\n",
      "  [228 226]\n",
      "  [228 226]]\n",
      "\n",
      " [[962 652]\n",
      "  [465 512]\n",
      "  [465 512]]]\n",
      "\n",
      "dot 结果的维度    = (4, 3, 2)\n",
      " \n",
      "4x4*3x4x2 matmul:\n",
      " [[[232 152]\n",
      "  [172 116]\n",
      "  [442 296]\n",
      "  [962 652]]\n",
      "\n",
      " [[125 112]\n",
      "  [123  76]\n",
      "  [228 226]\n",
      "  [465 512]]\n",
      "\n",
      " [[125 112]\n",
      "  [123  76]\n",
      "  [228 226]\n",
      "  [465 512]]]\n",
      "\n",
      "matmul 结果的维度 = (3, 4, 2)\n"
     ]
    },
    {
     "data": {
      "text/plain": [
       "(None, None)"
      ]
     },
     "execution_count": 7,
     "metadata": {},
     "output_type": "execute_result"
    }
   ],
   "source": [
    "#Higher dimension array (3-D or above)(e.g. mxnxq matrix), matmul and dot are DIFFERENT\n",
    "\n",
    "m_3_4_2 = np.array([\n",
    "                             [[2,3],\n",
    "                              [11,9],\n",
    "                              [32,21],\n",
    "                              [28,17]],\n",
    "    \n",
    "                             [[2,3],\n",
    "                              [1,9],\n",
    "                              [3,21],\n",
    "                              [28,7]],\n",
    "    \n",
    "                             [[2,3],\n",
    "                              [1,9],\n",
    "                              [3,21],\n",
    "                              [28,7]]\n",
    "                            ])   #3-D array\n",
    "\n",
    "m_4_4 = np.array([\n",
    "                       [1,2,3,4],\n",
    "                       [3,2,1,4],\n",
    "                       [5,4,6,7],\n",
    "                       [11,12,13,14]\n",
    "                      ])   #2-D array\n",
    "\n",
    "\n",
    "print('4x4*3x4x2 dot:\\n {}\\n'.format(np.dot(m_4_4,m_3_4_2))),print('dot 结果的维度    =',np.dot(m_4_4,m_3_4_2).shape)\n",
    "print (' ')\n",
    "print('4x4*3x4x2 matmul:\\n {}\\n'.format(np.matmul(m_4_4,m_3_4_2))),print('matmul 结果的维度 =',np.matmul(m_4_4,m_3_4_2).shape)"
   ]
  },
  {
   "cell_type": "markdown",
   "metadata": {},
   "source": [
    "# Sklearn"
   ]
  },
  {
   "cell_type": "code",
   "execution_count": 8,
   "metadata": {
    "collapsed": true
   },
   "outputs": [],
   "source": [
    "import sklearn"
   ]
  },
  {
   "cell_type": "code",
   "execution_count": 9,
   "metadata": {
    "collapsed": true
   },
   "outputs": [],
   "source": [
    "from sklearn import datasets\n",
    "from sklearn.metrics import auc\n",
    "from sklearn.model_selection import train_test_split\n",
    "from sklearn.model_selection import cross_val_score\n",
    "from sklearn.linear_model import LinearRegression\n",
    "from sklearn.linear_model import Lasso"
   ]
  },
  {
   "cell_type": "code",
   "execution_count": null,
   "metadata": {
    "collapsed": true
   },
   "outputs": [],
   "source": []
  }
 ],
 "metadata": {
  "kernelspec": {
   "display_name": "Python 3",
   "language": "python",
   "name": "python3"
  },
  "language_info": {
   "codemirror_mode": {
    "name": "ipython",
    "version": 3
   },
   "file_extension": ".py",
   "mimetype": "text/x-python",
   "name": "python",
   "nbconvert_exporter": "python",
   "pygments_lexer": "ipython3",
   "version": "3.6.3"
  }
 },
 "nbformat": 4,
 "nbformat_minor": 2
}
