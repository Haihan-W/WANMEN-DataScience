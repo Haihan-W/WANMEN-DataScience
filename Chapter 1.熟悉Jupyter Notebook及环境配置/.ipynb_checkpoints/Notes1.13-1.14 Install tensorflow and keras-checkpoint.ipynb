{
 "cells": [
  {
   "cell_type": "markdown",
   "metadata": {},
   "source": [
    "理论上有很多种安装方式，这里我们用与anaconda相关的方式来安装，以方便以后的使用和管理。\n",
    "\n",
    "需要新建一个环境，用python 3.5版本\n",
    "\n",
    "conda create -n tensorflow35wanmen python=3.5\n",
    "\n",
    "激活这个环境\n",
    "\n",
    "activate tensorflow35wanmen\n",
    "\n",
    "在这个环境中，安装tensorflow\n",
    "\n",
    "pip install tensorflow\n",
    "\n",
    "安装成功后，检验以下 方法：\n",
    "\n",
    "在命令行中，敲击 python, 进入\n",
    "敲击import tensorflow as tf 如果没有问题，那就安装成功了\n",
    "\n",
    "利用第三节的内容，用ipykernel将 tensorflow35这个环境加到jupyter notebook里面:\n",
    "\n",
    "(wanmenTensorFlow35) C:\\Users\\haiha>pip install ipykernel\n",
    "\n",
    "(wanmenTensorFlow35) C:\\Users\\haiha>python -m ipykernel --name wanmenTensorFlow35"
   ]
  },
  {
   "cell_type": "code",
   "execution_count": 4,
   "metadata": {
    "collapsed": true
   },
   "outputs": [],
   "source": [
    "import tensorflow as tf"
   ]
  },
  {
   "cell_type": "code",
   "execution_count": null,
   "metadata": {
    "collapsed": true
   },
   "outputs": [],
   "source": []
  },
  {
   "cell_type": "markdown",
   "metadata": {},
   "source": []
  },
  {
   "cell_type": "code",
   "execution_count": null,
   "metadata": {
    "collapsed": true
   },
   "outputs": [],
   "source": []
  }
 ],
 "metadata": {
  "kernelspec": {
   "display_name": "TensorFlow35wanmen",
   "language": "python",
   "name": "tensorflow35wanmen"
  },
  "language_info": {
   "codemirror_mode": {
    "name": "ipython",
    "version": 3
   },
   "file_extension": ".py",
   "mimetype": "text/x-python",
   "name": "python",
   "nbconvert_exporter": "python",
   "pygments_lexer": "ipython3",
   "version": "3.5.5"
  }
 },
 "nbformat": 4,
 "nbformat_minor": 2
}
